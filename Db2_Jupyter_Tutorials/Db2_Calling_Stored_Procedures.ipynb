{
 "cells": [
  {
   "cell_type": "markdown",
   "metadata": {},
   "source": [
    "# Db2 Jupyter: Calling Stored Procedures\n",
    "Updated: 2019-10-03"
   ]
  },
  {
   "cell_type": "markdown",
   "metadata": {},
   "source": [
    "Using the `%sql` magic command to call stored procedures is possible but requires some understanding of how the data and any answer sets are returned to the notebook. The following notebook will take you through the steps required to communicate with stored procedures."
   ]
  },
  {
   "cell_type": "code",
   "execution_count": null,
   "metadata": {},
   "outputs": [],
   "source": [
    "%run ../db2.ipynb\n",
    "%run ../connection.ipynb"
   ]
  },
  {
   "cell_type": "markdown",
   "metadata": {},
   "source": [
    "### Supported Stored Procedures\n",
    "The `%sql` command supports calls to stored procedures, but there are limitations to how it is used. The following restrictions apply:\n",
    "* Only one answer set (cursor) is available from the stored procedure\n",
    "* Accessing Output values from the procedure requires the use of the -r (raw) flag\n",
    "* Output is available either as a pandas dataframe, or as an array"
   ]
  },
  {
   "cell_type": "markdown",
   "metadata": {},
   "source": [
    "We will start with a simple example. The following stored procedure returns the first and last name of all employees. There are no parameters passed to the procedure. \n",
    "\n",
    "Some important points about the stored procedure itself:\n",
    "* The procedure must declare that there are answer set with the `DYNAMIC RESULTS SETS` clause\n",
    "* A cursor must be declared and then left open\n",
    "\n",
    "If you create more than one cursor, only the first one will get processed by the routine."
   ]
  },
  {
   "cell_type": "code",
   "execution_count": null,
   "metadata": {},
   "outputs": [],
   "source": [
    "%%sql -d\n",
    "CREATE OR REPLACE PROCEDURE SHOWEMP\n",
    "DYNAMIC RESULT SETS 1\n",
    "begin\n",
    "    DECLARE c1 CURSOR WITH RETURN TO CALLER FOR\n",
    "       SELECT FIRSTNME, LASTNAME FROM EMPLOYEE;\n",
    "    OPEN c1;\n",
    "end@"
   ]
  },
  {
   "cell_type": "markdown",
   "metadata": {},
   "source": [
    "Calling the stored procedure is done using the standard SQL CALL procname(arguments) format. There are specific rules for supplying arguments to a stored procedure:\n",
    "* The `CALL` command is supported in a `%sql` statement only. It cannot be used as part of a `%%sql` block.\n",
    "* Null arguments must use the `null` keyword, rather than the Python `None` equivalent.\n",
    "* Brackets `()` are not required for stored procedures that have no arguments.\n",
    "\n",
    "The next statement will execute the stored procedure and display the results by default."
   ]
  },
  {
   "cell_type": "code",
   "execution_count": null,
   "metadata": {},
   "outputs": [],
   "source": [
    "%sql CALL SHOWEMP"
   ]
  },
  {
   "cell_type": "markdown",
   "metadata": {},
   "source": [
    "Adding the `-a` (all output) flag to a stored procedure call will display all results. This is the same behavior when running regular SQL statements. If you want to assigned the result to a variable, you only need to add an assignment statement to the SQL."
   ]
  },
  {
   "cell_type": "code",
   "execution_count": null,
   "metadata": {},
   "outputs": [],
   "source": [
    "allemps = %sql CALL SHOWEMP\n",
    "allemps.head(5)"
   ]
  },
  {
   "cell_type": "markdown",
   "metadata": {},
   "source": [
    "The use of the `-r` (raw output) flag will force the output to be converted into a two-dimensional array. The first line of th array will contain the column names, while the remainder will have the results in it. This format is useful if you want to write an application in Python to manipulate the data."
   ]
  },
  {
   "cell_type": "code",
   "execution_count": null,
   "metadata": {},
   "outputs": [],
   "source": [
    "%sql -r CALL SHOWEMP"
   ]
  },
  {
   "cell_type": "markdown",
   "metadata": {},
   "source": [
    "Next we will change the stored procedure to accept a single argument which is the employee number. The employee number is supplied to the stored procedure and one record is returned with all of the details of the employee."
   ]
  },
  {
   "cell_type": "code",
   "execution_count": null,
   "metadata": {},
   "outputs": [],
   "source": [
    "%%sql -d\n",
    "CREATE OR REPLACE PROCEDURE SHOWEMP(in inempno char(6))\n",
    "DYNAMIC RESULT SETS 1\n",
    "begin\n",
    "    DECLARE c1 CURSOR WITH RETURN TO CALLER FOR\n",
    "       SELECT * FROM EMPLOYEE WHERE EMPNO=inempno;\n",
    "    OPEN c1;\n",
    "end@"
   ]
  },
  {
   "cell_type": "markdown",
   "metadata": {},
   "source": [
    "When calling this procedure we must supply the employee number as a 6 character field. The behaviour will be similar to the first example with no parameters."
   ]
  },
  {
   "cell_type": "code",
   "execution_count": null,
   "metadata": {},
   "outputs": [],
   "source": [
    "%sql CALL SHOWEMP('000010')"
   ]
  },
  {
   "cell_type": "markdown",
   "metadata": {},
   "source": [
    "If you use the standard `%sql` command without the `-r` parameter, only the answer set will be returned or displayed. An assignment statement with `-r` is slightly more complex:\n",
    "* The first value will be the array of results\n",
    "* Subsequent values will be the input/output parameters of the stored procedure\n",
    "The next SQL statement will assign the results to a single variable."
   ]
  },
  {
   "cell_type": "code",
   "execution_count": null,
   "metadata": {},
   "outputs": [],
   "source": [
    "oneemp = %sql -r CALL SHOWEMP('000010')"
   ]
  },
  {
   "cell_type": "markdown",
   "metadata": {},
   "source": [
    "The first value in the oneemp array (`oneemp[0]`) is the answer set array, while the subsequent values are the parameters that are passed (or returned) by the stored procedure. `oneemp[1]` should be equal to the employee number we were searching for."
   ]
  },
  {
   "cell_type": "code",
   "execution_count": null,
   "metadata": {},
   "outputs": [],
   "source": [
    "print(oneemp[1])"
   ]
  },
  {
   "cell_type": "markdown",
   "metadata": {},
   "source": [
    "The use of the `-r` flag becomes mandatory when you are retrieving an answer set from a stored procedure, and also need to access the return results of the arguments to the stored procedure. SQL stored procedures can have input, output, and input/output values. These values are returned back via the `%sql` command but can only be accessed when you use the `-r` flag.\n",
    "\n",
    "The following stored procedure will return the employees in a department and also a count of the records found."
   ]
  },
  {
   "cell_type": "code",
   "execution_count": null,
   "metadata": {},
   "outputs": [],
   "source": [
    "%%sql -d\n",
    "create or replace procedure showdept(in indeptno char(3), out rowcount int)\n",
    "DYNAMIC RESULT SETS 1\n",
    "begin\n",
    "    DECLARE c1 CURSOR WITH RETURN TO CALLER FOR\n",
    "       SELECT * FROM EMPLOYEE WHERE WORKDEPT=indeptno;\n",
    "    set rowcount = (SELECT COUNT(*) FROM EMPLOYEE WHERE WORKDEPT=indeptno);\n",
    "    OPEN c1;\n",
    "end@"
   ]
  },
  {
   "cell_type": "markdown",
   "metadata": {},
   "source": [
    "A normal call to this stored procedure (no flags) will return the result set. Note we must supply the second parameter here but do not supply a value since it is an output value. The `null` keyword must be used."
   ]
  },
  {
   "cell_type": "code",
   "execution_count": null,
   "metadata": {},
   "outputs": [],
   "source": [
    "%sql CALL SHOWDEPT('E11',null)"
   ]
  },
  {
   "cell_type": "markdown",
   "metadata": {},
   "source": [
    "To access the value of the rowcount, the `-r` flag must be used and the results assigned to a variable."
   ]
  },
  {
   "cell_type": "code",
   "execution_count": null,
   "metadata": {},
   "outputs": [],
   "source": [
    "alldept = %sql -r CALL SHOWDEPT('E11',null)"
   ]
  },
  {
   "cell_type": "markdown",
   "metadata": {},
   "source": [
    "The first value of the `alldept` will the result set as an array. The first value will be the department that we requested, and the second will be the rowcount."
   ]
  },
  {
   "cell_type": "code",
   "execution_count": null,
   "metadata": {},
   "outputs": [],
   "source": [
    "print(alldept[2])"
   ]
  },
  {
   "cell_type": "markdown",
   "metadata": {},
   "source": [
    "An alternative way of accessing the results is to create an assignment statement with the answer set and all of the parameters supplied. The following SQL will assign the answer set and parameters directly to variables rather than an array."
   ]
  },
  {
   "cell_type": "code",
   "execution_count": null,
   "metadata": {},
   "outputs": [],
   "source": [
    "answer, dept, count = %sql -r CALL SHOWDEPT('E11',null)\n",
    "print(count)"
   ]
  },
  {
   "cell_type": "markdown",
   "metadata": {},
   "source": [
    "Stored procedures without answer sets will always return the parameters or None if nothing was supplied. This simple stored procedure increments the number that was sent to it."
   ]
  },
  {
   "cell_type": "code",
   "execution_count": null,
   "metadata": {},
   "outputs": [],
   "source": [
    "%%sql -d\n",
    "create or replace procedure oneparm (inout r INT)\n",
    "begin\n",
    "    SET r = r + 1;\n",
    "end@"
   ]
  },
  {
   "cell_type": "markdown",
   "metadata": {},
   "source": [
    "Remember that there is no result set with the stored procedure so the parameters are returned."
   ]
  },
  {
   "cell_type": "code",
   "execution_count": null,
   "metadata": {},
   "outputs": [],
   "source": [
    "%sql call oneparm(1)"
   ]
  },
  {
   "cell_type": "markdown",
   "metadata": {},
   "source": [
    "### Stored Procedure Parameters\n",
    "Stored procedures can have variables passed as parameters. To pass a parameter to a stored procedure, place a colon (`:`) in front of the variable name:\n",
    "```\n",
    "%sql CALL SHOWDEPT(:deptno,null)\n",
    "```\n",
    "The python variable `deptno` will be substituted into the CALL statement when it is executed. "
   ]
  },
  {
   "cell_type": "code",
   "execution_count": null,
   "metadata": {},
   "outputs": [],
   "source": [
    "%%sql -d\n",
    "CREATE or REPLACE PROCEDURE DEPTCOUNT(in indeptno char(3), out rowcount int)\n",
    "begin\n",
    "    set rowcount = (SELECT COUNT(*) FROM EMPLOYEE WHERE WORKDEPT=indeptno);\n",
    "end@"
   ]
  },
  {
   "cell_type": "markdown",
   "metadata": {},
   "source": [
    "The following code will go through each deparment number and get a count of employees by calling the stored procedure. Note that an answer set return using raw format always returns an array of rows, and each row itself is made up of an array of columns. The code needs to iterate across the rows and then across the columns. The first row of the answer set is the column names, so we skip that by using `depts[1:]` as the starting point. "
   ]
  },
  {
   "cell_type": "code",
   "execution_count": null,
   "metadata": {},
   "outputs": [],
   "source": [
    "depts = %sql -r SELECT DISTINCT WORKDEPT FROM EMPLOYEE\n",
    "for dept in depts[1:]:\n",
    "    deptno = dept[0]\n",
    "    deptparm, count = %sql -r CALL DEPTCOUNT(:deptno,null)\n",
    "    print(\"Department: %s Employees: %d\" % (deptno,count))"
   ]
  },
  {
   "cell_type": "markdown",
   "metadata": {},
   "source": [
    "## System Stored Procedures\n",
    "The Db2 System Stored procedures work using this syntax except for procedures that return binary XML output. At this point in time there is a limitation in retrieving this data using the Python Db2 API calls that are available. An example of a working procedure call is the REORGCHK procedure."
   ]
  },
  {
   "cell_type": "code",
   "execution_count": null,
   "metadata": {},
   "outputs": [],
   "source": [
    "%sql CALL SYSPROC.REORGCHK_TB_STATS('T','DB2INST1.EMPLOYEE')"
   ]
  },
  {
   "cell_type": "markdown",
   "metadata": {},
   "source": [
    "#### Credits: IBM 2019, George Baklarz [baklarz@ca.ibm.com]"
   ]
  }
 ],
 "metadata": {
  "kernelspec": {
   "display_name": "Python 3",
   "language": "python",
   "name": "python3"
  },
  "language_info": {
   "codemirror_mode": {
    "name": "ipython",
    "version": 3
   },
   "file_extension": ".py",
   "mimetype": "text/x-python",
   "name": "python",
   "nbconvert_exporter": "python",
   "pygments_lexer": "ipython3",
   "version": "3.7.3"
  }
 },
 "nbformat": 4,
 "nbformat_minor": 2
}
