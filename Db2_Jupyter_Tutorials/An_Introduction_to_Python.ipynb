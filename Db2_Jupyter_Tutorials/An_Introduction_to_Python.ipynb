{
 "cells": [
  {
   "cell_type": "markdown",
   "metadata": {},
   "source": [
    "# An Introduction to Python\n",
    "This Jupyter notebook will give you a brief overview of the Python language. This will only go into some of the basics, so if you are interested in some of the more advanced features you should search for Python resources on the web. One good source to visit is https://www.learnpython.org/ which takes you through the features in an interactive manner. An online course is also available at http://opentechschool.github.io/python-beginners/en/index.html.\n",
    "<a id=\"top\"></a>"
   ]
  },
  {
   "cell_type": "markdown",
   "metadata": {},
   "source": [
    "## Table of Contents\n",
    "\n",
    "* [A Brief History of Python](#history)\n",
    "\n",
    "* [The Basics](#basics)\n",
    "\n",
    "* [Variables and Types](#variables)\n",
    "\n",
    "* [Lists, Arrays, and Dictionaries](#lists)\n",
    "\n",
    "* [Operators](#operators)\n",
    "\n",
    "* [Conditions](#conditions)\n",
    "\n",
    "* [Loops](#loops)\n",
    "\n",
    "* [Try/Catch](#try)\n",
    "\n",
    "* [Functions](#functions)\n",
    "\n",
    "* [Classes and Objects](#classes)\n",
    "\n",
    "* [Modules and Packages](#modules)\n",
    "\n",
    "* [Magic Commands](#magic)"
   ]
  },
  {
   "cell_type": "markdown",
   "metadata": {
    "collapsed": true
   },
   "source": [
    "[Back to Top](#top)\n",
    "<a id='history'></a>"
   ]
  },
  {
   "cell_type": "markdown",
   "metadata": {},
   "source": [
    "### A Brief History of Python\n",
    "The following is a brief summary of the Python programming language. If you are interested in a more in-depth discussion of the language, see https://en.wikipedia.org/wiki/History_of_Python. \n",
    "\n",
    "Python was concieved in the late 1980s and development was started in 1989. Apparently the original author (Guido van Rossum) was a fan of Monty Python's Flying Circus TV show and that's how it got its name. As with many programming languages, Python was a successor to another programming language called ABC.\n",
    "\n",
    "Python 2.0 was released on October 16, 2000, with many major new features, including a garbage collector for memory management and support for Unicode. The biggest change was the adoption of a community-backed process rather than being controlled by a few individuals.\n",
    "\n",
    "Python 3.0 was a major, backwards-incompatible release that was released in 2008 after a long period of testing. Many of its major features have also been backported to Python 2.6 and 2.7. This is an important thing to note about Python. Python 2 and Python 3 have some fundamental differences so some concepts do not port between the versions. Libraries and modules that are developed for Python may be only for a specific release. Fortunately, many of the important libraries are available for both releases.\n",
    "\n",
    "Python has grown in popularity, with it recently being ranked as the number #1 programming language by IEEE Spectrum: https://spectrum.ieee.org/computing/software/the-2017-top-programming-languages. So that probably means it is a good idea to understand what Python is all about!"
   ]
  },
  {
   "cell_type": "markdown",
   "metadata": {
    "collapsed": true
   },
   "source": [
    "[Back to Top](#top)\n",
    "<a id='basics'></a>"
   ]
  },
  {
   "cell_type": "markdown",
   "metadata": {},
   "source": [
    "### The Basics\n",
    "\n",
    "Python is a simple programming language that has language elements that are similar to many of the other popular programming languages. Python is an interpreted language, so there is no need to \"compile\" the code in order for it to work. The Jupyter notebook you are currently viewing was built using Python, so the cells in this notebook can execute Python code \"natively\".\n",
    "\n",
    "The simplest code example (used by every programming language in the world) is the classic \"Hello World\". To execute the code in the next line, highlight the line (click on it) and then either hit **`Shift-ENTER`** or click on the run key (found at the top of the notebook in a box that looks like **`[>|]`**. \n",
    "\n",
    " **Action:** All of the examples in this notebook require that you execute the code in the cells that have **`In[]:`** in front of them."
   ]
  },
  {
   "cell_type": "code",
   "execution_count": null,
   "metadata": {},
   "outputs": [],
   "source": [
    "print(\"Hello World\")"
   ]
  },
  {
   "cell_type": "markdown",
   "metadata": {},
   "source": [
    "Unlike most programming languages, Python cares about indentation. Code that is at a certain level is considered to be part of the block. Languages like C or Visual Basic would have control characters {...} or begin/end blocks to deliniate the logic. Blocks of code can be indented using spaces, or tabs, with the typical spacing being 4 spaces. The following code illustrates an IF/THEN/ELSE block."
   ]
  },
  {
   "cell_type": "code",
   "execution_count": null,
   "metadata": {},
   "outputs": [],
   "source": [
    "name = 'Fred'\n",
    "# Check to see if you are Fred\n",
    "if name == 'Fred':\n",
    "    print(\"I guess you are Fred\")\n",
    "else:\n",
    "    print(\n",
    "        \"You are someone else\"\n",
    "         )"
   ]
  },
  {
   "cell_type": "markdown",
   "metadata": {},
   "source": [
    "There are a couple of concepts that this code snippet illustrates. The first is the assignment statement:\n",
    "```Python\n",
    "name = 'Fred'\n",
    "```\n",
    "The next section will go into more details, but Python is a dynamic language which means you don't have to explicitly declare what the contents of a variable will hold. Python will determine the best way to represent the value based on its structure (in this case it is a string because it has quotes around it). However, the contents of the variable can change if you decide to assign something else to it like an integer.\n",
    "\n",
    "The hash (or number sign) character # is a comment character so that anything that follows it on a line is ignored by the interpreter.\n",
    "```Python\n",
    "# Anything after # is ignored\n",
    "```\n",
    "\n",
    "The If/else block require the uses of a colon **`:`** at the end of the keyword to mark the beginning of the block. \n",
    "<pre>\n",
    "if logic:\n",
    "</pre>\n",
    "\n",
    "Finally, statements can span multiple lines as is the case with the else statement. Since Jupyter notebooks is an interactive environment, edit the next example to change the value of name to make sure our logic works."
   ]
  },
  {
   "cell_type": "code",
   "execution_count": null,
   "metadata": {},
   "outputs": [],
   "source": [
    "name = 'Fred' # Check to see if you are Fred\n",
    "if name == 'Fred': print(\"I guess you are Fred\")\n",
    "else: print(\"You are someone else\")"
   ]
  },
  {
   "cell_type": "markdown",
   "metadata": {},
   "source": [
    "The previous example compressed the code into fewer lines. The \"then\" and \"else\" logic is placed after the statements rather than on separate lines. While it makes for more concise coding, you lose some of the logic flow when coding this way. \n",
    "\n",
    "Using indentation to create code blocks eliminates the errors caused by unmatched delimiters. However, uneven indentation can also cause errors! The following code will fail because of bad spacing."
   ]
  },
  {
   "cell_type": "code",
   "execution_count": null,
   "metadata": {},
   "outputs": [],
   "source": [
    "# Note that variables exist throughout the notebook\n",
    "if name == 'Fred':\n",
    "    print (\"I guess you are Fred\")\n",
    "      print (\"But you are terrible at spacing correctly!\")"
   ]
  },
  {
   "cell_type": "markdown",
   "metadata": {},
   "source": [
    "You may have noticed the ugly way that error messages are displayed when Python detects an error. The first message gives you the location of the error (line 4) and then it displays the offending code and places a carat character (^) underneath the position where the error was detected.\n",
    "\n",
    "This example also illustrates how variables in a Jupyter notebook are global. Variables exist within a notebook and are there for the duration of the notebook. These variables are not persisted across notebooks and will be lost if you restart the notebook."
   ]
  },
  {
   "cell_type": "markdown",
   "metadata": {
    "collapsed": true
   },
   "source": [
    "[Back to Top](#top)\n",
    "<a id='variables'></a>"
   ]
  },
  {
   "cell_type": "markdown",
   "metadata": {},
   "source": [
    "### Variables and Types\n",
    "The previous section demonstrated how Python is a dynamic language. Basically this means that you can assign anything you want to a variable and Python will determine how best to store it. The data type is inferred from the data itself. The following code snippet shows the basic Python data types. The equal sign (=) is used to assign values to variables."
   ]
  },
  {
   "cell_type": "code",
   "execution_count": null,
   "metadata": {},
   "outputs": [],
   "source": [
    "string = 'this is a string' # Using Single Quotes\n",
    "another = \"this is a string\" # Using Double Quotes\n",
    "integer = 1234\n",
    "float = 123.345\n",
    "exponential = 454e10\n",
    "boolean = True \n",
    "print(string)\n",
    "print(another)\n",
    "print(integer)\n",
    "print(float)\n",
    "print(exponential)\n",
    "print(boolean)"
   ]
  },
  {
   "cell_type": "markdown",
   "metadata": {},
   "source": [
    "| Keywords |       |         |    |        |      |     |      |          |       |\n",
    "|----------|-------|---------|----|--------|------|-----|------|----------|-------|\n",
    "| False    | class | finally | is | return | True | def | from | nonlocal | while |"
   ]
  },
  {
   "cell_type": "markdown",
   "metadata": {},
   "source": [
    "Variable names have the following rules in Python:\n",
    "* Must begin with a letter (a - z, A - Z) or underscore (_)\n",
    "* The remaining characters can be letters, numbers or _\n",
    "\n",
    "The variables are case sensitive, so **`PAYROLL`** and **`payroll`** are completely different variables. The length of a variables is not specified in Python other than it should be a reasonable length so that you can remember it and type it correctly in your code! You also can't use a reserved name as a variable name.\n",
    "\n",
    "Python actually doesn't have many keywords with the following table listing all of them.\n",
    "\n",
    "| Keywords |       |         |    |        |      |     |      |          |       |\n",
    "|:----------|:------|:--------|:---|:-------|:-----|:----|:-----|:---------|:-------|\n",
    "| False   | class    | finally | is       | return |  True\t  | def\t     | from\t   | nonlocal | while\n",
    "| None\t  | continue | for\t   | lambda   | try    | and\t  | del\t     | global  | not\t  | with\n",
    "| as\t  | elif     | if\t   | or\t      | yield  | break\t  | except\t | in      | raise    | break\n",
    "| assert  | else     | import  | pass\t  |\n",
    "\n",
    "**`True`** and **`False`** are the boolean values used in Python (note the case sensitivity here). \n",
    "\n",
    "You can sometimes get in trouble when using a variable name that may also be the same as a built-in library function like float. "
   ]
  },
  {
   "cell_type": "code",
   "execution_count": null,
   "metadata": {},
   "outputs": [],
   "source": [
    "myfloat = float(7)"
   ]
  },
  {
   "cell_type": "markdown",
   "metadata": {},
   "source": [
    "You should have received an error message about the float object being sick. Sometimes being flexible in the use of assignment statements will cause problems. The name `float` was actually assigned to a function when this notebook started up. We then had an assignment statement that changed float to a value:\n",
    "```Python\n",
    "float = 123.345\n",
    "```\n",
    "So we lost our float function! We can remove the variable definition using the following del command:"
   ]
  },
  {
   "cell_type": "code",
   "execution_count": null,
   "metadata": {},
   "outputs": [],
   "source": [
    "del float"
   ]
  },
  {
   "cell_type": "markdown",
   "metadata": {},
   "source": [
    "With any luck, our float function is back in action!"
   ]
  },
  {
   "cell_type": "code",
   "execution_count": null,
   "metadata": {},
   "outputs": [],
   "source": [
    "myfloat = float(7)\n",
    "print(myfloat)"
   ]
  },
  {
   "cell_type": "markdown",
   "metadata": {},
   "source": [
    "Strings are handled in one of three ways. You can use single quotes ('). double quotes (\") or a special triple quote sequence. The single and double quote strings are straightforward."
   ]
  },
  {
   "cell_type": "code",
   "execution_count": null,
   "metadata": {},
   "outputs": [],
   "source": [
    "string1 = 'This is a string'\n",
    "string2 = \"This is another string\"\n",
    "print(string1)\n",
    "print(string2)"
   ]
  },
  {
   "cell_type": "markdown",
   "metadata": {},
   "source": [
    "The final method uses triple quotes. This approach lets you span multiple lines and include quote characters of any type without having to worry about matching up the quotes. The format of the triple quote is:\n",
    "<pre>\n",
    "variable = '''\n",
    "body of text\n",
    "...\n",
    "'''\n",
    "</pre>\n",
    "The three quote characters (' or \") start the string and it is terminated by the final three quotes. Note that if you place the text over multiple lines, the carriage return or line feed characters will be part of the text."
   ]
  },
  {
   "cell_type": "code",
   "execution_count": null,
   "metadata": {},
   "outputs": [],
   "source": [
    "alongstring = '''\n",
    "Here are two lines\n",
    "separated by a new line.\n",
    "'''\n",
    "print(alongstring)"
   ]
  },
  {
   "cell_type": "markdown",
   "metadata": {},
   "source": [
    "If you want to have a long string that does not include CR/LF characters, you could use string concatenation:"
   ]
  },
  {
   "cell_type": "code",
   "execution_count": null,
   "metadata": {},
   "outputs": [],
   "source": [
    "alongstring = 'Here are two lines ' + \\\n",
    "'separated without a new line'\n",
    "print(alongstring)"
   ]
  },
  {
   "cell_type": "markdown",
   "metadata": {},
   "source": [
    "The last example introduces the continuation character \"\\\" and the concatenation character \"+\". If you need a statement to extend past the end of a line, you need to use the \\ at the end. The \"+\" just concatenates strings together as is the case in many other programming langauges. You could use the \\ character without concatenation as the following example illustrates."
   ]
  },
  {
   "cell_type": "code",
   "execution_count": null,
   "metadata": {},
   "outputs": [],
   "source": [
    "alongstring = \"Here are two lines \\\n",
    "separated without a new line\"\n",
    "print(alongstring)"
   ]
  },
  {
   "cell_type": "markdown",
   "metadata": {},
   "source": [
    "The print function allows for formatting strings to be used when printing the contents of a variable. For those used to programming in C/C++, the specifications are similar to format strings. There are two styles of formatting output (the old and new of course!). Those developers who have a background in C may find the old format more familiar:\n",
    "<pre>\n",
    "\"String with format information\" % (value1, value2, ...)\n",
    "</pre>\n",
    "The values are substituted in the order of the formatting (%s) specifications."
   ]
  },
  {
   "cell_type": "code",
   "execution_count": null,
   "metadata": {},
   "outputs": [],
   "source": [
    "print(\"The %s is equal to %d\" % ('value',5))"
   ]
  },
  {
   "cell_type": "markdown",
   "metadata": {},
   "source": [
    "The format string uses %s to represent a string, %d to represent a number, %f for floating point, and %x for true or false (if you want boolean) or %s if you want the word True or False. There are all sorts of modifiers for the length of a string, the size of an integer and so on if someone is willing to read the manuals. One common modifier is to add a length before the string modifer %15s (right aligned) or %-15 (left aligned)."
   ]
  },
  {
   "cell_type": "code",
   "execution_count": null,
   "metadata": {},
   "outputs": [],
   "source": [
    "print(\"This value is %x or %s\" % (True, True))\n",
    "print(\"Right aligned %10s here\" % (\"Hello\"))\n",
    "print(\"Left aligned %-10s here\" % (\"Hello\"))"
   ]
  },
  {
   "cell_type": "markdown",
   "metadata": {},
   "source": [
    "Another way of creating a string for output is to use the **`f'`** string modifier. Each variable is placed in a string with braces **`{var}`** surrounding it. The contents of the variable will be placed inside the string where it was located.\n",
    "```Python\n",
    "x = 123; y = 'Hello'; z = 'There';\n",
    "print( f'{y} {z} x={x}' )\n",
    "```"
   ]
  },
  {
   "cell_type": "code",
   "execution_count": null,
   "metadata": {},
   "outputs": [],
   "source": [
    "x = 123; y = 'Hello'; z = 'There';\n",
    "print( f'{y} {z} x={x}' )"
   ]
  },
  {
   "cell_type": "markdown",
   "metadata": {
    "collapsed": true
   },
   "source": [
    "[Back to Top](#top)\n",
    "<a id='lists'></a>"
   ]
  },
  {
   "cell_type": "markdown",
   "metadata": {},
   "source": [
    "### Lists, Arrays, and Dictionaries\n",
    "To create an array (or list), assign an empty list \"[]\" to a variable. The reason that this is a list or an array is that the contents of the list can contain different values. There is no requirement to have all of the values be the same."
   ]
  },
  {
   "cell_type": "code",
   "execution_count": null,
   "metadata": {},
   "outputs": [],
   "source": [
    "alist = []"
   ]
  },
  {
   "cell_type": "markdown",
   "metadata": {},
   "source": [
    "You could assign values immediately to the list by enclosing them in the brackets and separating the values with commas:\n",
    "```Python\n",
    "v = [1,2,3]\n",
    "```\n",
    "You also have the option to use the append command to append one value, and extend for multiple values:\n",
    "```Python\n",
    "v.append(value)\n",
    "v.extend([1,2,3])\n",
    "```\n",
    "If you want an array of arrays, append another list to the variable. The following code will assign a number of values to the variable."
   ]
  },
  {
   "cell_type": "code",
   "execution_count": null,
   "metadata": {},
   "outputs": [],
   "source": [
    "v1 = [1,2,3]\n",
    "v2 = []\n",
    "v2.append(1)\n",
    "v2.append('Hello')\n",
    "v3 = []\n",
    "v3.extend([1,2,3])"
   ]
  },
  {
   "cell_type": "markdown",
   "metadata": {},
   "source": [
    "To determine the size of an array/list, you can use the len function len(variable)."
   ]
  },
  {
   "cell_type": "code",
   "execution_count": null,
   "metadata": {},
   "outputs": [],
   "source": [
    "print(len(v1))"
   ]
  },
  {
   "cell_type": "markdown",
   "metadata": {},
   "source": [
    "To access a specific element in a list, use the following notation:\n",
    "<pre>\n",
    "v[index] where index starts at zero\n",
    "</pre>\n",
    "The iteration section will give examples of how to iterate (easily) over the list of values."
   ]
  },
  {
   "cell_type": "code",
   "execution_count": null,
   "metadata": {},
   "outputs": [],
   "source": [
    "print(v2[0])\n",
    "print(v2[1])"
   ]
  },
  {
   "cell_type": "markdown",
   "metadata": {},
   "source": [
    "A dictionary is similar to a JSON object. You have an attribute (like Lastname) with an associated value. To create a dictionary you use braces (**`{}`**) to encapsulate the values. A simple dictionary entry is shown below."
   ]
  },
  {
   "cell_type": "code",
   "execution_count": null,
   "metadata": {},
   "outputs": [],
   "source": [
    "names = {\n",
    "    \"firstname\" : \"George\",\n",
    "    \"lastname\" : \"Baklarz\"\n",
    "}"
   ]
  },
  {
   "cell_type": "markdown",
   "metadata": {},
   "source": [
    "Normally we would have to continue the line with a traditional Python statement by using the backslash (\\) characters. However, a dictionary spans multiple lines until you have the closing brace. A few things about creating a dictionary:\n",
    "* There is always a key/value pair separated with a colon\n",
    "* Multiple attributes need a comma at the end of every key/value\n",
    "* Empty keys use the keyword None to mark the absence of a value (this is different than '')\n",
    "\n",
    "To add another item to a dictionary, use the update function, or just assign a value to a new key:\n",
    "<pre>\n",
    "v.update({'key':'value'})\n",
    "v['key'] = 'value'\n",
    "</pre>"
   ]
  },
  {
   "cell_type": "code",
   "execution_count": null,
   "metadata": {},
   "outputs": [],
   "source": [
    "names['middleinit'] = 'G'\n",
    "names.update({'City' : 'Toronto'})"
   ]
  },
  {
   "cell_type": "markdown",
   "metadata": {},
   "source": [
    "To retrieve the values from a dictionary, use the key to select the value you want."
   ]
  },
  {
   "cell_type": "code",
   "execution_count": null,
   "metadata": {},
   "outputs": [],
   "source": [
    "print(names['lastname'])"
   ]
  },
  {
   "cell_type": "markdown",
   "metadata": {},
   "source": [
    "Updating a key is the same as adding a new key. Just assign a new value to the key:\n",
    "<pre>\n",
    "v['key'] = 'new value'\n",
    "</pre>\n",
    "To remove a key, use the del function:\n",
    "<pre>\n",
    "del v['key']\n",
    "</pre>\n",
    "There is also the pop function which will return the value and then delete the key.\n",
    "<pre>\n",
    "v.pop['key']\n",
    "</pre>\n",
    "In either case, if the key does not exist, Python will raise an error message."
   ]
  },
  {
   "cell_type": "code",
   "execution_count": null,
   "metadata": {},
   "outputs": [],
   "source": [
    "del names['City']\n",
    "names.pop('middleinit')"
   ]
  },
  {
   "cell_type": "markdown",
   "metadata": {},
   "source": [
    "Using the print function will give you the structure of the dictionary."
   ]
  },
  {
   "cell_type": "code",
   "execution_count": null,
   "metadata": {},
   "outputs": [],
   "source": [
    "print(names)"
   ]
  },
  {
   "cell_type": "markdown",
   "metadata": {
    "collapsed": true
   },
   "source": [
    "[Back to Top](#top)\n",
    "<a id='operators'></a>"
   ]
  },
  {
   "cell_type": "markdown",
   "metadata": {},
   "source": [
    "### Operators\n",
    "Python has the typical arithmetic operators available:\n",
    "* **`+/-*`** math operators\n",
    "* **`%`** for modulo (remainder) \n",
    "* `**` for power calculations\n",
    "* **`()`** to override math operators\n",
    "\n",
    "In addition the **`+`** operator can be used for concatenating strings or lists."
   ]
  },
  {
   "cell_type": "code",
   "execution_count": null,
   "metadata": {},
   "outputs": [],
   "source": [
    "a = 3 * 5 - (6 / 3)\n",
    "print(a)\n",
    "b = [1, 2]\n",
    "c = [3, 4, 5]\n",
    "print(b + c)\n",
    "d = \"Hello\"\n",
    "e = \"There\"\n",
    "print(d + ' ' + e)"
   ]
  },
  {
   "cell_type": "markdown",
   "metadata": {
    "collapsed": true
   },
   "source": [
    "[Back to Top](#top)\n",
    "<a id='conditions'></a>"
   ]
  },
  {
   "cell_type": "markdown",
   "metadata": {},
   "source": [
    "### Conditions\n",
    "Python has the if/else/elif syntax to allow for conditional processing. Within the if/else statement, you have the ability to use logic statements in addition to any arithmetic operators. Note: You could also use these boolean operators in an assignment statement, but they are typically seen in if and looping statements.\n",
    "* `and/or/not` logic\n",
    "* `<`, `>`, `<=`, `>=`, `==`, `!=` comparisons (note `==` for equality)\n",
    "* `()` to override order of comparisons\n",
    "* `is` for checking whether or not the variables are the same instance\n",
    "* `in` for checking if a value is in a dictionary or list\n",
    "\n",
    "If/Else statements are always followed by a colon (`:`) and the logic at that level must be indented underneath. The following statement illustrates the If statement."
   ]
  },
  {
   "cell_type": "code",
   "execution_count": null,
   "metadata": {},
   "outputs": [],
   "source": [
    "x = 5\n",
    "if (x + 2 == 7):\n",
    "    print(\"Indentation better be the same!\")\n",
    "    print(\"Value = %d\" % x)\n",
    "else: # Note the colon at the end of the else\n",
    "    print(\"I shouldn't be here\")\n",
    "    \n",
    "print(\"End of example\")"
   ]
  },
  {
   "cell_type": "markdown",
   "metadata": {},
   "source": [
    "The elif is a convenient shortform for managing nested if statements. Rather than having multiple nested ifs, you can use elif to simplify your coding:\n",
    "<pre>\n",
    "if (x == 1) then:\n",
    "...\n",
    "elif (x ==2) then:\n",
    "...\n",
    "else:\n",
    "...\n",
    "</pre>\n",
    "The final else would catch any condition that didn't match any of the if/elif statements. Python doesn't have a SELECT/SWITCH/CASE statement so you need to use this method, or use a variety of other technieques that are documented on the web. The following example uses the \"in\" operator to see if a value is found in the dictionary."
   ]
  },
  {
   "cell_type": "code",
   "execution_count": null,
   "metadata": {},
   "outputs": [],
   "source": [
    "x = {'a':1, 'b':2, 'c':3}\n",
    "if ('d' in x):\n",
    "    print('Found d')\n",
    "elif ('b' in x):\n",
    "    print('Found b')\n",
    "else:\n",
    "    print('Nothing found')"
   ]
  },
  {
   "cell_type": "markdown",
   "metadata": {},
   "source": [
    "The `is` comparison checks to see if the variables point to the same instance. The variable `a` is initiazed to a value first, and then `b` is set to `a`. Unless `b` actually changes, it will point to `a`'s value."
   ]
  },
  {
   "cell_type": "code",
   "execution_count": null,
   "metadata": {},
   "outputs": [],
   "source": [
    "a = 'Hello'\n",
    "b = a\n",
    "if (a is b):\n",
    "    print(\"They point to the same value\")\n",
    "else:\n",
    "    print(\"They are different values\")\n",
    "    \n",
    "b = 'Goodbye'\n",
    "if (a is b):\n",
    "    print(\"They point to the same value\")\n",
    "else:\n",
    "    print(\"They are different values\")"
   ]
  },
  {
   "cell_type": "markdown",
   "metadata": {
    "collapsed": true
   },
   "source": [
    "[Back to Top](#top)\n",
    "<a id='loops'></a>"
   ]
  },
  {
   "cell_type": "markdown",
   "metadata": {},
   "source": [
    "### Loops\n",
    "Loops are critical to all programming languages and Python is no different. Python includes a for loop and a while loop. In addition there are break and continue keywords that alter what you do in the loop:\n",
    "* **for** - iterate over a list or set of objects\n",
    "* **while** - loop while a condition is true\n",
    "* **break** - exit the inner most loop\n",
    "* **continue** - go back to the beginning of the loop\n",
    "* **else** - Execute this code if the while or if loop condition fails\n",
    "\n",
    "The for loop has been designed to iterate over lists, dictionaries and arrays using the \"in\" operator.\n",
    "<pre>\n",
    "a = [1,2,3,4]\n",
    "for x in a:\n",
    "...\n",
    "</pre>\n",
    "This makes programming loops much simplier since you don't have to check the size of the object and create incremental loops similar to C/C++ (for i = 1 to size(x)...) or worry about the index values."
   ]
  },
  {
   "cell_type": "code",
   "execution_count": null,
   "metadata": {},
   "outputs": [],
   "source": [
    "a = [1,2,3,4]\n",
    "for x in a:\n",
    "    print(x)"
   ]
  },
  {
   "cell_type": "markdown",
   "metadata": {},
   "source": [
    "When dealing with a dictionary you normally have a key and a value associated with it. To iterate over the keys and values you must use the items() function  "
   ]
  },
  {
   "cell_type": "code",
   "execution_count": null,
   "metadata": {},
   "outputs": [],
   "source": [
    "names = {\n",
    "    \"firstname\" : \"George\",\n",
    "    \"lastname\" : \"Baklarz\"\n",
    "}\n",
    "for key, value in names.items():\n",
    "    print(\"Key=\" + key + \" \" + \"Value=\" + value)"
   ]
  },
  {
   "cell_type": "markdown",
   "metadata": {},
   "source": [
    "If you just use the \"in\" operator with the dictionary name, you will only get the key values being returned. To access the value, you must use the key with the variable name."
   ]
  },
  {
   "cell_type": "code",
   "execution_count": null,
   "metadata": {},
   "outputs": [],
   "source": [
    "names = {\n",
    "    \"firstname\" : \"George\",\n",
    "    \"lastname\" : \"Baklarz\"\n",
    "}\n",
    "for key in names:\n",
    "    print(\"Key=\" + key + \" \" + \"Value=\" + names[key])"
   ]
  },
  {
   "cell_type": "markdown",
   "metadata": {},
   "source": [
    "A while loop iterates while a condition is true. This simple loops counts up to 3 before ending."
   ]
  },
  {
   "cell_type": "code",
   "execution_count": null,
   "metadata": {},
   "outputs": [],
   "source": [
    "count = 1\n",
    "while (count <= 3):\n",
    "    print(\"Count = \" + str(count))\n",
    "    count = count + 1"
   ]
  },
  {
   "cell_type": "markdown",
   "metadata": {},
   "source": [
    "You can break out of a loop at any time by using the break instruction."
   ]
  },
  {
   "cell_type": "code",
   "execution_count": null,
   "metadata": {},
   "outputs": [],
   "source": [
    "count = 1\n",
    "while (count <= 3):\n",
    "    print(\"Count = \" + str(count))\n",
    "    if (count == 1): break\n",
    "    count = count + 1"
   ]
  },
  {
   "cell_type": "markdown",
   "metadata": {},
   "source": [
    "You can also loop back to the top of the statement by using the continue instruction. Note that you should make sure that you iterate the loop value if you do decide to iterate back to the top! The example has been modified to show a shortcut when incrementing a value. Instead of using v = v + 1, you can use the v += 1 shortcut which means add the value 1 to the variable. The ++v operator which is found in the C/C++ language will not work in Python."
   ]
  },
  {
   "cell_type": "code",
   "execution_count": null,
   "metadata": {},
   "outputs": [],
   "source": [
    "count = 0\n",
    "while (count < 3):\n",
    "    count += 1\n",
    "    if (count == 2): continue \n",
    "    print(\"Count = \" + str(count))"
   ]
  },
  {
   "cell_type": "markdown",
   "metadata": {},
   "source": [
    "As strange as it may seem, you can have an else clause in your while loop. The else clause gets executed when the condition in the for or while clause fails. The else clause does not get executed if you use the break instruction."
   ]
  },
  {
   "cell_type": "code",
   "execution_count": null,
   "metadata": {},
   "outputs": [],
   "source": [
    "count = 1\n",
    "while (count <= 3):\n",
    "    print(\"Count = \" + str(count))\n",
    "    count = count + 1\n",
    "else:\n",
    "    print(\"The end of the loop\")"
   ]
  },
  {
   "cell_type": "markdown",
   "metadata": {
    "collapsed": true
   },
   "source": [
    "[Back to Top](#top)\n",
    "<a id='try'></a>"
   ]
  },
  {
   "cell_type": "markdown",
   "metadata": {},
   "source": [
    "### Try and Catch Blocks\n",
    "\n",
    "As you have probably noticed, errors messages that Python produces aren't always very pretty. The following code will cause a divide by zero exception."
   ]
  },
  {
   "cell_type": "code",
   "execution_count": null,
   "metadata": {},
   "outputs": [],
   "source": [
    "print(1 / 0)"
   ]
  },
  {
   "cell_type": "markdown",
   "metadata": {},
   "source": [
    "Your code could try to catch this error by having a check on the divisor before attempting to do the division. However, you could catch any type of error by using the try/catch block:\n",
    "```Python\n",
    "try:\n",
    "    some code here\n",
    "except condition1:\n",
    "    what to do if condition1 is raised\n",
    "except condition2:\n",
    "    what to do if condition2 is raised\n",
    "else:\n",
    "    code to execute after the try has completed but not if any of the exceptions are raised\n",
    "finally:\n",
    "    code to execute after everything in the block is done, including the try, except, or else\n",
    "```\n",
    "\n",
    "If there is any error in the code block after the **`try`** keyword, the execution will go to the first **`except`** statement that has the condition in it. For instance, the divide by zero condition would be coded as:\n",
    "\n",
    "```Python\n",
    "a = 5\n",
    "b = 0\n",
    "try: \n",
    "    c = a / b\n",
    "except ZeroDivisionError as err:\n",
    "    print(\"Error was: \" + err)\n",
    "```\n",
    "\n",
    "Try out the next statement to see the result."
   ]
  },
  {
   "cell_type": "code",
   "execution_count": null,
   "metadata": {},
   "outputs": [],
   "source": [
    "a = 5\n",
    "b = 0\n",
    "try: \n",
    "    c = a / b\n",
    "except ZeroDivisionError as err:\n",
    "    print(\"Error was: \", err)"
   ]
  },
  {
   "cell_type": "markdown",
   "metadata": {},
   "source": [
    "If you just want to catch any error in the block, you can just use the **`except`** keyword by itself and it will catch all errors that occur. There is an interesting technique in the **`print`** statement above. If you don't know the data type of what you are going to print, you can use commas to separate the items instead of concatenating values (or converting to strings).\n",
    "```Python\n",
    "print(\"Error was: \", err)\n",
    "```\n",
    "\n",
    "Python interprets that commas as part of a list (a,b,c,...) and then will convert the arguments to a printable format. If you knew that the **`err`** variable was a string, you could use the concatenation symbol **`+`** but using the comma will avoid having to know what the data type is.\n",
    "\n",
    "The **`else`** clause is executed after the **`try`** successfully completes. If any of the **`except`** clauses is triggered, the **`else`** is not executed. The logic behind the else statement is that you may not catch every exception, so this way the else guarantees that it will only execute if nothing goes wrong.\n",
    "\n",
    "Finally, the **`pass`** keyword can come in handy when dealing with exceptions that occur but require no handling. You may want to trap an error that doesn't really matter to your code, but let the other errors get reported. The **`pass`** keyword basically tells Python that nothing gets done in the block and just continue onto the next statement (sort of a no-operation keyword). \n",
    "\n",
    "```Python\n",
    "try:\n",
    "    Some code here\n",
    "except This_Exception_Is_Okay:\n",
    "    pass\n",
    "except Exception as bad: # Everything else goes here\n",
    "    print(\"A bad thing happened: \", bad)\n",
    "```\n",
    "\n",
    "The Exception keyword represents all exceptions. Use this to trap all errors without having to worry about specific error names. "
   ]
  },
  {
   "cell_type": "markdown",
   "metadata": {},
   "source": [
    "The **`finally`** clause is executed after all of the code in the try block, exceptions, or else clause has completed. This clause will also execute if any of the code within the scope of the try has tried to leave the block via a **`break`**, **`continue`** or **`return`** statement. Think of this as the final \"catch-all\" clause that is used to clean up after the code that was executed in the block. Try running the following code to see what happens for the 5 different values of a:\n",
    "\n",
    "* 1 = Execution completes successfully\n",
    "* 2 = Exception raised\n",
    "* 3 = Exception that was okay and passed execution on\n",
    "* 4 = Exception with a return statement\n",
    "* 5 = Exception that wasn't captured\n"
   ]
  },
  {
   "cell_type": "code",
   "execution_count": null,
   "metadata": {},
   "outputs": [],
   "source": [
    "class its_2(Exception): pass\n",
    "class its_3(Exception): pass\n",
    "class its_4(Exception): pass\n",
    "\n",
    "def trycode(a):\n",
    "    try:\n",
    "        if (a == 2):\n",
    "            raise its_2\n",
    "        elif (a == 3):\n",
    "            raise its_3\n",
    "        elif (a == 4):\n",
    "            raise its_4\n",
    "        elif (a == 5):\n",
    "            a = a / 0\n",
    "        else:\n",
    "            pass\n",
    "        print(\"Number\", a, \"is okay.\")\n",
    "\n",
    "    except its_2:\n",
    "        print(\"Number 2 is bad\")\n",
    "    \n",
    "    except its_3:\n",
    "        print(\"Number 3 is okay\")\n",
    "    \n",
    "    except its_4:\n",
    "        return\n",
    "    \n",
    "    except:\n",
    "        print(\"An error I don't capture otherwise\")\n",
    "\n",
    "    else:\n",
    "        print(\"ELSE: This code gets executed only of the try block executes without a failure\")\n",
    "\n",
    "    finally:\n",
    "        print(\"FINALLY: This code gets executed whether the block was successful or not\")\n",
    "        \n",
    "\n",
    "for a in [1,2,3,4,5]:\n",
    "    print(\"Exception for a = \", a)\n",
    "    trycode(a)\n",
    "    print()"
   ]
  },
  {
   "cell_type": "markdown",
   "metadata": {
    "collapsed": true
   },
   "source": [
    "[Back to Top](#top)\n",
    "<a id='functions'></a>"
   ]
  },
  {
   "cell_type": "markdown",
   "metadata": {},
   "source": [
    "### Functions\n",
    "Functions can be defined in Python by using the def keyword. The def keyword is followed by the name of your function and the arguments that will be passed to it.\n",
    "<pre>\n",
    "def function(arg1, arg2, ...):\n",
    "    ... statements ...\n",
    "    return(value1, values, ...) # optional\n",
    "</pre>\n",
    "The return statement is optional because Python determines the end of the function based on indentation! The ability to return multiple values is not necessarily unique to Python, but it does simplify coding so that structures or global variables do not need to be used in most cases."
   ]
  },
  {
   "cell_type": "code",
   "execution_count": null,
   "metadata": {},
   "outputs": [],
   "source": [
    "def squared(x):\n",
    "    return(x * x)"
   ]
  },
  {
   "cell_type": "markdown",
   "metadata": {},
   "source": [
    "Once you've defined the function, you can use it anywhere in your code. The namimg convensions for functions are the same as variables - a-z, A-Z, _ to begin with and then any combination of characters and numbers."
   ]
  },
  {
   "cell_type": "code",
   "execution_count": null,
   "metadata": {},
   "outputs": [],
   "source": [
    "print(squared(3))"
   ]
  },
  {
   "cell_type": "markdown",
   "metadata": {},
   "source": [
    "The following function will return two values - the squareroot of a number, and its square."
   ]
  },
  {
   "cell_type": "code",
   "execution_count": null,
   "metadata": {},
   "outputs": [],
   "source": [
    "def both(x):\n",
    "    return(x ** 0.5, x * x)"
   ]
  },
  {
   "cell_type": "code",
   "execution_count": null,
   "metadata": {},
   "outputs": [],
   "source": [
    "print(both(4))"
   ]
  },
  {
   "cell_type": "markdown",
   "metadata": {
    "collapsed": true
   },
   "source": [
    "[Back to Top](#top)\n",
    "<a id='classes'></a>"
   ]
  },
  {
   "cell_type": "markdown",
   "metadata": {},
   "source": [
    "### Classes and Objects\n",
    "Python has the ability to create classes and objects, more in line with other object oriented languages. This tutorial isn't going to cover this topic, but just be aware that the capabilities are there for Python."
   ]
  },
  {
   "cell_type": "markdown",
   "metadata": {
    "collapsed": true
   },
   "source": [
    "[Back to Top](#top)\n",
    "<a id='modules'></a>"
   ]
  },
  {
   "cell_type": "markdown",
   "metadata": {},
   "source": [
    "### Modules and Packages\n",
    "There are many extensions that have been written for Python and they are found in modules and packages. In order to use these functions you must explicitly import them into your code. A good example is the math library which contains a number of advanced mathematical functions rather than building them yourself. The following code will not work because there is no function called sqrt()."
   ]
  },
  {
   "cell_type": "code",
   "execution_count": null,
   "metadata": {},
   "outputs": [],
   "source": [
    "print(sqrt(4))"
   ]
  },
  {
   "cell_type": "markdown",
   "metadata": {},
   "source": [
    "There is a package called math which we will import in the next statement and re-execute the command. Once you import a library, it is available in your Jupyter notebook session for as long as you have the notebook running."
   ]
  },
  {
   "cell_type": "code",
   "execution_count": null,
   "metadata": {},
   "outputs": [],
   "source": [
    "import math\n",
    "print(math.sqrt(4))"
   ]
  },
  {
   "cell_type": "markdown",
   "metadata": {},
   "source": [
    "A more sophisticated example would be the use of the regular expression module, or the RESTful API module. The following statement will import the regular expression module and check to see if a series of identity numbers follow the correct pattern."
   ]
  },
  {
   "cell_type": "code",
   "execution_count": null,
   "metadata": {},
   "outputs": [],
   "source": [
    "import re\n",
    "ssns = ['123-456-789',\n",
    "      '123-555-1T3',\n",
    "      '890-ABC-098',\n",
    "      '123-456-456'\n",
    "       ]\n",
    "pattern = '^([0-9]{3})-([0-9]{3})-([0-9]{3})$'\n",
    "for ssn in ssns:\n",
    "    if (re.search(pattern,ssn) != None):\n",
    "        print(\"Good: \" + ssn)\n",
    "    else:\n",
    "        print(\"Bad:  \" + ssn)"
   ]
  },
  {
   "cell_type": "markdown",
   "metadata": {
    "collapsed": true
   },
   "source": [
    "[Back to Top](#top)\n",
    "<a id='magic'></a>"
   ]
  },
  {
   "cell_type": "markdown",
   "metadata": {
    "collapsed": true
   },
   "source": [
    "### Magic Commands"
   ]
  },
  {
   "cell_type": "markdown",
   "metadata": {
    "collapsed": true
   },
   "source": [
    "Magic commands are a special class of commands that are intended for Jupyter notebooks. Magic commands start with the percent sign % and call functions that extend the Jupyter notebook environment. There is a large set of magic commands that you can use and can be displayed by issuing the command below (browse the window and then close it when you are done)."
   ]
  },
  {
   "cell_type": "code",
   "execution_count": null,
   "metadata": {},
   "outputs": [],
   "source": [
    "%magic"
   ]
  },
  {
   "cell_type": "markdown",
   "metadata": {},
   "source": [
    "Magic commands that run on single line start with a single percent sign (`%`). There are a set of magic commands that work on the entire contents of a cell. These commands start with two percent signs (`%%`). The difference is that the `%commands` can be mixed in with Python logic and other commands, while the `%%command` will execute on the contents of the entire cell. You can't mix the two types of commands in one cell.\n",
    "\n",
    "The Db2 SQL extensions is an example of a magic command. The single `%sql` command will issue a SQL call to Db2 and then return execution to the next statement. The `%%sql` command will execute everything in the cell as if it were a SQL command. This is a convenient way of have several SQL commands be executed in a cell rather than breaking them up into individual %sql calls."
   ]
  },
  {
   "cell_type": "markdown",
   "metadata": {},
   "source": [
    "## Summary\n",
    "In summary, you've learned some of the fundamentals of programming in Python. There is still a lot to learn about the language, but this gives you quick introduction into some of things that you can do with it. A lot of useful libraries have been built on top of Jupyter and Python including pandas (an extensive library of plotting and data manipulation functions) as well as database drivers (`ibm-db`) for interacting with Db2 directly from Python. The `%sql` magic command for Db2 is an example of a Jupyter notebook magic command that is used to make it easy to work directly with Db2 without knowing the underlying connection technology."
   ]
  },
  {
   "cell_type": "markdown",
   "metadata": {},
   "source": [
    "#### Credits: IBM 2019, George Baklarz [baklarz@ca.ibm.com]"
   ]
  }
 ],
 "metadata": {
  "kernelspec": {
   "display_name": "Python 3",
   "language": "python",
   "name": "python3"
  },
  "language_info": {
   "codemirror_mode": {
    "name": "ipython",
    "version": 3
   },
   "file_extension": ".py",
   "mimetype": "text/x-python",
   "name": "python",
   "nbconvert_exporter": "python",
   "pygments_lexer": "ipython3",
   "version": "3.7.3"
  }
 },
 "nbformat": 4,
 "nbformat_minor": 2
}
