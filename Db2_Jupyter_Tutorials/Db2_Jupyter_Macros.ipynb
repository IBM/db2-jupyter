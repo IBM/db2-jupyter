{
 "cells": [
  {
   "cell_type": "markdown",
   "metadata": {},
   "source": [
    "# Db2 Macros\n",
    "Update: 2019-10-03\n",
    "\n",
    "The `%sql` command also allows the use of macros. Macros are used to substitute text into SQL commands that you execute. Macros substitution is done before any SQL is executed. This allows you to create macros that include commonly used SQL commands rather than having to type them in. Before using any macros, we must make sure we have loaded the Db2 extensions."
   ]
  },
  {
   "cell_type": "code",
   "execution_count": null,
   "metadata": {},
   "outputs": [],
   "source": [
    "%run ../db2.ipynb\n",
    "%run ../connection.ipynb"
   ]
  },
  {
   "cell_type": "markdown",
   "metadata": {},
   "source": [
    "### Macro Basics\n",
    "A Macro command contains logic and SQL text that you want to have substituted into your script. The macro name is the first keyword after the `%sql` command (ignoring any flags). For instance, the following `%sql` command would consider `LIST` as the macro name:\n",
    "```\n",
    "%sql LIST TABLES FOR SCHEMA DB2INST1\n",
    "```\n",
    "The `%sql` processor first checks to see if this first keyword has been defined as a macro. If not, it will process it as a regular SQL statement. \n",
    "\n",
    "To define a macro, the `%%sql define <name>` command is used. The body of the macro is found in the cell below the definition of the macro. This simple macro called `EMPTABLE` will substitute a `SELECT` statement into a SQL block."
   ]
  },
  {
   "cell_type": "code",
   "execution_count": null,
   "metadata": {},
   "outputs": [],
   "source": [
    "%%sql define emptable\n",
    "select * from employee "
   ]
  },
  {
   "cell_type": "markdown",
   "metadata": {},
   "source": [
    "The name of the macro follows the `%%sql define` command and is **not** case sensitive. To use the macro, we can place it anywhere in a `%sql` block. This first example uses the macro by itself."
   ]
  },
  {
   "cell_type": "code",
   "execution_count": null,
   "metadata": {},
   "outputs": [],
   "source": [
    "%%sql\n",
    "emptable"
   ]
  },
  {
   "cell_type": "markdown",
   "metadata": {},
   "source": [
    "The actual SQL that is generated is not shown by default. If you do want to see the SQL that gets generated, you can use the `-e` (echo) option to display the final SQL statement. The following example will display the generated SQL. Note that the echo setting is only used to display results for the current cell that is executing."
   ]
  },
  {
   "cell_type": "code",
   "execution_count": null,
   "metadata": {},
   "outputs": [],
   "source": [
    "%%sql -e\n",
    "emptable"
   ]
  },
  {
   "cell_type": "markdown",
   "metadata": {},
   "source": [
    "You can use the `emptable` macro anywhere in a SQL block but care must be taken to terminate the macro with a semi-colon to delimit it from other statements in the block. SQL requires that statements be separated with semi-colons and a macro is treated as a SQL statement. Any text following the name of the macro up to a semi-colon (or the end of the block) will be treated as belonging to the macro. \n",
    "\n",
    "In this example we add some logic after the `emptable` macro."
   ]
  },
  {
   "cell_type": "code",
   "execution_count": null,
   "metadata": {},
   "outputs": [],
   "source": [
    "%%sql -e\n",
    "EMPTABLE lastname\n",
    "where empno = '000010';"
   ]
  },
  {
   "cell_type": "markdown",
   "metadata": {},
   "source": [
    "Note that the logic after `SELECT` statement was completely ignored. All of the text following the macro, **up to a semi-colon or end of the block**, is considered part of the macro. There was no code in the macro body that indicated what to do with all of the tokens.\n",
    "\n",
    "The text that follows the name of the macro is tokenized (split by spaces). In order to use any tokens that follow the macro name, you can refer to them in your macro body using the special sequence `{#}` where the number sign represents the nth token in the string. The tokens that are placed after the name of the macro can be any number, character string, or quoted string that is separated by blanks. For instance, the following string has 5 tokens:\n",
    "```\n",
    "LIST 1234 \"Here's a string\" AbCD-12 'String'\n",
    "```\n",
    "The tokens are `LIST`, `1234`, `\"Here's a string\"`, `AbCD-12`, and `'String'`. Note that quotes will ensure that blanks inside the string will not split the string into multiple tokens. Tokens are numbered from 0 to n-1 where token number 0 (zero) is the name of the macro and 1 to n-1 are the tokens following the macro name. In the example above, token 0 is \"LIST\" while 1 is 1234 and so on.\n",
    "\n",
    "Note that the parsing is relatively simple. If you have a string similar to the following, it will not observe SQL parsing rules like the use of parenthesis and brackets.\n",
    "```\n",
    "LIST (\"this is\",\"parameter\") FROM EMPLOYEE\n",
    "```\n",
    "The parser will generate the following tokens.\n",
    "```\n",
    "'LIST', '(\"this is\",\"parameter\")', 'FROM', 'EMPLOYEE'\n",
    "```\n",
    "From a macro perspective this means that any tokens that you want to pass to the routine needs to be kept relatively simple and separated with blanks.\n",
    "\n",
    "Here is a simple macro which will use the first token as the name of the column we want returned from the EMPLOYEE table. Note that token 0 is the name of the macro and the remainder of the parameters are numbered from 1 to the total number of values."
   ]
  },
  {
   "cell_type": "code",
   "execution_count": null,
   "metadata": {},
   "outputs": [],
   "source": [
    "%%sql define emptable\n",
    "SELECT {1} FROM EMPLOYEE"
   ]
  },
  {
   "cell_type": "markdown",
   "metadata": {},
   "source": [
    "This example illustrates two concepts. The `DEFINE` command will replace any existing macro with the same name. Since we already have an `EMPTABLE` macro, the macro body will be replaced with this code. In addition, macros only exist within your notebook. If you create another Jupyter notebook, it will not contain any macros that you may have created. If there are macros that you want to share across notebooks, you should create a separate notebook and place all of the macro definitions in there. Then you can include these macros by executing the `%run` command using the name of the notebook that contains the macros.\n",
    "\n",
    "The following SQL shows the use of the macro with parameters."
   ]
  },
  {
   "cell_type": "code",
   "execution_count": null,
   "metadata": {},
   "outputs": [],
   "source": [
    "%%sql\n",
    "emptable lastname"
   ]
  },
  {
   "cell_type": "markdown",
   "metadata": {},
   "source": [
    "Back to the example with the logic following the macro name. How can any tokens after a macro be referred to in the body of the macro? As previously shown, to refer to an individual token you would use the `{#}` syntax. If you don't know how many tokens there are, you can refer to everything **including** the current token with the syntax `{*#}`. This will generate a concatenated string of all tokens starting with token number `#`, each separated with a blank space.\n",
    "\n",
    "The following macro definition will now place all of the text after the macro name in the generated SQL."
   ]
  },
  {
   "cell_type": "code",
   "execution_count": null,
   "metadata": {},
   "outputs": [],
   "source": [
    "%%sql define emptable\n",
    "SELECT * FROM EMPLOYEE {*1}"
   ]
  },
  {
   "cell_type": "markdown",
   "metadata": {},
   "source": [
    "Now our previous example will work properly."
   ]
  },
  {
   "cell_type": "code",
   "execution_count": null,
   "metadata": {},
   "outputs": [],
   "source": [
    "%%sql -e\n",
    "emptable where empno = '000010'"
   ]
  },
  {
   "cell_type": "markdown",
   "metadata": {},
   "source": [
    "Since a SQL statement is delimited by a semi-colon, or by the end of the block, the logic can be placed on a separate line."
   ]
  },
  {
   "cell_type": "code",
   "execution_count": null,
   "metadata": {},
   "outputs": [],
   "source": [
    "%%sql -e\n",
    "emptable\n",
    "where empno = '000010'"
   ]
  },
  {
   "cell_type": "markdown",
   "metadata": {},
   "source": [
    "The remainder of this notebook will explore the advanced features of macros."
   ]
  },
  {
   "cell_type": "markdown",
   "metadata": {},
   "source": [
    "## Macro Tokens\n",
    "Macros can have any number of tokens associated with them. The tokens are numbered from 1 to n, left to right as they are found in the statement. Tokens are delimited by blanks and quotes strings will have blanks ignored. The following macro has 5 tokens:\n",
    "```\n",
    "emptable lastname firstnme salary bonus '000010'\n",
    "```\n",
    "Tokens are separated by spaces, and can contain strings as shown using single or double quotes. When the tokens are used within a macro, the quotes **are included as part of the string**. "
   ]
  },
  {
   "cell_type": "code",
   "execution_count": null,
   "metadata": {},
   "outputs": [],
   "source": [
    "%%sql define emptable\n",
    "SELECT {1},{2},{3},{4} \n",
    "FROM EMPLOYEE\n",
    "WHERE EMPNO = {5}"
   ]
  },
  {
   "cell_type": "markdown",
   "metadata": {},
   "source": [
    "Note that the `EMPNO` field is a character field in the `EMPLOYEE` table so you need to decide whether or not the user supplies the value in quotes (`'000010'`) or you add them to the token. This first example assumes that you supply the quotes as part of the macro."
   ]
  },
  {
   "cell_type": "code",
   "execution_count": null,
   "metadata": {},
   "outputs": [],
   "source": [
    "%sql -e emptable lastname firstnme salary bonus '000010'"
   ]
  },
  {
   "cell_type": "markdown",
   "metadata": {},
   "source": [
    "We can modify the macro to assume that the parameters will not include the quotes in the string."
   ]
  },
  {
   "cell_type": "code",
   "execution_count": null,
   "metadata": {},
   "outputs": [],
   "source": [
    "%%sql define emptable\n",
    "SELECT {1},{2},{3},{4} \n",
    "FROM EMPLOYEE\n",
    "WHERE EMPNO = '{5}'"
   ]
  },
  {
   "cell_type": "markdown",
   "metadata": {},
   "source": [
    "We just have to make sure that no quotes are part of the parameter now."
   ]
  },
  {
   "cell_type": "code",
   "execution_count": null,
   "metadata": {},
   "outputs": [],
   "source": [
    "%sql -e emptable lastname firstnme salary bonus 000010"
   ]
  },
  {
   "cell_type": "markdown",
   "metadata": {},
   "source": [
    "If you just want all tokens to be included in the generated SQL, you can use the syntax `{*#}`. This will generate a concatenated string of all tokens starting with token number `#`, each separated with a blank space. The next macro will just select everything from the `EMPLOYEE` table by default and then append all of the remaining tokens after the select statement."
   ]
  },
  {
   "cell_type": "code",
   "execution_count": null,
   "metadata": {},
   "outputs": [],
   "source": [
    "%%sql define emptable\n",
    "SELECT * FROM EMPLOYEE\n",
    "{*1}"
   ]
  },
  {
   "cell_type": "markdown",
   "metadata": {},
   "source": [
    "Now the `EMPTABLE` macro will select all of the columns from the table and add the additional logic that was supplied after the macro name."
   ]
  },
  {
   "cell_type": "code",
   "execution_count": null,
   "metadata": {},
   "outputs": [],
   "source": [
    "%%sql\n",
    "emptable\n",
    "where empno = '000010'"
   ]
  },
  {
   "cell_type": "markdown",
   "metadata": {},
   "source": [
    "## Macro Coding Overview\n",
    "Macros can contain any type of text, including SQL commands. In addition to the text, macros can also contain the following keywords:\n",
    "\n",
    "* \\# - Comment (first character in the line)\n",
    "* echo - Display a message\n",
    "* return - Exit the macro but return any SQL that was generated\n",
    "* exit - Exit the macro immediately with no generated code\n",
    "* if/else/endif - Conditional logic\n",
    "* var - Set a variable\n",
    "\n",
    "The only restriction with macros is that macros cannot be nested. This means I can't call a macro from within a macro. The sections below explain the use of each of these statement types."
   ]
  },
  {
   "cell_type": "markdown",
   "metadata": {},
   "source": [
    "### Echo Option\n",
    "The `-e` option will result in the final SQL being display after the macro substitution is done. \n",
    "```\n",
    "%%sql -e\n",
    "%showemp(...)\n",
    "```"
   ]
  },
  {
   "cell_type": "code",
   "execution_count": null,
   "metadata": {},
   "outputs": [],
   "source": [
    "%%sql define showdisplay\n",
    "SELECT * FROM EMPLOYEE FETCH FIRST ROW ONLY"
   ]
  },
  {
   "cell_type": "markdown",
   "metadata": {},
   "source": [
    "Using the `-e` flag will display the final SQL that is run."
   ]
  },
  {
   "cell_type": "code",
   "execution_count": null,
   "metadata": {},
   "outputs": [],
   "source": [
    "%sql -e showdisplay"
   ]
  },
  {
   "cell_type": "markdown",
   "metadata": {},
   "source": [
    "If we remove the `-e` option, the final SQL will not be shown."
   ]
  },
  {
   "cell_type": "code",
   "execution_count": null,
   "metadata": {},
   "outputs": [],
   "source": [
    "%sql showdisplay"
   ]
  },
  {
   "cell_type": "markdown",
   "metadata": {},
   "source": [
    "### Comment\n",
    "You can comment out lines or add documentation to your macros by placing a `#` symbol at the beginning of any line. The `#` symbol will only be recognized as a comment if there is nothing in front of it, otherwise it is considered part of the SQL you are generating.\n",
    "\n",
    "The following is an example of a macro definition with some comments."
   ]
  },
  {
   "cell_type": "code",
   "execution_count": null,
   "metadata": {},
   "outputs": [],
   "source": [
    "%%sql define hello\n",
    "#\n",
    "# This macro will display a Hello World Message\n",
    "#\n",
    "echo Hello World"
   ]
  },
  {
   "cell_type": "code",
   "execution_count": null,
   "metadata": {},
   "outputs": [],
   "source": [
    "%sql hello"
   ]
  },
  {
   "cell_type": "markdown",
   "metadata": {},
   "source": [
    "### Exit Command and Return Command\n",
    "The `exit` command will terminate the processing within a macro and not run the generated SQL. You would use this when a condition is not met within the macro (like a missing parameter). The `exit` command can contain a message that will be displayed before terminating the macro. \n",
    "\n",
    "The `return` command will also stop the processing of the macro but will return any generated SQL back for execution."
   ]
  },
  {
   "cell_type": "code",
   "execution_count": null,
   "metadata": {},
   "outputs": [],
   "source": [
    "%%sql define showexit\n",
    "echo This message gets shown\n",
    "SELECT * FROM EMPLOYEE FETCH FIRST ROW ONLY\n",
    "exit I just exited the macro\n",
    "echo This message does not get shown"
   ]
  },
  {
   "cell_type": "markdown",
   "metadata": {},
   "source": [
    "The macro that was defined will not show the second statement, nor will it execute the SQL that was defined in the macro body. Note that the echo command displays messages in green while the exit command displays it in red."
   ]
  },
  {
   "cell_type": "code",
   "execution_count": null,
   "metadata": {},
   "outputs": [],
   "source": [
    "%sql showexit"
   ]
  },
  {
   "cell_type": "markdown",
   "metadata": {},
   "source": [
    "If we change the `exit` to a `return`, the SQL will be executed."
   ]
  },
  {
   "cell_type": "code",
   "execution_count": null,
   "metadata": {},
   "outputs": [],
   "source": [
    "%%sql define showexit\n",
    "echo This message gets shown\n",
    "SELECT * FROM EMPLOYEE FETCH FIRST ROW ONLY\n",
    "return\n",
    "echo This message does not get shown"
   ]
  },
  {
   "cell_type": "code",
   "execution_count": null,
   "metadata": {},
   "outputs": [],
   "source": [
    "%sql showexit"
   ]
  },
  {
   "cell_type": "markdown",
   "metadata": {},
   "source": [
    "### Echo Command\n",
    "As you already noticed in the previous example, the `echo` command will display information on the screen. Any text following the command will have variables substituted and then displayed with a green box surrounding it. The following code illustrates the use of the command."
   ]
  },
  {
   "cell_type": "code",
   "execution_count": null,
   "metadata": {},
   "outputs": [],
   "source": [
    "%%sql define showecho\n",
    "echo Here is a message\n",
    "echo Two lines are shown"
   ]
  },
  {
   "cell_type": "markdown",
   "metadata": {},
   "source": [
    "The echo command will show each line as a separate box."
   ]
  },
  {
   "cell_type": "code",
   "execution_count": null,
   "metadata": {},
   "outputs": [],
   "source": [
    "%sql showecho"
   ]
  },
  {
   "cell_type": "markdown",
   "metadata": {},
   "source": [
    "If you want to have a message go across multiple lines use the `<br>` to start a new line."
   ]
  },
  {
   "cell_type": "code",
   "execution_count": null,
   "metadata": {},
   "outputs": [],
   "source": [
    "%%sql define showecho\n",
    "echo Here is a paragraph. <br>And a final paragraph."
   ]
  },
  {
   "cell_type": "code",
   "execution_count": null,
   "metadata": {},
   "outputs": [],
   "source": [
    "%sql showecho"
   ]
  },
  {
   "cell_type": "markdown",
   "metadata": {},
   "source": [
    "### Var Command\n",
    "The var (variable) command sets a macro variable to a value. A variable is referred to in the macro script using curly braces `{name}`. By default the arguments that are used in the macro call are assigned the variable names `{0}` to `{n-1}`. The variable zero contains the name of the macro, while each token after the macro name is assigned to one of these numbered variables. There is also a system variable `{argc}` which contains a count of the number of tokens found (including the name of the macro). \n",
    "\n",
    "To set a variable within a macro you would use the `var` command:\n",
    "```\n",
    "var name value\n",
    "```\n",
    "The variable name can be any name as long as it only includes letters, numbers, underscore `_` and `$`. Variable names are case sensitive so `{a}` and `{A}` are different. When the macro finishes executing, the contents of the variables will be lost. "
   ]
  },
  {
   "cell_type": "markdown",
   "metadata": {},
   "source": [
    "A variable can be converted to uppercase by placing the `^` beside the variable name or number. "
   ]
  },
  {
   "cell_type": "code",
   "execution_count": null,
   "metadata": {},
   "outputs": [],
   "source": [
    "%%sql define runit\n",
    "echo The first parameter is {^1}"
   ]
  },
  {
   "cell_type": "code",
   "execution_count": null,
   "metadata": {},
   "outputs": [],
   "source": [
    "%sql runit Hello There"
   ]
  },
  {
   "cell_type": "markdown",
   "metadata": {},
   "source": [
    "The string following the variable name can include quotes and these will not be removed. "
   ]
  },
  {
   "cell_type": "code",
   "execution_count": null,
   "metadata": {},
   "outputs": [],
   "source": [
    "%%sql define runit\n",
    "var hello This is a long string without quotes\n",
    "var hello2 'This is a long string with quotes'\n",
    "echo {hello} <br>{hello2}"
   ]
  },
  {
   "cell_type": "code",
   "execution_count": null,
   "metadata": {},
   "outputs": [],
   "source": [
    "%sql runit"
   ]
  },
  {
   "cell_type": "markdown",
   "metadata": {},
   "source": [
    "When processing a macro, each one of the tokens is automatically assigned to a variable (1, 2, ..., n) and variable zero `{0}` is assigned the name of the macro. The following macro will be used to show how all of the tokens are passed to the routine."
   ]
  },
  {
   "cell_type": "code",
   "execution_count": null,
   "metadata": {},
   "outputs": [],
   "source": [
    "%%sql define showvar\n",
    "echo Token(1)={1} <br>Token(2)={2} <br>All={*0}<br>After Token 0={*1}<br>Count={argc}"
   ]
  },
  {
   "cell_type": "markdown",
   "metadata": {},
   "source": [
    "Calling the macro will show how the variable names get assigned and used."
   ]
  },
  {
   "cell_type": "code",
   "execution_count": null,
   "metadata": {},
   "outputs": [],
   "source": [
    "%sql showvar hello there everyone"
   ]
  },
  {
   "cell_type": "markdown",
   "metadata": {},
   "source": [
    "If the token does not exist, a null keyword will be shown. If you use `{*#}` then if no values are found an empty string is returned."
   ]
  },
  {
   "cell_type": "code",
   "execution_count": null,
   "metadata": {},
   "outputs": [],
   "source": [
    "%sql showvar hello"
   ]
  },
  {
   "cell_type": "markdown",
   "metadata": {},
   "source": [
    "Finally, any string that is supplied to the macro will include the quotes in the variable. The Hello There string will include the quotes when displayed:"
   ]
  },
  {
   "cell_type": "code",
   "execution_count": null,
   "metadata": {},
   "outputs": [],
   "source": [
    "%sql showvar \"Hello There\" Everyone"
   ]
  },
  {
   "cell_type": "markdown",
   "metadata": {},
   "source": [
    "The count of the total number of parameters passed is found in the `{argc}` variable. You can use this variable to decide whether or not the user has supplied the proper number of tokens or change which code should be executed."
   ]
  },
  {
   "cell_type": "code",
   "execution_count": null,
   "metadata": {},
   "outputs": [],
   "source": [
    "%%sql define showvar\n",
    "echo The number of unnamed parameters is {argc}. "
   ]
  },
  {
   "cell_type": "markdown",
   "metadata": {},
   "source": [
    "The count of tokens does not include the name of the macro. "
   ]
  },
  {
   "cell_type": "code",
   "execution_count": null,
   "metadata": {},
   "outputs": [],
   "source": [
    "%sql showvar Hello There"
   ]
  },
  {
   "cell_type": "markdown",
   "metadata": {},
   "source": [
    "### If/Else/Endif Command\n",
    "If you need to add conditional logic to your macro then you should use the `if/else/endif` commands. The format of the `if` statement is:\n",
    "```\n",
    "if variable condition value\n",
    "   statements\n",
    "else\n",
    "   statements\n",
    "endif\n",
    "```\n",
    "The else portion is optional, but the block must be closed with the `endif` command. If statements can be nested up to 9 levels deep:\n",
    "```\n",
    "if condition 1\n",
    "   if condition 2\n",
    "      statements\n",
    "   else\n",
    "      if condition 3\n",
    "         statements\n",
    "      end if \n",
    "   endif\n",
    "endif\n",
    "```\n",
    "If the condition in the if clause is true, then anything following the if statement will be executed and included in the final SQL statement. For instance, the following code will create a SQL statement based on the value of parameter 1:\n",
    "```\n",
    "if {1} = \"\"\n",
    "   SELECT * FROM EMPLOYEE\n",
    "else\n",
    "   SELECT {1} FROM EMPLOYEE\n",
    "endif\n",
    "```"
   ]
  },
  {
   "cell_type": "markdown",
   "metadata": {},
   "source": [
    "#### Conditions\n",
    "The `if` statement requires a condition to determine whether or not the block should be executed. The condition uses the following format:\n",
    "```\n",
    "if {variable} condition {variable} | constant | null\n",
    "```\n",
    "`Variable` can be a number from 1 to n which represents the tokens that are parsed during the macro call. So `{1}` refers to the first argument. The variable can also be the name of a named parameter.\n",
    "\n",
    "The condition is one of the following comparison operators:\n",
    "- `=`, `==`: Equal to\n",
    "- `<`: Less than\n",
    "- `>`: Greater than\n",
    "- `<=`,`=<`: Less than or equal to\n",
    "- `>=`, `=>`: Greater than or equal to\n",
    "- `!=`, `<>` : Not equal to\n",
    "\n",
    "The variable or constant will have quotes stripped away before doing the comparison. If you are testing for the existence of a variable, or to check if a token is empty, use the `null` keyword."
   ]
  },
  {
   "cell_type": "code",
   "execution_count": null,
   "metadata": {},
   "outputs": [],
   "source": [
    "%%sql define showif\n",
    "if {argc} = 0\n",
    "   exit No parameters supplied\n",
    "else\n",
    "   if {argc} = \"1\"\n",
    "       echo One parameter was supplied\n",
    "   else\n",
    "       echo More than one parameter was supplied: {argc}\n",
    "   endif\n",
    "endif"
   ]
  },
  {
   "cell_type": "markdown",
   "metadata": {},
   "source": [
    "Running the previous macro with no parameters will check to see if the option keyword was used."
   ]
  },
  {
   "cell_type": "code",
   "execution_count": null,
   "metadata": {},
   "outputs": [],
   "source": [
    "%sql showif"
   ]
  },
  {
   "cell_type": "markdown",
   "metadata": {},
   "source": [
    "Now include one parameter."
   ]
  },
  {
   "cell_type": "code",
   "execution_count": null,
   "metadata": {},
   "outputs": [],
   "source": [
    "%sql showif \"Here is a token\""
   ]
  },
  {
   "cell_type": "markdown",
   "metadata": {},
   "source": [
    "Finally, issue the macro with multiple token."
   ]
  },
  {
   "cell_type": "code",
   "execution_count": null,
   "metadata": {},
   "outputs": [],
   "source": [
    "%sql showif Here are a number of parameters"
   ]
  },
  {
   "cell_type": "markdown",
   "metadata": {},
   "source": [
    "One additional option is available for variable substitution. If the first character of the variable name or parameter number is the `^` symbol, it will uppercase the entire string."
   ]
  },
  {
   "cell_type": "code",
   "execution_count": null,
   "metadata": {},
   "outputs": [],
   "source": [
    "%%sql define showif\n",
    "if {1} <> null\n",
    "   echo The first token is: {^1}\n",
    "else\n",
    "   echo You didn't supply a token\n",
    "endif"
   ]
  },
  {
   "cell_type": "code",
   "execution_count": null,
   "metadata": {},
   "outputs": [],
   "source": [
    "%sql showif \"Yes there is an option\""
   ]
  },
  {
   "cell_type": "code",
   "execution_count": null,
   "metadata": {},
   "outputs": [],
   "source": [
    "%sql showif"
   ]
  },
  {
   "cell_type": "markdown",
   "metadata": {},
   "source": [
    "#### Credits: IBM 2019, George Baklarz [baklarz@ca.ibm.com]"
   ]
  }
 ],
 "metadata": {
  "kernelspec": {
   "display_name": "Python 3",
   "language": "python",
   "name": "python3"
  },
  "language_info": {
   "codemirror_mode": {
    "name": "ipython",
    "version": 3
   },
   "file_extension": ".py",
   "mimetype": "text/x-python",
   "name": "python",
   "nbconvert_exporter": "python",
   "pygments_lexer": "ipython3",
   "version": "3.7.3"
  }
 },
 "nbformat": 4,
 "nbformat_minor": 2
}
