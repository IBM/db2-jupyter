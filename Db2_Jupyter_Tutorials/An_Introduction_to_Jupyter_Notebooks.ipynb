{
 "cells": [
  {
   "cell_type": "markdown",
   "metadata": {},
   "source": [
    "# An Introduction to Jupyter Notebooks\n",
    "You are now officially using a Jupyter notebook! This tutorial will show you some of the basics of using a notebook, including how to create the cells, run code, and save files for future use.\n",
    "\n",
    "Jupyter notebooks are based on IPython which started in development in the 2006/7 timeframe. The existing Python interpreter was limited in functionality and work was started to create a richer development environment. By 2011 the development efforts resulted in IPython being released (http://blog.fperez.org/2012/01/ipython-notebook-historical.html).\n",
    "\n",
    "Jupyter notebooks were a spinoff (2014) from the original IPython project. IPython continues to be the kernel that Jupyter runs on, but the notebooks are now a project on their own.\n",
    "\n",
    "Jupyter notebooks run in a browser and communicate to the backend IPython server which renders this content. These notebooks are used extensively by data scientists and anyone wanting to document, plot, and execute their code in an interactive environment. The beauty of Jupyter notebooks is that you document what you do as you go along."
   ]
  },
  {
   "cell_type": "markdown",
   "metadata": {},
   "source": [
    "## A Quick Tour\n",
    "\n",
    "This brief introduction will explain the various parts of a Jupyter notebook and how you interact with it. The remainder of the labs in this series will be using Jupyter notebooks so you will have to become really familiar with them!"
   ]
  },
  {
   "cell_type": "markdown",
   "metadata": {},
   "source": [
    "## File Menu\n",
    "You may have started this notebook by selecting it from the table of contents, but if you use standard Jupyter notebooks, then you would be presented with a similar file menu.\n",
    "![File menu]( ./images/Jupyter_Files.jpg \"Jupyter File Menu\")"
   ]
  },
  {
   "cell_type": "markdown",
   "metadata": {},
   "source": [
    "To start using a notebook, all you need to do is click on its name. So for this notebook, you would have selected _An Introduction to Jupyter Notebooks_. If you want to manage the notebooks (i.e. delete them or place them into a folder, you can select them on the left hand side, and then execute the action from the pull down list (the arrow just below the Running tab).\n",
    "\n",
    "The Running tab shows you which notebooks are currently active or running. Each notebook is independent from the others. This means that there is no sharing of data or variables between each notebook because they are running on different threads. When you shut down a notebook, you are stopping its process or thread in the system.\n",
    "\n",
    "If you need to upload a new notebook (or replace an existing one), you can use the Upload button on the far right hand side. This will give you a file menu on your local system where you can select a notebook to upload. Jupyter notebooks have the extension .ipynb (IPython Notebook) which contains all of the notebook information in a JSON format. \n",
    "\n",
    "If you want to create a brand new notebook, you would select the New button that is beside the Upload button. The New button may ask what type of Notebook that you want. It could by Python 2 or 3, or even a different language based notebook (Scala for instance). This image only has Python 3 installed so that will be your only choice when creating a notebook. "
   ]
  },
  {
   "cell_type": "markdown",
   "metadata": {},
   "source": [
    "## The Tool Bar\n",
    "At the top of this page you should see the following toolbar.\n",
    "![Jupyter Tool Bar]( ./images/Jupyter_Toolbar.jpg \"Jupyter Toolbar\")"
   ]
  },
  {
   "cell_type": "markdown",
   "metadata": {},
   "source": [
    "The tool bar is found at the top of your Jupyter Notebook. There are three sections that you need to be familiar with.\n",
    "* Title (An Introduction...)\n",
    "* File/Edit/View... Menu\n",
    "* Save/Add Cell/... Icons\n"
   ]
  },
  {
   "cell_type": "markdown",
   "metadata": {},
   "source": [
    "### Title\n",
    "The top of the notebook has the title of the contents. The name of the notebook can be changed by clicking on the title. This will open up a dialog which gives you the option of changing the name of the notebook.\n",
    "![Change Title]( ./images/Change_Title.jpg \"Change the Title\")\n",
    "Note that this will create a new copy of the notebook with this name. One important behavior of Jupyter notebooks is that notebooks \"autosave\" the contents every few minutes (you know how much we hate losing work in the event of a crash). Changing the name of the title will make sure any changes get saved under the new name. However, changes will probably have been saved to the old name up to this point because of autosave. For that reason, it is better to make a new copy of the notebook before starting to edit it."
   ]
  },
  {
   "cell_type": "markdown",
   "metadata": {},
   "source": [
    "### File/Edit/View Menu\n",
    "The menu bar contains options to `File`, `Edit`, `View` and perform other administrative actions within the Jupyter notebook. The `File` option gives you options to save the file as a checkpoint (a version that you can revert to), make a copy of the notebook, rename it, or download it. Of particular interest is the `Copy` command. This will make a copy of the existing notebook and start that up in a separate tab in the browser. You can then view and edit this copy rather than changing the original. \n",
    "\n",
    "The other option is to checkpoint your progress at regular intervals and then use the `Revert to Checkpoint` to restore the notebook to a previous version. The `Download` option is also very important to be familiar with. The notebook lives within your Jupyter environment so you may not know what the full file path is to access it. Use this option to download the file to your local operating system for safe keeping.\n",
    "<p>\n",
    "![File Menu]( ./images/Lab 2 - Menus.jpg \"File Menu\")\n",
    "\n",
    "The seven additional menu items are:\n",
    "* **Edit** - These menu items are used for editing the cells. The icons below the menus are equivalent to most of these menus.\n",
    "* **View** - View will turn on Header information, Line numbers, Tool bars and additional Cell information\n",
    "* **Insert** - Insert new cells above or below the current cell\n",
    "* **Cell** - This menu item lets you run code in a cell, run all cells, remove output from the cells or change the cell type\n",
    "* **Kernel** - The kernel that is running the current notebook can be restarted or stopped if there appears to be a problem with it\n",
    "* **Widgets** - Widgets are add-ons for Jupyter notebooks. \n",
    "* **Help** - If you need help, check out this menu.\n",
    "\n",
    "Some important menu items that you may want to use:\n",
    "- **View/Toggle Line Numbers** should be turned on if you have a substantial amount of code. This makes it easier to find errors when Python generates an error message with a line number. Note that this only applies to code cells.\n",
    "- **Insert/Above** is useful if you don't want to move your cursor to the cell above before hitting the [+] icon.\n",
    "- **Cell/All Output/Clear** will get rid of any output that your notebook has produced so that you can start over again.\n",
    "- **Cell/Run All** is useful if you are lazy or just want to test your entire notebook at once!\n",
    "- **Kernel/Restart** & Clear Output should be used if the notebook appears to hang and you want to start from scratch again."
   ]
  },
  {
   "cell_type": "markdown",
   "metadata": {},
   "source": [
    "### Cell Contents\n",
    "\n",
    "A Jupyter notebook contains multiple \"cells\" which can contain one of three different types of objects:\n",
    "- **Code** - A cell that contains code that will run (usually Python)\n",
    "- **Markdown** - A cell that contains text and formatting using a language called Markdown\n",
    "- **Raw NBConvert** - A specialized cell that is rendered (displayed) using an extension, like mathematical formulas\n",
    "\n",
    "We are going to keep it simple and only look at the two most common types of cells: code and markdown. The first example below is a code cell."
   ]
  },
  {
   "cell_type": "code",
   "execution_count": null,
   "metadata": {},
   "outputs": [],
   "source": [
    "print('Hello World')"
   ]
  },
  {
   "cell_type": "markdown",
   "metadata": {},
   "source": [
    "You can tell that this is a code cell because of the **\"`In [ ]:`\"** beside the cell and probably because it has some code in the cell! To \"execute\" the contents of the cell, you must click on the cell (place focus on the cell) and the either hit the run button icon **`[>|]`** or Shift-Return (or Enter) on your keyboard. You can tell when the focus is on the code cell because it will be highlighted with a thin green box. Cells that contain text will be highlighted with a blue box. \n",
    "\n",
    "**Action:** Try executing the code in the cell above.\n",
    "\n",
    "If you were successful it should have printed \"Hello World\" below the cell. Any output, including errors, from a cell is placed immediately below the cell for you to view. If the code is running for an extended period of time, the notebook will display **`[*]`** until the statement completes.\n",
    "\n",
    "The contents of the code cell can contain anything that the Jupyter/IPython interpreter can execute. Usually this is Python code, magic extensions, or even Scala, Java, etc... as long as the proper extensions have been added to the notebook."
   ]
  },
  {
   "cell_type": "markdown",
   "metadata": {},
   "source": [
    "A markdown cell contains text, similar to what you have been reading in this notebook. Markdown is a simplified formatting language that uses special character sequences to signify formatting. The list below contains some of the standard formatting directives.\n",
    "\n",
    "<pre>\n",
    "# - Heading Level 1\n",
    "## - Heading Level 2\n",
    "### - Heading Level 3\n",
    "#### - Heading Level 4\n",
    "- or * at the beginning of a line - list\n",
    "``` - Begin code block and end code block (these are backward quotes)\n",
    "</pre>\n",
    "\n",
    "To see the contents of a markdown cell you must double-click it. This will place it into edit mode where you can change the contents. Try it on this cell to see what the contents are."
   ]
  },
  {
   "cell_type": "markdown",
   "metadata": {},
   "source": [
    "## Markdown Overview\n",
    "Markdown is a lightweight markup language with plain text formatting syntax. It uses a very simple format to describe the type of formatting required. For instance, the following markdown is used to create different heading levels.\n",
    "<pre>\n",
    "# - Heading Level 1\n",
    "## - Heading Level 2\n",
    "### - Heading Level 3\n",
    "#### - Heading Level 4\n",
    "</pre>"
   ]
  },
  {
   "cell_type": "markdown",
   "metadata": {},
   "source": [
    "# Level 1 - Title\n",
    "## Level 2 - TItle\n",
    "### Level 3 - Title\n",
    "#### Level 4 - Title"
   ]
  },
  {
   "cell_type": "markdown",
   "metadata": {},
   "source": [
    "A blank line is used to separate paragraphs and it must also be used to end a list. To see the contents of a markdown cell you must double-click it. This will place it into edit mode where you can change the contents. "
   ]
  },
  {
   "cell_type": "markdown",
   "metadata": {},
   "source": [
    "There are a few string modifiers that can be used around words to change their appearance. \n",
    "* `*` will *italicise* a word\n",
    "* `**` will **bold** a word\n",
    "* `` ` `` will `monospace` a word (for syntax)\n",
    "\n",
    "You can also combine these characters to create **`code`** that is emphasized."
   ]
  },
  {
   "cell_type": "markdown",
   "metadata": {},
   "source": [
    "Bulleted lists are created by using either asterix (*) or dashes (-) at the beginning of the line. The list will continue until it encounters a blank line. The next cell has two lists in it. "
   ]
  },
  {
   "cell_type": "markdown",
   "metadata": {},
   "source": [
    "- List item 1\n",
    "- And another below it.\n",
    "If you start a line below the list item, it will just be added to the end of the list item text. If you want to have a line underneath the list and at the same level of identation, then you need to leave one line blank and then create a new line with a tab or at least four spaces in front of the line.\n",
    "\n",
    "    This line should line up under the list item.\n",
    "    \n",
    "    \n",
    "- You must end the list with two blank lines\n",
    "\n",
    "\n",
    "* Here is another list \n",
    "  * And a list within a list - just indent the bullet\n",
    "* It uses asterix\n",
    "\n",
    "\n",
    "1. If you want a number list, just place numbers in front of the lines. \n",
    "1. The numbers don't actually get used by the formatter - it numbers the lines sequencially\n",
    "\n",
    "\n"
   ]
  },
  {
   "cell_type": "markdown",
   "metadata": {},
   "source": [
    "This cell has some sample code in it. Edit this cell to see how the code block is placed into the text. There is a keyword that follows the block to indicate it is Python code so that it highlights properly.\n",
    "```Python\n",
    "print(\"Hello World\")\n",
    "```"
   ]
  },
  {
   "cell_type": "markdown",
   "metadata": {},
   "source": [
    "Markdown also lets you create tables, horizontal lines, block quotes and highlight words in paragraph. For instance, placing one asterix on both sides of a word will cause it to be *italics* and using two asterix on both sides will **emphasize** it. If you need to have a monospaced word, use a single `backquote` on either side.\n",
    "\n",
    "If you decide you want to create a quote or some notes that need to be highlighted, use the > symbol at the beginning of the line and leave one space between it and the text you want indented. \n",
    "> Everything will be indented at the same level until the next blank line.\n",
    "\n",
    "\n",
    "Tables are tricker - You place a vertical bar between the values and use a set of dashes between vertical lines to separate the headers from the data.\n",
    "\n",
    "```\n",
    "| Column 1 | Column 2\n",
    "|----------|---------\n",
    "| 1        | 2\n",
    "```\n",
    "Becomes:\n",
    "\n",
    "\n",
    "| Column 1 | Column 2\n",
    "|----------|---------\n",
    "| 1        | 2\n",
    "\n",
    "If you want to change the alignment of the columns, place a : at the left and/or right side of the dashes per column to tell Markdown how to format it (Note: may not work on all platforms).\n",
    "\n",
    "```\n",
    "| Column 1 | Column 2\n",
    "|:---------|--------:\n",
    "| 1        | 2\n",
    "```\n",
    "Becomes: (Note: This doesn't always work!)\n",
    "\n",
    "\n",
    "| Column 1 | Column 2\n",
    "|:---------|--------:\n",
    "| 1        | 2\n",
    "\n",
    "\n",
    "So that is a quick introduction to Markdown. There are other shortcuts that you can read about in the Jupyter Notebook markdown document found at http://jupyter-notebook.readthedocs.io/en/stable/examples/Notebook/Working%20With%20Markdown%20Cells.html.\n",
    "\n",
    "Now that you are aware of some of the basics of cells and markdown syntax, the next step is understand how you edit cells using the icons that are found below the menus."
   ]
  },
  {
   "cell_type": "markdown",
   "metadata": {},
   "source": [
    "### Cell Icons"
   ]
  },
  {
   "cell_type": "markdown",
   "metadata": {},
   "source": [
    "The icons below the menu bar are used to edit the cells within the notebook. \n",
    "![Jupyter Tool Bar]( ./images/Jupyter_Toolbar.jpg \"Jupyter Toolbar\")"
   ]
  },
  {
   "cell_type": "markdown",
   "metadata": {},
   "source": [
    "The icons from left to right are:\n",
    "* **Save** - save the current notebook. Note: This is not a checkpoint save so you are saving a new copy.\n",
    "* **[+]** - Add a new cell below the current cell\n",
    "* **Cut** - Delete the current cell, but a copy is kept in the event you want to paste it somewhere else in the notebook\n",
    "* **Copy** - Copy the current cell\n",
    "* **Paste** - Paste a cell below the current cell\n",
    "* **Up** - Move the current cell up one\n",
    "* **Down** - Move the current cell down one\n",
    "* **[>|]** - Execute the current code in the cell, or render the markdown content\n",
    "* **Stop** - Stop any execution that is currently taking place\n",
    "* **Restart** - Restart the kernel (to clear out all previous variables, etc.)\n",
    "* **Cell Type** - Select the type of Cell: Code, Markdown, Raw, or Heading\n",
    "* **Command** - Show a list of commands\n",
    "\n",
    "When you create a new cell it will default to containing code, so if you want it to contain Markdown, you will need to select `Markdown` from the cell type list. The cut/copy/paste are similar to any other program with one exception. You can't use Ctrl-C and Ctrl-V to cut and paste cells. These shortcuts can be used for text, but not for an entire cell. Jupyter notebooks will issue a warning if you try to use these to manipulate cells. In addition, if you copy a cell in one notebook, it will not paste into a different notebook! You need to select the contents of the cell and then paste into the cell in the other notebook. "
   ]
  },
  {
   "cell_type": "markdown",
   "metadata": {},
   "source": [
    "## Summary\n",
    "In summary, you've learned how to start, create, update and edit Jupyter notebooks. Jupyter notebooks are used extensively by the data science community, but it is finding its way into many other areas as well. If you are interested in what other applications use Jupyter notebooks, take a look at the list maintained on this web site: https://github.com/jupyter/jupyter/wiki/A-gallery-of-interesting-Jupyter-Notebooks."
   ]
  },
  {
   "cell_type": "markdown",
   "metadata": {},
   "source": [
    "#### Credits: IBM 2019, George Baklarz [baklarz@ca.ibm.com]"
   ]
  }
 ],
 "metadata": {
  "kernelspec": {
   "display_name": "Python 3",
   "language": "python",
   "name": "python3"
  },
  "language_info": {
   "codemirror_mode": {
    "name": "ipython",
    "version": 3
   },
   "file_extension": ".py",
   "mimetype": "text/x-python",
   "name": "python",
   "nbconvert_exporter": "python",
   "pygments_lexer": "ipython3",
   "version": "3.7.3"
  }
 },
 "nbformat": 4,
 "nbformat_minor": 2
}
