{
 "cells": [
  {
   "cell_type": "markdown",
   "metadata": {},
   "source": [
    "<h1>CPD and Watson Studio Db2 Magic Examples</h1>"
   ]
  },
  {
   "cell_type": "markdown",
   "metadata": {},
   "source": [
    "<p><strong>Welcome!</strong> This notebook will provide examples of using Db2 Magic Commands in a Jypyter Notebook in CPD and Watson Studio.  Db2 magic commands are quite useful if you want to use a notebook for a sql editor.  However to execute the prerequisite db2ipynb noteboo, you need to do some things a bit differently than you do in your own Jupyter environment.  This notebook was created in a CPD 2.5 cluster and the examples connect to the DB2Warehouse database.</p>"
   ]
  },
  {
   "cell_type": "markdown",
   "metadata": {},
   "source": [
    "<h2 id=\"dataset\">About Db2 Magic Commands</h2>"
   ]
  },
  {
   "cell_type": "markdown",
   "metadata": {},
   "source": [
    "Db2 Magic commands make it easy to run SQL in cells in your Jupyter Notebook as is without any Python code.  This notebook shows how to enable this feature in Cloud Pak for Data.  Using these examples would probably allow you to use them in Watson Studio outside of CPD as well.  I only show some basic Magic Commands here.  For more information on Db2 Magic Commands and lots of example see https://github.com/IBM/db2-jupyter/"
   ]
  },
  {
   "cell_type": "markdown",
   "metadata": {},
   "source": [
    "<h2 id=\"pandas\">Get the db2 magic commands notebook from github: <code>db2.ipynb</code></h2>"
   ]
  },
  {
   "cell_type": "markdown",
   "metadata": {},
   "source": [
    "You must get and run the db2.iyndb notebook before using the magic commands.  You can't run the db2.ipynb notebook from the directory shown above.  Instead you need to reference the \"raw\" version as is done in the command below.  I got that raw URL by going into directory shown in the above \"About\" description, then clicking on the db2.ipynb link, and then clicking the \"Raw\" button near that top of the notebook itself.  Finally I copied the URL in the browser and pasted it in the wget command.  "
   ]
  },
  {
   "cell_type": "code",
   "execution_count": null,
   "metadata": {},
   "outputs": [],
   "source": [
    "!wget https://raw.githubusercontent.com/IBM/db2-jupyter/master/db2.ipynb"
   ]
  },
  {
   "cell_type": "markdown",
   "metadata": {},
   "source": [
    "### Run the db2 magic comands notebook"
   ]
  },
  {
   "cell_type": "code",
   "execution_count": null,
   "metadata": {},
   "outputs": [],
   "source": [
    "%run db2.ipynb"
   ]
  },
  {
   "cell_type": "markdown",
   "metadata": {},
   "source": [
    "### Connect to a Db2 Warehouse or other Db2 database\n",
    "User change this string to specify your own database, database user_id and password, host and port.  "
   ]
  },
  {
   "cell_type": "code",
   "execution_count": null,
   "metadata": {},
   "outputs": [],
   "source": [
    "%sql CONNECT TO bludb USER user1013 USING ppppppp HOST host.or.ip PORT 50000;"
   ]
  },
  {
   "cell_type": "markdown",
   "metadata": {},
   "source": [
    "##### Run a select command"
   ]
  },
  {
   "cell_type": "code",
   "execution_count": null,
   "metadata": {},
   "outputs": [],
   "source": [
    "%sql select count(*) from syscat.indexes"
   ]
  },
  {
   "cell_type": "markdown",
   "metadata": {},
   "source": [
    "##### Terminate the connection to Db2W"
   ]
  },
  {
   "cell_type": "code",
   "execution_count": null,
   "metadata": {},
   "outputs": [],
   "source": [
    "%sql connect reset"
   ]
  }
 ],
 "metadata": {
  "anaconda-cloud": {},
  "kernelspec": {
   "display_name": "Python 3",
   "language": "python",
   "name": "python3"
  },
  "language_info": {
   "codemirror_mode": {
    "name": "ipython",
    "version": 3
   },
   "file_extension": ".py",
   "mimetype": "text/x-python",
   "name": "python",
   "nbconvert_exporter": "python",
   "pygments_lexer": "ipython3",
   "version": "3.7.3"
  }
 },
 "nbformat": 4,
 "nbformat_minor": 2
}
