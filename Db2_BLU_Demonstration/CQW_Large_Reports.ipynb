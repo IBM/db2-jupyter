{
 "cells": [
  {
   "cell_type": "markdown",
   "metadata": {},
   "source": [
    "# CQW - Large Reports\n",
    "Updated: 2019-10-16\n",
    "\n",
    "Large reports typically return more records. Due to the large number of records returned, total execution time of row versus columnar may be closer. The following reports are found in this notebook. \n",
    "\n",
    "  - Report 3a1 - Customer Quantity of Sales 1999-2002 where Lifetime Quantity > 16,000\n",
    "  - Report 3a2 - Customer Quantity of Sales 1999-2002\n",
    "  - Report 3b1 - Sorted List Customers Quantity Sold for Year 1999\n",
    "\n",
    "### Load Db2 Extensions and Connect to the Database\n",
    "The `connection` notebook contains the `CONNECT` statement which allows access to the `SAMPLE` database. If you need to modify the connection information, edit the `connection.ipynb` notebook."
   ]
  },
  {
   "cell_type": "code",
   "execution_count": null,
   "metadata": {},
   "outputs": [],
   "source": [
    "%run ../db2.ipynb\n",
    "%run ../connection.ipynb"
   ]
  },
  {
   "cell_type": "markdown",
   "metadata": {},
   "source": [
    "### Create a Function for Running the Queries\n",
    "This function is used to time the queries and return the total time taken. The parameter is the SQL that will be run and the function will execute against the row-based and col-based tables. "
   ]
  },
  {
   "cell_type": "code",
   "execution_count": null,
   "metadata": {},
   "outputs": [],
   "source": [
    "def runquery(sql):\n",
    "    \n",
    "    %sql -q SET CURRENT SCHEMA = CQWROW\n",
    "        \n",
    "    print(\"Starting execution of ROW query\")    \n",
    "    start_time = time.time()\n",
    "\n",
    "    %sql -q {sql}\n",
    "    \n",
    "    end_time = time.time()\n",
    "    row = end_time - start_time\n",
    "    \n",
    "    print(\"Row run time = {0}\".format(row))\n",
    "    \n",
    "    %sql -q SET CURRENT SCHEMA = CQWCOL\n",
    "    \n",
    "    print()\n",
    "    print(\"Starting execution of COLUMNAR query\")        \n",
    "    \n",
    "    start_time = time.time()\n",
    "\n",
    "    results = %sql -q {query}\n",
    "    \n",
    "    end_time = time.time()\n",
    "    col = end_time - start_time\n",
    "    \n",
    "    print(\"Column run time = {0}\".format(col))    \n",
    "    \n",
    "    pdisplay(results)\n",
    "    \n",
    "    %sql -bar VALUES ('Row',:row),('Column',:col)"
   ]
  },
  {
   "cell_type": "markdown",
   "metadata": {},
   "source": [
    "## Customer Quantity of Sales 1999-2002 where Lifetime Quantity > 16,000"
   ]
  },
  {
   "cell_type": "code",
   "execution_count": null,
   "metadata": {},
   "outputs": [],
   "source": [
    "query = '''\n",
    "WITH \n",
    "\"RSF_Query1\" AS \n",
    "    (\n",
    "    SELECT\n",
    "        \"CUSTOMER\".\"C_CUSTOMER_SK\" AS \"Customers_C_CUSTOMER_SK\", \n",
    "        SUM(CAST(\"STORE_SALES\".\"SS_QUANTITY\" AS DECIMAL(31,2))) AS \"Quantity__Store_Sales_\"\n",
    "    FROM\n",
    "        \"CUSTOMER\" \"CUSTOMER\"\n",
    "            INNER JOIN \"STORE_SALES\" \"STORE_SALES\"\n",
    "            ON \"CUSTOMER\".\"C_CUSTOMER_SK\" = \"STORE_SALES\".\"SS_CUSTOMER_SK\" \n",
    "    GROUP BY \n",
    "        \"CUSTOMER\".\"C_CUSTOMER_SK\"\n",
    "    )\n",
    "SELECT\n",
    "    \"RSF_Query1\".\"Customers_C_CUSTOMER_SK\" AS \"Customers_C_CUSTOMER_SK\", \n",
    "    \"RSF_Query1\".\"Quantity__Store_Sales_\" AS \"Quantity__Store_Sales_\"\n",
    "FROM\n",
    "    \"RSF_Query1\" \n",
    "WHERE \n",
    "    \"RSF_Query1\".\"Quantity__Store_Sales_\" > 16000.0\n",
    "'''\n",
    "runquery(query)"
   ]
  },
  {
   "cell_type": "markdown",
   "metadata": {},
   "source": [
    "## Customer Quantity of Sales 1999-2002 "
   ]
  },
  {
   "cell_type": "code",
   "execution_count": null,
   "metadata": {},
   "outputs": [],
   "source": [
    "query = '''\n",
    "SELECT\n",
    "    \"DATE_DIM\".\"D_YEAR\" AS \"Date_D_YEAR\", \n",
    "    \"CUSTOMER\".\"C_CUSTOMER_SK\" AS \"Customers_C_CUSTOMER_SK\", \n",
    "    SUM(CAST(\"STORE_SALES\".\"SS_QUANTITY\" AS DECIMAL(31,2))) AS \"Quantity__Store_Sales_\"\n",
    "FROM\n",
    "    \"CUSTOMER\" \"CUSTOMER\"\n",
    "        INNER JOIN \"STORE_SALES\" \"STORE_SALES\"\n",
    "        ON \"CUSTOMER\".\"C_CUSTOMER_SK\" = \"STORE_SALES\".\"SS_CUSTOMER_SK\"\n",
    "            INNER JOIN \"DATE_DIM\" \"DATE_DIM\"\n",
    "            ON \"DATE_DIM\".\"D_DATE_SK\" = \"STORE_SALES\".\"SS_SOLD_DATE_SK\" \n",
    "WHERE \n",
    "    \"CUSTOMER\".\"C_CUSTOMER_SK\" BETWEEN -99999 AND 11999979 \n",
    "GROUP BY \n",
    "    \"DATE_DIM\".\"D_YEAR\", \n",
    "    \"CUSTOMER\".\"C_CUSTOMER_SK\"\n",
    "'''\n",
    "runquery(query)"
   ]
  },
  {
   "cell_type": "markdown",
   "metadata": {},
   "source": [
    "## Sorted List Customers Quantity Sold for Year 1999"
   ]
  },
  {
   "cell_type": "code",
   "execution_count": null,
   "metadata": {},
   "outputs": [],
   "source": [
    "query = '''\n",
    "WITH \n",
    "\"SQ0_Query1\" AS \n",
    "    (\n",
    "    SELECT\n",
    "        \"DATE_DIM\".\"D_YEAR\" AS \"Date_D_YEAR\", \n",
    "        \"CUSTOMER\".\"C_CUSTOMER_SK\" AS \"Customers_C_CUSTOMER_SK\", \n",
    "        SUM(CAST(\"STORE_SALES\".\"SS_QUANTITY\" AS DECIMAL(31,2))) AS \"Quantity__Store_Sales_\"\n",
    "    FROM\n",
    "        \"CUSTOMER\" \"CUSTOMER\"\n",
    "            INNER JOIN \"STORE_SALES\" \"STORE_SALES\"\n",
    "            ON \"CUSTOMER\".\"C_CUSTOMER_SK\" = \"STORE_SALES\".\"SS_CUSTOMER_SK\"\n",
    "                INNER JOIN \"DATE_DIM\" \"DATE_DIM\"\n",
    "                ON \"DATE_DIM\".\"D_DATE_SK\" = \"STORE_SALES\".\"SS_SOLD_DATE_SK\" \n",
    "    WHERE \n",
    "        \"DATE_DIM\".\"D_YEAR\" > 1899 AND \"DATE_DIM\".\"D_YEAR\" < 2000\n",
    "    GROUP BY \n",
    "        \"DATE_DIM\".\"D_YEAR\", \n",
    "        \"CUSTOMER\".\"C_CUSTOMER_SK\"\n",
    "    )\n",
    "SELECT\n",
    "    \"SQ0_Query1\".\"Date_D_YEAR\" AS \"Date_D_YEAR\", \n",
    "    \"SQ0_Query1\".\"Customers_C_CUSTOMER_SK\" AS \"Customers_C_CUSTOMER_SK\", \n",
    "    \"SQ0_Query1\".\"Quantity__Store_Sales_\" AS \"Quantity__Store_Sales_\", \n",
    "    RANK()\n",
    "        OVER(\n",
    "            ORDER BY\n",
    "                \"SQ0_Query1\".\"Quantity__Store_Sales_\" DESC NULLS LAST\n",
    "        ) AS \"rank0\"\n",
    "FROM\n",
    "    \"SQ0_Query1\"\n",
    "'''\n",
    "runquery(query)"
   ]
  },
  {
   "cell_type": "markdown",
   "metadata": {},
   "source": [
    "#### Credits: IBM 2019, George Baklarz [baklarz@ca.ibm.com]"
   ]
  }
 ],
 "metadata": {
  "kernelspec": {
   "display_name": "Python 3",
   "language": "python",
   "name": "python3"
  },
  "language_info": {
   "codemirror_mode": {
    "name": "ipython",
    "version": 3
   },
   "file_extension": ".py",
   "mimetype": "text/x-python",
   "name": "python",
   "nbconvert_exporter": "python",
   "pygments_lexer": "ipython3",
   "version": "3.6.8"
  }
 },
 "nbformat": 4,
 "nbformat_minor": 2
}
