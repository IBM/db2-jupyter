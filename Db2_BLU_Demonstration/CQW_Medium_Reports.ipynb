{
 "cells": [
  {
   "cell_type": "markdown",
   "metadata": {},
   "source": [
    "# CQW - Medium Reports\n",
    "Updated: 2019-10-16\n",
    "\n",
    "Medium reports can run for upwards of 60 seconds depending on load on the system. The following reports are found in this notebook. \n",
    "\n",
    "  - Report 2a4  - Sales (Wholesale) by Stores in Tennessee\n",
    "  - Report 2a4b - Sales (Net) By Stores in Alabama \n",
    "  - Report 2a5  - Sales (Net) By Promotion \n",
    "  - Report 2a7  - Sales (Net) By Store in South Dakota\n",
    "  - Report 2a7b - Sales (Net) With Coupons By Stores in South Dakota\n",
    "  - Report 2a8  - Sales by Promotion\n",
    "  - Report 2d1  - Sales of Specific Stores in 2000, 2001, 2002\n",
    "  - Report 2e1  - Sales by all Stores, all dates\n",
    "  - Report 2e2  - Sales by Top 10 stores, all dates\n",
    "\n",
    "### Load Db2 Extensions and Connect to the Database\n",
    "The `connection` notebook contains the `CONNECT` statement which allows access to the `SAMPLE` database. If you need to modify the connection information, edit the `connection.ipynb` notebook."
   ]
  },
  {
   "cell_type": "code",
   "execution_count": null,
   "metadata": {},
   "outputs": [],
   "source": [
    "%run ../db2.ipynb\n",
    "%run ../connection.ipynb"
   ]
  },
  {
   "cell_type": "markdown",
   "metadata": {},
   "source": [
    "### Create a Function for Running the Queries\n",
    "This function is used to time the queries and return the total time taken. The parameter is the SQL that will be run and the function will execute against the row-based and col-based tables. "
   ]
  },
  {
   "cell_type": "code",
   "execution_count": null,
   "metadata": {},
   "outputs": [],
   "source": [
    "def runquery(sql):\n",
    "    \n",
    "    %sql -q SET CURRENT SCHEMA = CQWROW\n",
    "        \n",
    "    print(\"Starting execution of ROW query\")    \n",
    "    start_time = time.time()\n",
    "\n",
    "    %sql -q {sql}\n",
    "    \n",
    "    end_time = time.time()\n",
    "    row = end_time - start_time\n",
    "    \n",
    "    print(\"Row run time = {0}\".format(row))\n",
    "    \n",
    "    %sql -q SET CURRENT SCHEMA = CQWCOL\n",
    "    \n",
    "    print()\n",
    "    print(\"Starting execution of COLUMNAR query\")        \n",
    "    \n",
    "    start_time = time.time()\n",
    "\n",
    "    results = %sql -q {query}\n",
    "    \n",
    "    end_time = time.time()\n",
    "    col = end_time - start_time\n",
    "    \n",
    "    print(\"Column run time = {0}\".format(col))    \n",
    "    \n",
    "    pdisplay(results)\n",
    "    \n",
    "    %sql -bar VALUES ('Row',:row),('Column',:col)"
   ]
  },
  {
   "cell_type": "markdown",
   "metadata": {},
   "source": [
    "## Sales (Wholesale) by Stores in Tennessee"
   ]
  },
  {
   "cell_type": "code",
   "execution_count": null,
   "metadata": {},
   "outputs": [],
   "source": [
    "query = '''\n",
    "SELECT\n",
    "    \"STORE\".\"S_STORE_SK\" AS \"Stores_S_STORE_SK\", \n",
    "    SUM(CAST(\"STORE_SALES\".\"SS_WHOLESALE_COST\" AS DECIMAL(31,2))) AS \"WholeSale_Cost__Store_Sales_\"\n",
    "FROM\n",
    "    \"STORE\" \"STORE\"\n",
    "        INNER JOIN \"STORE_SALES\" \"STORE_SALES\"\n",
    "        ON \"STORE\".\"S_STORE_SK\" = \"STORE_SALES\".\"SS_STORE_SK\" \n",
    "WHERE \n",
    "    \"STORE\".\"S_COUNTRY\" IN ( \n",
    "        'United States' ) AND\n",
    "    \"STORE\".\"S_STATE\" IN ( \n",
    "        'TN' ) \n",
    "GROUP BY \n",
    "    \"STORE\".\"S_STORE_SK\"\n",
    "'''\n",
    "runquery(query)"
   ]
  },
  {
   "cell_type": "markdown",
   "metadata": {},
   "source": [
    "## Sales (Net) By Stores in Tennessee "
   ]
  },
  {
   "cell_type": "code",
   "execution_count": null,
   "metadata": {},
   "outputs": [],
   "source": [
    "query = '''\n",
    "SELECT\n",
    "    \"STORE\".\"S_STORE_SK\" AS \"Stores_S_STORE_SK\",\n",
    "    SUM(\"STORE_SALES\".\"SS_NET_PROFIT\") AS \"Net_Profit__Stor\", \n",
    "    SUM(CAST(\"STORE_SALES\".\"SS_QUANTITY\" AS DECIMAL(31,2))) AS \"Quantity__Store_\"\n",
    "FROM\n",
    "    \"STORE\" \"STORE\"\n",
    "        INNER JOIN \"STORE_SALES\" \"STORE_SALES\"\n",
    "        ON \"STORE\".\"S_STORE_SK\" = \"STORE_SALES\".\"SS_STORE_SK\" \n",
    "WHERE \n",
    "    \"STORE\".\"S_COUNTRY\" IN ( \n",
    "        'United States' ) AND\n",
    "    \"STORE\".\"S_STATE\" IN ( \n",
    "        'TN' ) \n",
    "GROUP BY \n",
    "    \"STORE\".\"S_STORE_SK\"\n",
    "'''\n",
    "runquery(query)"
   ]
  },
  {
   "cell_type": "markdown",
   "metadata": {},
   "source": [
    "## Sales (Net) By Promotion "
   ]
  },
  {
   "cell_type": "code",
   "execution_count": null,
   "metadata": {},
   "outputs": [],
   "source": [
    "query = '''\n",
    "SELECT\n",
    "    \"PROMOTION\".\"P_PROMO_SK\" AS \"Promotions_P_PROMO_SK\", \n",
    "    SUM(\"STORE_SALES\".\"SS_NET_PAID\") AS \"Net_Paid__Store_Sales_\"\n",
    "FROM\n",
    "    \"PROMOTION\" \"PROMOTION\"\n",
    "        INNER JOIN \"STORE_SALES\" \"STORE_SALES\"\n",
    "        ON \"PROMOTION\".\"P_PROMO_SK\" = \"STORE_SALES\".\"SS_PROMO_SK\" \n",
    "GROUP BY \n",
    "    \"PROMOTION\".\"P_PROMO_SK\"\n",
    "'''\n",
    "runquery(query)"
   ]
  },
  {
   "cell_type": "markdown",
   "metadata": {},
   "source": [
    "## Sales (Net) By Store in Tennessee"
   ]
  },
  {
   "cell_type": "code",
   "execution_count": null,
   "metadata": {},
   "outputs": [],
   "source": [
    "query = '''\n",
    "SELECT\n",
    "    \"STORE\".\"S_STORE_SK\" AS \"Stores_S_STORE_SK\", \n",
    "    SUM(\"STORE_SALES\".\"SS_NET_PAID\") AS \"Net_Paid__Store_Sales_\"\n",
    "FROM\n",
    "    \"STORE\" \"STORE\"\n",
    "        INNER JOIN \"STORE_SALES\" \"STORE_SALES\"\n",
    "        ON \"STORE\".\"S_STORE_SK\" = \"STORE_SALES\".\"SS_STORE_SK\" \n",
    "WHERE \n",
    "    \"STORE\".\"S_COUNTRY\" IN ( \n",
    "        'United States' ) AND\n",
    "    \"STORE\".\"S_STATE\" IN ( \n",
    "        'TN' ) \n",
    "GROUP BY \n",
    "    \"STORE\".\"S_STORE_SK\"\n",
    "'''\n",
    "runquery(query)"
   ]
  },
  {
   "cell_type": "markdown",
   "metadata": {},
   "source": [
    "## Sales (Net) With Coupons By Stores in Tennessee"
   ]
  },
  {
   "cell_type": "code",
   "execution_count": null,
   "metadata": {},
   "outputs": [],
   "source": [
    "query = '''\n",
    "SELECT\n",
    "    \"STORE\".\"S_STORE_SK\" AS \"Stores_S_STORE_SK\", \n",
    "    SUM(\"STORE_SALES\".\"SS_NET_PAID\") AS \"Net_Paid__Store_Sales_\",\n",
    "    SUM(\"STORE_SALES\".\"SS_COUPON_AMT\") AS \"Coupon_Amount__S\",\n",
    "    SUM(\"STORE_SALES\".\"SS_NET_PAID\" - CAST(\"STORE_SALES\".\"SS_WHOLESALE_COST\" AS DECIMAL(31,2))) AS \"Gross_Profit__St\"\n",
    "FROM\n",
    "    \"STORE\" \"STORE\"\n",
    "        INNER JOIN \"STORE_SALES\" \"STORE_SALES\"\n",
    "        ON \"STORE\".\"S_STORE_SK\" = \"STORE_SALES\".\"SS_STORE_SK\" \n",
    "WHERE \n",
    "    \"STORE\".\"S_COUNTRY\" IN ( \n",
    "        'United States' ) AND\n",
    "    \"STORE\".\"S_STATE\" IN (\n",
    "        'TN' )\n",
    "GROUP BY \n",
    "    \"STORE\".\"S_STORE_SK\"\n",
    "'''\n",
    "runquery(query)"
   ]
  },
  {
   "cell_type": "markdown",
   "metadata": {},
   "source": [
    "## Sales by Promotion"
   ]
  },
  {
   "cell_type": "code",
   "execution_count": null,
   "metadata": {},
   "outputs": [],
   "source": [
    "query = '''\n",
    "SELECT\n",
    "    \"PROMOTION\".\"P_PROMO_SK\" AS \"Promotions_P_PROMO_SK\", \n",
    "    SUM(CAST(\"STORE_SALES\".\"SS_WHOLESALE_COST\" AS DECIMAL(31,2))) AS \"WholeSale_Cost__Store_Sales_\"\n",
    "FROM\n",
    "    \"PROMOTION\" \"PROMOTION\"\n",
    "        INNER JOIN \"STORE_SALES\" \"STORE_SALES\"\n",
    "        ON \"PROMOTION\".\"P_PROMO_SK\" = \"STORE_SALES\".\"SS_PROMO_SK\" \n",
    "GROUP BY \n",
    "    \"PROMOTION\".\"P_PROMO_SK\"\n",
    "'''\n",
    "runquery(query)"
   ]
  },
  {
   "cell_type": "markdown",
   "metadata": {},
   "source": [
    "## Sales of Specific Stores in 2000, 2001, 2002"
   ]
  },
  {
   "cell_type": "code",
   "execution_count": null,
   "metadata": {},
   "outputs": [],
   "source": [
    "query = '''\n",
    "SELECT\n",
    "    AVG(CAST(\"STORE_SALES\".\"SS_LIST_PRICE\" AS DOUBLE PRECISION)) AS \"List_Price__Store_Sales_\", \n",
    "    \"STORE\".\"S_STORE_SK\" AS \"S_STORE_SK\"\n",
    "FROM\n",
    "    \"DATE_DIM\" \"DATE_DIM\"\n",
    "        INNER JOIN \"STORE_SALES\" \"STORE_SALES\"\n",
    "        ON \"DATE_DIM\".\"D_DATE_SK\" = \"STORE_SALES\".\"SS_SOLD_DATE_SK\"\n",
    "            INNER JOIN \"STORE\" \"STORE\"\n",
    "            ON \"STORE\".\"S_STORE_SK\" = \"STORE_SALES\".\"SS_STORE_SK\" \n",
    "WHERE \n",
    "    \"DATE_DIM\".\"D_YEAR\" IN ( \n",
    "        2002, \n",
    "        2001, \n",
    "        2000 ) AND\n",
    "    (\"STORE\".\"S_STORE_SK\" IN ( \n",
    "356, 194, 138, 505, 171, 26, 31, 861, 729, 208,\n",
    "842, 117, 837, 49, 1002, 663, 232, 539, 46, 966,\n",
    "224, 98, 58, 545, 470, 512, 790, 829, 888, 240,\n",
    "222, 187, 764, 695, 411, 215, 942, 719, 131, 305,\n",
    "850, 258, 248, 303, 610, 55, 379, 348, 900, 978,\n",
    "806, 681, 202, 402, 894, 634, 94, 388, 165, 582,\n",
    "366, 899, 184, 629, 207, 979, 974, 328, 436, 592,\n",
    "167, 596, 991, 728, 390, 904, 201, 389, 265, 771,\n",
    "688, 385, 570, 867, 955, 954, 831, 157, 80, 193,\n",
    "135, 767, 78, 741, 907, 736, 214, 849, 492, 488,\n",
    "843, 371, 740, 859, 617, 876, 155, 291, 776, 210,\n",
    "500, 313, 433, 270, 645, 199, 140, 796, 988, 789,\n",
    "231, 15, 662, 908, 554, 910, 496, 874, 678, 647,\n",
    "339, 846, 753, 538, 136, 644, 151, 868, 997, 491,\n",
    "76, 494, 845, 115, 1000, 750, 864, 784, 605, 929,\n",
    "16, 895, 658, 228, 154, 945, 893, 479, 1, 732,\n",
    "694, 416, 281, 692, 716, 373, 102, 972, 441, 977,\n",
    "340, 192, 668, 383, 944, 498, 52, 33, 935, 799,\n",
    "563, 253, 96, 683, 65, 118, 851, 404, 296, 251,\n",
    "397, 552, 625, 992, 674, 930, 304, 169, 873, 504,\n",
    "926, 558, 905, 456, 603, 660, 85, 133, 548, 183,\n",
    "727, 17, 526, 722, 308, 204, 733, 631, 414, 761,\n",
    "317, 375, 777, 203, 180, 797, 690, 161, 473, 45,\n",
    "106, 933, 575, 283, 162, 682, 599, 531, 218, 875,\n",
    "774, 702, 511, 869, 863, 881, 836, 175, 950, 81 )\n",
    "OR\n",
    "    \"STORE\".\"S_STORE_SK\" IN ( \n",
    "443, 871, 779, 723, 345, 549, 464, 983, 424, 601,\n",
    "261, 680, 104, 362, 25, 769, 309, 999, 998, 880,\n",
    "768, 959, 840, 497, 260, 334, 847, 34, 59, 825,\n",
    "981, 938, 885, 807, 484, 423, 943, 471, 925, 255,\n",
    "781, 275, 725, 311, 178, 717, 43, 95, 307, 408,\n",
    "91, 141, 766, 758, 745, 418, 770, 299, 39, 179,\n",
    "316, 714, 395, 520, 507, 805, 844, 205, 61, 862,\n",
    "110, 335, 426, 126, 478, 243, 306, 756, 622, 973,\n",
    "919, 803, 272, 693, 649, 987, 785, 529, 608, 485,\n",
    "226, 934, 367, 197, 166, 962, 564, 30, 685, 918,\n",
    "640, 802, 9, 735, 361, 347, 546, 854, 109, 12,\n",
    "220, 630, 713, 449, 763, 177, 923, 534, 743, 642,\n",
    "160, 369, 92, 439, 344, 477, 442, 124, 616, 557,\n",
    "493, 75, 229, 754, 521, 752, 354, 293, 377, 936,\n",
    "911, 652, 93, 834, 664, 186, 391, 447, 376, 696,\n",
    "145, 134, 301, 314, 581, 975, 359, 227, 64, 217,\n",
    "434, 963, 351, 517, 650, 35, 906, 574, 461, 410,\n",
    "646, 129, 113, 532, 407, 898, 527, 435, 462, 780,\n",
    "724, 238, 673, 346, 274, 44, 130, 523, 295, 246,\n",
    "619, 920, 360, 73, 419, 996, 219, 537, 446, 556,\n",
    "22, 252, 355, 980, 739, 216, 816, 271, 487, 562,\n",
    "555, 525, 357, 237, 18, 142, 331, 986, 870, 70,\n",
    "353, 310, 632, 578, 417, 363, 466, 903, 798, 315,\n",
    "641, 4, 989, 489, 533, 689, 726, 86, 547, 501,\n",
    "119, 827, 37, 621, 794, 889, 10, 242, 901, 952 ) \n",
    "OR\n",
    "    \"STORE\".\"S_STORE_SK\" IN ( \n",
    "917, 760, 319, 559, 195, 565, 68, 499, 838, 902,\n",
    "514, 112, 393, 990, 327, 971, 279, 970, 282, 751,\n",
    "460, 535, 427, 233, 320, 341, 42, 444, 56, 290,\n",
    "99, 32, 639, 148, 465, 190, 879, 928, 852, 300,\n",
    "191, 585, 508, 937, 749, 890, 259, 430, 415, 587,\n",
    "146, 273, 502, 584, 72, 495, 196, 913, 269, 8,\n",
    "731, 23, 602, 262, 615, 788, 50, 707, 451, 513,\n",
    "655, 667, 730, 748, 588, 198, 69, 783, 188, 666,\n",
    "422, 100, 121, 553, 704, 857, 968, 747, 406, 965,\n",
    "287, 336, 241, 490, 995, 577, 896, 976, 755, 88,\n",
    "572, 173, 168, 421, 737, 822, 897, 221, 374, 84,\n",
    "412, 543, 860, 263, 600, 964, 384, 289, 89, 40,\n",
    "60, 28, 19, 810, 957, 256, 804, 823, 734, 568,\n",
    "811, 541, 636, 127, 107, 503, 365, 48, 74, 775,\n",
    "182, 103, 882, 149, 635, 116, 886, 516, 939, 773,\n",
    "941, 225, 697, 567, 2, 651, 468, 542, 482, 712,\n",
    "922, 463, 114, 13, 20, 765, 583, 791, 152, 401,\n",
    "705, 793, 476, 528, 676, 698, 914, 985, 469, 700,\n",
    "510, 590, 607, 509, 277, 486, 711, 958, 139, 298,\n",
    "669, 144, 24, 440, 235, 53, 759, 924, 961, 595,\n",
    "63, 795, 561, 101, 432, 445, 819, 51, 832, 452,\n",
    "594, 623, 267, 721, 746, 122, 474, 818, 808, 266,\n",
    "560, 718, 79, 398, 706, 212, 108, 858, 472, 381,\n",
    "66, 82, 826, 213, 569, 77, 150, 744, 812, 536,\n",
    "589, 659, 960, 392, 11, 329, 591, 626, 782, 579 )\n",
    "OR\n",
    "    \"STORE\".\"S_STORE_SK\" IN ( \n",
    "814, 387, 519, 687, 637, 159, 455, 566, 396, 429,\n",
    "480, 720, 835, 123, 946, 321, 916, 450, 515, 247,\n",
    "14, 872, 677, 593, 350, 654, 323, 686, 833, 672,\n",
    "158, 90, 264, 638, 648, 41, 438, 956, 947, 457,\n",
    "614, 691, 318, 670, 671, 800, 403, 83, 967, 250,\n",
    "627, 5, 413, 400, 643, 518, 540, 609, 372, 801,\n",
    "786, 67, 787, 185, 481, 285, 420, 3, 343, 742,\n",
    "230, 571, 326, 993, 830, 467, 97, 330, 824, 853,\n",
    "921, 47, 57, 454, 586, 453, 223, 431, 701, 865,\n",
    "877, 125, 333, 628, 927, 189, 244, 475, 54, 337,\n",
    "370, 708, 302, 409, 143, 1001, 762, 778, 949, 399,\n",
    "349, 699, 883, 624, 288, 620, 284, 211, 524, 633,\n",
    "932, 948, 940, 137, 358, 665, 679, 71, 573, 684,\n",
    "425, 839, 915, 448, 325, 172, 234, 153, 709, 891,\n",
    "386, 324, 338, 394, 884, 661, 856, 297, 286, 576,\n",
    "613, 132, 828, 174, 332, 550, 931, 612, 62, 912,\n",
    "156, 544, 105, 209, 128, 278, 280, 551, 6, 7, 38,\n",
    "675, 909, 111, 27, 809, 294, 738, 342, 36, 892,\n",
    "292, 982, 866, 239, 598, 322, 951, 245, 29, 855,\n",
    "312, 606, 176, 382, 249, 506, 618, 817, 428, 200,\n",
    "653, 181, 206, 969, 994, 21, 878, 254, 772, 953,\n",
    "580, 164, 163, 437, 120, 656, 792, 841, 848, 611,\n",
    "887, 380, 815, 170, 268, 710, 715, 352, 522, 87,\n",
    "236, 530, 597, 483, 813, 821, 364, 984, 368, 147,\n",
    "459, 458, 276, 757, 257, 405, 820, 604, 657 ) \n",
    "OR\n",
    "    \"STORE\".\"S_STORE_SK\" IN ( \n",
    "        378, \n",
    "        703, \n",
    "        -99999 )) \n",
    "GROUP BY \n",
    "    \"STORE\".\"S_STORE_SK\"\n",
    "'''\n",
    "runquery(query)"
   ]
  },
  {
   "cell_type": "markdown",
   "metadata": {},
   "source": [
    "##  Sales by All Stores, All Dates"
   ]
  },
  {
   "cell_type": "code",
   "execution_count": null,
   "metadata": {},
   "outputs": [],
   "source": [
    "query = '''\n",
    "SELECT\n",
    "    \"STORE\".\"S_STORE_SK\" AS \"Stores_S_STORE_SK\", \n",
    "    AVG(CAST(\"STORE_SALES\".\"SS_LIST_PRICE\" AS DOUBLE PRECISION)) AS \"List_Price__Store_Sales_\"\n",
    "FROM\n",
    "    \"STORE\" \"STORE\"\n",
    "        INNER JOIN \"STORE_SALES\" \"STORE_SALES\"\n",
    "        ON \"STORE\".\"S_STORE_SK\" = \"STORE_SALES\".\"SS_STORE_SK\" \n",
    "GROUP BY \n",
    "    \"STORE\".\"S_STORE_SK\"\n",
    "'''\n",
    "runquery(query)"
   ]
  },
  {
   "cell_type": "markdown",
   "metadata": {},
   "source": [
    "##  Sales by Top 10 Stores, All Dates"
   ]
  },
  {
   "cell_type": "code",
   "execution_count": null,
   "metadata": {},
   "outputs": [],
   "source": [
    "query = '''\n",
    "SELECT\n",
    "    \"DATE_DIM\".\"D_YEAR\" AS \"Date_D_YEAR\", \n",
    "    \"STORE\".\"S_STORE_SK\" AS \"Stores_S_STORE_SK\", \n",
    "    AVG(CAST(\"STORE_SALES\".\"SS_LIST_PRICE\" AS DOUBLE PRECISION)) AS \"List_Price__Store_Sales_\"\n",
    "FROM\n",
    "    \"DATE_DIM\" \"DATE_DIM\"\n",
    "        INNER JOIN \"STORE_SALES\" \"STORE_SALES\"\n",
    "        ON \"DATE_DIM\".\"D_DATE_SK\" = \"STORE_SALES\".\"SS_SOLD_DATE_SK\"\n",
    "            INNER JOIN \"STORE\" \"STORE\"\n",
    "            ON \"STORE\".\"S_STORE_SK\" = \"STORE_SALES\".\"SS_STORE_SK\" \n",
    "WHERE \n",
    "    \"STORE\".\"S_STORE_SK\" IN ( \n",
    "        986, \n",
    "        842, \n",
    "        625, \n",
    "        247, \n",
    "        949, \n",
    "        8, \n",
    "        775, \n",
    "        572, \n",
    "        547, \n",
    "        265 ) \n",
    "GROUP BY \n",
    "    \"DATE_DIM\".\"D_YEAR\", \n",
    "    \"STORE\".\"S_STORE_SK\"\n",
    "'''\n",
    "runquery(query)"
   ]
  },
  {
   "cell_type": "markdown",
   "metadata": {},
   "source": [
    "#### Credits: IBM 2019, George Baklarz [baklarz@ca.ibm.com]"
   ]
  }
 ],
 "metadata": {
  "kernelspec": {
   "display_name": "Python 3",
   "language": "python",
   "name": "python3"
  },
  "language_info": {
   "codemirror_mode": {
    "name": "ipython",
    "version": 3
   },
   "file_extension": ".py",
   "mimetype": "text/x-python",
   "name": "python",
   "nbconvert_exporter": "python",
   "pygments_lexer": "ipython3",
   "version": "3.6.8"
  }
 },
 "nbformat": 4,
 "nbformat_minor": 2
}
