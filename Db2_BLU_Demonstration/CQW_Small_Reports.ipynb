{
 "cells": [
  {
   "cell_type": "markdown",
   "metadata": {},
   "source": [
    "# CQW - Small Reports\n",
    "Updated: 2019-10-16\n",
    "\n",
    "Small reports typically have run times that are less than a few seconds. The following reports are found in this notebook. \n",
    "\n",
    "  - Report 1c1  - Store Sales for the Year 2000\n",
    "  - Report 1c2  - Store Sales for the Year 2000 by Quarter\n",
    "  - Report 1d1  - Category, Class, and Brand Sales\n",
    "  - Report 1d2  - Sales by Stores in Alabama\n",
    "  - Report 1e1  - Top 3 Item Brands by SubTotal Revenue\n",
    "  - Report 1e1b - Top 3 Item Brands by Wholesale Cost\n",
    "  - Report 1e1c - Top 3 Item Brands by Net Profits\n",
    "  - Report 1e2  - Item Brand Sales by Store\n"
   ]
  },
  {
   "cell_type": "markdown",
   "metadata": {},
   "source": [
    "### Load Db2 Extensions and Connect to the Database\n",
    "The `connection` notebook contains the `CONNECT` statement which allows access to the `SAMPLE` database. If you need to modify the connection information, edit the `connection.ipynb` notebook."
   ]
  },
  {
   "cell_type": "code",
   "execution_count": null,
   "metadata": {},
   "outputs": [],
   "source": [
    "%run ../db2.ipynb\n",
    "%run ../connection.ipynb"
   ]
  },
  {
   "cell_type": "markdown",
   "metadata": {},
   "source": [
    "### Create a Function for Running the Queries\n",
    "This function is used to time the queries and return the total time taken. The parameter is the SQL that will be run and the function will execute against the row-based and col-based tables. "
   ]
  },
  {
   "cell_type": "code",
   "execution_count": null,
   "metadata": {},
   "outputs": [],
   "source": [
    "def runquery(sql):\n",
    "    \n",
    "    %sql -q SET CURRENT SCHEMA = CQWROW\n",
    "        \n",
    "    print(\"Starting execution of ROW query\")    \n",
    "    start_time = time.time()\n",
    "\n",
    "    %sql -q {sql}\n",
    "    \n",
    "    end_time = time.time()\n",
    "    row = end_time - start_time\n",
    "    \n",
    "    print(\"Row run time = {0}\".format(row))\n",
    "    \n",
    "    %sql -q SET CURRENT SCHEMA = CQWCOL\n",
    "    \n",
    "    print()\n",
    "    print(\"Starting execution of COLUMNAR query\")        \n",
    "    \n",
    "    start_time = time.time()\n",
    "\n",
    "    results = %sql -q {query}\n",
    "    \n",
    "    end_time = time.time()\n",
    "    col = end_time - start_time\n",
    "    \n",
    "    print(\"Column run time = {0}\".format(col))    \n",
    "    \n",
    "    pdisplay(results)\n",
    "    \n",
    "    %sql -bar VALUES ('Row',:row),('Column',:col)"
   ]
  },
  {
   "cell_type": "markdown",
   "metadata": {},
   "source": [
    "## Store Sales for the Year 2000"
   ]
  },
  {
   "cell_type": "code",
   "execution_count": null,
   "metadata": {},
   "outputs": [],
   "source": [
    "query = '''\n",
    "SELECT\n",
    "    \"DATE_DIM\".\"D_YEAR\" AS \"Date_D_YEAR\", \n",
    "    SUM(CAST(\"STORE_SALES\".\"SS_QUANTITY\" AS DECIMAL(31,2))) AS \"Quantity__Store_Sales_\"\n",
    "FROM\n",
    "    \"DATE_DIM\" \"DATE_DIM\"\n",
    "        INNER JOIN \"STORE_SALES\" \"STORE_SALES\"\n",
    "        ON \"DATE_DIM\".\"D_DATE_SK\" = \"STORE_SALES\".\"SS_SOLD_DATE_SK\" \n",
    "WHERE \n",
    "    \"DATE_DIM\".\"D_YEAR\" IN ( \n",
    "        2000 ) \n",
    "GROUP BY \n",
    "    \"DATE_DIM\".\"D_YEAR\"\n",
    "'''\n",
    "runquery(query)"
   ]
  },
  {
   "cell_type": "markdown",
   "metadata": {},
   "source": [
    "## Store Sales for the Year 2000 by Quarter"
   ]
  },
  {
   "cell_type": "code",
   "execution_count": null,
   "metadata": {},
   "outputs": [],
   "source": [
    "query = '''\n",
    "SELECT\n",
    "    \"DATE_DIM\".\"D_YEAR\" AS \"Date_D_YEAR\", \n",
    "    \"DATE_DIM\".\"D_QOY\" AS \"Date_D_QOY\", \n",
    "    SUM(CAST(\"STORE_SALES\".\"SS_QUANTITY\" AS DECIMAL(31,2))) AS \"Quantity__Store_Sales_\"\n",
    "FROM\n",
    "    \"DATE_DIM\" \"DATE_DIM\"\n",
    "        INNER JOIN \"STORE_SALES\" \"STORE_SALES\"\n",
    "        ON \"DATE_DIM\".\"D_DATE_SK\" = \"STORE_SALES\".\"SS_SOLD_DATE_SK\" \n",
    "WHERE \n",
    "    \"DATE_DIM\".\"D_YEAR\" IN ( \n",
    "        2000 ) \n",
    "GROUP BY \n",
    "    \"DATE_DIM\".\"D_YEAR\", \n",
    "    \"DATE_DIM\".\"D_QOY\"\n",
    "'''\n",
    "runquery(query)"
   ]
  },
  {
   "cell_type": "markdown",
   "metadata": {},
   "source": [
    "## Category, Class, and Brand Sales"
   ]
  },
  {
   "cell_type": "code",
   "execution_count": null,
   "metadata": {},
   "outputs": [],
   "source": [
    "query = '''\n",
    "SELECT\n",
    "    \"ITEM\".\"I_CATEGORY\" AS \"Items_Trimmed_Category\", \n",
    "    \"ITEM\".\"I_CLASS\" AS \"Items_Trimmed_Clasification\", \n",
    "    \"ITEM\".\"I_BRAND\" AS \"Items_Trimmed_Brand\", \n",
    "    SUM(\"STORE_SALES\".\"SS_NET_PAID\") * SUM(CAST(\"STORE_SALES\".\"SS_QUANTITY\" AS DECIMAL(31,2))) AS \"SubTotal_Revenue__Store_Sales_\"\n",
    "FROM\n",
    "    \"ITEM\" \"ITEM\"\n",
    "        INNER JOIN \"STORE_SALES\" \"STORE_SALES\"\n",
    "        ON \"ITEM\".\"I_ITEM_SK\" = \"STORE_SALES\".\"SS_ITEM_SK\" \n",
    "GROUP BY \n",
    "    \"ITEM\".\"I_CATEGORY\", \n",
    "    \"ITEM\".\"I_CLASS\", \n",
    "    \"ITEM\".\"I_BRAND\"\n",
    "'''\n",
    "runquery(query)"
   ]
  },
  {
   "cell_type": "markdown",
   "metadata": {},
   "source": [
    "## Sales by Stores in Tennesee"
   ]
  },
  {
   "cell_type": "code",
   "execution_count": null,
   "metadata": {},
   "outputs": [],
   "source": [
    "query = '''\n",
    "SELECT\n",
    "    \"STORE\".\"S_STORE_SK\" AS \"Stores_S_STORE_SK\", \n",
    "    (SUM(\"STORE_SALES\".\"SS_NET_PAID\") - SUM(CAST(\"STORE_SALES\".\"SS_WHOLESALE_COST\" AS DECIMAL(31,2)))) * SUM(CAST(\"STORE_SALES\".\"SS_QUANTITY\" AS DECIMAL(31,2)))\n",
    " AS \"SubTotal_Gross_Profit__Store_Sales_\"\n",
    "FROM\n",
    "    \"STORE\" \"STORE\"\n",
    "        INNER JOIN \"STORE_SALES\" \"STORE_SALES\"\n",
    "        ON \"STORE\".\"S_STORE_SK\" = \"STORE_SALES\".\"SS_STORE_SK\" \n",
    "WHERE \n",
    "    \"STORE\".\"S_COUNTRY\" IN ( \n",
    "        'United States' ) AND\n",
    "    \"STORE\".\"S_STATE\" IN ( \n",
    "        'TN' ) \n",
    "GROUP BY \n",
    "    \"STORE\".\"S_STORE_SK\"\n",
    "'''\n",
    "runquery(query)"
   ]
  },
  {
   "cell_type": "markdown",
   "metadata": {},
   "source": [
    "## Top 3 Item Brands by SubTotal Revenue"
   ]
  },
  {
   "cell_type": "code",
   "execution_count": null,
   "metadata": {},
   "outputs": [],
   "source": [
    "query = '''\n",
    "SELECT\n",
    "    \"ITEM\".\"I_CATEGORY\" AS \"Items_Trimmed_Category\", \n",
    "    \"ITEM\".\"I_CLASS\" AS \"Items_Trimmed_Clasification\", \n",
    "    \"ITEM\".\"I_BRAND\" AS \"Items_Trimmed_Brand\", \n",
    "    AVG(CAST(\"STORE_SALES\".\"SS_SALES_PRICE\" AS DOUBLE PRECISION)) AS \"Sales_Price__Store_Sales_\",\n",
    "    SUM(CAST(\"STORE_SALES\".\"SS_QUANTITY\" AS DECIMAL(31,2))) AS \"Quantity__Store_Sales_\"\n",
    "FROM\n",
    "    \"ITEM\" \"ITEM\"\n",
    "        INNER JOIN \"STORE_SALES\" \"STORE_SALES\"\n",
    "        ON \"ITEM\".\"I_ITEM_SK\" = \"STORE_SALES\".\"SS_ITEM_SK\" \n",
    "WHERE \n",
    "    \"ITEM\".\"I_CATEGORY\" IN ( \n",
    "        'Music', \n",
    "        'Men', \n",
    "        'Children' ) AND\n",
    "    \"ITEM\".\"I_CLASS\" IN ( \n",
    "        'accessories', \n",
    "        'classical', \n",
    "        'infants' ) AND\n",
    "    \"ITEM\".\"I_BRAND\" IN ( \n",
    "        'importoexporti #2', \n",
    "        'amalgimporto #2', \n",
    "        'edu packscholar #2' ) \n",
    "GROUP BY \n",
    "    \"ITEM\".\"I_CATEGORY\", \n",
    "    \"ITEM\".\"I_CLASS\", \n",
    "    \"ITEM\".\"I_BRAND\"\n",
    "'''\n",
    "runquery(query)"
   ]
  },
  {
   "cell_type": "markdown",
   "metadata": {},
   "source": [
    "##  Top 3 Item Brands by Wholesale Cost"
   ]
  },
  {
   "cell_type": "code",
   "execution_count": null,
   "metadata": {},
   "outputs": [],
   "source": [
    "query = '''\n",
    "SELECT\n",
    "    \"ITEM\".\"I_CATEGORY\" AS \"Items_Trimmed_Category\", \n",
    "    \"ITEM\".\"I_CLASS\" AS \"Items_Trimmed_Clasification\", \n",
    "    \"ITEM\".\"I_BRAND\" AS \"Items_Trimmed_Brand\",\n",
    "    AVG(CAST(\"STORE_SALES\".\"SS_LIST_PRICE\" AS DOUBLE PRECISION)) AS \"List_Price__Store_Sales_\",\n",
    "    SUM(CAST(\"STORE_SALES\".\"SS_WHOLESALE_COST\" AS DECIMAL(31,2))) AS \"Wholesale__Cost__\"\n",
    "FROM\n",
    "    \"ITEM\" \"ITEM\"\n",
    "        INNER JOIN \"STORE_SALES\" \"STORE_SALES\"\n",
    "        ON \"ITEM\".\"I_ITEM_SK\" = \"STORE_SALES\".\"SS_ITEM_SK\" \n",
    "WHERE \n",
    "    \"ITEM\".\"I_CATEGORY\" IN ( \n",
    "        'Music', \n",
    "        'Men', \n",
    "        'Children' ) AND\n",
    "    \"ITEM\".\"I_CLASS\" IN ( \n",
    "        'accessories', \n",
    "        'classical', \n",
    "        'infants' )  AND\n",
    "    \"ITEM\".\"I_BRAND\" IN (\n",
    "        'importoexporti #2', \n",
    "        'amalgimporto #2', \n",
    "        'edu packscholar #2' )\n",
    "GROUP BY \n",
    "    \"ITEM\".\"I_CATEGORY\", \n",
    "    \"ITEM\".\"I_CLASS\",\n",
    "    \"ITEM\".\"I_BRAND\"\n",
    "'''\n",
    "runquery(query)"
   ]
  },
  {
   "cell_type": "markdown",
   "metadata": {},
   "source": [
    "## Top 3 Item Brands by Net Profits"
   ]
  },
  {
   "cell_type": "code",
   "execution_count": null,
   "metadata": {},
   "outputs": [],
   "source": [
    "query = '''\n",
    "SELECT\n",
    "    \"ITEM\".\"I_CATEGORY\" AS \"Items_Trimmed_Category\", \n",
    "    \"ITEM\".\"I_CLASS\" AS \"Items_Trimmed_Clasification\", \n",
    "    \"ITEM\".\"I_BRAND\" AS \"Items_Trimmed_Brand\", \n",
    "    SUM(\"STORE_SALES\".\"SS_NET_PROFIT\") AS \"Net_Profit__Stor\",\n",
    "    SUM(\"STORE_SALES\".\"SS_COUPON_AMT\") AS \"Coupon_Amount__S\",\n",
    "    SUM(\"STORE_SALES\".\"SS_NET_PAID\" - CAST(\"STORE_SALES\".\"SS_WHOLESALE_COST\" AS DECIMAL(31,2))) AS \"Gross_Profit__St\"\n",
    "FROM\n",
    "    \"ITEM\" \"ITEM\"\n",
    "        INNER JOIN \"STORE_SALES\" \"STORE_SALES\"\n",
    "        ON \"ITEM\".\"I_ITEM_SK\" = \"STORE_SALES\".\"SS_ITEM_SK\" \n",
    "WHERE \n",
    "    \"ITEM\".\"I_CATEGORY\" IN ( \n",
    "        'Music', \n",
    "        'Men', \n",
    "        'Children' ) AND\n",
    "    \"ITEM\".\"I_CLASS\" IN ( \n",
    "        'accessories', \n",
    "        'classical', \n",
    "        'infants' ) AND\n",
    "    \"ITEM\".\"I_BRAND\" IN ( \n",
    "        'importoexporti #2', \n",
    "        'amalgimporto #2', \n",
    "        'edu packscholar #2' ) \n",
    "GROUP BY \n",
    "    \"ITEM\".\"I_CATEGORY\", \n",
    "    \"ITEM\".\"I_CLASS\", \n",
    "    \"ITEM\".\"I_BRAND\"\n",
    "'''\n",
    "runquery(query)"
   ]
  },
  {
   "cell_type": "markdown",
   "metadata": {},
   "source": [
    "##  Item Brand Sales by Store"
   ]
  },
  {
   "cell_type": "code",
   "execution_count": null,
   "metadata": {},
   "outputs": [],
   "source": [
    "query = '''\n",
    "SELECT\n",
    "    \"ITEM\".\"I_CATEGORY\" AS \"Items_Trimmed_Category\", \n",
    "    \"ITEM\".\"I_CLASS\" AS \"Items_Trimmed_Clasification\", \n",
    "    \"ITEM\".\"I_BRAND\" AS \"Items_Trimmed_Brand\", \n",
    "    SUM(\"STORE_SALES\".\"SS_NET_PAID\") * SUM(CAST(\"STORE_SALES\".\"SS_QUANTITY\" AS DECIMAL(31,2))) AS \"SubTotal_Revenue__Store_Sales_\"\n",
    "FROM\n",
    "    \"ITEM\" \"ITEM\"\n",
    "        INNER JOIN \"STORE_SALES\" \"STORE_SALES\"\n",
    "        ON \"ITEM\".\"I_ITEM_SK\" = \"STORE_SALES\".\"SS_ITEM_SK\" \n",
    "GROUP BY \n",
    "    \"ITEM\".\"I_CATEGORY\", \n",
    "    \"ITEM\".\"I_CLASS\", \n",
    "    \"ITEM\".\"I_BRAND\"\n",
    "'''\n",
    "runquery(query)"
   ]
  },
  {
   "cell_type": "markdown",
   "metadata": {},
   "source": [
    "#### Credits: IBM 2019, George Baklarz [baklarz@ca.ibm.com]"
   ]
  }
 ],
 "metadata": {
  "kernelspec": {
   "display_name": "Python 3",
   "language": "python",
   "name": "python3"
  },
  "language_info": {
   "codemirror_mode": {
    "name": "ipython",
    "version": 3
   },
   "file_extension": ".py",
   "mimetype": "text/x-python",
   "name": "python",
   "nbconvert_exporter": "python",
   "pygments_lexer": "ipython3",
   "version": "3.6.8"
  }
 },
 "nbformat": 4,
 "nbformat_minor": 2
}
