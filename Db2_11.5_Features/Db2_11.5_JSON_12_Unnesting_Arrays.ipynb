{
 "cells": [
  {
   "cell_type": "markdown",
   "metadata": {},
   "source": [
    "# Advanced JSON: Unnesting JSON Arrays\n",
    "Updated: 2019-10-03"
   ]
  },
  {
   "cell_type": "markdown",
   "metadata": {},
   "source": [
    "## Unnesting Arrays\n",
    "One of the challenges of dealing with JSON objects is how to handle arrays of values. The relational model was never designed to deal with a column of data that could be an array so alternate techniques have to be used.\n",
    "The `JSON_QUERY` function can be used to retrieve the entire contents of an array, while `JSON_VALUE` or `JSON_TABLE` can extract the individual elements. However, what method is available to extract all of the elements of an array when the actual array size is unknown?\n",
    "\n",
    "For example, if we have the JSON array `[\"A\",\"B\",\"C\"]` and we want to have the elements returned from an SQL query in a result set like this:\n",
    "```\n",
    "RESULTS\n",
    "-------\n",
    "A\n",
    "B\n",
    "C\n",
    "```\n",
    "How would we do this?\n",
    "\n",
    "A complete implementation of the ISO SQL definition for `JSON_TABLE` would have that function handle this case by returning multiple rows with all the other row values duplicated but the Db2 implementation of `JSON_TABLE` is not yet at that stage of maturity and cannot handle this scenario. There is an older, proprietary Db2 JSON function (unfortunately) also called `JSON_TABLE` that is part of the `SYSTOOLS` schema that can be used to generate a simple result set where each row  represents an element from the array, but this function does not return multiple values per row and is also not compliant with the ISO SQL JSON standard. \n",
    "\n",
    "So, in order to retrieve all the elements of an array as a series of independent values, we have to combine all three new ISO JSON functions (`JSON_EXISTS`, `JSON_VALUE`, `JSON_QUERY`) in a recursive SQL query to retrieve them. "
   ]
  },
  {
   "cell_type": "markdown",
   "metadata": {},
   "source": [
    "### Load Db2 Extensions and Connect to the Database\n",
    "The `connection` notebook contains the `CONNECT` statement which allows access to the `SAMPLE` database. If you need to modify the connection information, edit the `connection.ipynb` notebook."
   ]
  },
  {
   "cell_type": "code",
   "execution_count": null,
   "metadata": {},
   "outputs": [],
   "source": [
    "%run ../db2.ipynb\n",
    "%run ../connection.ipynb"
   ]
  },
  {
   "cell_type": "markdown",
   "metadata": {},
   "source": [
    "### Unnesting Simple JSON Arrays\n",
    "The first example uses the book document which contains a \"simple\" array field called formats. A simple array contains individual atomic values rather than complex objects. "
   ]
  },
  {
   "cell_type": "code",
   "execution_count": null,
   "metadata": {},
   "outputs": [],
   "source": [
    "book = {\n",
    "   \"authors\": \n",
    "     [\n",
    "       {\"first_name\": \"Paul\",  \"last_name\" : \"Bird\"},\n",
    "       {\"first_name\": \"George\",\"last_name\" : \"Baklarz\"}\n",
    "     ],\n",
    "   \"foreword\": \n",
    "     {\n",
    "       \"primary\": {\"first_name\": \"Thomas\",\"last_name\" : \"Hronis\"}\n",
    "     },\n",
    "   \"formats\": [\"Hardcover\",\"Paperback\",\"eBook\",\"PDF\"]\n",
    "}"
   ]
  },
  {
   "cell_type": "markdown",
   "metadata": {},
   "source": [
    "The \"formats\" field has four values that need to be return as a list. The following SQL uses recursion to extract the values from the array. "
   ]
  },
  {
   "cell_type": "code",
   "execution_count": null,
   "metadata": {},
   "outputs": [],
   "source": [
    "%%sql\n",
    "WITH BOOKS(INFO) AS (VALUES :book),\n",
    "FORMATS(INDEX, JSON_PATH, BOOKTYPE) AS \n",
    "(\n",
    "  SELECT \n",
    "     0, '$.formats[1]',JSON_VALUE(INFO,'$.formats[0]')\n",
    "  FROM BOOKS \n",
    "     WHERE JSON_EXISTS(INFO,'$.formats[0]') IS TRUE\n",
    "  UNION ALL\n",
    "  SELECT \n",
    "     INDEX+1, \n",
    "     '$.formats[' || TRIM(CHAR(INDEX + 2)) || ']',\n",
    "     JSON_VALUE(INFO, JSON_PATH) \n",
    "  FROM BOOKS, FORMATS\n",
    "     WHERE JSON_EXISTS(INFO, JSON_PATH) IS TRUE\n",
    ")\n",
    "SELECT BOOKTYPE FROM FORMATS"
   ]
  },
  {
   "cell_type": "markdown",
   "metadata": {},
   "source": [
    "The breakdown of the code is found below. The line numbers are shown below for reference. Note that the first line of code is not included `WITH BOOKS(INFO) AS (VALUES :book)` as it was used as a temporary table to run the SQL.\n",
    "```\n",
    "[ 1] WITH FORMATS(INDEX, JSON_PATH, BOOKTYPE) AS \n",
    "[ 2] (\n",
    "[ 3]   SELECT \n",
    "[ 4]      0, '$.formats[1]',JSON_VALUE(INFO,'$.formats[0]')\n",
    "[ 5]   FROM BOOKS \n",
    "[ 6]      WHERE JSON_EXISTS(INFO,'$.formats[0]') IS TRUE\n",
    "[ 7]   UNION ALL\n",
    "[ 8]   SELECT \n",
    "[ 9]      INDEX+1, \n",
    "[10]      '$.formats[' || TRIM(CHAR(INDEX + 2)) || ']',\n",
    "[11]      JSON_VALUE(INFO, JSON_PATH) \n",
    "[12]   FROM BOOKS, FORMATS\n",
    "[13]      WHERE JSON_EXISTS(INFO, JSON_PATH) IS TRUE\n",
    "[14] )\n",
    "[15] SELECT BOOKTYPE FROM FORMATS\n",
    "```\t"
   ]
  },
  {
   "cell_type": "markdown",
   "metadata": {},
   "source": [
    "`[1-14]` `WITH` Block\n",
    "\n",
    "The first section of code is used to initialize a recursive SQL block. Recursive SQL allows us to continually add rows to an answer set based on the results from a SQL statement that gets repeated multiple times.\n",
    "```\n",
    "[1] WITH FORMATS(INDEX, JSON_PATH, BOOKTYPE) AS\n",
    "```\n",
    "The common table expression used in this example is called `FORMATS` and contains three columns. The `INDEX` column is used to increment the array item we want to retrieve, the `JSON_PATH` is used as the path expression to find the next value, and `BOOKTYPE` is the value extracted from the array.\n",
    "\n",
    "`[3-5]` `SELECT` statement\n",
    "\n",
    "The first part of the `SELECT` statement is used to initialize the recursion by providing the first row of the result set.\n",
    "```\n",
    "[ 3]   SELECT \n",
    "[ 4]      0, '$.formats[1]',JSON_VALUE(INFO,'$.formats[0]')\n",
    "[ 5]   FROM BOOKS \n",
    "```\n",
    "The values are:\n",
    "* `INDEX = 0` – This is the first index value in an array\n",
    "* `JSON_PATH = '$.formats[1]'` – The path to the next array value\n",
    "* `BOOKTYPE = JSON_VALUE(INFO,'$.formats[0]')` – The first value in the formats array\n",
    "\n",
    "The `JSON_PATH` column is used as the path expression to find the next array value. This value could be placed directly in the SQL but since the expression is required twice, there is less likelihood of incorrect syntax! The `JSON_PATH` expression is always set to the next value that we need rather than the current one.\n",
    "\n",
    "`[6] WHERE JSON_EXISTS() IS TRUE`\n",
    "\n",
    "The `WHERE` clause is used to check whether or not the first value in the array exists. If it does not, then we return no results.\n",
    "```\n",
    "[ 6]      WHERE JSON_EXISTS(INFO,'$.formats[0]') IS TRUE\n",
    "[ 7] UNION ALL\n",
    "```\n",
    "\n",
    "The `UNION ALL` is required to make the SQL recursive in nature. As the SQL executes, it will add more rows to the `FORMATS` table and then the new rows will be acted upon by this SQL block. \n",
    " \n",
    " `[8-12]` Get the remainder of the array values\n",
    " \n",
    "This block will continue to iterate as long as there are more array values.\n",
    "```\n",
    "[ 8]   SELECT \n",
    "[ 9]      INDEX+1, \n",
    "[10]      '$.formats[' || TRIM(CHAR(INDEX + 2)) || ']',\n",
    "[11]      JSON_VALUE(INFO, JSON_PATH) \n",
    "[12]   FROM BOOKS, FORMATS\n",
    "```\n",
    "The `SELECT` statement increments the index number into the array, creates the next path expression, and retrieves the current array value.\n",
    "\n",
    "The `JSON_PATH` is generated as a character string:\n",
    "```\n",
    "[10]      '$.formats[' || TRIM(CHAR(INDEX + 2)) || ']',\n",
    "```\n",
    "\n",
    "The first portion of the string is the path to the object, concatenated with the current index value plus 2 (always one ahead of the current index value).\n",
    "The tables that are accessed by the SQL are the `BOOKS` table (with the original JSON) and the `FORMATS` table – which is what we are building recursively.\n",
    "```\n",
    "[13] WHERE JSON_EXIST() IS TRUE\n",
    "```\n",
    "\n",
    "The `WHERE` clause is used to check whether or not the current value in the array exists. If it does not exist, then we stop the recursion. This is often referred to as the stop condition in the recursion loop.\n",
    "```\n",
    "[13]      WHERE JSON_EXISTS(INFO, JSON_PATH) IS TRUE\n",
    "[15] Final SELECT statement\n",
    "```\n",
    "\n",
    "Once the recursion is done, we can retrieve the contents of the array. We refer to the `BOOKTYPE` column because that is the only value we are interested in, but if you select everything you will see the index values and path expressions that were generated as part of the SQL.\n",
    "```\n",
    "INDEX  JSON_PATH     BOOKTYPE\n",
    "-----  ------------  --------\n",
    "    0  $.formats[1]  Hardcover\n",
    "    1  $.formats[2]  Paperback\n",
    "    2  $.formats[3]  eBook\n",
    "    3  $.formats[4]  PDF\n",
    "```"
   ]
  },
  {
   "cell_type": "markdown",
   "metadata": {},
   "source": [
    "## Summary\n",
    "While there is currently no single JSON function within Db2 to retrieve all array values, the combination of `JSON_EXISTS`, `JSON_VALUE`, `JSON_TABLE`, and `JSON_QUERY` can be combined with recursive SQL to extract array objects or individual values."
   ]
  },
  {
   "cell_type": "markdown",
   "metadata": {},
   "source": [
    "#### Credits: IBM 2019, George Baklarz [baklarz@ca.ibm.com]"
   ]
  }
 ],
 "metadata": {
  "kernelspec": {
   "display_name": "Python 3",
   "language": "python",
   "name": "python3"
  },
  "language_info": {
   "codemirror_mode": {
    "name": "ipython",
    "version": 3
   },
   "file_extension": ".py",
   "mimetype": "text/x-python",
   "name": "python",
   "nbconvert_exporter": "python",
   "pygments_lexer": "ipython3",
   "version": "3.6.8"
  }
 },
 "nbformat": 4,
 "nbformat_minor": 2
}
