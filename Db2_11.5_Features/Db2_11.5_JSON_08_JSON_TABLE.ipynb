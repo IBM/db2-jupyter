{
 "cells": [
  {
   "cell_type": "markdown",
   "metadata": {},
   "source": [
    "# JSON_TABLE Function\n",
    "Updated: 2019-10-03"
   ]
  },
  {
   "cell_type": "markdown",
   "metadata": {},
   "source": [
    "## JSON Table Function\n",
    "Up to this point, the notebooks have explored functions that can be used to check for the existence of an object and retrieve individual values. While these functions can be used to retrieve all of the values within a JSON document by using multiple calls, an easier method exists in the form of the new `JSON_TABLE` function based on the ISO SQL standard. While this function does not yet implement all of the ISO `JSON_TABLE` function definition, the part that has been implemented in Db2 is still very useful and can help simplify things for you. "
   ]
  },
  {
   "cell_type": "markdown",
   "metadata": {},
   "source": [
    "### Load Db2 Extensions and Connect to the Database\n",
    "The `connection` notebook contains the `CONNECT` statement which allows access to the `SAMPLE` database. If you need to modify the connection information, edit the `connection.ipynb` notebook."
   ]
  },
  {
   "cell_type": "code",
   "execution_count": null,
   "metadata": {},
   "outputs": [],
   "source": [
    "%run ../db2.ipynb\n",
    "%run ../connection.ipynb"
   ]
  },
  {
   "cell_type": "markdown",
   "metadata": {},
   "source": [
    "### JSON_TABLE: Publishing JSON Data as a Table\n",
    "The `JSON_TABLE` function provides two ways to define a column. Regular column expressions mimic the `JSON_VALUE` function, while formatted column expressions use features from the `JSON_QUERY` function. You can have different column definitions in the same `JSON_TABLE` invocation."
   ]
  },
  {
   "cell_type": "markdown",
   "metadata": {},
   "source": [
    "***JSON_TABLE Syntax***\n",
    "![JSON_VALUE](images/JSON_TABLE.png)"
   ]
  },
  {
   "cell_type": "markdown",
   "metadata": {},
   "source": [
    "***Regular Column Expression***\n",
    "![JSON_VALUE](images/jt-regular.png)"
   ]
  },
  {
   "cell_type": "markdown",
   "metadata": {},
   "source": [
    "***Regular Empty and Error Clause***\n",
    "![JSON_VALUE](images/jt-regular-empty-clause.png)"
   ]
  },
  {
   "cell_type": "markdown",
   "metadata": {},
   "source": [
    "***Formatted Column Expression***\n",
    "![JSON_VALUE](images/jt-formatted.png)"
   ]
  },
  {
   "cell_type": "markdown",
   "metadata": {},
   "source": [
    "***Formatted Wrapper Clause***\n",
    "![JSON_VALUE](images/jt-wrapper-clause.png)"
   ]
  },
  {
   "cell_type": "markdown",
   "metadata": {},
   "source": [
    "***Formatted Quotes Clause***\n",
    "![JSON_VALUE](images/jt-quotes-clause.png)"
   ]
  },
  {
   "cell_type": "markdown",
   "metadata": {},
   "source": [
    "***Formatted Empty and Error Clause***\n",
    "![JSON_VALUE](images/jt-formatted-empty-clause.png)"
   ]
  },
  {
   "cell_type": "markdown",
   "metadata": {},
   "source": [
    "**Important Note:**\n",
    "\n",
    "There are actually two different `JSON_TABLE` functions provided with Db2, only one of which is the new ISO based function. If you are looking up `JSON_TABLE` in the Db2 documentation, make sure that you are looking at the new built-in `JSON_TABLE` table function under the `SYSIBM` schema and not the older `JSON_TABLE` under the `SYSTOOLS` schema. The former is in the SQL reference alongside the other new JSON functions while the latter is in a separate section with the other older (SYSTOOLS) JSON functions."
   ]
  },
  {
   "cell_type": "markdown",
   "metadata": {},
   "source": [
    "#### JSON Expression\n",
    "The *json-expression*, *json-path-expression* and `ON EMPTY` and `ON ERROR` clauses were discussed in earlier notebooks."
   ]
  },
  {
   "cell_type": "markdown",
   "metadata": {},
   "source": [
    "#### STRICT Path Expression\n",
    "The `JSON_TABLE` function includes a path modifier after the JSON expression. This strict path modifier is mandatory and must be included as part of the `JSON_TABLE` function (i.e. you can't use `lax` here); this is done to ensure that your current use of `JSON_TABLE` will remain compatible with the ISO standard, which has `lax` as the default when not specified, when `JSON_TABLE` is enhanced in the future. The `'strict $'` path modifier prevents multiple rows being generated in any single column definition. If you want to retrieve array values with `JSON_TABLE` then you will need to use the formatted column definition."
   ]
  },
  {
   "cell_type": "markdown",
   "metadata": {},
   "source": [
    "#### Columns\n",
    "The `COLUMNS` clause includes all of the columns that you want to derive from the JSON document. There are two types of column definitions: regular and formatted. The column definition will be described in another section."
   ]
  },
  {
   "cell_type": "markdown",
   "metadata": {},
   "source": [
    "#### ERROR ON ERROR\n",
    "The `ERROR ON ERROR` clause is mandatory at the function top level and will cause the function to raise an error in the event there is any error when retrieving values from the JSON document."
   ]
  },
  {
   "cell_type": "markdown",
   "metadata": {},
   "source": [
    "#### JSON_TABLE Minimal Syntax\n",
    "The minimum syntax of the JSON_TABLE function is:\n",
    "```sql\n",
    "SELECT T.*\n",
    "   FROM AUTHORS A, \n",
    "   JSON_TABLE(A.INFO, 'strict $'\n",
    "              COLUMNS(... column list ...) \n",
    "              ERROR ON ERROR) AS T\n",
    "```\n",
    "\n",
    "Note how the `'strict $'` and `ERROR ON ERROR` keywords must be present in order for the function to work."
   ]
  },
  {
   "cell_type": "markdown",
   "metadata": {},
   "source": [
    "#### COLUMN Definitions\n",
    "The body of the `JSON_TABLE` function includes the list of columns that you want to create from the JSON document. There are two formats of column definition available: regular and formatted. "
   ]
  },
  {
   "cell_type": "markdown",
   "metadata": {},
   "source": [
    "***Regular Column Expression***\n",
    "![JSON_VALUE](images/jt-regular.png)\n",
    "***Formatted Column Expression***\n",
    "![JSON_VALUE](images/jt-formatted.png)"
   ]
  },
  {
   "cell_type": "markdown",
   "metadata": {},
   "source": [
    "Each of these formats uses the same column name, data type and path definitions. When using formatted column expression, the FORMAT JSON specification must be used.\n",
    "\n",
    "The column can be defined in one of two ways:\n",
    "* A column name derived from a JSON path expression and a data type\n",
    "\n",
    "    `\"foreword.primary.last_name\" VARCHAR(20)`\n",
    "<p>  \n",
    "* A SQL column name with a data type and JSON path expression\n",
    "\n",
    "    `NAME VARCHAR(20) PATH \"$.foreword.primary.last_name\"`\n",
    "\n",
    "The first method can be a convenient shortcut when your JSON document has most of the data at the root (`$`.) level. The column names can become extremely long if you add index values and multi-level objects. \n",
    "\n",
    "The following example demonstrates what the output would look like when querying the first and last name of one of the authors using the column name as the path."
   ]
  },
  {
   "cell_type": "code",
   "execution_count": null,
   "metadata": {},
   "outputs": [],
   "source": [
    "book = {\n",
    "   \"authors\": [{\"first_name\": \"Paul\",  \"last_name\" : \"Bird\"},\n",
    "               {\"first_name\": \"George\",\"last_name\" : \"Baklarz\"}],\n",
    "   \"foreword\": {\n",
    "              \"primary\": {\n",
    "                          \"first_name\": \"Thomas\",\n",
    "                          \"last_name\" : \"Hronis\"\n",
    "                         }\n",
    "              },\n",
    "   \"formats\": [\"Hardcover\",\"Paperback\",\"eBook\",\"PDF\"]\n",
    "}"
   ]
  },
  {
   "cell_type": "code",
   "execution_count": null,
   "metadata": {},
   "outputs": [],
   "source": [
    "%%sql\n",
    "WITH BOOKS(INFO) AS (VALUES :book)\n",
    "SELECT T.* FROM BOOKS, \n",
    "  JSON_TABLE(INFO, 'strict $'\n",
    "    COLUMNS( \"authors[0].first_name\" VARCHAR(20),\n",
    "             \"authors[0].last_name\"  VARCHAR(20))\n",
    "    ERROR ON ERROR) AS T;"
   ]
  },
  {
   "cell_type": "markdown",
   "metadata": {},
   "source": [
    "Rewriting the query to use the PATH expression will produce the same results."
   ]
  },
  {
   "cell_type": "code",
   "execution_count": null,
   "metadata": {},
   "outputs": [],
   "source": [
    "%%sql\n",
    "WITH BOOKS(INFO) AS (VALUES :book)\n",
    "SELECT T.* FROM BOOKS, \n",
    "  JSON_TABLE(INFO, 'strict $'\n",
    "    COLUMNS( \n",
    "      FIRST_NAME VARCHAR(20) PATH '$.authors[1].first_name',\n",
    "      LAST_NAME  VARCHAR(20) PATH '$.authors[1].last_name')\n",
    "    ERROR ON ERROR) AS T;"
   ]
  },
  {
   "cell_type": "markdown",
   "metadata": {},
   "source": [
    "### Column Name\n",
    "The column name must adhere to normal Db2 naming rules:\n",
    "* Must start with a letter A-Z\n",
    "* Contains a combination of the letters A-Z, numbers. 0-9, or the underscore character \"_\"\n",
    "* Must be enclosed in double quotes (i.e. \"$salary\") if lowercase letters, a path expression, or special characters need to be used\n",
    "* Lowercase letters are always folded to uppercase in SQL unless double quotes are used\n",
    "* Maximum length of 128"
   ]
  },
  {
   "cell_type": "markdown",
   "metadata": {},
   "source": [
    "### Data Type\n",
    "The data types available to use in the column definition depends on which column format you use. \n",
    "* The regular column format can return data in any valid Db2 data type\n",
    "* The formatted column format mandates the used of the `FORMAT JSON` clause which restricts results to character strings only\n",
    "\n",
    "`FORMAT JSON` will cause the `JSON_TABLE` function to return the data as a JSON value. This is useful for returning array data or complex objects as a character string. This format only supports character strings, so you cannot materialize an individual value as a numeric value, only as its character equivalent."
   ]
  },
  {
   "cell_type": "markdown",
   "metadata": {},
   "source": [
    "### Column Path Expression\n",
    "The column path expression is identical to the *json-path-expression* that is discussed in earlier sections. The path is used to locate the object in the JSON document.\n",
    "```sql\n",
    "ADDRESS VARCHAR(300) FORMAT JSON '$.address'\n",
    "```\n",
    "The path expression must be a constant string expression – there is currently no option for using SQL variables or the contents of a column as input to the path expression. The rules for the path expression are dependent on whether you use the PATH keyword or not. \n",
    "* `PATH` 'value'\n",
    "\n",
    "   If you use the `PATH` keyword, the path expression must include the entire path including the anchor string '`$.`'.\n",
    "<p>\n",
    "* No `PATH` provided\n",
    "\n",
    "    If you do not use the `PATH` keyword, the `JSON_TABLE` function assumes that the path will be found in the column name. In the event you have included the path expression in the column name and included the `PATH` keyword, the `PATH` expression will take precedence. "
   ]
  },
  {
   "cell_type": "markdown",
   "metadata": {},
   "source": [
    "### Use of Quotes\n",
    "Db2 and JSON both use quotes in different ways. The `JSON_TABLE` function requires column names and path expressions to be delimited by quote characters. The column name can use standard Db2 naming rules and so no quotes are required. However, if you are using any special characters for a name or want any lower case letters respected in the name (e.g. a delimited column name), or are using the column name as the path expression, then you must enclose the string in double quotes \"column-name\".\n",
    "\n",
    "If you decide to use the `PATH` expression, then you must include the path expression in single quotes `'$.formats'`. The reason for the different quotes characters is due to the way Db2 handles string constants versus identifiers. A constant string is always enclosed in single quotes while delimited column identifiers use double quotes. When using a column name as a path expression, it must be surrounded by double quotes."
   ]
  },
  {
   "cell_type": "markdown",
   "metadata": {},
   "source": [
    "### Regular COLUMN Definition\n",
    "A regular column definition will extract a single SQL value from a JSON document in the same way that `JSON_VALUE` does. \n",
    "![JSON_VALUE](images/jt-regular.png)"
   ]
  },
  {
   "cell_type": "markdown",
   "metadata": {},
   "source": [
    "The path expression can be part of the column name or included as part of the `PATH` keyword. The rules for creating a `PATH` expression were described in a previous section.\n",
    "\n",
    "The data-type field is required when defining a column result. The other Db2 JSON functions will return a result based on the best data type representation for the data. In the case of the `JSON_TABLE` function, the data type must be defined, or an error will be raised. You must ensure that the size of the field is large enough to support the data being retrieved, and that it is of the proper type. "
   ]
  },
  {
   "cell_type": "markdown",
   "metadata": {},
   "source": [
    "### ON EMPTY and ON ERROR with Regular Column Definition \n",
    "When an empty or error condition is encountered when using a regular column definition, Db2 will raise one of two exceptions: `ON EMPTY` or `ON ERROR`. While there is a higher level `ON ERROR` clause for the entire `JSON_TABLE` function, each column defined can also have its own `ON EMPTY` and `ON ERROR` clause specified if so desired. As usual, which condition fires is dependent on the use of the `lax` and `strict` keywords and details can be found in an earlier notebook. \n",
    "![JSON_VALUE](images/jt-regular-empty-clause.png)\n",
    "\n",
    "The actions for these two exception handling clauses are:\n",
    "* `NULL` – Return a null value instead of an error\n",
    "* `ERROR` – Raise an error\n",
    "* `DEFAULT <value>` – Return a default value instead\n",
    "\n",
    "These actions are specified in front of the error handling clause. The default value is `NULL ON EMPTY` and `NULL ON ERROR`. The other option for handling missing values is to return a default value using the `DEFAULT` clause. \n",
    "![JSON_VALUE](images/DEFAULT.png)\n",
    "\n",
    "This option allows the function to return a value rather than a null."
   ]
  },
  {
   "cell_type": "markdown",
   "metadata": {},
   "source": [
    "### Formatted COLUMN Definition\n",
    "A formatted column expression is similar to the `JSON_QUERY` function and will extract single JSON compatible values, arrays, and objects from a JSON document. "
   ]
  },
  {
   "cell_type": "markdown",
   "metadata": {},
   "source": [
    "### Formatted Column Expression\n",
    "\n",
    "The path expression can be part of the column name or included as part of the PATH keyword. The rules for creating a PATH expression were described in a previous section.\n",
    "The data-type field is required when defining a column result. When using a formatted column definition, the data type must be a character type and the size of the field must be large enough to support the data being retrieved.\n",
    "\n",
    "![JSON_VALUE](images/jt-formatted.png)"
   ]
  },
  {
   "cell_type": "markdown",
   "metadata": {},
   "source": [
    "### Wrappers\n",
    "When using formatted column definitions, the results could end up producing a series of values. Similar to JSON_QUERY, the wrapper clause must be used to handle multiple values by making them into a JSON array. \n",
    "\n",
    "#### Formatted Wrapper Clause\n",
    "\n",
    "![JSON_VALUE](images/jt-wrapper-clause.png)\n",
    "\n",
    "There are three options when dealing with wrapping results:\n",
    "* `WITHOUT (ARRAY) WRAPPER`\n",
    "* `WITH CONDITIONAL (ARRAY) WRAPPER`\n",
    "* `WITH UNCONDITIONAL (ARRAY) WRAPPER`\n",
    "\n",
    "The `WITHOUT` clause is the default setting which means that the results will not be wrapped as an array. If the result of your search results in more than one value being returned, the function will return NULL or an error (depending on the `ON ERROR` behavior specified for the column).\n",
    "\n",
    "The two other options will create an `ARRAY WRAPPER` based on the number of values returned. An `UNCONDITIONAL WRAPPER` will always create an array of values, while a `CONDITIONAL WRAPPER` will only create an array if there are one or more elements returned or if it is an object. If the result is an array, it will not place an array wrapper \n",
    "around it. "
   ]
  },
  {
   "cell_type": "markdown",
   "metadata": {},
   "source": [
    "### Quotes\n",
    "A formatted column definition has an option to eliminate the quotes that surround character strings. \n",
    "\n",
    "![JSON_VALUE](images/jt-quotes-clause.png)\n",
    "\n",
    "There are two options:\n",
    "* `KEEP QUOTES` – The default is to keep the existing quotes\n",
    "* `OMIT QUOTES` – Remove a quotation around a string\n",
    "\n",
    "The `OMIT QUOTES` option is limited to use with the `WITHOUT ARRAY WRAPPER` clause, so multiple values cannot be returned using this keyword. "
   ]
  },
  {
   "cell_type": "markdown",
   "metadata": {},
   "source": [
    "### ON EMPTY and ON ERROR with Formatted Column Definition \n",
    "Formatted column definitions have similar `ON EMPTY` and `ON ERROR` clauses as `JSON_QUERY`. \n",
    "\n",
    "![JSON_VALUE](images/jt-formatted-empty-clause.png)\n",
    "\n",
    "The difference between the regular column definitions and formatted ones is that formatted columns do not allow for a default value other than an empty object or array.\n",
    "The actions for the `ON EMPTY` and `ON ERROR` clauses are:\n",
    "* `NULL` – Return a null instead of an error\n",
    "* `ERROR` – Raise an error\n",
    "* `EMPTY ARRAY` – Return an empty array\n",
    "* `EMPTY OBJECT` – Return an empty object\n",
    "\n",
    "Similar to the `JSON_QUERY` function, you can add more control over what is returned for missing values and for error conditions by using the `ON EMPTY` and `ON ERROR` clauses. Both of these clauses can be added to the formatted column definition. "
   ]
  },
  {
   "cell_type": "markdown",
   "metadata": {},
   "source": [
    "### JSON_TABLE Example\n",
    "The following example will retrieve contents from the CUSTOMER table using the `JSON_TABLE` function. Here is a snapshot of the CUSTOMER table with one document displayed.\n",
    "```json\n",
    "{\n",
    "    \"customerid\": 100000,\n",
    "    \"identity\":  {\n",
    "                  \"firstname\": \"Jacob\",\n",
    "                  \"lastname\": \"Hines\",\n",
    "                  \"birthdate\": \"1982-09-18\"\n",
    "                 },\n",
    "    \"contact\":   {\n",
    "                  \"street\": \"Main Street North\",\n",
    "                  \"city\": \"Amherst\",\n",
    "                  \"state\": \"OH\",\n",
    "                  \"zipcode\": \"44001\",\n",
    "                  \"email\": \"Ja.Hines@yahii.com\",\n",
    "                  \"phone\": \"813-689-8309\"\n",
    "                 },\n",
    "    \"payment\":   {\n",
    "                  \"card_type\": \"MCCD\",\n",
    "                  \"card_no\": \"4742-3005-2829-9227\"\n",
    "                 },\n",
    "    \"purchases\": [\n",
    "                   {\n",
    "                    \"tx_date\": \"2018-02-14\",\n",
    "                    \"tx_no\": 157972,\n",
    "                    \"product_id\": 1860,\n",
    "                    \"product\": \"Ugliest Snow Blower\",\n",
    "                    \"quantity\": 1,\n",
    "                    \"item_cost\": 51.86\n",
    "                   }, …additional purchases…\n",
    "                 ]\n",
    "}\n",
    "```\n",
    "The results of the JSON_TABLE function will include :\n",
    "* CUSTID (customerid) as an integer column\n",
    "* FIRST_NAME, LAST_NAME as character strings\n",
    "* STATE, ZIPCODE as character strings\n",
    "* Array of Product ID's that they have purchased\n",
    "* Restrict the results to those customers who live in OHIO (OH)"
   ]
  },
  {
   "cell_type": "markdown",
   "metadata": {},
   "source": [
    "We first check that we still have our customer table and then will insert the contents into a Db2 table."
   ]
  },
  {
   "cell_type": "code",
   "execution_count": null,
   "metadata": {},
   "outputs": [],
   "source": [
    "fname = os.getcwd() + \"/customers.js\"\n",
    "print(\"Input file: \" + fname)"
   ]
  },
  {
   "cell_type": "code",
   "execution_count": null,
   "metadata": {},
   "outputs": [],
   "source": [
    "%%sql -quiet \n",
    "DROP TABLE CUSTOMERS;\n",
    "CREATE TABLE CUSTOMERS\n",
    "  (\n",
    "  DETAILS VARCHAR(2000)\n",
    "  );"
   ]
  },
  {
   "cell_type": "markdown",
   "metadata": {},
   "source": [
    "This code will load the data into the table."
   ]
  },
  {
   "cell_type": "code",
   "execution_count": null,
   "metadata": {},
   "outputs": [],
   "source": [
    "import io\n",
    "import json\n",
    "print(\"Starting Load\")\n",
    "start_time = time.time()\n",
    "%sql autocommit off\n",
    "x = %sql prepare INSERT INTO CUSTOMERS VALUES (?)\n",
    "if (x != False):\n",
    "    i = 0\n",
    "    with open(fname,\"r\") as records:\n",
    "        for record in records:\n",
    "            i += 1\n",
    "            rc = %sql execute :x using record@char\n",
    "            if (rc == False): break\n",
    "            if ((i % 5000) == 0): \n",
    "                print(str(i)+\" rows read.\")\n",
    "                %sql commit hold\n",
    "                \n",
    "    %sql commit work  \n",
    "%sql autocommit on\n",
    "end_time = time.time()\n",
    "print('Total load time for {:d} records is {:.2f} seconds'.format(i,end_time-start_time))"
   ]
  },
  {
   "cell_type": "markdown",
   "metadata": {},
   "source": [
    "***Step 1: Filter the Results***\n",
    "The `CUSTOMERS` table contains only one column called `DETAILS` which contains the JSON document for each customer. The shell of the JSON_TABLE command looks like this:\n",
    "```sql\n",
    "SELECT RESULTS.* FROM CUSTOMERS C, \n",
    "   JSON_TABLE(DETAILS, 'strict $'\n",
    "      COLUMNS(...)\n",
    "      ERROR ON ERROR) AS RESULTS\n",
    "WHERE\n",
    "   condition\n",
    "```\n",
    "The `WHERE` condition needs to filter the rows based on the `STATE` that the customer lives in. To select the documents that quality, the `JSON_VALUE` function has to be used to check the address field within the record and match it to Ohio (OH).\n",
    "\n",
    "The SQL that is required to search for this value is:\n",
    "```sql\n",
    "WHERE JSON_VALUE(C.DETAILS,'$.contact.state' RETURNING CHAR(2)) = 'OH'\n",
    "```\n",
    "A quick check reveals that there are about 700 customers that live in Ohio.\n",
    "\n",
    "**Note:** The count is dependent on the customer records that are randomly generated."
   ]
  },
  {
   "cell_type": "code",
   "execution_count": null,
   "metadata": {},
   "outputs": [],
   "source": [
    "%%sql \n",
    "SELECT COUNT(*) FROM CUSTOMERS C\n",
    "WHERE JSON_VALUE(C.DETAILS,'$.contact.state' RETURNING CHAR(2)) = 'OH'"
   ]
  },
  {
   "cell_type": "markdown",
   "metadata": {},
   "source": [
    "***Step 2: Determine the Path Expressions***\n",
    "\n",
    "There are 6 fields that need to be returned so the JSON path expression has to be created for each one. Since we are mostly dealing with simple values and we want to return them as regular relational data types, the `PATH` expression syntax will be used in creating the regular column definitions. The first 5 fields are straightforward.\n",
    "* CUSTID (`$.customerid`)\n",
    "* FIRST_NAME (`$.identity.firstname`)\n",
    "* LAST_NAME (`$.identity.lastname`)\n",
    "* STATE (`$.contact.state`)\n",
    "* ZIPCODE (`$.contact.zipcode`)\n",
    "\n",
    "Creating the last field (Array of product IDs) needs to use a formatted column expression as it can contain multiple values. The JSON path expression for getting one product ID is: \n",
    "```json\n",
    "$.purchases[0].product_id\n",
    "```\n",
    "Since there are multiple product_id's the column expression needs to use the syntax below and wrap it in an array using the `WRAPPER` clause.\n",
    "```\n",
    "PATH '$.purchases[*].product_id' WITH UNCONDITIONAL WRAPPER\n",
    "```\n",
    "Since product_id is a numeric value in the document, there is no need to use the `OMIT QUOTES` clause. "
   ]
  },
  {
   "cell_type": "markdown",
   "metadata": {},
   "source": [
    "***Step 3: Build the COLUMNS clause***\n",
    "\n",
    "We can now combine the path expressions to create the final `JSON_TABLE` function."
   ]
  },
  {
   "cell_type": "code",
   "execution_count": null,
   "metadata": {},
   "outputs": [],
   "source": [
    "%%sql\n",
    "SELECT RESULTS.* FROM CUSTOMERS C,\n",
    "   JSON_TABLE(C.DETAILS, 'strict $'\n",
    "      COLUMNS(\n",
    "         CUSTID     INT          PATH '$.customerid',\n",
    "         FIRST_NAME VARCHAR(20)  PATH '$.identity.firstname',\n",
    "         LAST_NAME  VARCHAR(20)  PATH '$.identity.lastname',\n",
    "         STATE      CHAR(2)      PATH '$.contact.state',\n",
    "         ZIPCODE    CHAR(5)      PATH '$.contact.zipcode',\n",
    "         PURCHASES  VARCHAR(200) FORMAT JSON \n",
    "                                 PATH '$.purchases[*].product_id'\n",
    "                                 WITH UNCONDITIONAL WRAPPER \n",
    "      ) \n",
    "      ERROR ON ERROR) AS RESULTS\n",
    "WHERE JSON_VALUE(C.DETAILS,'$.contact.state' RETURNING CHAR(2)) = 'OH'"
   ]
  },
  {
   "cell_type": "markdown",
   "metadata": {},
   "source": [
    "## Summary\n",
    "The `JSON_TABLE` function can help you publish the contents of a JSON document in a form that resembles a relational table. To use the `JSON_TABLE` function, you need to determine:\n",
    "* The path expression of the fields you want to retrieve\n",
    "* The name of the derived columns\n",
    "* The format that you want use when retrieving the fields\n",
    "  * Db2 (SQL) data type (regular column expression)\n",
    "  * JSON data type (formatted column expression)\n",
    "* How to handle missing values or errors in the document\n",
    "* Any additional WHERE clause logic to limit the rows returned"
   ]
  },
  {
   "cell_type": "markdown",
   "metadata": {},
   "source": [
    "#### Credits: IBM 2019, George Baklarz [baklarz@ca.ibm.com]"
   ]
  }
 ],
 "metadata": {
  "kernelspec": {
   "display_name": "Python 3",
   "language": "python",
   "name": "python3"
  },
  "language_info": {
   "codemirror_mode": {
    "name": "ipython",
    "version": 3
   },
   "file_extension": ".py",
   "mimetype": "text/x-python",
   "name": "python",
   "nbconvert_exporter": "python",
   "pygments_lexer": "ipython3",
   "version": "3.6.8"
  }
 },
 "nbformat": 4,
 "nbformat_minor": 2
}
