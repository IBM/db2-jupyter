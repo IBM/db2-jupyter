{
 "cells": [
  {
   "cell_type": "markdown",
   "metadata": {},
   "source": [
    "# Storing JSON Documents in Db2\n",
    "Updated: 2019-09-14"
   ]
  },
  {
   "cell_type": "markdown",
   "metadata": {},
   "source": [
    "### Load Db2 Extensions and Connect to the Database\n",
    "The `connection` notebook contains the `CONNECT` statement which allows access to the `SAMPLE` database. If you need to modify the connection information, edit the `connection.ipynb` notebook."
   ]
  },
  {
   "cell_type": "code",
   "execution_count": null,
   "metadata": {},
   "outputs": [],
   "source": [
    "%run ../db2.ipynb\n",
    "%run ../connection.ipynb"
   ]
  },
  {
   "cell_type": "markdown",
   "metadata": {},
   "source": [
    "## Inserting and Retrieving JSON Documents\n",
    "Inserting a JSON value into a Db2 table can be done through a variety of methods including `LOAD`. In the previous section, the Db2 `IMPORT` command was used to move character JSON data into a table. If the Db2 column has been defined as a character field, you can use the `INSERT` statement without any additional modification."
   ]
  },
  {
   "cell_type": "code",
   "execution_count": null,
   "metadata": {},
   "outputs": [],
   "source": [
    "%%sql -q\n",
    "DROP TABLE CUSTOMERS;\n",
    "CREATE TABLE CUSTOMERS \n",
    "(\n",
    "  CUSTOMER_ID INT,\n",
    "  CUSTOMER_INFO VARCHAR(2000)\n",
    ");\n",
    "\n",
    "INSERT INTO CUSTOMERS VALUES \n",
    "(\n",
    "  1,\n",
    "  '{\"customerid\": 100001,\n",
    "    \"identity\": \n",
    "      {\n",
    "        \"firstname\": \"Kelly\",\n",
    "        \"lastname\" : \"Gilmore\",\n",
    "        \"birthdate\": \"1973-08-25\"\n",
    "      }\n",
    "   }'\n",
    ");"
   ]
  },
  {
   "cell_type": "markdown",
   "metadata": {},
   "source": [
    "### JSON_TO_BSON and BSON_TO_JSON\n",
    "If you decide to store the data in binary format, you must use the `JSON_TO_BSON` function to convert the JSON into the proper format. You also have the option of using an external BSON library to convert the string and insert the value directly into the column (i.e. Db2 is not involved in the conversion). "
   ]
  },
  {
   "cell_type": "code",
   "execution_count": null,
   "metadata": {},
   "outputs": [],
   "source": [
    "%%sql -q\n",
    "DROP TABLE CUSTOMERS;\n",
    "CREATE TABLE CUSTOMERS \n",
    "(\n",
    "  CUSTOMER_ID INT,\n",
    "  CUSTOMER_INFO VARBINARY(2000)\n",
    ");\n",
    "\n",
    "INSERT INTO CUSTOMERS VALUES \n",
    "(\n",
    "  1,\n",
    "  JSON_TO_BSON('{\"customerid\": 100001,\n",
    "                  \"identity\": \n",
    "                     {\n",
    "                     \"firstname\": \"Kelly\",\n",
    "                     \"lastname\" :  \"Gilmore\",\n",
    "                     \"birthdate\": \"1973-08-25\"\n",
    "                     }\n",
    "                }')\n",
    ");"
   ]
  },
  {
   "cell_type": "markdown",
   "metadata": {},
   "source": [
    "To retrieve an entire JSON document from a character field, you can use a standard `SELECT` statement. If the field is in BSON format, you must use the `BSON_TO_JSON` function to have it converted back into a readable format."
   ]
  },
  {
   "cell_type": "code",
   "execution_count": null,
   "metadata": {},
   "outputs": [],
   "source": [
    "%sql -j SELECT BSON_TO_JSON(CUSTOMER_INFO) FROM CUSTOMERS"
   ]
  },
  {
   "cell_type": "markdown",
   "metadata": {},
   "source": [
    "Retrieving the data requires the use of the `BSON_TO_JSON` function to convert it back to a text format."
   ]
  },
  {
   "cell_type": "markdown",
   "metadata": {},
   "source": [
    "### Invalid JSON Detection\n",
    "One of the advantages of using the new Db2 JSON functions is that you can store the data as either character (JSON) strings, or as binary (BSON) data. However, if you insert a document as a JSON character string, no checking will be done against the validity of the document until you attempt to use a JSON function against it. The following example attempts to retrieve the name field from a JSON document:"
   ]
  },
  {
   "cell_type": "code",
   "execution_count": null,
   "metadata": {},
   "outputs": [],
   "source": [
    "%sql VALUES JSON_VALUE('{\"name\": George}','$.name')"
   ]
  },
  {
   "cell_type": "markdown",
   "metadata": {},
   "source": [
    "From a JSON format perspective, this should fail as the value `George` is not quoted and is also not a valid number.  Surprisingly, the result of the above statement will be the `NULL` value which will seem wrong at first until you realize that the default error handling clause for any ISO JSON statement is to return a `null` by default. \n",
    "\n",
    "\n",
    "\n",
    "If a document needs to be checked for validity during insert, then the `JSON_TO_BSON` function can be used. The following example uses the `VALUES` clause to generate an error on an invalid JSON document. "
   ]
  },
  {
   "cell_type": "code",
   "execution_count": null,
   "metadata": {},
   "outputs": [],
   "source": [
    "%sql VALUES JSON_TO_BSON('{\"name\": George}');"
   ]
  },
  {
   "cell_type": "markdown",
   "metadata": {},
   "source": [
    "The Db2 `JSON_TO_BSON` function will check the structure of the JSON document to ensure it is in the proper format. You can write a simple function that can be used to check whether or not a character string is valid JSON:"
   ]
  },
  {
   "cell_type": "code",
   "execution_count": null,
   "metadata": {},
   "outputs": [],
   "source": [
    "%%sql -d\n",
    "CREATE OR REPLACE FUNCTION CHECK_JSON(JSON CLOB)\n",
    "  RETURNS INTEGER\n",
    "  CONTAINS SQL LANGUAGE SQL  \n",
    "  DETERMINISTIC\n",
    "  NO EXTERNAL ACTION\n",
    "BEGIN\n",
    "  DECLARE RC BOOLEAN;\n",
    "  DECLARE EXIT HANDLER FOR SQLEXCEPTION RETURN(FALSE);\n",
    "  SET RC = JSON_EXISTS(JSON,'$' ERROR ON ERROR);\n",
    "  RETURN(TRUE);\n",
    "END"
   ]
  },
  {
   "cell_type": "markdown",
   "metadata": {},
   "source": [
    "The SQL to check the previous string would look like this:"
   ]
  },
  {
   "cell_type": "code",
   "execution_count": null,
   "metadata": {},
   "outputs": [],
   "source": [
    "%%sql\n",
    "VALUES \n",
    "  CASE CHECK_JSON('{\"name\": George}')\n",
    "    WHEN FALSE THEN 'Bad JSON' \n",
    "    WHEN TRUE  THEN 'Okay JSON' \n",
    "  END;"
   ]
  },
  {
   "cell_type": "markdown",
   "metadata": {},
   "source": [
    "The function can be incorporated into a table definition as part of a check constraint."
   ]
  },
  {
   "cell_type": "code",
   "execution_count": null,
   "metadata": {},
   "outputs": [],
   "source": [
    "%%sql -q\n",
    "DROP TABLE TESTJSON;\n",
    "CREATE TABLE TESTJSON \n",
    "(\n",
    "  JSON_IN VARCHAR(1000) CONSTRAINT CHECK_JSON CHECK(CHECK_JSON(JSON_IN))\n",
    ");"
   ]
  },
  {
   "cell_type": "markdown",
   "metadata": {},
   "source": [
    "Attempting to insert an invalid JSON document would result in the following error message being returned:"
   ]
  },
  {
   "cell_type": "code",
   "execution_count": null,
   "metadata": {},
   "outputs": [],
   "source": [
    "%sql INSERT INTO TESTJSON VALUES '{\"name\": George}';"
   ]
  },
  {
   "cell_type": "markdown",
   "metadata": {},
   "source": [
    "The user-defined function uses the `JSON_EXISTS` function. `JSON_EXISTS` allows you to check whether or not a valid JSON key exists within a document for the provided search path. You can use the result of this function to determine if the contents of a JSON document are consistent with your expectations and to decide whether or not to take further action or retrieve the value. You can also use this function to validate that the JSON document is properly formed."
   ]
  },
  {
   "cell_type": "markdown",
   "metadata": {},
   "source": [
    "### Summary\n",
    "JSON data can be stored in Db2 in either character or binary format. The actual storage format doesn't matter when using the JSON functions. If you want to store data in BSON format, you can use external BSON conversion libraries, or use the built-in `JSON_TO_BSON` function and the corresponding `BSON_TO_JSON` function to convert it back."
   ]
  },
  {
   "cell_type": "markdown",
   "metadata": {},
   "source": [
    "#### Credits: IBM 2019, George Baklarz [baklarz@ca.ibm.com]"
   ]
  }
 ],
 "metadata": {
  "kernelspec": {
   "display_name": "Python 3",
   "language": "python",
   "name": "python3"
  },
  "language_info": {
   "codemirror_mode": {
    "name": "ipython",
    "version": 3
   },
   "file_extension": ".py",
   "mimetype": "text/x-python",
   "name": "python",
   "nbconvert_exporter": "python",
   "pygments_lexer": "ipython3",
   "version": "3.7.3"
  }
 },
 "nbformat": 4,
 "nbformat_minor": 2
}
