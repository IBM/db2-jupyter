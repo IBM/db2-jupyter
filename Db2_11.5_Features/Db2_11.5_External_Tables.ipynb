{
 "cells": [
  {
   "cell_type": "markdown",
   "metadata": {},
   "source": [
    "<a id=\"top\"></a>"
   ]
  },
  {
   "cell_type": "markdown",
   "metadata": {
    "hideCode": false,
    "hidePrompt": false
   },
   "source": [
    "# Db2 11.5 External Tables\n",
    "Updated: 2019-10-15"
   ]
  },
  {
   "cell_type": "markdown",
   "metadata": {
    "hideCode": false,
    "hidePrompt": false
   },
   "source": [
    "### External Tables\n",
    "Db2 11.5 introduces support for External tables. External tables are objects that reside on a local or remote file system that Db2 can create or read as if they were standard SQL tables. The advantage of using external tables for Extraction-Transformation-Loading (ETL) processes is that they can be carried out using plain SQL. Because an SQL-based ETL process can be initiated from any SQL client, it eliminates the need for special ETL tools.\n",
    "\n",
    "Use an external table to: \n",
    "* Load data from an external file into a table in the database\n",
    "* Unload data from the database into an external file\n",
    "* Store data outside the database while retaining the ability to query that data\n",
    "\n",
    "External Table Usage:\n",
    "* Use a FROM clause in a SELECT SQL statement as you would for any other table\n",
    "* Specify the external table as the target table in one of the following SQL statements:\n",
    "  - INSERT SQL\n",
    "  - SELECT INTO SQL\n",
    "  - CREATE EXTERNAL TABLE AS SELECT SQL\n",
    "\n",
    "* You can perform operations such as casts, joins, and dropping columns to manipulate data during loading\n"
   ]
  },
  {
   "cell_type": "markdown",
   "metadata": {},
   "source": [
    "### Load Db2 Extensions and Connect to the Database\n",
    "The `connection` notebook contains the `CONNECT` statement which allows access to the `SAMPLE` database. If you need to modify the connection information, edit the `connection.ipynb` notebook."
   ]
  },
  {
   "cell_type": "code",
   "execution_count": null,
   "metadata": {},
   "outputs": [],
   "source": [
    "%run ../db2.ipynb\n",
    "%run ../connection.ipynb"
   ]
  },
  {
   "cell_type": "markdown",
   "metadata": {},
   "source": [
    "Retrieving the name of the notebook user for future use."
   ]
  },
  {
   "cell_type": "code",
   "execution_count": null,
   "metadata": {},
   "outputs": [],
   "source": [
    "current_user_rs = %sql -r VALUES CURRENT USER\n",
    "schema = current_user_rs[1][0] # 'DB2USER1'\n",
    "print(\"Connected user is: \" + schema)"
   ]
  },
  {
   "cell_type": "markdown",
   "metadata": {},
   "source": [
    "### External Table Path\n",
    "In order for Db2 to access external tables, it must be given the relative access path for these objects. The next cell will get the current path that we are running in. This path will then be used to update the Database `EXTBL_LOCATION` field so that the reads and writes to external tables will run."
   ]
  },
  {
   "cell_type": "code",
   "execution_count": null,
   "metadata": {},
   "outputs": [],
   "source": [
    "import os\n",
    "notebook_directory = os.path.abspath('.')\n",
    "print('The current notebook directory is ' + notebook_directory)"
   ]
  },
  {
   "cell_type": "markdown",
   "metadata": {},
   "source": [
    "To allow simultaneous users to access the external table directory, we are going to use `DB2INST1` home directory as the location of all of the files. "
   ]
  },
  {
   "cell_type": "code",
   "execution_count": null,
   "metadata": {},
   "outputs": [],
   "source": [
    "db2inst1_directory = '/home/db2inst1'"
   ]
  },
  {
   "cell_type": "markdown",
   "metadata": {},
   "source": [
    "We create a string that will update the database configuration so that the `DB2INST1` directory will be used as the directory for all files."
   ]
  },
  {
   "cell_type": "code",
   "execution_count": null,
   "metadata": {},
   "outputs": [],
   "source": [
    "admin_cmd = 'UPDATE DB CONFIG FOR SAMPLE USING EXTBL_LOCATION \"' + db2inst1_directory + '\" IMMEDIATE'"
   ]
  },
  {
   "cell_type": "markdown",
   "metadata": {},
   "source": [
    "The following SQL will use the Db2 `ADMIN_CMD` to update the database setting to allow for reading and writing of external files to this directory."
   ]
  },
  {
   "cell_type": "code",
   "execution_count": null,
   "metadata": {},
   "outputs": [],
   "source": [
    "%sql CALL ADMIN_CMD({admin_cmd})"
   ]
  },
  {
   "cell_type": "markdown",
   "metadata": {},
   "source": [
    "### External Table Files\n",
    "The three files that are used for the external table examples will be copied from the notebook directory to the `DB2INST1` home directory. If copies of the files already exist, they will not be replaced. If you do want to replace the existing files, remove the `-u` flag from the command."
   ]
  },
  {
   "cell_type": "code",
   "execution_count": null,
   "metadata": {},
   "outputs": [],
   "source": [
    "cmd = \"cp -uf {0}/*.csv {1}\".format(notebook_directory, db2inst1_directory)\n",
    "print(cmd)\n",
    "!{cmd}"
   ]
  },
  {
   "cell_type": "markdown",
   "metadata": {},
   "source": [
    "### Stocks Tables\n",
    "The following examples will use two files to demonstrate the use of External tables. The two files are:\n",
    "- Stock Data - Information for all opening and closing values for the DJIA average in 2018\n",
    "- Stock Labels - Full name of the stock indexes\n",
    "The files are located within this notebook directory so when refering to these files in Db2 we must supply an absolute address, not a relative one to Db2."
   ]
  },
  {
   "cell_type": "markdown",
   "metadata": {},
   "source": [
    "### Absolute Path\n",
    "We need to use the absolute path of a file for use with Db2, so we create the full paths for the two files."
   ]
  },
  {
   "cell_type": "code",
   "execution_count": null,
   "metadata": {},
   "outputs": [],
   "source": [
    "import os\n",
    "djia_2018    = \"{0}/{1}\".format(db2inst1_directory,\"djia-2018.csv\")\n",
    "djia_symbols = \"{0}/{1}\".format(db2inst1_directory,\"djia-symbols.csv\")\n",
    "print(djia_2018)\n",
    "print(djia_symbols)"
   ]
  },
  {
   "cell_type": "markdown",
   "metadata": {},
   "source": [
    "The first step is to verify the files and display the first 5 lines of each file."
   ]
  },
  {
   "cell_type": "code",
   "execution_count": null,
   "metadata": {},
   "outputs": [],
   "source": [
    "import csv\n",
    "from itertools import islice\n",
    "\n",
    "print(\"Stock Values\")\n",
    "print(\"------------\")\n",
    "with open(djia_symbols) as csvfile:\n",
    "    reader = csv.DictReader(csvfile)\n",
    "    for row in islice(reader, 5): # first 5 only\n",
    "        print(row['Symbol'], row['Company Name'])\n",
    "\n",
    "print(\"\")\n",
    "print(\"Stock Symbols\")\n",
    "print(\"-------------\")\n",
    "with open(djia_2018) as csvfile:\n",
    "    reader = csv.DictReader(csvfile)\n",
    "    for row in islice(reader, 5): # first 5 only\n",
    "        print(row['Stock'], row['Date'], row['High'], row['Low'], row['Open'], row['Close'], row['Volume'])"
   ]
  },
  {
   "cell_type": "markdown",
   "metadata": {},
   "source": [
    "### Using SELECT (Transient) statements against External Tables\n",
    "The following SQL will read the data from the `SYMBOLS` table and display it in a grid."
   ]
  },
  {
   "cell_type": "code",
   "execution_count": null,
   "metadata": {},
   "outputs": [],
   "source": [
    "%%sql -grid\n",
    "SELECT * FROM EXTERNAL :djia_symbols (\n",
    "    SYMBOL VARCHAR(10),\n",
    "    NAME   VARCHAR(255)\n",
    "    )\n",
    "    USING ( DELIMITER ',' STRING_DELIMITER DOUBLE SKIP_ROWS 1 NOLOG TRUE )"
   ]
  },
  {
   "cell_type": "markdown",
   "metadata": {},
   "source": [
    "This next SQL statement will retrieve all of the data from the 2018 stock transactions."
   ]
  },
  {
   "cell_type": "code",
   "execution_count": null,
   "metadata": {},
   "outputs": [],
   "source": [
    "%%sql\n",
    "SELECT * FROM EXTERNAL :djia_2018 (\n",
    "    SYMBOL    VARCHAR(4),\n",
    "    TX_DATE   DATE,\n",
    "    HIGH_VAL  DEC(9,2),\n",
    "    LOW_VAL   DEC(9,2),\n",
    "    OPEN_VAL  DEC(9,2),\n",
    "    CLOSE_VAL DEC(9,2),\n",
    "    VOLUME    INT\n",
    "    )\n",
    "    USING ( DELIMITER ',' STRING_DELIMITER DOUBLE SKIP_ROWS 1 NOLOG TRUE )"
   ]
  },
  {
   "cell_type": "markdown",
   "metadata": {},
   "source": [
    "### Cataloging External Tables\n",
    "The previous examples used a transient form of external table. The external table definition only existed during the execution of the SQL statement. Rather than define the external table every time, you have the option of cataloging the external table. When the external table is cataloged, you refer to it in the same way as a standard SQL table. The underlying file is checked at execution time, so it is possible that this file changes from day to day. Only when the SQL is executed is the existence of the file checked."
   ]
  },
  {
   "cell_type": "code",
   "execution_count": null,
   "metadata": {},
   "outputs": [],
   "source": [
    "%%sql \n",
    "DROP TABLE DJIA_2018;\n",
    "DROP TABLE DJIA_SYMBOLS;"
   ]
  },
  {
   "cell_type": "markdown",
   "metadata": {},
   "source": [
    "The `CREATE EXTERNAL TABLE` uses the same syntax as the transient example shown earlier. The only difference is that we are creating an actual entry in the Db2 catalog that will refer to this external table."
   ]
  },
  {
   "cell_type": "code",
   "execution_count": null,
   "metadata": {},
   "outputs": [],
   "source": [
    "%%sql\n",
    "CREATE EXTERNAL TABLE DJIA_2018  \n",
    "    (\n",
    "    SYMBOL    VARCHAR(4),\n",
    "    TX_DATE   DATE,\n",
    "    HIGH_VAL  DEC(9,2),\n",
    "    LOW_VAL   DEC(9,2),\n",
    "    OPEN_VAL  DEC(9,2),\n",
    "    CLOSE_VAL DEC(9,2),\n",
    "    VOLUME    INT\n",
    "    )\n",
    "    USING ( DELIMITER ',' STRING_DELIMITER DOUBLE SKIP_ROWS 1 FILE_NAME :djia_2018 NOLOG TRUE );\n",
    "\n",
    "CREATE EXTERNAL TABLE DJIA_SYMBOLS  \n",
    "    (\n",
    "    SYMBOL VARCHAR(4),\n",
    "    NAME   VARCHAR(255)\n",
    "    )\n",
    "    USING ( DELIMITER ',' STRING_DELIMITER DOUBLE SKIP_ROWS 1 FILE_NAME :djia_symbols NOLOG TRUE ) ;"
   ]
  },
  {
   "cell_type": "markdown",
   "metadata": {},
   "source": [
    "The external tables can now be referenced in a SQL statement in the same way as any other SQL table. External tables cannot be indexed or be part of summary tables. \n",
    "\n",
    "The next SQL statement retrieves only the transactions that exceeded 180 in value and belonged to AAPL."
   ]
  },
  {
   "cell_type": "code",
   "execution_count": null,
   "metadata": {},
   "outputs": [],
   "source": [
    "%sql -grid select * from djia_2018 where symbol='AAPL' and close_val > 180"
   ]
  },
  {
   "cell_type": "markdown",
   "metadata": {},
   "source": [
    "Since these external tables are cataloged and look like any other SQL table, we can include joins and other calculations on the columns."
   ]
  },
  {
   "cell_type": "code",
   "execution_count": null,
   "metadata": {},
   "outputs": [],
   "source": [
    "%%sql -grid\n",
    "SELECT S.NAME, MAX(HIGH_VAL) AS HIGH, MIN(LOW_VAL) AS LOW, MAX(VOLUME) AS MAX_VOLUME, MIN(VOLUME) AS MIN_VOLUME\n",
    "  FROM DJIA_SYMBOLS S, DJIA_2018 T\n",
    "WHERE\n",
    "  S.SYMBOL = T.SYMBOL\n",
    "GROUP BY S.NAME"
   ]
  },
  {
   "cell_type": "markdown",
   "metadata": {},
   "source": [
    "## Additional External Table Scenarios\n",
    "This section will explore some additional ways of using External tables. The `product_txs.csv` file contains approximately 100000 transactions that will be queried in this section. \n",
    "\n",
    "The first step is to get the absolute file location of the product file."
   ]
  },
  {
   "cell_type": "code",
   "execution_count": null,
   "metadata": {},
   "outputs": [],
   "source": [
    "import os\n",
    "product_txs    = \"{0}/{1}\".format(db2inst1_directory,\"product_txs.csv\")"
   ]
  },
  {
   "cell_type": "markdown",
   "metadata": {},
   "source": [
    "We check to make sure that we have access to the external file with the following SQL statement. Note that we can restrict the number of records being returned either with the `USING MAXROWS` clause of the external table statement, or by using the SQL `FETCH FIRST` syntax."
   ]
  },
  {
   "cell_type": "code",
   "execution_count": null,
   "metadata": {},
   "outputs": [],
   "source": [
    "%%sql -grid\n",
    "SELECT * FROM EXTERNAL :product_txs\n",
    "  ( \n",
    "  RECEIPT_ID BIGINT, \n",
    "  TX_DATE    CHAR(10),\n",
    "  TX_NO      INT,\n",
    "  PRODUCT_ID INT,\n",
    "  PRODUCT    VARCHAR(100), \n",
    "  QUANTITY   INT ,\n",
    "  ITEM_COST  DEC(15,2)\n",
    "  ) \n",
    "  USING ( DELIMITER ',' SKIPROWS 1 NOLOG TRUE ) \n",
    "FETCH FIRST 100 ROWS ONLY"
   ]
  },
  {
   "cell_type": "markdown",
   "metadata": {},
   "source": [
    "To make our life easier, we will create a catalog entry for this external table."
   ]
  },
  {
   "cell_type": "code",
   "execution_count": null,
   "metadata": {},
   "outputs": [],
   "source": [
    "%%sql  \n",
    "DROP TABLE PRODUCT_TXS;\n",
    "CREATE EXTERNAL TABLE PRODUCT_TXS\n",
    "  ( \n",
    "  RECEIPT_ID BIGINT, \n",
    "  TX_DATE    CHAR(10),\n",
    "  TX_NO      INT,\n",
    "  PRODUCT_ID INT,\n",
    "  PRODUCT    VARCHAR(100), \n",
    "  QUANTITY   INT ,\n",
    "  ITEM_COST  DEC(15,2)\n",
    "  ) \n",
    "  USING ( DATAOBJECT :product_txs DELIMITER ',' SKIPROWS 1 NOLOG TRUE )  "
   ]
  },
  {
   "cell_type": "markdown",
   "metadata": {},
   "source": [
    "We should now be able to retrieve data from this table using standard SQL syntax."
   ]
  },
  {
   "cell_type": "code",
   "execution_count": null,
   "metadata": {},
   "outputs": [],
   "source": [
    "%sql SELECT * FROM PRODUCT_TXS FETCH FIRST 10 ROWS ONLY"
   ]
  },
  {
   "cell_type": "markdown",
   "metadata": {},
   "source": [
    "For reference, let's see how many records are found in the product table."
   ]
  },
  {
   "cell_type": "code",
   "execution_count": null,
   "metadata": {},
   "outputs": [],
   "source": [
    "result = %sql -r -nq SELECT COUNT(*) FROM PRODUCT_TXS\n",
    "product_count = result[1][0]\n",
    "print(product_count)"
   ]
  },
  {
   "cell_type": "markdown",
   "metadata": {},
   "source": [
    "## Merging Data From an External Table into a Database Table\n",
    "The following SQL will merge data from the external table into an existing table. One shortcut that you can use with external tables is through the use of the `LIKE` clause. If a table already exists that has the same columns as the external table, you can use its definition rather than explicitly typing them out.\n",
    "\n",
    "The real table that we are going to use is called `ASSOC_TRANS` and will be used as a template for our external table."
   ]
  },
  {
   "cell_type": "code",
   "execution_count": null,
   "metadata": {},
   "outputs": [],
   "source": [
    "%%sql \n",
    "DROP TABLE ASSOC_TRANS;\n",
    "CREATE TABLE ASSOC_TRANS\n",
    "  ( \n",
    "  RECEIPT_ID BIGINT, \n",
    "  TX_DATE    CHAR(10),\n",
    "  TX_NO      INT,\n",
    "  PRODUCT_ID INT,\n",
    "  PRODUCT    VARCHAR(100), \n",
    "  QUANTITY   INT ,\n",
    "  ITEM_COST  DEC(15,2)\n",
    "  ) \n",
    "NOT LOGGED INITIALLY"
   ]
  },
  {
   "cell_type": "markdown",
   "metadata": {},
   "source": [
    "The transactions in the external table that are not `Rake` are inserted into the `ASSOC_TRANS` table."
   ]
  },
  {
   "cell_type": "code",
   "execution_count": null,
   "metadata": {},
   "outputs": [],
   "source": [
    "%%sql\n",
    "MERGE INTO ASSOC_TRANS T_OLD \n",
    "USING (\n",
    "      SELECT * FROM EXTERNAL :product_txs\n",
    "         LIKE ASSOC_TRANS USING ( DELIMITER ',' SKIPROWS 1 NOLOG TRUE )\n",
    "      WHERE PRODUCT <> 'Rake'\n",
    "      ) AS T_NEW \n",
    "ON (T_OLD.RECEIPT_ID = T_NEW.RECEIPT_ID and T_OLD.TX_NO = T_NEW.TX_NO) \n",
    "WHEN NOT MATCHED THEN \n",
    "  INSERT (RECEIPT_ID, TX_DATE, TX_NO, PRODUCT_ID, PRODUCT, QUANTITY, ITEM_COST) \n",
    "    VALUES (T_NEW.RECEIPT_ID, T_NEW.TX_DATE, T_NEW.TX_NO, T_NEW.PRODUCT_ID, T_NEW.PRODUCT,\n",
    "            T_NEW.QUANTITY, T_NEW.ITEM_COST)"
   ]
  },
  {
   "cell_type": "markdown",
   "metadata": {},
   "source": [
    "At this point the table should contain all records except the ones that were for `Rake`. We do a quick count to see how many records there are."
   ]
  },
  {
   "cell_type": "code",
   "execution_count": null,
   "metadata": {},
   "outputs": [],
   "source": [
    "%sql SELECT COUNT(*) FROM ASSOC_TRANS"
   ]
  },
  {
   "cell_type": "markdown",
   "metadata": {},
   "source": [
    "The next SQL statement will merge all of the records from the external table into this regular SQL table. If the record already exists, it will be ignored, otherwise it will be inserted into the table."
   ]
  },
  {
   "cell_type": "code",
   "execution_count": null,
   "metadata": {},
   "outputs": [],
   "source": [
    "%%sql \n",
    "MERGE INTO ASSOC_TRANS T_OLD \n",
    "USING (\n",
    "      SELECT * FROM EXTERNAL :product_txs \n",
    "         LIKE ASSOC_TRANS USING ( DELIMITER ',' SKIPROWS 1 NOLOG TRUE )\n",
    "      ) AS T_NEW \n",
    "ON (T_OLD.RECEIPT_ID = T_NEW.RECEIPT_ID and T_OLD.TX_NO = T_NEW.TX_NO) \n",
    "WHEN NOT MATCHED THEN \n",
    "  INSERT (RECEIPT_ID, TX_DATE, TX_NO, PRODUCT_ID, PRODUCT, QUANTITY, ITEM_COST) \n",
    "    VALUES (T_NEW.RECEIPT_ID, T_NEW.TX_DATE, T_NEW.TX_NO, T_NEW.PRODUCT_ID, T_NEW.PRODUCT,\n",
    "            T_NEW.QUANTITY, T_NEW.ITEM_COST)\n",
    "ELSE IGNORE"
   ]
  },
  {
   "cell_type": "markdown",
   "metadata": {},
   "source": [
    "Now let's find out how many records there are in the `ASSOC_TRANS` table and compare that to the original size of the external product table."
   ]
  },
  {
   "cell_type": "code",
   "execution_count": null,
   "metadata": {},
   "outputs": [],
   "source": [
    "%sql SELECT COUNT(*) FROM ASSOC_TRANS;"
   ]
  },
  {
   "cell_type": "markdown",
   "metadata": {},
   "source": [
    "The product count should be the same."
   ]
  },
  {
   "cell_type": "code",
   "execution_count": null,
   "metadata": {},
   "outputs": [],
   "source": [
    "print(product_count)"
   ]
  },
  {
   "cell_type": "markdown",
   "metadata": {},
   "source": [
    "## Creating an External Table\n",
    "You can create external tables by using the `CREATE EXTERNAL TABLE ... AS SELECT...` syntax. The SELECT can contain any arbitrary SQL so the statements can become very complex. You must ensure that Db2 has write access to the directory where the file will be written out to.\n",
    "\n",
    "First we must define the name of the external table that we want to write to. In order to do that, we generate a path that includes the current directory and append the schema (owner) and the name of the file to it."
   ]
  },
  {
   "cell_type": "code",
   "execution_count": null,
   "metadata": {},
   "outputs": [],
   "source": [
    "dumpfile = \"{0}/{1}_dump.csv\".format(db2inst1_directory,schema)\n",
    "print(dumpfile)"
   ]
  },
  {
   "cell_type": "markdown",
   "metadata": {},
   "source": [
    "The next SQL statement will output the contents of the `ASSOC_TRANS` table to the external file. You can limit the amount of data that gets written with the `USING` clause, or you can use SQL options to limit it."
   ]
  },
  {
   "cell_type": "code",
   "execution_count": null,
   "metadata": {},
   "outputs": [],
   "source": [
    "%%sql \n",
    "CREATE EXTERNAL TABLE :dumpfile \n",
    "  USING ( DELIMITER '|' NOLOG TRUE ) \n",
    "  AS SELECT * FROM ASSOC_TRANS FETCH FIRST 100 ROWS ONLY"
   ]
  },
  {
   "cell_type": "markdown",
   "metadata": {},
   "source": [
    "You must make sure you have the proper permissions to read the file if using anything outside of the Db2 environment. The file that was generated was created under the `CONNECT` userid for this notebook. If you used `DB2INST1` then only that user can access the file. The following code will fail if the current user is not authorized to read the file."
   ]
  },
  {
   "cell_type": "code",
   "execution_count": null,
   "metadata": {},
   "outputs": [],
   "source": [
    "try:\n",
    "    file  = open(dumpfile)\n",
    "    file_contents = file.read(100)\n",
    "    print(file_contents)\n",
    "    file.close()\n",
    "except Exception as e:\n",
    "    print(\"Open failed\")\n",
    "    print(e)"
   ]
  },
  {
   "cell_type": "markdown",
   "metadata": {},
   "source": [
    "However, as a SQL user, you can read it!"
   ]
  },
  {
   "cell_type": "code",
   "execution_count": null,
   "metadata": {},
   "outputs": [],
   "source": [
    "%%sql\n",
    "SELECT * FROM EXTERNAL :dumpfile LIKE ASSOC_TRANS USING ( DELIMITER '|' SKIPROWS 1 NOLOG TRUE ) "
   ]
  },
  {
   "cell_type": "markdown",
   "metadata": {},
   "source": [
    "[Back to Top](#top)\n",
    "<a id='function'></a>"
   ]
  },
  {
   "cell_type": "markdown",
   "metadata": {},
   "source": [
    "#### Credits: IBM 2019, George Baklarz [baklarz@ca.ibm.com], Phil Downey [phil.downey1@ibm.com]"
   ]
  }
 ],
 "metadata": {
  "hide_code_all_hidden": false,
  "kernelspec": {
   "display_name": "Python 3",
   "language": "python",
   "name": "python3"
  },
  "language_info": {
   "codemirror_mode": {
    "name": "ipython",
    "version": 3
   },
   "file_extension": ".py",
   "mimetype": "text/x-python",
   "name": "python",
   "nbconvert_exporter": "python",
   "pygments_lexer": "ipython3",
   "version": "3.6.8"
  }
 },
 "nbformat": 4,
 "nbformat_minor": 2
}
