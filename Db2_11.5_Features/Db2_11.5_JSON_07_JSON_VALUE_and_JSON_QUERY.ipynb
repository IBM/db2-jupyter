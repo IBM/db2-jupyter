{
 "cells": [
  {
   "cell_type": "markdown",
   "metadata": {},
   "source": [
    "# JSON_VALUE and JSON_QUERY Functions"
   ]
  },
  {
   "cell_type": "markdown",
   "metadata": {},
   "source": [
    "## Extracting Individual JSON Elements\n",
    "\n",
    "Db2 provides two scalar functions that allow you to extract individual JSON elements from a JSON document in either their native JSON appearance or as an SQL value ready for use in a relational application or SQL statement.\n",
    "* `JSON_VALUE` function is used to retrieve a single SQL value from a JSON document\n",
    "* `JSON_QUERY` function is used to retrieve a single JSON value or JSON object from a JSON document"
   ]
  },
  {
   "cell_type": "markdown",
   "metadata": {},
   "source": [
    "## JSON_VALUE: Retrieving Individual Values \n",
    "The `JSON_VALUE` function is used to retrieve a single value from a JSON document in the form of a \"native\" SQL data type which can be directly referenced by a user application like any other SQL data value or it can be embedded within another SQL statement. \n",
    "\n",
    "This function implicitly converts the returning value from its original JSON format to the identified Db2 data type. Since it is a scalar function, `JSON_VALUE` will only return a single value and, if the evaluation of the JSON path expression results multiple JSON values being returned, `JSON_VALUE` will return an error."
   ]
  },
  {
   "cell_type": "markdown",
   "metadata": {},
   "source": [
    "***JSON_VALUE Syntax***\n",
    "![JSON_VALUE](images/JSON_VALUE.png)\n",
    "\n",
    "***Returning Clause***\n",
    "![JSON_VALUE](images/jv-returning-clause.png)\n",
    "\n",
    "***Empty and Error Clause***\n",
    "![JSON_VALUE](images/jv-empty-clause.png)"
   ]
  },
  {
   "cell_type": "markdown",
   "metadata": {},
   "source": [
    "### JSON Expression and JSON Path expression\n",
    "The *json-expression* and *json-path-expression* were discussed in previous notebooks.\n",
    "\n",
    "### RETURNING Clause\n",
    "The `RETURNING` clause is an optional part of the `JSON_VALUE` function and indicates what SQL data type should be used to format the JSON value retrieved by the function. If you want to have the results returned as a specific data type, then you need to supply this parameter otherwise  Db2 will return a large character field (CLOB). \n",
    "\n",
    "The `RETURNING` clause can contain any of the data types that are supported within Db2. You must ensure that the size of the output data type is large enough to support the data being retrieved, and that it is of the proper type. \n",
    "The following book document is used to illustrate the use of the `JSON_VALUE` function."
   ]
  },
  {
   "cell_type": "code",
   "execution_count": null,
   "metadata": {},
   "outputs": [],
   "source": [
    "book = {\n",
    "   \"authors\": [{\"first_name\": \"Paul\",  \"last_name\" : \"Bird\"},\n",
    "               {\"first_name\": \"George\",\"last_name\" : \"Baklarz\"}],\n",
    "   \"foreword\": {\n",
    "              \"primary\": {\n",
    "                          \"first_name\": \"Thomas\",\n",
    "                          \"last_name\" : \"Hronis\"\n",
    "                         }\n",
    "              },\n",
    "   \"formats\": [\"Hardcover\",\"Paperback\",\"eBook\",\"PDF\"]\n",
    "}"
   ]
  },
  {
   "cell_type": "markdown",
   "metadata": {},
   "source": [
    "### Load Db2 Extensions and Connect to the Database\n",
    "The `connection` notebook contains the `CONNECT` statement which allows access to the `SAMPLE` database. If you need to modify the connection information, edit the `connection.ipynb` notebook."
   ]
  },
  {
   "cell_type": "code",
   "execution_count": null,
   "metadata": {},
   "outputs": [],
   "source": [
    "%run ../db2.ipynb\n",
    "%run ../connection.ipynb"
   ]
  },
  {
   "cell_type": "markdown",
   "metadata": {},
   "source": [
    "To retrieve the first book format, we must include the array element number."
   ]
  },
  {
   "cell_type": "code",
   "execution_count": null,
   "metadata": {},
   "outputs": [],
   "source": [
    "%sql VALUES JSON_VALUE(:book,'$.formats[0]');"
   ]
  },
  {
   "cell_type": "markdown",
   "metadata": {},
   "source": [
    "You can specify how you want to return this value by providing a `RETURNING` clause. This example requests that the string be returned as VARCHAR(100):"
   ]
  },
  {
   "cell_type": "code",
   "execution_count": null,
   "metadata": {},
   "outputs": [],
   "source": [
    "%sql VALUES JSON_VALUE(:book,'$.formats[0]' RETURNING VARCHAR(100))"
   ]
  },
  {
   "cell_type": "markdown",
   "metadata": {},
   "source": [
    "A good practice is to specify the `RETURNING` clause for values that you know the exact type for, and you should always use the `RETURNING` clause to convert numeric strings into proper SQL data types. For example, consider a phone extension that is stored as a string in the JSON document:"
   ]
  },
  {
   "cell_type": "code",
   "execution_count": null,
   "metadata": {},
   "outputs": [],
   "source": [
    "%sql VALUES JSON_VALUE('{\"extension\": \"000010\"}','$.extension');"
   ]
  },
  {
   "cell_type": "markdown",
   "metadata": {},
   "source": [
    "The `JSON_VALUE` function will return this value as a character string by default (since it is returning it as value compatible with a CLOB). If you want this returned as an integer, then you will need to add the `RETURNING INT` clause to the function."
   ]
  },
  {
   "cell_type": "code",
   "execution_count": null,
   "metadata": {},
   "outputs": [],
   "source": [
    "%sql VALUES JSON_VALUE('{\"extension\": \"000010\"}','$.extension' RETURNING INT)"
   ]
  },
  {
   "cell_type": "markdown",
   "metadata": {},
   "source": [
    "### ON EMPTY and ON ERROR Clause\n",
    "When an empty or error condition is encountered, Db2 will raise one of two exceptions: `ON EMPTY` or `ON ERROR`. Which condition fires is dependent on the use of the `lax` and `strict` keywords in the path expression (details can be found in the notebook that discussed `JSON_EXISTS`)\n",
    "\n",
    "The actions for these two exception handling clauses are:\n",
    "* NULL – Return a null value instead of an error\n",
    "* ERROR – Raise an error\n",
    "* DEFAULT <value> – Return a default value instead\n",
    "    \n",
    "These actions are specified in front of the error handling clause. The default value is `NULL ON EMPTY` and `NULL ON ERROR`. The other option for handling missing values is to return a default value using the `DEFAULT` clause. \n",
    "\n",
    "This option allows the function to return a value rather than a null. \n",
    "\n",
    "![JSON_VALUE](images/DEFAULT.png)\n",
    "\n",
    "\n",
    "The following SQL will return a default value when a middle name cannot be found in the document."
   ]
  },
  {
   "cell_type": "code",
   "execution_count": null,
   "metadata": {},
   "outputs": [],
   "source": [
    "%%sql\n",
    "VALUES JSON_VALUE(:book,'lax $.foreword.primary.middle_name' \n",
    "   DEFAULT 'No middle initial' ON EMPTY);"
   ]
  },
  {
   "cell_type": "markdown",
   "metadata": {},
   "source": [
    "When using the `DEFAULT` clause, make sure to include a `RETURNING` clause which matches the data type of default value to avoid conversion errors."
   ]
  },
  {
   "cell_type": "markdown",
   "metadata": {},
   "source": [
    "### Examples\n",
    "The following book document will be used to illustrate how the `JSON_VALUE` function is used."
   ]
  },
  {
   "cell_type": "code",
   "execution_count": null,
   "metadata": {},
   "outputs": [],
   "source": [
    "book = {\n",
    "  \"authors\": \n",
    "    [\n",
    "      {\"first_name\": \"Paul\",  \"last_name\" : \"Bird\"},\n",
    "      {\"first_name\": \"George\",\"last_name\" : \"Baklarz\"}\n",
    "    ],\n",
    "  \"foreword\": \n",
    "    {\n",
    "      \"primary\": {\"first_name\": \"Thomas\",\"last_name\" : \"Hronis\"}\n",
    "    },\n",
    "  \"formats\":\n",
    "    {\n",
    "      \"hardcover\": 19.99,\n",
    "      \"paperback\":  9.99,\n",
    "      \"ebook\"    :  1.99,\n",
    "      \"pdf\"      :  1.99\n",
    "    }\n",
    "}"
   ]
  },
  {
   "cell_type": "markdown",
   "metadata": {},
   "source": [
    "***Retrieve the First Name of the Author of the Foreword Section***\n",
    "\n",
    "The dot notation is used to traverse along the foreword object and retrieve the first name of the primary author. "
   ]
  },
  {
   "cell_type": "code",
   "execution_count": null,
   "metadata": {},
   "outputs": [],
   "source": [
    "%sql VALUES JSON_VALUE(:book,'$.foreword.primary.first_name')"
   ]
  },
  {
   "cell_type": "markdown",
   "metadata": {},
   "source": [
    "***Retrieve the Last Name of the Second Author of the Book***\n",
    "\n",
    "Indexes start at zero so the second author would require a value of 1 in the index field."
   ]
  },
  {
   "cell_type": "code",
   "execution_count": null,
   "metadata": {},
   "outputs": [],
   "source": [
    "%sql VALUES JSON_VALUE(:book,'$.authors[1].last_name')"
   ]
  },
  {
   "cell_type": "markdown",
   "metadata": {},
   "source": [
    "***What is the Cost of a Paperback Version of the Book?***\n",
    "\n",
    "Using the `JSON_VALUE` function with the `RETURNING` clause will return all values as character strings (CLOB)."
   ]
  },
  {
   "cell_type": "code",
   "execution_count": null,
   "metadata": {},
   "outputs": [],
   "source": [
    "%sql VALUES JSON_VALUE(:book,'$.formats.paperback');"
   ]
  },
  {
   "cell_type": "markdown",
   "metadata": {},
   "source": [
    "If you want to retrieve the data as a numeric value, then you must use the `RETURNING` clause."
   ]
  },
  {
   "cell_type": "code",
   "execution_count": null,
   "metadata": {},
   "outputs": [],
   "source": [
    "%sql VALUES JSON_VALUE(:book,'$.formats.paperback' RETURNING DEC(9,2));"
   ]
  },
  {
   "cell_type": "markdown",
   "metadata": {},
   "source": [
    "***Get the Last Name of the Foreword Author using Array Notation***\n",
    "\n",
    "The following statement will work with the default lax mode since Db2 will ignore the structural problems (specifying an index when there is \n",
    "no array)."
   ]
  },
  {
   "cell_type": "code",
   "execution_count": null,
   "metadata": {},
   "outputs": [],
   "source": [
    "%sql VALUES JSON_VALUE(:book,'$.foreword[0].primary.last_name');"
   ]
  },
  {
   "cell_type": "markdown",
   "metadata": {},
   "source": [
    "Switching to strict mode will cause the statement to fail and return a `NULL` value (`NULL ON ERROR` is the default)."
   ]
  },
  {
   "cell_type": "code",
   "execution_count": null,
   "metadata": {},
   "outputs": [],
   "source": [
    "%sql VALUES JSON_VALUE(:book,'strict $.foreword[0].primary.last_name')"
   ]
  },
  {
   "cell_type": "markdown",
   "metadata": {},
   "source": [
    "## JSON_QUERY: Retrieving Objects and Arrays\n",
    "Because `JSON_VALUE` is a scalar function which is returning values using native Db2 data types, it is limited to retrieving atomic or individual values from within a document. In order to extract native JSON values, which can include complex ones such as multiple array values or entire JSON objects, you must use the `JSON_QUERY` function. The `JSON_QUERY` function has a similar syntax as JSON_VALUE but adds some modifiers to handle complex results such as arrays. \n",
    "\n",
    "This function implicitly returns values in their original JSON or BSON format. Since it is a scalar function, `JSON_QUERY` can only return a single JSON value as its result; if the evaluation of the JSON path expression results multiple, independent JSON values being returned, `JSON_QUERY` will process this as an error."
   ]
  },
  {
   "cell_type": "markdown",
   "metadata": {},
   "source": [
    "***JSON_QUERY Syntax***\n",
    "![JSON_QUERY](images/JSON_QUERY.png)\n",
    "\n",
    "***Returning Clause***\n",
    "![JSON_QUERY](images/jq-returning-clause.png)\n",
    "\n",
    "***Wrapper Clause***\n",
    "![JSON_QUERY](images/jq-wrapper-clause.png)\n",
    "\n",
    "***Quotes Clause***\n",
    "![JSON_QUERY](images/jq-quotes-clause.png)\n",
    "\n",
    "***Empty and Error Clause***\n",
    "![JSON_QUERY](images/jq-empty-clause.png)"
   ]
  },
  {
   "cell_type": "markdown",
   "metadata": {},
   "source": [
    "### JSON Expression and JSON Path Expression\n",
    "The *json-expression* and *json-path-expression* were discussed in previous notebooks.\n",
    "\n",
    "Note that the `ARRAY` keyword in the wrapper clause is not required when using the `JSON_QUERY` function but is included to maintain ISO SQL compatibility. "
   ]
  },
  {
   "cell_type": "markdown",
   "metadata": {},
   "source": [
    "### RETURNING Clause\n",
    "The `RETURNING` clause is an optional part of the `JSON_QUERY` function. By default, the `JSON_QUERY` function returns the value as a character string (or binary if you choose `FORMAT BSON`). If you are extracting an individual value, then you can only specify a character or binary data type with the `RETURNING` clause. `JSON_VALUE` provides more flexibility with individual values, so if you need to return a value as something other than a character string, you should consider using that function instead.\n",
    "\n",
    "The `RETURNING` clause includes the optional `FORMAT JSON` or `FORMAT BSON` specification. This clause will tell the function to return the values as a character JSON value or convert it to a binary BSON format. If the `FORMAT BSON` clause is used, the data type in the `RETURNING` clause must be binary (`VARBINARY`, `BLOB`). \n",
    "\n",
    "The following query will retrieve the price of the paperbook version of a book."
   ]
  },
  {
   "cell_type": "code",
   "execution_count": null,
   "metadata": {},
   "outputs": [],
   "source": [
    "%sql VALUES JSON_QUERY(:book,'$.formats.paperback');"
   ]
  },
  {
   "cell_type": "markdown",
   "metadata": {},
   "source": [
    "While the result above looks like a number, it is actually a character string, and trying to do any calculations on it will produce an error."
   ]
  },
  {
   "cell_type": "code",
   "execution_count": null,
   "metadata": {},
   "outputs": [],
   "source": [
    "%sql VALUES JSON_QUERY(:book,'$.formats.paperback') * 10;"
   ]
  },
  {
   "cell_type": "markdown",
   "metadata": {},
   "source": [
    "### Wrappers\n",
    "`JSON_QUERY` can be used to retrieve individual values from a document, but its strength is in handling more complex types. `JSON_QUERY` function has the ability to return multiple JSON values as a single JSON object through the use of the array wrapper clause. This clause allows you to \"wrap\" multiple values returned from the JSON document into a single JSON array type. There are three options when dealing with wrapping results:\n",
    "* WITHOUT (ARRAY) WRAPPER\n",
    "* WITH CONDITIONAL (ARRAY) WRAPPER \n",
    "* WITH UNCONDITIONAL (ARRAY) WRAPPER\n",
    "\n",
    "The `WITHOUT` clause is the default setting which means that the results will not be wrapped as an array regardless of how many JSON values are returned. If the result of your search is more than one value, the function will treat this as an error and follow the behavior set in the `ON ERROR` clause (which is `NULL` by default).\n",
    "\n",
    "The two other options will create an `ARRAY WRAPPER` based on the number of values returned. An `UNCONDITIONAL WRAPPER` will always create an array of values, while a `CONDITIONAL WRAPPER` will only create an array if there are one or more elements returned or if it is an object. If the result is an array, it will not place an array wrapper around it. "
   ]
  },
  {
   "cell_type": "markdown",
   "metadata": {},
   "source": [
    "To demonstrate the way the `WRAPPER` clause is handled, the following formats and primary document snippets will used."
   ]
  },
  {
   "cell_type": "code",
   "execution_count": null,
   "metadata": {},
   "outputs": [],
   "source": [
    "formats = {\"formats\": [\"Hardcover\",\"Paperback\",\"eBook\",\"PDF\"]}\n",
    "primary = {\"primary\": {\"first_name\": \"Thomas\",\"last_name\" : \"Hronis\"}}"
   ]
  },
  {
   "cell_type": "markdown",
   "metadata": {},
   "source": [
    "***Retrieve the Formats Array (Default Settings)***\n",
    "\n",
    "The entire contents of an object, array, or an individual value can be retrieved with the `JSON_QUERY` function without the need of a wrapper. The following statement will retrieve the complete contents of the formats array. This is possible a JSON array is itself considered a single JSON value, the value associated with the \"formats\" key, even though that value is a complex one."
   ]
  },
  {
   "cell_type": "code",
   "execution_count": null,
   "metadata": {},
   "outputs": [],
   "source": [
    "%sql -j VALUES JSON_QUERY(:formats, '$.formats' WITHOUT WRAPPER);"
   ]
  },
  {
   "cell_type": "markdown",
   "metadata": {},
   "source": [
    "Adding the `WITH CONDITIONAL WRAPPER` clause will ensure that the results will be wrapped as an array `[]` if it is required. The following SQL will return the same results as the previous example that did not specify a wrapper. Since the object is already a JSON array, there is no need to place the array characters around it."
   ]
  },
  {
   "cell_type": "code",
   "execution_count": null,
   "metadata": {},
   "outputs": [],
   "source": [
    "%sql -j VALUES JSON_QUERY(:formats, '$.formats' WITH CONDITIONAL WRAPPER);"
   ]
  },
  {
   "cell_type": "markdown",
   "metadata": {},
   "source": [
    "The final example uses the `UNCONDITIONAL ARRAY WRAPPER` which will force the `JSON_QUERY` function to add the array wrapper around the result, regardless of the type of data being returned."
   ]
  },
  {
   "cell_type": "code",
   "execution_count": null,
   "metadata": {},
   "outputs": [],
   "source": [
    "%sql -j VALUES JSON_QUERY(:formats, '$.formats' WITH UNCONDITIONAL WRAPPER);"
   ]
  },
  {
   "cell_type": "markdown",
   "metadata": {},
   "source": [
    "***Retrieve ALL Formats in the Document***\n",
    "\n",
    "Using the asterisk (`*`) in a path expression will normally result in multiple keywords matching and thus, multiple independent JSON values being returned. If you do not specify a wrapper setting, `JSON_QUERY` will default to `WITHOUT WRAPPER` and an error is assumed. In this example, the `NULL` value will be returned as the default setting is `NULL ON ERROR`."
   ]
  },
  {
   "cell_type": "code",
   "execution_count": null,
   "metadata": {},
   "outputs": [],
   "source": [
    "%sql VALUES JSON_QUERY(:formats, '$.formats[*]' WITHOUT WRAPPER);"
   ]
  },
  {
   "cell_type": "markdown",
   "metadata": {},
   "source": [
    "Adding `WITH CONDITIONAL` or `WITH UNCONDITIONAL` to the function will result in an array containing all the independent values as elements being returned by the function."
   ]
  },
  {
   "cell_type": "code",
   "execution_count": null,
   "metadata": {},
   "outputs": [],
   "source": [
    "%sql -j VALUES JSON_QUERY(:formats, '$.formats[*]' WITH CONDITIONAL WRAPPER)"
   ]
  },
  {
   "cell_type": "code",
   "execution_count": null,
   "metadata": {},
   "outputs": [],
   "source": [
    "%sql -j VALUES JSON_QUERY(:formats, '$.formats[*]' WITH UNCONDITIONAL WRAPPER)"
   ]
  },
  {
   "cell_type": "markdown",
   "metadata": {},
   "source": [
    "***Retrieve an Individual Object***\n",
    "\n",
    "To retrieve a single JSON value, whether it is simple or complex, you can use the defaults of the `JSON_QUERY` function."
   ]
  },
  {
   "cell_type": "code",
   "execution_count": null,
   "metadata": {},
   "outputs": [],
   "source": [
    "book = {\n",
    "  \"authors\": \n",
    "    [\n",
    "      {\"first_name\": \"Paul\",  \"last_name\" : \"Bird\"},\n",
    "      {\"first_name\": \"George\",\"last_name\" : \"Baklarz\"}\n",
    "    ],\n",
    "  \"foreword\": \n",
    "    {\n",
    "      \"primary\": {\"first_name\": \"Thomas\",\"last_name\" : \"Hronis\"}\n",
    "    },\n",
    "  \"formats\":\n",
    "    {\n",
    "      \"hardcover\": 19.99,\n",
    "      \"paperback\":  9.99,\n",
    "      \"ebook\"    :  1.99,\n",
    "      \"pdf\"      :  1.99\n",
    "    }\n",
    "}"
   ]
  },
  {
   "cell_type": "code",
   "execution_count": null,
   "metadata": {},
   "outputs": [],
   "source": [
    "%sql -j VALUES JSON_QUERY(:book,'$.authors');"
   ]
  },
  {
   "cell_type": "markdown",
   "metadata": {},
   "source": [
    "The results of the function is a JSON array of values as a character string. Retrieving all values from the formats array field results in the following:"
   ]
  },
  {
   "cell_type": "code",
   "execution_count": null,
   "metadata": {},
   "outputs": [],
   "source": [
    "%sql -j VALUES JSON_QUERY(:book,'$.formats' );"
   ]
  },
  {
   "cell_type": "markdown",
   "metadata": {},
   "source": [
    "If we added wildcard characters to retrieve all of the last_names in the authors object, the `JSON_QUERY` function would return a null value:"
   ]
  },
  {
   "cell_type": "code",
   "execution_count": null,
   "metadata": {},
   "outputs": [],
   "source": [
    "%sql VALUES JSON_QUERY(:book,'$.authors[*].last_name') "
   ]
  },
  {
   "cell_type": "markdown",
   "metadata": {},
   "source": [
    "`JSON_QUERY` returns a null value because the path indicates that each possible match is to be returned as an independent result which means that multiple values will be returned in this case and the `ON ERROR` clause is followed (which in this case returns an empty value). You must explicitly state that the results are WRAPPED in an array."
   ]
  },
  {
   "cell_type": "code",
   "execution_count": null,
   "metadata": {},
   "outputs": [],
   "source": [
    "%sql -j VALUES JSON_QUERY(:book,'$.authors[*].last_name' WITH CONDITIONAL WRAPPER) "
   ]
  },
  {
   "cell_type": "markdown",
   "metadata": {},
   "source": [
    "### Quotes\n",
    "The `JSON_QUERY` function has an option to eliminate the quotes that are required to surround character strings in JSON. \n",
    "\n",
    "![JSON_QUERY](images/jq-quotes-clause.png)\n",
    "\n",
    "There are two options:\n",
    "* `KEEP QUOTES` – The default is to keep the existing quotes\n",
    "* `OMIT QUOTES` – Remove a quotation around a string\n",
    "\n",
    "The `OMIT QUOTES` option is limited to use with the `WITHOUT ARRAY WRAPPER` clause, so multiple values cannot be returned using this keyword. This option is used when you are retrieving a single JSON character value, which by definition must have quotes, and you either want to implicitly convert it to a JSON numeric value (e.g. \"123\" to 123) or you plan to use the value directly as a character SQL data value.\n",
    "\n",
    "The previous set of queries against the authors object are shown with the `JSON_QUERY` function modified to `OMIT QUOTES`:"
   ]
  },
  {
   "cell_type": "code",
   "execution_count": null,
   "metadata": {},
   "outputs": [],
   "source": [
    "%sql VALUES JSON_QUERY(:book,'$.authors[0].last_name' WITHOUT ARRAY WRAPPER OMIT QUOTES)"
   ]
  },
  {
   "cell_type": "markdown",
   "metadata": {},
   "source": [
    "#### Using OMIT QUOTES with JSON_QUERY \n",
    "\n",
    "|Path|Description|Result\n",
    "|:---|:----------|:-----\n",
    "|`$.authors[*].last_name`|Get all author last names|Null\n",
    "|`$.authors[0].*`|Get first and last name from author #1|Null\n",
    "|`$.authors[*].*`|Get all first and last names|Null\n",
    "|`$.authors[1].last_name`|Last name of author #2|Baklarz\n",
    "|`$.authors[0]`|Return the entire author object for author #1|`{ \"first_name\" : \"Paul\", \"last_name\" : \"Bird\" }`\n",
    "\n",
    "The `OMIT QUOTES` clause does not allow for multiple values to be returned so any JSON path expression with more than one value will result in a null result."
   ]
  },
  {
   "cell_type": "markdown",
   "metadata": {},
   "source": [
    "### ON EMPTY and ON ERROR Clause\n",
    "`JSON_QUERY` has similar `ON EMPTY` and `ON ERROR` clauses as `JSON_VALUE`. The difference between the two functions is that `JSON_QUERY` does not allow for a default value other than an empty object or array. \n",
    "\n",
    "![JSON_QUERY](images/jq-empty-clause.png)\n",
    "\n",
    "Which condition fires is dependent on the use of the `lax` and `strict` keywords and details can be found in the notebook on `JSON_EXISTS`.\n",
    "\n",
    "The actions for these two error handling clauses are:\n",
    "* `NULL` – Return a null instead of an error\n",
    "* `ERROR` – Raise an error\n",
    "* `EMPTY ARRAY` – Return an empty array\n",
    "* `EMPTY OBJECT` – Return an empty object\n",
    "\n",
    "These actions are specified in front of the error handling clause. The default value is `NULL ON EMPTY` and `NULL ON ERROR`. The other option for handling missing values is to return an `EMPTY ARRAY` or an `EMPTY` object. You cannot return a scalar value as a default value.\n",
    "\n",
    "This SQL will return an empty array when no **middle_name** is found and `strict` is being used for the path expression. "
   ]
  },
  {
   "cell_type": "code",
   "execution_count": null,
   "metadata": {},
   "outputs": [],
   "source": [
    "%%sql -j\n",
    "VALUES JSON_QUERY(:book,'strict $.foreword.primary.middle_name' \n",
    "   EMPTY ARRAY ON ERROR)"
   ]
  },
  {
   "cell_type": "markdown",
   "metadata": {},
   "source": [
    "The other alternative is to return an empty object:"
   ]
  },
  {
   "cell_type": "code",
   "execution_count": null,
   "metadata": {},
   "outputs": [],
   "source": [
    "%%sql -j\n",
    "VALUES JSON_QUERY(:book,'strict $.foreword.primary.middle_name' \n",
    "   EMPTY OBJECT ON ERROR) "
   ]
  },
  {
   "cell_type": "markdown",
   "metadata": {},
   "source": [
    "If `lax` was used in the expression above, it would raise an `ON EMPTY` condition instead of `ON ERROR`, so the SQL would need to be modified:"
   ]
  },
  {
   "cell_type": "code",
   "execution_count": null,
   "metadata": {},
   "outputs": [],
   "source": [
    "%%sql -j\n",
    "VALUES JSON_QUERY(:book,'lax $.foreword.primary.middle_name' \n",
    "   ERROR ON EMPTY EMPTY OBJECT ON ERROR)"
   ]
  },
  {
   "cell_type": "markdown",
   "metadata": {},
   "source": [
    "## Summary\n",
    "The `JSON_VALUE` and `JSON_QUERY` functions provide ways of retrieving individual values or objects from within a document. The `JSON_VALUE` function is used for extracting individual values from a JSON document and returning it as any of the supported Db2 data types, while `JSON_QUERY` is used to retrieve native JSON objects, arrays needed for subsequent JSON data operations."
   ]
  },
  {
   "cell_type": "markdown",
   "metadata": {},
   "source": [
    "#### Credits: IBM 2019, George Baklarz [baklarz@ca.ibm.com]"
   ]
  }
 ],
 "metadata": {
  "kernelspec": {
   "display_name": "Python 3",
   "language": "python",
   "name": "python3"
  },
  "language_info": {
   "codemirror_mode": {
    "name": "ipython",
    "version": 3
   },
   "file_extension": ".py",
   "mimetype": "text/x-python",
   "name": "python",
   "nbconvert_exporter": "python",
   "pygments_lexer": "ipython3",
   "version": "3.7.3"
  }
 },
 "nbformat": 4,
 "nbformat_minor": 2
}
