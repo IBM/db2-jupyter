{
 "cells": [
  {
   "cell_type": "markdown",
   "metadata": {},
   "source": [
    "<a id=\"top\"></a>"
   ]
  },
  {
   "cell_type": "markdown",
   "metadata": {
    "hideCode": false,
    "hidePrompt": false
   },
   "source": [
    "# Db2 11.5 SQL Enhancements\n",
    "Updated: 2019-10-03"
   ]
  },
  {
   "cell_type": "markdown",
   "metadata": {
    "hideCode": false,
    "hidePrompt": false
   },
   "source": [
    "### SQL Enhancements\n",
    "Moving from one database vendor to another can sometimes be difficult due to syntax differences between data types, functions, and language elements. Db2 already has a high degree of compatibility with Oracle PLSQL along with some of the Oracle data types. \n",
    "\n",
    "Db2 11.5 introduces some additional data type and function compatibility that will reduce some of the migration effort required when porting from other systems. "
   ]
  },
  {
   "cell_type": "markdown",
   "metadata": {},
   "source": [
    "### Load Db2 Extensions and Connect to the Database\n",
    "The `connection` notebook contains the `CONNECT` statement which allows access to the `SAMPLE` database. If you need to modify the connection information, edit the `connection.ipynb` notebook."
   ]
  },
  {
   "cell_type": "code",
   "execution_count": null,
   "metadata": {
    "hideCode": false,
    "hideOutput": false,
    "hidePrompt": false
   },
   "outputs": [],
   "source": [
    "%run ../db2.ipynb\n",
    "%run ../connection.ipynb"
   ]
  },
  {
   "cell_type": "markdown",
   "metadata": {},
   "source": [
    "We populate the database with the EMPLOYEE and DEPARTMENT tables so that we can run the various examples."
   ]
  },
  {
   "cell_type": "code",
   "execution_count": null,
   "metadata": {},
   "outputs": [],
   "source": [
    "%sql -sampledata"
   ]
  },
  {
   "cell_type": "markdown",
   "metadata": {},
   "source": [
    "# Table of Contents\n",
    "\n",
    "* [If NOT EXISTS](#ifnotexists)\n",
    "\n",
    "* [If EXISTS](#ifexists)\n",
    "\n",
    "* [Columnar Data Types](#blobclob)\n",
    "\n",
    "* [Quote Identifiers and Literals](#quotes)\n",
    "\n",
    "* [Oracle Compatibility Libraries](#oracle)"
   ]
  },
  {
   "cell_type": "markdown",
   "metadata": {},
   "source": [
    "<a id='ifnotexists'></a>"
   ]
  },
  {
   "cell_type": "markdown",
   "metadata": {
    "hideCode": false,
    "hidePrompt": false
   },
   "source": [
    "## IF NOT EXISTS\n",
    "\n",
    "The `IF NOT EXISTS` clause is used during table creation. This SQL specifies that no error message is shown when the table cannot be created because a table with the specified name already exists in the current database and schema. Note that the existing table and the specified table in the command are not compared so the application must ensure that the target table and rows are as expected.\n",
    "```sql\n",
    "CREATE TABLE IF NOT EXISTS CUSTOMER …\n",
    "```\n",
    "\n",
    "Use this option for scripted applications that are running SQL commands. This syntax will suppress the **Table already exists** error message, so the scripted application is not impacted or halted.\n",
    "\n",
    "You cannot use the `IF NOT EXISTS` option with the `AS SELECT` clause. \n",
    "\n",
    "Unless other errors prevent the creation of the table, a `CREATE TABLE` message is returned although no table is created. An error code is ignored if a table with the specified name already exists.\n",
    "\n",
    "This SQL will delete an existing table and then re-create it."
   ]
  },
  {
   "cell_type": "code",
   "execution_count": null,
   "metadata": {
    "hideCode": false,
    "hidePrompt": false
   },
   "outputs": [],
   "source": [
    "%%sql \n",
    "DROP TABLE DEMO_TABLE;\n",
    "CREATE TABLE DEMO_TABLE( SOMEVALUE VARCHAR(100) );"
   ]
  },
  {
   "cell_type": "markdown",
   "metadata": {
    "hideCode": false,
    "hidePrompt": false
   },
   "source": [
    "A normal `CREATE TABLE` statement will fail with an error since the table already exists."
   ]
  },
  {
   "cell_type": "code",
   "execution_count": null,
   "metadata": {
    "hideCode": false,
    "hidePrompt": false
   },
   "outputs": [],
   "source": [
    "%sql CREATE TABLE DEMO_TABLE( SOMEVALUE VARCHAR(100) );"
   ]
  },
  {
   "cell_type": "markdown",
   "metadata": {
    "hideCode": false,
    "hidePrompt": false
   },
   "source": [
    "Using the `IF NOT EXISTS` clause will ignore the fact that the table already exists and complete successfully."
   ]
  },
  {
   "cell_type": "code",
   "execution_count": null,
   "metadata": {
    "hideCode": false,
    "hidePrompt": false
   },
   "outputs": [],
   "source": [
    "%sql CREATE TABLE IF NOT EXISTS DEMO_TABLE( SOMEVALUE VARCHAR(100) );"
   ]
  },
  {
   "cell_type": "markdown",
   "metadata": {},
   "source": [
    "[Back to Top](#top)\n",
    "<a id='ifexists'></a>"
   ]
  },
  {
   "cell_type": "markdown",
   "metadata": {
    "hideCode": false,
    "hidePrompt": false
   },
   "source": [
    "## IF EXISTS\n",
    " \n",
    "The `IF EXISTS` is used when dropping a table and specifies that no error message is shown when the table is not dropped because it does not currently exist in the database. \n",
    "```sql\n",
    "DROP TABLE CUSTOMER IF EXISTS\n",
    "```\n",
    "Use this option for scripted applications that are running SQL commands. This option will suppress the **Table not found** error message so the scripted application is not impacted or halted.\n",
    "\n",
    "The `DROP TABLE` message is returned although no table was dropped. Failure is ignored if a table with the specified name does not exist.\n",
    "\n",
    "\n",
    "First we create a table (**Note:** The Db2 magic commands ignore errors!)"
   ]
  },
  {
   "cell_type": "code",
   "execution_count": null,
   "metadata": {
    "hideCode": false,
    "hidePrompt": false
   },
   "outputs": [],
   "source": [
    "%%sql -q\n",
    "DROP TABLE DEMO_TABLE;\n",
    "CREATE TABLE DEMO_TABLE( SOMEVALUE VARCHAR(100) );"
   ]
  },
  {
   "cell_type": "markdown",
   "metadata": {},
   "source": [
    "This first `DROP` statement will drop the table without an error message."
   ]
  },
  {
   "cell_type": "code",
   "execution_count": null,
   "metadata": {
    "hideCode": false,
    "hidePrompt": false
   },
   "outputs": [],
   "source": [
    "%%sql\n",
    "DROP TABLE DEMO_TABLE;"
   ]
  },
  {
   "cell_type": "markdown",
   "metadata": {},
   "source": [
    "If we try dropping it again using the normal syntax, we will get an error message."
   ]
  },
  {
   "cell_type": "code",
   "execution_count": null,
   "metadata": {
    "hideCode": false,
    "hidePrompt": false
   },
   "outputs": [],
   "source": [
    "%%sql\n",
    "DROP TABLE DEMO_TABLE;"
   ]
  },
  {
   "cell_type": "markdown",
   "metadata": {},
   "source": [
    "Adding the `IF EXISTS` clause to the `DROP` statement will ignore the error message."
   ]
  },
  {
   "cell_type": "code",
   "execution_count": null,
   "metadata": {
    "hideCode": false,
    "hidePrompt": false
   },
   "outputs": [],
   "source": [
    "%%sql\n",
    "DROP TABLE IF EXISTS DEMO_TABLE;"
   ]
  },
  {
   "cell_type": "markdown",
   "metadata": {},
   "source": [
    "[Back to Top](#top)\n",
    "<a id='blobclob'></a>"
   ]
  },
  {
   "cell_type": "markdown",
   "metadata": {},
   "source": [
    "## Columnar Data Types\n",
    "\n",
    "Db2 11.5 adds two new data types to columnar tables: CLOB and BLOB. These two data types can contain any combination \n",
    "of characters (CLOB) or binary values (BLOB). BLOBs are not affected by the codepage of the server that the values are stored on.\n",
    "\n",
    "A CLOB or BLOB data type can have a maximum length of 2 Gb.\n",
    "\n",
    "This example shows the use of these two data types in a columnar table."
   ]
  },
  {
   "cell_type": "code",
   "execution_count": null,
   "metadata": {},
   "outputs": [],
   "source": [
    "%%sql\n",
    "DROP TABLE CLOBBLOB;\n",
    "\n",
    "CREATE TABLE CLOBBLOB\n",
    "  (\n",
    "  AUDIO_TITLE CLOB(1024),\n",
    "  AUDIO_TRACK BLOB(1 M)\n",
    "  ) ORGANIZE BY COLUMN;"
   ]
  },
  {
   "cell_type": "markdown",
   "metadata": {},
   "source": [
    "When using a CLOB or BLOB object, an `INLINE LENGTH` specification should be used to try and place as much of the data on the data page to take advantage of the performance advantage provided by the buffer pool caching effect. If you do not specify an inline length for large objects, the data will not reside in the buffer pool and searching and retrieval of this data will take an additional I/O operation.\n",
    "The following SQL will recreate the table specifying an inline length for the columns."
   ]
  },
  {
   "cell_type": "code",
   "execution_count": null,
   "metadata": {},
   "outputs": [],
   "source": [
    "%%sql\n",
    "DROP TABLE CLOBBLOB;\n",
    "\n",
    "CREATE TABLE CLOBBLOB\n",
    "  (\n",
    "  AUDIO_TITLE CLOB(1024) INLINE LENGTH 1024,\n",
    "  AUDIO_TRACK BLOB(1 M) INLINE LENGTH 1024\n",
    "  ) ORGANIZE BY COLUMN;"
   ]
  },
  {
   "cell_type": "markdown",
   "metadata": {},
   "source": [
    "[Back to Top](#top)\n",
    "<a id='quotes'></a>"
   ]
  },
  {
   "cell_type": "markdown",
   "metadata": {},
   "source": [
    "## QUOTE Indentifier and Quote Literal\n",
    "\n",
    "The `QUOTE_IDENT` function returns a string that can be used as an identifier in an SQL statement. The input value is a string expression which will have the proper quotes placed around it so that it can be used as a valid name in a SQL statement. The `QUOTE_LITERAL` function returns a string that can be used as a string in an SQL statement. The input value is a string expression which will have the proper quotes placed around it so that it can be used as a valid literal in a SQL statement.\n",
    "\n",
    "These functions can be used when constructing dynamic SQL statements, or for generating values for the new JSON functions. Db2 (the SQL language) requires special handling of quotes which is different from many programming languages.\n",
    "\n",
    "A Db2 column name, *without* special characters, does not require any quotes surrounding it. The standard always folds the string into uppercase, so consider the following SQL."
   ]
  },
  {
   "cell_type": "code",
   "execution_count": null,
   "metadata": {},
   "outputs": [],
   "source": [
    "%%sql \n",
    "DROP TABLE DEMO;\n",
    "CREATE TABLE DEMO\n",
    "  (\n",
    "  firstname varchar(10),\n",
    "  lastname  varchar(10)\n",
    "  );\n",
    "DESCRIBE TABLE DEMO;"
   ]
  },
  {
   "cell_type": "markdown",
   "metadata": {},
   "source": [
    "Describing the table structure will show that the column names are in uppercase."
   ]
  },
  {
   "cell_type": "code",
   "execution_count": null,
   "metadata": {},
   "outputs": [],
   "source": [
    "%sql DESCRIBE TABLE DEMO"
   ]
  },
  {
   "cell_type": "markdown",
   "metadata": {},
   "source": [
    "If we wanted to use lowercase column names then we will need to delimit them with double quotes as shown in the following SQL."
   ]
  },
  {
   "cell_type": "code",
   "execution_count": null,
   "metadata": {},
   "outputs": [],
   "source": [
    "%%sql \n",
    "DROP TABLE DEMO;\n",
    "CREATE TABLE DEMO\n",
    "  (\n",
    "  \"firstname\" varchar(10),\n",
    "  \"lastname\"  varchar(10)\n",
    "  );\n",
    "DESCRIBE TABLE DEMO;"
   ]
  },
  {
   "cell_type": "markdown",
   "metadata": {},
   "source": [
    "Describing the table structure will now show that the column names are in lowercase."
   ]
  },
  {
   "cell_type": "code",
   "execution_count": null,
   "metadata": {},
   "outputs": [],
   "source": [
    "%sql DESCRIBE TABLE DEMO"
   ]
  },
  {
   "cell_type": "markdown",
   "metadata": {},
   "source": [
    "When generating column names we can surround the input strings with the `QUOTE_IDENT` function to make sure that the quotes are properly placed around the names. Note how uppercase identifiers that **do not** have special characters do not require quotes to be placed around them."
   ]
  },
  {
   "cell_type": "code",
   "execution_count": null,
   "metadata": {},
   "outputs": [],
   "source": [
    "%%sql -grid\n",
    "VALUES ('HELLO WORLD',  QUOTE_IDENT('HELLO WORLD'))\n",
    "UNION ALL \n",
    "VALUES ('HELLOWORLD',   QUOTE_IDENT('HELLOWORLD'))\n",
    "UNION ALL\n",
    "VALUES ('HELLO_WORLD',  QUOTE_IDENT('HELLO_WORLD'))\n",
    "UNION ALL\n",
    "VALUES ('hello world',  QUOTE_IDENT('hello world'))\n",
    "UNION ALL\n",
    "VALUES ('hello\"world',  QUOTE_IDENT('hello\"world'))\n",
    "UNION ALL\n",
    "VALUES ('hello''world', QUOTE_IDENT('hello''world'))\n",
    "UNION ALL\n",
    "VALUES ('',             QUOTE_IDENT(''))"
   ]
  },
  {
   "cell_type": "markdown",
   "metadata": {},
   "source": [
    "The `QUOTE_LITERAL` function makes sure that a string has the proper quotes placed inside the string. Db2 requires that single quotes within a string be escaped with two quote characters. So the following is a valid Db2 string:\n",
    "```\n",
    "'This is a single quote '' within a Db2 string'\n",
    "```\n",
    "\n",
    "All Db2 strings must start and end with the single quote character `'`, so any imbedded quotes must be duplicated (i.e. you need two of them `''`) to represent one quote character. \n",
    "\n",
    "This first example shows how an integer value will be quoted."
   ]
  },
  {
   "cell_type": "code",
   "execution_count": null,
   "metadata": {},
   "outputs": [],
   "source": [
    "%sql VALUES QUOTE_LITERAL(42.5)"
   ]
  },
  {
   "cell_type": "markdown",
   "metadata": {},
   "source": [
    "When dealing with application variables, you don't always know if the quotes are properly delimited. This example has multiple quote characters in the string."
   ]
  },
  {
   "cell_type": "code",
   "execution_count": null,
   "metadata": {},
   "outputs": [],
   "source": [
    "quotes = \"O'Brian went to O'Hare airport for a flight to Hawai'i\"\n",
    "results = %sql -r VALUES QUOTE_LITERAL(:quotes)\n",
    "results[1][0]"
   ]
  },
  {
   "cell_type": "markdown",
   "metadata": {},
   "source": [
    "[Back to Top](#top)\n",
    "<a id='oracle'></a>"
   ]
  },
  {
   "cell_type": "markdown",
   "metadata": {},
   "source": [
    "## Oracle Compatibility Libraries\n",
    "\n",
    "Db2 continues to update the Oracle compatibility modules that are available in the database. In order to use these libraries, you must turn on the Oracle compatibility vector **before creating a database**. You do not need to have complete Oracle compatibility on to use these functions. The following Db2 setting should be turned on to get these compatibility libraries to work. \n",
    "```sql\n",
    "DB2_COMPATIBILITY_VECTOR=400\n",
    "```\n",
    "\n",
    "**Note:** If the database you are connecting to does not have this compatibility vector set, then none of the functions below will work.\n",
    "\n",
    "The libraries that are new in this release are:\n",
    "* `DBMS_APPLICATION_INFO`\n",
    "\n",
    "  Includes procedures that set custom client info exported through some of the table functions in the database and helps identify the targeted sessions upon executing the procedure.\n",
    "  \n",
    "\n",
    "* `DBMS_LOCK` (Currently in beta)   \n",
    "  \n",
    "  Provides lock management functionality that allows SQL PL developers to control concurrent access to critical resources in their applications.\n",
    "  \n",
    "\n",
    "* `UTL_RAW`\n",
    "\n",
    "  Provides a set of routines for manipulating binary data of the data type VARBINARY. These routines perform various functions including data conversion, casting, comparison, concatenation, substring, xrange and translation.\n",
    "  \n",
    "The schema for all procedures and functions in these modules is `SYSIBMADM`"
   ]
  },
  {
   "cell_type": "markdown",
   "metadata": {},
   "source": [
    "### DBMS_APPLICATION_INFO\n",
    "The `DBMS_APPLICATION_INFO` library is used for tracking and debugging routines that are running in the database. The functions that are found in this library inlcudes:\n",
    "\n",
    "* `READ_CLIENT_INFO ( client_info )`\n",
    "\n",
    "  Reads and returns the value of the client information field from the current session\n",
    " \n",
    " \n",
    "* `READ_MODULE ( module_name, action_name )`\n",
    "\n",
    "  Reads and returns the value of the module and actions fields from the current session\n",
    "\n",
    "\n",
    "* `SET_CLIENT_INFO ( client_info )`\n",
    "\n",
    "  Sets and registers the value of the client information field from the current session\n",
    "\n",
    "\n",
    "* `SET_MODULE ( module_name, action_name )`\n",
    "\n",
    "  Sets and registers the module name that is currently being executed\n",
    "\n",
    "\n",
    "* `SET_ACTION ( action_name )`\n",
    "\n",
    "  Sets and registers the action name within the current module\n",
    "\n",
    "\n",
    "* `SET_SESSION_LONGOPS( rindex, slno, op_name, target, context, sofar, totalwork, target_desc, units )`\n",
    "\n",
    "  Sets and registers a row in the SYSTOOLS.SESSION_LONGOPS table, to store progress information for long operations\n"
   ]
  },
  {
   "cell_type": "markdown",
   "metadata": {},
   "source": [
    "The following call will place information into a catalog table about the procedure called `add_employee`."
   ]
  },
  {
   "cell_type": "code",
   "execution_count": null,
   "metadata": {},
   "outputs": [],
   "source": [
    "%sql CALL DBMS_APPLICATION_INFO.SET_MODULE('customer_maintenance','update address'); "
   ]
  },
  {
   "cell_type": "markdown",
   "metadata": {},
   "source": [
    "To retrieve this information you would use the `READ_MODULE` function."
   ]
  },
  {
   "cell_type": "code",
   "execution_count": null,
   "metadata": {},
   "outputs": [],
   "source": [
    "%sql CALL DBMS_APPLICATION_INFO.READ_MODULE( ?, ? )"
   ]
  },
  {
   "cell_type": "markdown",
   "metadata": {},
   "source": [
    "To reset the information we set the values to null."
   ]
  },
  {
   "cell_type": "code",
   "execution_count": null,
   "metadata": {},
   "outputs": [],
   "source": [
    "%sql CALL DBMS_APPLICATION_INFO.SET_MODULE('null','null'); "
   ]
  },
  {
   "cell_type": "markdown",
   "metadata": {},
   "source": [
    "### UTL_RAW\n",
    "The `UTL_RAW` library provides a set of routines for manipulating binary data of the data type `VARBINARY`. These routines perform various functions including data conversion, casting, comparison, concatenation, substring, xrange and translation.The functions that are found in this library inlcudes:\n",
    "\n",
    "* `BIT_AND ( x,y )` − bitwise logical AND operation against x, y\n",
    "* `BIT_OR ( x,y )` − bitwise logical OR operation against x, y\n",
    "* `BIT_XOR ( x,y )` − bitwise logical EXCLUSIVE OR operation against x,y\n",
    "* `BIT_COMPLEMENT ( x )` − bitwise logical COMPLEMENT operation against x\n",
    "* `COMPARE ( x, y, pad )` − compares two values with optional padding \n",
    "* `CONCAT ( x1, x2, …, x12 )` − concatenates up to twelve (12) VARBINARY values into a single value\n",
    "* `COPIES ( x, n )` − returns the concatenated results of the VARBINARY value a specified number times\n",
    "* `LENGTH ( x )` − returns the length of a VARBINARY value\n",
    "* `REVERSE ( x )` − reverses the order of digits of a VARBINARY value\n",
    "* `SUBSTR ( x, start, length )` − returns a specified portion of a VARBINARY value\n",
    "* `CAST_TO_RAW` − casts a VARCHAR value to a VARBINARY value\n",
    "* `CAST_TO_VARCHAR2` − casts a VARBINARY value to a VARCHAR2 value\n",
    "* `CAST_FROM_NUMBER` − casts a DECFLOAT value to a VARBINARY value\n",
    "* `CAST_TO_NUMBER` − casts a VARBINARY value to a DECFLOAT value\n",
    "* `CAST_FROM_BINARY_DOUBLE` − casts a DOUBLE value to a VARBINARY value\n",
    "* `CAST_FROM_BINARY_FLOAT` − casts a FLOAT value to a VARBINARY value\n",
    "* `CAST_FROM_BINARY_INTEGER` − casts an INTEGER value to a VARBINARY value\n",
    "* `CAST_TO_BINARY_DOUBLE` − casts a VARBINARY value to a DOUBLE value\n",
    "* `CAST_FROM_BINARY_FLOAT` − casts a VARBINARY value to a FLOAT value\n",
    "* `CAST_FROM_BINARY_INTEGER` − casts a VARBINARY value to an INTEGER value\n"
   ]
  },
  {
   "cell_type": "markdown",
   "metadata": {},
   "source": [
    "**AND** performs a bitwise logical AND operation against x, y"
   ]
  },
  {
   "cell_type": "code",
   "execution_count": null,
   "metadata": {},
   "outputs": [],
   "source": [
    "import binascii\n",
    "result = %sql -r VALUES UTL_RAW.BIT_AND( bx'0D', bx'0B')\n",
    "print(binascii.hexlify(result[1][0]))"
   ]
  },
  {
   "cell_type": "markdown",
   "metadata": {},
   "source": [
    "**OR** performs a bitwise logical OR operation against x, y"
   ]
  },
  {
   "cell_type": "code",
   "execution_count": null,
   "metadata": {},
   "outputs": [],
   "source": [
    "result = %sql -r VALUES UTL_RAW.BIT_OR( bx'0D', bx'0B' )\n",
    "print(binascii.hexlify(result[1][0]))"
   ]
  },
  {
   "cell_type": "markdown",
   "metadata": {},
   "source": [
    "**XOR** performs a bitwise logical EXCLUSIVE OR operation against x,y"
   ]
  },
  {
   "cell_type": "code",
   "execution_count": null,
   "metadata": {},
   "outputs": [],
   "source": [
    "result = %sql -r VALUES UTL_RAW.BIT_XOR( bx'0D', bx'0B' )\n",
    "print(binascii.hexlify(result[1][0]))"
   ]
  },
  {
   "cell_type": "markdown",
   "metadata": {},
   "source": [
    "**COMPLEMENT** performs a bitwise logical COMPLEMENT operation against x"
   ]
  },
  {
   "cell_type": "code",
   "execution_count": null,
   "metadata": {},
   "outputs": [],
   "source": [
    "result = %sql -r VALUES UTL_RAW.BIT_COMPLEMENT( bx'0D')\n",
    "print(binascii.hexlify(result[1][0]))"
   ]
  },
  {
   "cell_type": "markdown",
   "metadata": {},
   "source": [
    "**COMPARE** compares two values with optional padding. If the two values are equal, the result is zero. If the values differ, the returned value is the byte of the first value that differs from the second. "
   ]
  },
  {
   "cell_type": "code",
   "execution_count": null,
   "metadata": {},
   "outputs": [],
   "source": [
    "%sql VALUES UTL_RAW.COMPARE ( bx'010D', bx'010C' )"
   ]
  },
  {
   "cell_type": "markdown",
   "metadata": {},
   "source": [
    "**CONCAT** concatenates up to twelve (12) VARBINARY values into a single value."
   ]
  },
  {
   "cell_type": "code",
   "execution_count": null,
   "metadata": {},
   "outputs": [],
   "source": [
    "result = %sql -r VALUES UTL_RAW.CONCAT ( bx'010D', bx'010C' )\n",
    "print(binascii.hexlify(result[1][0]))"
   ]
  },
  {
   "cell_type": "markdown",
   "metadata": {},
   "source": [
    "**COPIES** returns the concatenated results of the VARBINARY value a specified number times."
   ]
  },
  {
   "cell_type": "code",
   "execution_count": null,
   "metadata": {},
   "outputs": [],
   "source": [
    "result = %sql -r VALUES UTL_RAW.COPIES ( bx'010D', 3 )\n",
    "print(binascii.hexlify(result[1][0]))"
   ]
  },
  {
   "cell_type": "markdown",
   "metadata": {},
   "source": [
    "**LENGTH** returns the length of a VARBINARY value in bytes."
   ]
  },
  {
   "cell_type": "code",
   "execution_count": null,
   "metadata": {},
   "outputs": [],
   "source": [
    "%sql VALUES UTL_RAW.LENGTH ( bx'010D010CFFFF')"
   ]
  },
  {
   "cell_type": "markdown",
   "metadata": {},
   "source": [
    "**REVERSE** reverses the order of digits of a VARBINARY value. Note that this doesn't flip the bits in the byte values."
   ]
  },
  {
   "cell_type": "code",
   "execution_count": null,
   "metadata": {},
   "outputs": [],
   "source": [
    "result = %sql -r VALUES UTL_RAW.REVERSE ( bx'010D010CFFFF')\n",
    "print(binascii.hexlify(result[1][0]))"
   ]
  },
  {
   "cell_type": "markdown",
   "metadata": {},
   "source": [
    "**SUBSTR** returns a specified portion of a VARBINARY value. Byte positions start at 1. "
   ]
  },
  {
   "cell_type": "code",
   "execution_count": null,
   "metadata": {},
   "outputs": [],
   "source": [
    "result = %sql -r VALUES UTL_RAW.SUBSTR( bx'010D010CFFFF', 2, 2)\n",
    "print(binascii.hexlify(result[1][0]))"
   ]
  },
  {
   "cell_type": "markdown",
   "metadata": {},
   "source": [
    "[Back to Top](#top)\n",
    "<a id='function'></a>"
   ]
  },
  {
   "cell_type": "markdown",
   "metadata": {
    "collapsed": true
   },
   "source": [
    "#### Credits: IBM 2019, George Baklarz [baklarz@ca.ibm.com]"
   ]
  }
 ],
 "metadata": {
  "hide_code_all_hidden": false,
  "kernelspec": {
   "display_name": "Python 3",
   "language": "python",
   "name": "python3"
  },
  "language_info": {
   "codemirror_mode": {
    "name": "ipython",
    "version": 3
   },
   "file_extension": ".py",
   "mimetype": "text/x-python",
   "name": "python",
   "nbconvert_exporter": "python",
   "pygments_lexer": "ipython3",
   "version": "3.7.3"
  }
 },
 "nbformat": 4,
 "nbformat_minor": 2
}
