{
 "cells": [
  {
   "cell_type": "markdown",
   "metadata": {},
   "source": [
    "# Db2 JSON Function Overview\n",
    "Updated: 2019-10-03"
   ]
  },
  {
   "cell_type": "markdown",
   "metadata": {},
   "source": [
    "## Db2 JSON Functions\n",
    "Db2 Version 11.1 Fix pack 4 introduced a subset of the JSON SQL functions defined by ISO and that set is shown in the table below.\n",
    "\n",
    "| Function | Description |\n",
    "|:---------|:------------|\n",
    "| `BSON_TO_JSON` | Convert BSON formatted document into JSON strings \n",
    "| `JSON_TO_BSON` | Convert JSON strings into a BSON document format \n",
    "| `JSON_ARRAY` | Creates a JSON array from input key value pairs\n",
    "| `JSON_OBJECT` | Creates a JSON object from input key value pairs \n",
    "| `JSON_VALUE` | Extract an SQL scalar value from a JSON object \n",
    "| `JSON_QUERY` | Extract a JSON object from a JSON object \n",
    "| `JSON_TABLE` | Creates a SQL table from a JSON object \n",
    "| `JSON_EXISTS` | Determines whether a JSON object contains the desired JSON value\n",
    "\n",
    "These functions are all part of the SYSIBM schema, so a user does not require permissions in order to use them for development or general usage. The functions can be categorized into three broad categories:\n",
    "#### Conversion functions\n",
    "The `BSON_TO_JSON` and `JSON_TO_BSON` functions are used to convert JSON character data into the binary BSON format and vice-versa. Conversion functions are optional and are discussed in the section below. These functions are not actually part of the ISO specifications and are provided simply for your convenience.\n",
    "#### Retrieval functions\n",
    "The `JSON_VALUE` and `JSON_QUERY` functions are used to retrieve portions of a document as SQL or JSON scalar values, while `JSON_TABLE` can be used to format JSON documents into a table of rows and columns. The `JSON_EXISTS` function can be used in conjunction with the retrieval functions to check for the existence of a field.\n",
    "#### Publishing Routines\n",
    "The `JSON_ARRAY` and `JSON_OBJECT` functions are used to create JSON objects from relational data."
   ]
  },
  {
   "cell_type": "markdown",
   "metadata": {},
   "source": [
    "### Common Db2 JSON Parameters\n",
    "A majority of the Db2 ISO JSON functions depend on two parameters that are supplied at the beginning of a function. These parameters are: \n",
    "* JSON Expression\n",
    "* JSON Path Expression\n",
    "\n",
    "#### JSON Expression\n",
    "The JSON expression refers to either a column name in a table where the JSON document is stored (either in JSON or BSON format), a JSON or BSON literal string, or a SQL variable containing a JSON or BSON string. \n",
    "\n",
    "The examples below illustrate these options.\n",
    "* A column name within a Table\n",
    "```\n",
    "JSON_VALUE(CUSTOMER.JSON_DOC,…)\n",
    "```\n",
    "* Using a character string as the argument\n",
    "```\n",
    "JSON_VALUE('{\"first\":\"Thomas\",\"last\":\"Hronis\":}',…)\n",
    "```\n",
    "\n",
    "* Using an SQL variable\n",
    "```\n",
    "CREATE VARIABLE EXPR VARCHAR(256) DEFAULT('{\"first\":\"Thomas\"}')\n",
    "JSON_VALUE(EXPR,…)\n",
    "```\n",
    "\n",
    "The JSON expression can also include a modifier of `FORMAT JSON` or `FORMAT BSON`. The `FORMAT` clause is optional and by default the Db2 functions use the data type of the supplied value to determine how to interpret the contents. In the event that you need to override how the JSON field is interpreted, you must use the `FORMAT` option."
   ]
  },
  {
   "cell_type": "markdown",
   "metadata": {},
   "source": [
    "#### JSON Path Expression\n",
    "A JSON path expression is used to navigate to individual values, objects, arrays, or allow for multiple matches within a JSON document. The JSON path expression is based on the syntax that is fully described in the notebook on  JSON Path Expressions. \n",
    "The following list gives a summary of how a path expression is created but the details of how the matches occur are documented in the next chapter.\n",
    "* The top of any path expression is the anchor symbol (`$`)\n",
    "* Traverse to specific objects at different levels by using the dot operator (`.`)\n",
    "* Use square brackets `[]` to refer to items in an array with the first item starting at position zero (i.e. first element in an array is accessed as `arrayname[0]`)\n",
    "* Use the backslash `\\` as an escape character when key names include any of the JSON path characters `(.,*,$,[,])`\n",
    "* Use the asterisk (`*`) to match any object at the current level\n",
    "* Use the asterisk (`*`) to match all objects in an array or retrieve only the value fields from an object\n",
    "\n",
    "The path expression can have an optional name represented by the `AS path-name` clause. The `AS` clause is included for compatibility with the ISO SQL standard but currently does not have any effect on the Db2 JSON functions."
   ]
  },
  {
   "cell_type": "markdown",
   "metadata": {},
   "source": [
    "## Sample JSON Functions\n",
    "The following SQL demonstrates some of the JSON functions that are available in Db2. The other notebooks will go into more details of each one of these functions."
   ]
  },
  {
   "cell_type": "markdown",
   "metadata": {},
   "source": [
    "### Load Db2 Extensions and Connect to the Database\n",
    "The `connection` notebook contains the `CONNECT` statement which allows access to the `SAMPLE` database. If you need to modify the connection information, edit the `connection.ipynb` notebook."
   ]
  },
  {
   "cell_type": "code",
   "execution_count": null,
   "metadata": {},
   "outputs": [],
   "source": [
    "%run ../db2.ipynb\n",
    "%run ../connection.ipynb"
   ]
  },
  {
   "cell_type": "markdown",
   "metadata": {},
   "source": [
    "This statement will create a variable named customer which will be used for some of the examples."
   ]
  },
  {
   "cell_type": "code",
   "execution_count": null,
   "metadata": {},
   "outputs": [],
   "source": [
    "customer = {\n",
    "    \"customerid\": 100000,\n",
    "    \"identity\": \n",
    "      {\n",
    "        \"firstname\": \"Jacob\",\n",
    "        \"lastname\": \"Hines\",\n",
    "        \"birthdate\": \"1982-09-18\"\n",
    "      },\n",
    "    \"contact\": \n",
    "      {\n",
    "        \"street\": \"Main Street North\",\n",
    "        \"city\": \"Amherst\",\n",
    "        \"state\": \"OH\",\n",
    "        \"zipcode\": \"44001\",\n",
    "        \"email\": \"Ja.Hines@yahii.com\",\n",
    "        \"phone\": \"813-689-8309\"\n",
    "      },\n",
    "    \"payment\": \n",
    "      {\n",
    "        \"card_type\": \"MCCD\",\n",
    "        \"card_no\": \"4742-3005-2829-9227\"\n",
    "      },\n",
    "    \"purchases\": \n",
    "      [\n",
    "        {\n",
    "          \"tx_date\": \"2018-02-14\",\n",
    "          \"tx_no\": 157972,\n",
    "          \"product_id\": 1860,\n",
    "          \"product\": \"Ugliest Snow Blower\",\n",
    "          \"quantity\": 1,\n",
    "          \"item_cost\": 51.86\n",
    "        }\n",
    "      ]\n",
    "}"
   ]
  },
  {
   "cell_type": "markdown",
   "metadata": {},
   "source": [
    "### JSON_EXISTS\n",
    "Check to see if the customer made a __`purchase`__."
   ]
  },
  {
   "cell_type": "code",
   "execution_count": null,
   "metadata": {},
   "outputs": [],
   "source": [
    "%sql VALUES JSON_EXISTS(:customer,'$.purchases')"
   ]
  },
  {
   "cell_type": "markdown",
   "metadata": {},
   "source": [
    "### JSON_VALUE\n",
    "Retrieve the __`customerid`__ field."
   ]
  },
  {
   "cell_type": "code",
   "execution_count": null,
   "metadata": {},
   "outputs": [],
   "source": [
    "%sql VALUES JSON_VALUE(:customer,'$.customerid')"
   ]
  },
  {
   "cell_type": "markdown",
   "metadata": {},
   "source": [
    "### JSON_QUERY\n",
    "Retrieve the __`identity`__ structure."
   ]
  },
  {
   "cell_type": "code",
   "execution_count": null,
   "metadata": {},
   "outputs": [],
   "source": [
    "%sql -j VALUES JSON_QUERY(:customer,'$.identity')"
   ]
  },
  {
   "cell_type": "markdown",
   "metadata": {},
   "source": [
    "### JSON_TABLE\n",
    "Retrieve all of the personal information as a table."
   ]
  },
  {
   "cell_type": "code",
   "execution_count": null,
   "metadata": {},
   "outputs": [],
   "source": [
    "%%sql\n",
    "WITH CUSTOMER(INFO) AS (VALUES :customer)\n",
    "SELECT T.* FROM CUSTOMER, \n",
    "  JSON_TABLE(INFO, 'strict $'\n",
    "    COLUMNS( \n",
    "      FIRST_NAME VARCHAR(20) PATH '$.identity.firstname',\n",
    "      LAST_NAME  VARCHAR(20) PATH '$.identity.lastname',\n",
    "      BIRTHDATE  DATE        PATH '$.identity.birthdate')\n",
    "    ERROR ON ERROR) AS T;"
   ]
  },
  {
   "cell_type": "markdown",
   "metadata": {},
   "source": [
    "### JSON_OBECT\n",
    "Publish one record as a JSON object."
   ]
  },
  {
   "cell_type": "code",
   "execution_count": null,
   "metadata": {},
   "outputs": [],
   "source": [
    "%%sql -j\n",
    "WITH CUSTOMER(CUSTNO, FIRSTNAME, LASTNAME, BIRTHDATE, INCOME) AS\n",
    "  (\n",
    "  VALUES\n",
    "     (1, 'George', 'Baklarz', '1999-01-01', 50000)\n",
    "  )\n",
    "SELECT \n",
    "   JSON_OBJECT ( \n",
    "               KEY 'customer' VALUE JSON_OBJECT\n",
    "                   ( \n",
    "                   KEY 'id' VALUE CUSTNO,\n",
    "                   KEY 'name' VALUE JSON_OBJECT\n",
    "                       (\n",
    "                       KEY 'first' VALUE FIRSTNAME,\n",
    "                       KEY 'last'  VALUE LASTNAME\n",
    "                       ) FORMAT JSON,\n",
    "                   KEY 'birthdate' VALUE BIRTHDATE,\n",
    "                   KEY 'income'    VALUE INCOME\n",
    "                   ) FORMAT JSON\n",
    "               )\n",
    "FROM CUSTOMER"
   ]
  },
  {
   "cell_type": "markdown",
   "metadata": {},
   "source": [
    "### JSON_ARRAY\n",
    "Publish one record as a JSON array object."
   ]
  },
  {
   "cell_type": "code",
   "execution_count": null,
   "metadata": {},
   "outputs": [],
   "source": [
    "%%sql -j\n",
    "WITH CUSTOMERS(CUSTNO) AS\n",
    "  (\n",
    "  VALUES\n",
    "     10, 20, 33, 55, 77\n",
    "  )\n",
    "VALUES \n",
    "   JSON_OBJECT ( \n",
    "               KEY 'customers' VALUE JSON_ARRAY (SELECT * FROM CUSTOMERS) FORMAT JSON\n",
    "               ) "
   ]
  },
  {
   "cell_type": "markdown",
   "metadata": {},
   "source": [
    "### Summary\n",
    "Db2 supports a number of the new ISO JSON functions directly in the database. Users can use this new syntax to store, query, and publish JSON data from within Db2."
   ]
  },
  {
   "cell_type": "markdown",
   "metadata": {},
   "source": [
    "#### Credits: IBM 2019, George Baklarz [baklarz@ca.ibm.com]"
   ]
  }
 ],
 "metadata": {
  "kernelspec": {
   "display_name": "Python 3",
   "language": "python",
   "name": "python3"
  },
  "language_info": {
   "codemirror_mode": {
    "name": "ipython",
    "version": 3
   },
   "file_extension": ".py",
   "mimetype": "text/x-python",
   "name": "python",
   "nbconvert_exporter": "python",
   "pygments_lexer": "ipython3",
   "version": "3.7.3"
  }
 },
 "nbformat": 4,
 "nbformat_minor": 2
}
