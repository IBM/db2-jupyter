{
 "cells": [
  {
   "cell_type": "markdown",
   "metadata": {},
   "source": [
    "# Publishing SQL Data as JSON Documents"
   ]
  },
  {
   "cell_type": "markdown",
   "metadata": {},
   "source": [
    "## Publishing JSON\n",
    "Up to this point, we have focused on JSON functions that allow you to extract values, objects, and arrays from documents. There are many circumstances where you want to be able to take the existing data in a table and make it available to outside world as JSON data. Publishing data as JSON is particularly useful when sending results back to an application that expects JSON.\n",
    "\n",
    "Db2 provides two of the ISO SQL JSON publishing functions: `JSON_ARRAY` and `JSON_OBJECT`. The combination of these two functions can provide a way of generating most JSON documents."
   ]
  },
  {
   "cell_type": "markdown",
   "metadata": {},
   "source": [
    "### Load Db2 Extensions and Connect to the Database\n",
    "The `connection` notebook contains the `CONNECT` statement which allows access to the `SAMPLE` database. If you need to modify the connection information, edit the `connection.ipynb` notebook."
   ]
  },
  {
   "cell_type": "code",
   "execution_count": null,
   "metadata": {},
   "outputs": [],
   "source": [
    "%run ../db2.ipynb\n",
    "%run ../connection.ipynb"
   ]
  },
  {
   "cell_type": "markdown",
   "metadata": {},
   "source": [
    "### Publishing Individual Values with JSON_OBJECT\n",
    "The `JSON_OBJECT` function will generate a JSON object by creating `key:value` pairs. Using the ubiquitous `EMPLOYEE` table in the Db2 `SAMPLE` database, we can generate a JSON object that contains an employee’s first name through the following `JSON_OBJECT` function."
   ]
  },
  {
   "cell_type": "code",
   "execution_count": null,
   "metadata": {},
   "outputs": [],
   "source": [
    "%%sql -j\n",
    "SELECT JSON_OBJECT(KEY 'lastname' VALUE lastname)\n",
    "  FROM EMPLOYEE\n",
    "FETCH FIRST ROW ONLY"
   ]
  },
  {
   "cell_type": "markdown",
   "metadata": {},
   "source": [
    "The `JSON_OBJECT` function can have multiple levels of objects within it so you could create an object that contains an individual's entire name."
   ]
  },
  {
   "cell_type": "code",
   "execution_count": null,
   "metadata": {},
   "outputs": [],
   "source": [
    "%%sql -j\n",
    "SELECT JSON_OBJECT(   \n",
    "                   KEY 'identity' \n",
    "                   VALUE JSON_OBJECT(     \n",
    "                                     KEY 'firstname' VALUE FIRSTNME,\n",
    "                                     KEY 'lastname'  VALUE LASTNAME\n",
    "                                     )\n",
    "                   )\n",
    "FROM EMPLOYEE\n",
    "FETCH FIRST ROW ONLY;"
   ]
  },
  {
   "cell_type": "markdown",
   "metadata": {},
   "source": [
    "You can generate extremely complex documents just using the `JSON_OBJECT` function. This function is complemented by the `JSON_ARRAY` function which allows grouping of values into an array. The syntax of the `JSON_OBJECT` function is shown below."
   ]
  },
  {
   "cell_type": "markdown",
   "metadata": {},
   "source": [
    "***JSON_OBJECT Syntax***\n",
    "![JSON_VALUE](images/JSON_OBJECT.png)\n",
    "\n",
    "***Key Expression***\n",
    "![JSON_VALUE](images/jo-key-expression.png)\n",
    "\n",
    "***Null Clause***\n",
    "![JSON_VALUE](images/jo-null-clause.png)\n",
    "\n",
    "***Unique Clause***\n",
    "![JSON_VALUE](images/jo-unique-clause.png)\n",
    "\n",
    "***Returning Clause***\n",
    "![JSON_VALUE](images/jo-returning-clause.png)"
   ]
  },
  {
   "cell_type": "markdown",
   "metadata": {},
   "source": [
    "What differentiates the `JSON_OBJECT` from other functions is that the `null-clause`, `unique-clause`, and `returning-clause` are for the entire block of `key-value` definitions not each individual one."
   ]
  },
  {
   "cell_type": "markdown",
   "metadata": {},
   "source": [
    "### Key Value Clause\n",
    "The first clause is used to create the key-value pairs that you want published. You can create one or more key-value pairs, including the ability to nest objects. \n",
    "\n",
    "![JSON_OBJECT](images/jo-key-expression.png)\n",
    "\n",
    "The `key-value` field represents the first field in a JSON object:\n",
    "```json\n",
    "\"first_name\": \"Hronis\"\n",
    "```\n",
    "\n",
    "The second field, *json-expression*, is the value associated with the key. The *json-expression* can be a reference to a column from a table, a constant, or a variable as long as it is not one of the following data types:\n",
    "* GRAPHIC, VARGRAPHIC\n",
    "* DBCLOB\n",
    "* BINARY\n",
    "* CHAR FOR BIT DATA, VARCHAR FOR BIT DATA\n",
    "* XML\n",
    "\n",
    "The simple example below will create a JSON document using some character constants."
   ]
  },
  {
   "cell_type": "code",
   "execution_count": null,
   "metadata": {},
   "outputs": [],
   "source": [
    "%sql -j VALUES JSON_OBJECT( KEY 'name' VALUE 'Bird');"
   ]
  },
  {
   "cell_type": "markdown",
   "metadata": {},
   "source": [
    "You can use any of the valid Db2 data types in the `VALUE` clause as well as create multiple key-value pairs."
   ]
  },
  {
   "cell_type": "code",
   "execution_count": null,
   "metadata": {},
   "outputs": [],
   "source": [
    "%sql -j VALUES JSON_OBJECT( KEY 'name' VALUE 'Bird', KEY 'salary' VALUE 95000);"
   ]
  },
  {
   "cell_type": "markdown",
   "metadata": {},
   "source": [
    "### Nested Key-value Expressions\n",
    "The previous section illustrated the use of `JSON_OBJECT` to create a single-level document (no nesting). If you wanted to create a nested structure, then all you have to do is start another `JSON_OBJECT` function. The `VALUE` of the key is simply another `JSON_OBJECT` function call."
   ]
  },
  {
   "cell_type": "code",
   "execution_count": null,
   "metadata": {},
   "outputs": [],
   "source": [
    "%%sql -j\n",
    "VALUES JSON_OBJECT( KEY 'foreword' VALUE\n",
    "                 JSON_OBJECT( KEY 'primary' VALUE\n",
    "                                  JSON_OBJECT( KEY 'first_name' VALUE 'Thomas',\n",
    "                                               KEY 'last_name'  VALUE 'Hronis'\n",
    "                                             )\n",
    "                              FORMAT JSON\n",
    "                            )\n",
    "             FORMAT JSON\n",
    "           );"
   ]
  },
  {
   "cell_type": "markdown",
   "metadata": {},
   "source": [
    "There are no limits to the depth of nesting that you can code but it becomes difficult to keep track of levels as you build more complex `JSON_OBJECT` expressions!"
   ]
  },
  {
   "cell_type": "markdown",
   "metadata": {},
   "source": [
    "### FORMAT JSON versus FORMAT BSON\n",
    "Before discussing the use of the `FORMAT` clause, we need to understand the default output produced by the `JSON_OBJECT` function. The default output from the function is a character string that is surrounded by curly braces {} to form a proper JSON document."
   ]
  },
  {
   "cell_type": "code",
   "execution_count": null,
   "metadata": {},
   "outputs": [],
   "source": [
    "%sql -j VALUES JSON_OBJECT(KEY 'name' VALUE 'Bird');"
   ]
  },
  {
   "cell_type": "markdown",
   "metadata": {},
   "source": [
    "When nesting a call to `JSON_OBJECT` within another one, by default, the upper `JSON_OBJECT` function places double quotes around the results from the inner function since it is returning a character string and these must be double-quoted by JSON format rules. For instance, the previous nested object example without any `FORMAT` clause produces the following output:"
   ]
  },
  {
   "cell_type": "code",
   "execution_count": null,
   "metadata": {},
   "outputs": [],
   "source": [
    "%%sql -j\n",
    "VALUES JSON_OBJECT( \n",
    "                   KEY 'author' VALUE\n",
    "                   JSON_OBJECT( \n",
    "                               KEY 'first_name' VALUE 'Thomas',\n",
    "                               KEY 'last_name'  VALUE 'Hronis'\n",
    "                              )\n",
    "                  );"
   ]
  },
  {
   "cell_type": "markdown",
   "metadata": {},
   "source": [
    "This rather strange output is caused by two things that are occurring. First, the output from the second `JSON_OBJECT` function would be:"
   ]
  },
  {
   "cell_type": "code",
   "execution_count": null,
   "metadata": {},
   "outputs": [],
   "source": [
    "%%sql -j \n",
    "VALUES JSON_OBJECT( \n",
    "                  KEY 'first_name' VALUE 'Thomas',\n",
    "                  KEY 'last_name'  VALUE 'Hronis'\n",
    "                 );"
   ]
  },
  {
   "cell_type": "markdown",
   "metadata": {},
   "source": [
    "Since `FORMAT JSON` was not specified for the value in this `JSON_OBJECT` call, this output value is recognized only as a character string, not a JSON object, when it is passed as the proposed value for the key \"author\" in the first `JSON_OBJECT` function. As such, JSON format rules demand that the character value be enclosed in double quotes. And since this string itself contains double quote characters, the internal quote characters need to be escaped with the backslash character.\n",
    "```json\n",
    "\"{\\\"first_name\\\":\\\"Thomas\",\\\"last_name\\\":\\\"Hronis\\\"}\"\n",
    "```\n",
    "\n",
    "Now this string is a proper JSON character value and can be used as the value in the first key-value pair to produce the final result:\n",
    "```json\n",
    "{\"author\":\"{\\\"first_name\\\":\\\"Thomas\\\",\\\"last_name\\\":\\\"Hronis\\\"}\"}\n",
    "```\n",
    "The `FORMAT` clause can be used to eliminate the external quotes and escape characters by indicating that the value to be returned by the nested `JSON_OBJECT` is actually already in valid JSON format and does not need to be treated as a character string. \n",
    "\n",
    "The following version of the example indicates that the value returned by the nested `JSON_OBJECT` call is in JSON format and would produce the desired output:"
   ]
  },
  {
   "cell_type": "code",
   "execution_count": null,
   "metadata": {},
   "outputs": [],
   "source": [
    "%%sql -j \n",
    "VALUES JSON_OBJECT( \n",
    "                   KEY 'author' VALUE \n",
    "                       JSON_OBJECT(\n",
    "                                   KEY 'first_name' VALUE 'Thomas',\n",
    "                                   KEY 'last_name'  VALUE 'Hronis'\n",
    "                                  ) \n",
    "                   FORMAT JSON\n",
    "                  );"
   ]
  },
  {
   "cell_type": "markdown",
   "metadata": {},
   "source": [
    "This `FORMAT` clause can be used when creating multi-level objects but not for simple values. If you use the clause with a single key-value pair, you will get an error."
   ]
  },
  {
   "cell_type": "code",
   "execution_count": null,
   "metadata": {},
   "outputs": [],
   "source": [
    "%sql -j VALUES JSON_OBJECT( KEY 'name' VALUE Bird FORMAT JSON)"
   ]
  },
  {
   "cell_type": "markdown",
   "metadata": {},
   "source": [
    "This is because Bird by itself without the quotes is not in valid JSON format. As a JSON string data type, it should be enclosed in double quotes (e.g.\"Bird\"). Recall our discussion on valid JSON format at the beginning of our journey!\n",
    "\n",
    "The `FORMAT BSON` option will publish the key-value pair in binary format while `FORMAT JSON` will publish it character format. \n",
    "\n",
    "The following example illustrates the difference between using FORMAT JSON and no formatting directive."
   ]
  },
  {
   "cell_type": "code",
   "execution_count": null,
   "metadata": {},
   "outputs": [],
   "source": [
    "%%sql -j\n",
    "SELECT JSON_OBJECT(\n",
    "                   KEY 'identity' VALUE \n",
    "                       JSON_OBJECT( \n",
    "                                    KEY 'firstname' VALUE FIRSTNME,\n",
    "                                    KEY 'lastname'  VALUE LASTNAME\n",
    "                                   )\n",
    "                   FORMAT JSON\n",
    "                  )\n",
    "FROM EMPLOYEE FETCH FIRST ROW ONLY;"
   ]
  },
  {
   "cell_type": "markdown",
   "metadata": {},
   "source": [
    "By using the `FORMAT JSON` clause, we are able to eliminate the quoted strings from the output. If you are planning to publish the data back to an application that needs to process JSON, then you should always use `FORMAT JSON` (or `BSON`) to create the proper formatting for nested objects."
   ]
  },
  {
   "cell_type": "markdown",
   "metadata": {},
   "source": [
    "### NULL Handling\n",
    "The `NULL` option on the `JSON_OBJECT` function is used to handle values that are null when retrieved from a table.\n",
    "\n",
    "![JSON_OBJECT](images/jo-null-clause.png)\n",
    "\n",
    "The default setting is `NULL ON NULL` which will publish the key-value pair even if the value is null."
   ]
  },
  {
   "cell_type": "code",
   "execution_count": null,
   "metadata": {},
   "outputs": [],
   "source": [
    "%%sql -j\n",
    "VALUES JSON_OBJECT( \n",
    "                   KEY 'name' VALUE null, \n",
    "                   KEY 'salary' VALUE 95000\n",
    "                   NULL ON NULL\n",
    "                  );"
   ]
  },
  {
   "cell_type": "markdown",
   "metadata": {},
   "source": [
    "In this case, when a null value was encountered in the result, the function put the JSON special word null in the output. Setting `ABSENT ON NULL` will prevent the key-value pair from being included in the output."
   ]
  },
  {
   "cell_type": "code",
   "execution_count": null,
   "metadata": {},
   "outputs": [],
   "source": [
    "%%sql -j\n",
    "VALUES JSON_OBJECT( \n",
    "                   KEY 'name' VALUE null, \n",
    "                   KEY 'salary' VALUE 95000\n",
    "                   ABSENT ON NULL\n",
    "                  );"
   ]
  },
  {
   "cell_type": "markdown",
   "metadata": {},
   "source": [
    "### KEYS\n",
    "A best practice in generating key-value pairs is not to duplicate a key name at the same level. If there are duplicate keys within a document, there is no guarantee of which one will be chosen when you attempt to retrieve it.\n",
    "\n",
    "![JSON_VALUE](images/jo-unique-clause.png)\n",
    "\n",
    "The following `JSON_OBJECT` example creates two key-value pairs with the same key."
   ]
  },
  {
   "cell_type": "code",
   "execution_count": null,
   "metadata": {},
   "outputs": [],
   "source": [
    "%%sql -json\n",
    "VALUES JSON_OBJECT( \n",
    "   KEY 'name' VALUE 'Thomas', \n",
    "   KEY 'name' VALUE 'Hronis' \n",
    ");"
   ]
  },
  {
   "cell_type": "markdown",
   "metadata": {},
   "source": [
    "The default behavior is to ignore duplicate keys (`WITHOUT UNIQUE KEYS`) and so the above example will not generate an error. If you are positive that there will not be duplicate keys in your JSON, then you should leave this as the default since it will result in less overhead in the function.\n",
    "\n",
    "When `WITH UNIQUE KEYS` is specified as part of the syntax, the function will raise an error code of -16407 for the above example."
   ]
  },
  {
   "cell_type": "code",
   "execution_count": null,
   "metadata": {},
   "outputs": [],
   "source": [
    "%%sql -json\n",
    "VALUES JSON_OBJECT( \n",
    "   KEY 'name' VALUE 'Thomas', \n",
    "   KEY 'name' VALUE 'Hronis' \n",
    "   WITH UNIQUE KEYS\n",
    ");"
   ]
  },
  {
   "cell_type": "markdown",
   "metadata": {},
   "source": [
    "Note that duplicate keys can exist at different levels in an object and within arrays, as long as they have a unique JSON path expression.\n",
    "```json\n",
    "{\n",
    "   \"authors\": [\n",
    "               {\"first_name\": \"Paul\",  \"last_name\" : \"Bird\"},\n",
    "               {\"first_name\": \"George\",\"last_name\" : \"Baklarz\"}\n",
    "              ],\n",
    "   \"foreword\": {\n",
    "               \"primary\": \n",
    "                         {\n",
    "                           \"first_name\": \"Thomas\",\n",
    "                           \"last_name\" : \"Hronis\"\n",
    "                         }\n",
    "               }\n",
    "}\n",
    "```"
   ]
  },
  {
   "cell_type": "markdown",
   "metadata": {},
   "source": [
    "### RETURNING Clause\n",
    "The `RETURNING` clause is used to define how the final JSON document is to be returned to the application. \n",
    "#### Returning Clause\n",
    "![JSON_OBJECT](images/jo-returning-clause.png)\n",
    "\n",
    "By default, the document is returned as a `CLOB` object, but you can use `CHAR`, `VARCHAR`, `CLOB`, `VARBINARY`, or `BLOB`. If you are returning the data as a character string, you must specify `FORMAT JSON` or use `FORMAT BSON` for a binary string.\n",
    "\n",
    "If you supply too small of a data type, then the function will fail with an error message:\n",
    "```sql\n",
    "SQL0137N The length resulting from \"SYSIBM.JSON_OBJECT\" is greater than \"20\". SQLSTATE=54006 SQLCODE=-137\n",
    "```\n",
    "\n",
    "An error will also be produced if you try to return a `BSON` value into a character string:\n",
    "```sql\n",
    "SQL0171N The statement was not processed because the data type, length or value of the argument for the parameter in position \"5\" of routine \"SYSIBM.JSON_OBJECT\" is incorrect. Parameter name: \"\". SQLSTATE=42815 SQLCODE=-171\n",
    "```"
   ]
  },
  {
   "cell_type": "markdown",
   "metadata": {},
   "source": [
    "### Publishing Array Values with JSON_ARRAY\n",
    "`JSON_OBJECT` is able to create complex JSON documents from data within a table, but it is not able to generate arrays. In order to create arrays, we must use the `JSON_ARRAY` function.\n",
    "\n",
    "***JSON_ARRAY Syntax***\n",
    "![JSON_OBJECT](images/JSON_ARRAY.png)\n",
    "\n",
    "***JSON Expression***\n",
    "![JSON_OBJECT](images/ja-json-expression.png)\n",
    "\n",
    "***Full Select***\n",
    "![JSON_OBJECT](images/ja-full-select.png)\n",
    "\n",
    "***Null Clause***\n",
    "![JSON_OBJECT](images/ja-null-clause.png)\n",
    "\n",
    "***Returning Clause***\n",
    "![JSON_OBJECT](images/ja-returning-clause.png)"
   ]
  },
  {
   "cell_type": "markdown",
   "metadata": {},
   "source": [
    "There are two forms of the `JSON_ARRAY` function. The first version is similar to the `JSON_OBJECT` function where you supply a list of values to create an object. \n",
    "\n",
    "There is no key associated with a JSON array, so you only need to supply the list of values that you want in there. "
   ]
  },
  {
   "cell_type": "code",
   "execution_count": null,
   "metadata": {},
   "outputs": [],
   "source": [
    "%sql -j  VALUES JSON_ARRAY( 1523, 902, 'Thomas', 7777);"
   ]
  },
  {
   "cell_type": "markdown",
   "metadata": {},
   "source": [
    "JSON array elements do not need to have the same data type – they can even contain other objects. Here is an example of a `JSON_OBJECT` being inserted into an array."
   ]
  },
  {
   "cell_type": "code",
   "execution_count": null,
   "metadata": {},
   "outputs": [],
   "source": [
    "%%sql -j\n",
    "VALUES JSON_ARRAY(1523, 902, \n",
    "                  JSON_OBJECT( KEY 'lastname' VALUE 'Bird') FORMAT JSON, \n",
    "                  7777);"
   ]
  },
  {
   "cell_type": "markdown",
   "metadata": {},
   "source": [
    "While the `JSON_ARRAY` function can be used by itself, it produces a JSON array value not a valid JSON object. The output from this function is meant to be used as part of a `JSON_OBJECT` structure.\n",
    "\n",
    "The second form of the `JSON_ARRAY` function uses the results of a SQL select statement to build the array values. \n",
    "\n",
    "Only one `SELECT` statement can be used in the body of the function – you cannot have multiple `SELECT` commands in a list! If you do need to create an array from multiple sources, you should look at using a `SELECT` statement with `UNION` to create one list of items.\n",
    "\n",
    "The following example publishes all of the department numbers for the departments that start with the letter B."
   ]
  },
  {
   "cell_type": "code",
   "execution_count": null,
   "metadata": {},
   "outputs": [],
   "source": [
    "%%sql -j\n",
    "VALUES JSON_OBJECT(\n",
    "                   KEY 'departments' VALUE \n",
    "                       JSON_ARRAY(SELECT DEPTNO FROM DEPARTMENT \n",
    "                                         WHERE DEPTNAME LIKE 'B%') \n",
    "                   FORMAT JSON\n",
    "                  );"
   ]
  },
  {
   "cell_type": "markdown",
   "metadata": {},
   "source": [
    "The `SELECT` statement can only return one column, otherwise an error message will be raised.\n",
    "```sql\n",
    "SQL0412N Multiple columns are returned from a subquery that is allowed only one column. SQLSTATE=42823 \n",
    "SQLCODE=-412\n",
    "```\n",
    "\n",
    "If you do want to create an array of objects, you could use nested table expressions (or inline SQL) to generate the objects that you want. For instance, consider the `DEPARTMENT` table that we were using in the previous example. Perhaps you want to create an individual document to list all of the departments in the company, the document would look similar to the following.\n",
    "```json\n",
    "{\n",
    "  \"departments\" : [\n",
    "                    { \n",
    "                      \"deptno\" : \"A01\",\n",
    "                      \"deptname\" : \"Purchasing\"\n",
    "                    },\n",
    "                    { \n",
    "                      \"deptno\" : \"B01\",\n",
    "                      \"deptname\" : \"Accounts\"\n",
    "                    }, \n",
    "                     …\n",
    "                  ]\n",
    "}\n",
    "```\n",
    "The `JSON_ARRAY` function can only work with one value, but what if we generate the object as part of another SQL statement? The `WITH` clause allows us to create the JSON document outside of the SQL that is publishing the data."
   ]
  },
  {
   "cell_type": "code",
   "execution_count": null,
   "metadata": {},
   "outputs": [],
   "source": [
    "%%sql -j \n",
    "WITH DEPARTMENTS(DEPT) AS \n",
    "(\n",
    " SELECT JSON_OBJECT(\n",
    "                    KEY 'deptno' VALUE D.DEPTNO,\n",
    "                    KEY 'deptname' VALUE D.DEPTNAME\n",
    "                   )\n",
    " FROM DEPARTMENT D\n",
    " ORDER BY D.DEPTNO\n",
    ")\n",
    "SELECT * FROM DEPARTMENTS"
   ]
  },
  {
   "cell_type": "markdown",
   "metadata": {},
   "source": [
    "Now we can select from the nested table expression as part of the `JSON_ARRAY` function to create an array of objects."
   ]
  },
  {
   "cell_type": "code",
   "execution_count": null,
   "metadata": {},
   "outputs": [],
   "source": [
    "%%sql -j\n",
    "WITH DEPARTMENTS(DEPT) AS \n",
    "(\n",
    " SELECT JSON_OBJECT(\n",
    "                    KEY 'deptno' VALUE D.DEPTNO,\n",
    "                    KEY 'deptname' VALUE D.DEPTNAME\n",
    "                   ) \n",
    " FROM DEPARTMENT D \n",
    " ORDER BY D.DEPTNO\n",
    ")\n",
    "SELECT JSON_OBJECT(      \n",
    "                   KEY 'departments' VALUE \n",
    "                       JSON_ARRAY(\n",
    "                                  SELECT DEPT FROM DEPARTMENTS \n",
    "                                  FORMAT JSON\n",
    "                                 ) \n",
    "                   FORMAT JSON\n",
    "                 )\n",
    "FROM SYSIBM.SYSDUMMY1;"
   ]
  },
  {
   "cell_type": "markdown",
   "metadata": {},
   "source": [
    "### FORMAT JSON versus FORMAT BSON\n",
    "The `JSON_OBJECT` function had an extensive explanation of `FORMAT JSON` versus `FORMAT BSON`. If you are imbedding the `JSON_ARRAY` inside of a `JSON_OBJECT` function, then you should use `FORMAT JSON` to ensure the proper formatting of the document. The previous example which showed how to publish department numbers would have returned the following if `FORMAT JSON` was not used."
   ]
  },
  {
   "cell_type": "code",
   "execution_count": null,
   "metadata": {},
   "outputs": [],
   "source": [
    "%%sql -j\n",
    "VALUES JSON_OBJECT(\n",
    "                   KEY 'departments' VALUE \n",
    "                       JSON_ARRAY(SELECT DEPTNO FROM DEPARTMENT \n",
    "                                         WHERE DEPTNAME LIKE 'B%') \n",
    "                  );"
   ]
  },
  {
   "cell_type": "markdown",
   "metadata": {},
   "source": [
    "### NULL Handling\n",
    "The `NULL` option on the `JSON_ARRAY` function is used to handle arrays values that are null when retrieved from a table.\n",
    "\n",
    "![JSON_OBJECT](images/ja-null-clause.png)\n",
    " \n",
    "The default setting is `ABSENT ON NULL` which will ignore null values. Note that this is different from `JSON_OBJECT` which uses `NULL ON NULL` as the default."
   ]
  },
  {
   "cell_type": "code",
   "execution_count": null,
   "metadata": {},
   "outputs": [],
   "source": [
    "%sql -j VALUES JSON_ARRAY(1523, null);"
   ]
  },
  {
   "cell_type": "markdown",
   "metadata": {},
   "source": [
    "If you really do want the `null` value, then you should include the `NULL ON NULL` option."
   ]
  },
  {
   "cell_type": "code",
   "execution_count": null,
   "metadata": {},
   "outputs": [],
   "source": [
    "%sql -j VALUES JSON_ARRAY(1523, null NULL ON NULL);"
   ]
  },
  {
   "cell_type": "markdown",
   "metadata": {},
   "source": [
    "There is a potential that your SQL will not work if no values are returned by the `SELECT` statement. The `JSON_ARRAY` function expects at least one value to be returned (even a null value) in order to generate the array so you have to create a query to cover this possibility. The following SQL illustrates one technique that can be used."
   ]
  },
  {
   "cell_type": "code",
   "execution_count": null,
   "metadata": {},
   "outputs": [],
   "source": [
    "%%sql -j\n",
    "VALUES JSON_OBJECT(\n",
    "                   KEY 'departments' VALUE \n",
    "                       JSON_ARRAY(\n",
    "                                   VALUES NULL\n",
    "                                   UNION ALL\n",
    "                                   SELECT DEPTNO FROM DEPARTMENT \n",
    "                                     WHERE DEPTNAME LIKE 'Z%'\n",
    "                                 )\n",
    "                   FORMAT JSON\n",
    "                  );"
   ]
  },
  {
   "cell_type": "markdown",
   "metadata": {},
   "source": [
    "The `VALUES NULL UNION ALL` will generate at least one value that is `null` in the list and then the `JSON_ARRAY` function can ignore it (remember that `ABSENT ON NULL` is the default behavior!) and generate an empty array."
   ]
  },
  {
   "cell_type": "markdown",
   "metadata": {},
   "source": [
    "### RETURNING Clause\n",
    "The `RETURNING` clause is used to define how the final array is to be returned to the application. \n",
    "![JSON_OBJECT](images/ja-returning-clause.png)\n",
    "\n",
    "By default, the document is returned as a `CLOB` object, but you can also use `CHAR`, `VARCHAR`, `CLOB`, `VARBINARY`, or `BLOB`. If you want the data to be in proper JSON format, then use `FORMAT JSON`. `FORMAT BSON` is not available as part of `JSON_ARRAY` since the expectation is that you will be using it within a `JSON_OBJECT` function and that handles the `FORMAT BSON` conversion.\n",
    "\n",
    "If you supply too small of a data type, then the function will fail with an error message:\n",
    "```sql\n",
    "SQL0137N The length resulting from \"SYSIBM.JSON_OBJECT\" is greater than \"20\". SQLSTATE=54006 SQLCODE=-137\n",
    "```"
   ]
  },
  {
   "cell_type": "markdown",
   "metadata": {},
   "source": [
    "### Publishing Example\n",
    "The first step is to decide what type of document you want to create. The `SAMPLE database` has the `EMPLOYEE` and `DEPARTMENT` table and we want to be able to publish a document that follows this format.\n",
    "```json\n",
    "{ \n",
    "  \"empno\" : \"0001\",\n",
    "  \"personal\" : {\n",
    "                  \"first_name\":\"name\",\"middle_initial\":\"x\",\n",
    "                  \"last_name\":\"name\",\"sex\":\"m\",\"birthdate\":\"1999-01-01\"\n",
    "               },\n",
    "  \"compensation\" : {\"salary\":50000,\"bonus\":4500,\"commission\":500},\n",
    "  \"position\" : {\"job\":\"worker\",\"deptno\":\"A01\",\"department\":\"cleaning\"}.\n",
    "  \"manages\" : [\"A01\"]}\n",
    "}\n",
    "```\n",
    "\n",
    "The last field (manager) is a list of the departments that the individual manages. It should be empty if the employee is not a manager.\n",
    "\n",
    "The following fields are available to help us build the JSON document.\n",
    "* Employee number (EMPNO)\n",
    "* Personal information (FIRSTNME, MIDINIT, LASTNAME, SEX, BIRTHDATE)\n",
    "* Compensation (SALARY, BONUS, COMMISSION)\n",
    "* Job details (JOB, WORKDEPT, DEPARTMENT NAME)\n",
    "* Departments managed\n",
    "\n",
    "All of the employee information comes from the `EMPLOYEE` table, while the department name is found in the DEPARTMENT table. The tricky portion is determining what departments report to a manager. \n",
    "\n",
    "There is a column in the `DEPARTMENT` table that gives us the manager number (`MGRNO`), their base department number (`DEPTNO`) and what the administrative department (or higher-level department) that manages them. \n",
    "\n",
    "The following `SELECT` statement will give us the manager numbers and the departments that report to them (including their own)."
   ]
  },
  {
   "cell_type": "code",
   "execution_count": null,
   "metadata": {},
   "outputs": [],
   "source": [
    "%%sql \n",
    "SELECT D1.MGRNO, D1.DEPTNO FROM DEPARTMENT D1\n",
    "  WHERE D1.MGRNO IS NOT NULL\n",
    "UNION\n",
    "SELECT D1.MGRNO, D2.DEPTNO FROM DEPARTMENT D1, DEPARTMENT D2\n",
    "  WHERE D2.ADMRDEPT = D1.DEPTNO AND D1.MGRNO IS NOT NULL\n",
    "ORDER BY MGRNO;"
   ]
  },
  {
   "cell_type": "markdown",
   "metadata": {},
   "source": [
    "The JSON document we want to create can be broken down into five parts:\n",
    "* Employee number\n",
    "* Personal information\n",
    "* Compensation\n",
    "* Job Details\n",
    "* Departments managed\n",
    "\n",
    "The empno field is straightforward since it is a single value derived from the `EMPNO` field in the `EMPLOYEE`. "
   ]
  },
  {
   "cell_type": "code",
   "execution_count": null,
   "metadata": {},
   "outputs": [],
   "source": [
    "%%sql -j\n",
    "SELECT JSON_OBJECT(\n",
    "                   KEY 'empno' VALUE E.EMPNO \n",
    "                  )\n",
    "FROM EMPLOYEE E FETCH FIRST ROW ONLY;\n",
    "\n",
    "{\n",
    "  \"empno\":\"000010\"  \n",
    "}"
   ]
  },
  {
   "cell_type": "markdown",
   "metadata": {},
   "source": [
    "The next three fields are JSON objects that we will need to create from a combination of the data in the `EMPLOYEE` and `DEPARTMENT` tables. The personal field is an object with five values. To create this object, we use the following JSON_OBJECT function."
   ]
  },
  {
   "cell_type": "code",
   "execution_count": null,
   "metadata": {},
   "outputs": [],
   "source": [
    "%%sql -j\n",
    "SELECT JSON_OBJECT(\n",
    "                   KEY 'first_name' VALUE E.FIRSTNME,\n",
    "                   KEY 'middle_initial' VALUE E.MIDINIT,\n",
    "                   KEY 'last_name' VALUE E.LASTNAME,\n",
    "                   KEY 'sex' VALUE E.SEX,\n",
    "                   KEY 'birthdate' VALUE E.BIRTHDATE\n",
    "                   NULL ON NULL\n",
    "                  )\n",
    "FROM EMPLOYEE E FETCH FIRST ROW ONLY;"
   ]
  },
  {
   "cell_type": "markdown",
   "metadata": {},
   "source": [
    "This object needs to be nested into the SQL statement we are building for our desired JSON document. The next example shows the two SQL statements merged together."
   ]
  },
  {
   "cell_type": "code",
   "execution_count": null,
   "metadata": {},
   "outputs": [],
   "source": [
    "%%sql -j\n",
    "SELECT JSON_OBJECT(\n",
    "                   KEY 'empno' VALUE E.EMPNO, \n",
    "                   KEY 'personal' VALUE\n",
    "                       JSON_OBJECT(\n",
    "                                   KEY 'first_name' VALUE E.FIRSTNME,\n",
    "                                   KEY 'middle_initial' VALUE E.MIDINIT,\n",
    "                                   KEY 'last_name' VALUE E.LASTNAME,\n",
    "                                   KEY 'sex' VALUE E.SEX,\n",
    "                                   KEY 'birthdate' VALUE E.BIRTHDATE\n",
    "                                  ) \n",
    "                   FORMAT JSON\n",
    "                  )\n",
    "FROM EMPLOYEE E FETCH FIRST ROW ONLY;"
   ]
  },
  {
   "cell_type": "markdown",
   "metadata": {},
   "source": [
    "We have to remember to add the `FORMAT JSON` clause to remove the escape characters for any double quotes in the result from the upper `JSON_OBJECT` function.\n",
    "\n",
    "The same process has to be used to create the `JSON_OBJECT` functions for the two other sections (compensation and position). To generate the department name, we must add a join in the SQL between the `EMPLOYEE` table and the `DEPARTMENT` table in the `WHERE` clause. \n",
    "\n",
    "The SQL to generate everything except the manager list is found below: "
   ]
  },
  {
   "cell_type": "code",
   "execution_count": null,
   "metadata": {},
   "outputs": [],
   "source": [
    "%%sql -j\n",
    "SELECT JSON_OBJECT(\n",
    "                   KEY 'empno' VALUE E.EMPNO, \n",
    "                   KEY 'personal' VALUE \n",
    "                       JSON_OBJECT(\n",
    "                                   KEY 'first_name' VALUE E.FIRSTNME,\n",
    "                                   KEY 'middle_initial' VALUE E.MIDINIT,\n",
    "                                   KEY 'last_name' VALUE E.LASTNAME,\n",
    "                                   KEY 'sex' VALUE E.SEX,\n",
    "                                   KEY 'birthdate' VALUE E.BIRTHDATE\n",
    "                                  )\n",
    "                       FORMAT JSON,\n",
    "                   KEY 'compensation' VALUE \n",
    "                       JSON_OBJECT(\n",
    "                                   KEY 'salary' VALUE E.SALARY,\n",
    "                                   KEY 'bonus' VALUE E.BONUS,\n",
    "                                   KEY 'commission' VALUE E.COMM\n",
    "                                  ) \n",
    "                       FORMAT JSON,  \n",
    "                   KEY 'position' VALUE \n",
    "                       JSON_OBJECT(\n",
    "                                   KEY 'job' VALUE E.JOB,\n",
    "                                   KEY 'deptno' VALUE E.WORKDEPT,\n",
    "                                   KEY 'department' VALUE D.DEPTNAME   \n",
    "                                  ) \n",
    "                       FORMAT JSON\n",
    "                  )\n",
    "FROM EMPLOYEE E, DEPARTMENT D\n",
    "WHERE D.DEPTNO = E.WORKDEPT FETCH FIRST ROW ONLY;"
   ]
  },
  {
   "cell_type": "markdown",
   "metadata": {},
   "source": [
    "Finally, we need to add the list of departments that a manager is responsible for. The code for determining this was shown earlier. In order to get this into the JSON document, we must use the `JSON_ARRAY` function with the imbedded SQL statement. This SQL snippet shows the results from manager `E.EMPNO = '000010'`."
   ]
  },
  {
   "cell_type": "code",
   "execution_count": null,
   "metadata": {},
   "outputs": [],
   "source": [
    "%%sql -j\n",
    "SELECT JSON_ARRAY(\n",
    "           VALUES NULL\n",
    "            UNION \n",
    "           SELECT D1.DEPTNO FROM DEPARTMENT D1 WHERE D1.MGRNO = E.EMPNO\n",
    "            UNION \n",
    "           SELECT D2.DEPTNO FROM DEPARTMENT D1, DEPARTMENT D2 \n",
    "             WHERE D2.ADMRDEPT = D1.DEPTNO AND D1.MGRNO = E.EMPNO \n",
    "          ) FROM EMPLOYEE E\n",
    "WHERE E.EMPNO = '000010'"
   ]
  },
  {
   "cell_type": "markdown",
   "metadata": {},
   "source": [
    "We need to add the `VALUES NULL` clause to make sure we have a null array created in the event the employee is not a manager. The final SQL is found below."
   ]
  },
  {
   "cell_type": "code",
   "execution_count": null,
   "metadata": {},
   "outputs": [],
   "source": [
    "%%sql -j\n",
    "SELECT JSON_OBJECT(\n",
    "                   KEY 'empno' VALUE E.EMPNO, \n",
    "                   KEY 'personal' VALUE \n",
    "                       JSON_OBJECT(\n",
    "                                   KEY 'first_name' VALUE E.FIRSTNME,\n",
    "                                   KEY 'middle_initial' VALUE E.MIDINIT,\n",
    "                                   KEY 'last_name' VALUE E.LASTNAME,\n",
    "                                   KEY 'sex' VALUE E.SEX,\n",
    "                                   KEY 'birthdate' VALUE E.BIRTHDATE\n",
    "                                  ) \n",
    "                        FORMAT JSON,\n",
    "                   KEY 'compensation' VALUE \n",
    "                       JSON_OBJECT(\n",
    "                                   KEY 'salary' VALUE E.SALARY,\n",
    "                                   KEY 'bonus' VALUE E.BONUS,\n",
    "                                   KEY 'commission' VALUE E.COMM\n",
    "                                  ) \n",
    "                       FORMAT JSON,  \n",
    "                   KEY 'position' VALUE \n",
    "                       JSON_OBJECT(\n",
    "                                   KEY 'job' VALUE E.JOB,\n",
    "                                   KEY 'deptno' VALUE E.WORKDEPT,\n",
    "                                   KEY 'department' VALUE D.DEPTNAME   \n",
    "                                  ) \n",
    "                       FORMAT JSON,\n",
    "                   KEY 'manages' VALUE \n",
    "                       JSON_ARRAY(\n",
    "                                  VALUES NULL\n",
    "                                  UNION \n",
    "                                  SELECT D1.DEPTNO FROM DEPARTMENT D1\n",
    "                                    WHERE D1.MGRNO = E.EMPNO \n",
    "                                  UNION \n",
    "                                  SELECT D2.DEPTNO FROM DEPARTMENT D1,\n",
    "                                         DEPARTMENT D2\n",
    "                                    WHERE D2.ADMRDEPT = D1.DEPTNO AND\n",
    "                                          D1.MGRNO = E.EMPNO       \n",
    "                                 ) \n",
    "                       FORMAT JSON\n",
    "                  )\n",
    "FROM EMPLOYEE E, DEPARTMENT D\n",
    "WHERE D.DEPTNO = E.WORKDEPT;"
   ]
  },
  {
   "cell_type": "markdown",
   "metadata": {},
   "source": [
    "## Summary\n",
    "The `JSON_OBJECT` and `JSON_ARRAY` functions can be used to create JSON documents from data in relational tables. The `JSON_OBJEC`T function can be used to create complex objects, by nesting other `JSON_OBJECT` and `JSON_ARRAY` calls. \n",
    "\n",
    "To create a JSON document, you need to decide what the structure of your document will look like, the fields that you want to publish, and also decide what other tables you may need to create arrays. \n",
    "\n",
    "The best way to publish relational data as JSON is to break up the document into multiple sections to create and test them individually before combining them all together to get the desired end result."
   ]
  },
  {
   "cell_type": "markdown",
   "metadata": {},
   "source": [
    "#### Credits: IBM 2019, George Baklarz [baklarz@ca.ibm.com]"
   ]
  }
 ],
 "metadata": {
  "kernelspec": {
   "display_name": "Python 3",
   "language": "python",
   "name": "python3"
  },
  "language_info": {
   "codemirror_mode": {
    "name": "ipython",
    "version": 3
   },
   "file_extension": ".py",
   "mimetype": "text/x-python",
   "name": "python",
   "nbconvert_exporter": "python",
   "pygments_lexer": "ipython3",
   "version": "3.6.8"
  }
 },
 "nbformat": 4,
 "nbformat_minor": 2
}
