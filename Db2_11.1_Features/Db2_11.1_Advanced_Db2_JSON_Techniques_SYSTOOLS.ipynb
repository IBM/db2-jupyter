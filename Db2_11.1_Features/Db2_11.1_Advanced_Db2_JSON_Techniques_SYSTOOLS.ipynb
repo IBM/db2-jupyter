{
 "cells": [
  {
   "cell_type": "markdown",
   "metadata": {},
   "source": [
    "# Advanced JSON Techniques (SYSTOOLS)\n",
    "Updated: 2019-10-03\n",
    "\n",
    " **Note:** Db2 11.5 introduced new ISO SQL JSON Functions which are the preferred method for manipulating JSON records in Db2. While these routines are currently supported, any new development will be done with the ISO SQL JSON functions.\n",
    "\n",
    "The basics of using JSON within DB2 were covered in a previous notebook. This notebook will cover some of the advanced techniques that are required to access arrays and structures that may be nested within a JSON document. The first step (as with any notebook!) is to load the Db2 Jupyter magic commands."
   ]
  },
  {
   "cell_type": "code",
   "execution_count": null,
   "metadata": {},
   "outputs": [],
   "source": [
    "%run ../db2.ipynb\n",
    "%run ../connection.ipynb"
   ]
  },
  {
   "cell_type": "markdown",
   "metadata": {},
   "source": [
    "This section will work with a larger table that will give us some idea of the performance of using JSON within a Db2 database. This next statement will generate 25,000 customer records that have a structure similar to this:\n",
    "```json\n",
    "{\n",
    "    \"customerid\": 100000,\n",
    "    \"identity\": {\n",
    "        \"firstname\": \"Jacob\",\n",
    "        \"lastname\": \"Hines\",\n",
    "        \"birthdate\": \"1982-09-18\"\n",
    "    },\n",
    "    \"contact\": {\n",
    "        \"street\": \"Main Street North\",\n",
    "        \"city\": \"Amherst\",\n",
    "        \"state\": \"OH\",\n",
    "        \"zipcode\": \"44001\",\n",
    "        \"email\": \"Ja.Hines@yahii.com\",\n",
    "        \"phone\": \"813-689-8309\"\n",
    "    },\n",
    "    \"payment\": {\n",
    "        \"card_type\": \"MCCD\",\n",
    "        \"card_no\": \"4742-3005-2829-9227\"\n",
    "    },\n",
    "    \"purchases\": [\n",
    "        {\n",
    "            \"tx_date\": \"2018-02-14\",\n",
    "            \"tx_no\": 157972,\n",
    "            \"product_id\": 1860,\n",
    "            \"product\": \"Ugliest Snow Blower\",\n",
    "            \"quantity\": 1,\n",
    "            \"item_cost\": 51.86\n",
    "        },...\n",
    "    ]\n",
    "}\n",
    "```"
   ]
  },
  {
   "cell_type": "markdown",
   "metadata": {},
   "source": [
    "The JSON record contains four distinct pieces of information:\n",
    "\n",
    "- Customerid - Primary key\n",
    "- Identity - Information on the customer including name and birthdate\n",
    "- Contact - Address, email, and phone number information\n",
    "- Payment - Current payment card that is used\n",
    "- Purchase - The purchase that the customer has made\n",
    "\n",
    "The purchase structure contains information on the customer purchases. For each purchased items there is the following information:\n",
    "\n",
    "- tx_date - Date of the transaction\n",
    "- tx_no - Transaction number\n",
    "- product_id - Id for the product\n",
    "- product - Name of the product\n",
    "- quantity - Quantity of products purchased\n",
    "- item_cost - Cost of one product\n",
    "\n",
    "If this was a relational database you would probably split these fields up into different tables and use join techniques to bring the information back together. In a JSON document we are able to keep all of this information in one record, which makes retrieval of an individual customer purchases easier."
   ]
  },
  {
   "cell_type": "markdown",
   "metadata": {},
   "source": [
    "### Generate Sample Data\n",
    "We need to create JSON records for loading into the table. This next command will run the `db2json.ipynb` file which contains code to generate JSON records. If you want to change the number of records created or the data used, edit the file to modify the defaults. The program will display its progress as it runs."
   ]
  },
  {
   "cell_type": "code",
   "execution_count": null,
   "metadata": {},
   "outputs": [],
   "source": [
    "%run generate_json.ipynb"
   ]
  },
  {
   "cell_type": "markdown",
   "metadata": {},
   "source": [
    "### Load into Customer Table (BSON)"
   ]
  },
  {
   "cell_type": "markdown",
   "metadata": {},
   "source": [
    "The table that we create for JSON data will include a column with the actual JSON record and another field as an identifier for the row. The load statement in the next section of code will insert the `customerid` from the JSON record into the `CUSTNO` column. "
   ]
  },
  {
   "cell_type": "code",
   "execution_count": null,
   "metadata": {},
   "outputs": [],
   "source": [
    "%%sql -q\n",
    "  DROP TABLE CUSTOMERS;\n",
    "  CREATE TABLE CUSTOMERS \n",
    "    (\n",
    "    CUSTNO  INT NOT NULL,\n",
    "    DETAILS BLOB(2048) INLINE LENGTH 2048\n",
    "    );"
   ]
  },
  {
   "cell_type": "markdown",
   "metadata": {},
   "source": [
    "The next piece of code will import the data into Db2. The Python code will read the `customer.js` file, parse it and then insert in into the `CUSTOMERS` table. Note that the entire JSON record is stored into the `DETAILS` column, while the `CUSTNO` column is set to the `customerid` field that is found in the JSON record."
   ]
  },
  {
   "cell_type": "code",
   "execution_count": null,
   "metadata": {},
   "outputs": [],
   "source": [
    "import io\n",
    "import json\n",
    "print(\"Starting Load\")\n",
    "start_time = time.time()\n",
    "%sql autocommit off\n",
    "x = %sql prepare INSERT INTO CUSTOMERS VALUES (?,SYSTOOLS.JSON2BSON(?))\n",
    "if (x != False):\n",
    "    i = 0\n",
    "    with open(\"customers.js\",\"r\") as records:\n",
    "        for record in records:\n",
    "            rec = json.loads(record)\n",
    "            custno = rec['customerid']\n",
    "            i += 1\n",
    "            rc = %sql execute :x using custno@int, record@char\n",
    "            if (rc == False): break\n",
    "            if ((i % 5000) == 0): \n",
    "                print(str(i)+\" rows read.\")\n",
    "                %sql commit hold\n",
    "                \n",
    "    %sql commit work  \n",
    "%sql autocommit on\n",
    "end_time = time.time()\n",
    "print('Total load time for {:d} records is {:.2f} seconds'.format(i,end_time-start_time))\n",
    "customer_bson = end_time - start_time"
   ]
  },
  {
   "cell_type": "markdown",
   "metadata": {},
   "source": [
    "To double-check the JSON format we retrieve one record from the table."
   ]
  },
  {
   "cell_type": "code",
   "execution_count": null,
   "metadata": {},
   "outputs": [],
   "source": [
    "%sql -j select systools.bson2json(details) from customers fetch first 1 row only"
   ]
  },
  {
   "cell_type": "markdown",
   "metadata": {},
   "source": [
    "The table does not have an index currently defined on it. We could have created the table with a primary key but chose not to in order to speed up the load step. The next statement will create the index for our table."
   ]
  },
  {
   "cell_type": "code",
   "execution_count": null,
   "metadata": {},
   "outputs": [],
   "source": [
    "%sql CREATE UNIQUE INDEX IX_CUST_BSON ON CUSTOMERS(CUSTNO)"
   ]
  },
  {
   "cell_type": "markdown",
   "metadata": {},
   "source": [
    "### JSON Examples"
   ]
  },
  {
   "cell_type": "markdown",
   "metadata": {},
   "source": [
    "The Db2 notebook on JSON features described how to retrieve individual fields from a record by using the `JSON_VAL` function. The following code retrieves the first and last name of customer number 100000."
   ]
  },
  {
   "cell_type": "code",
   "execution_count": null,
   "metadata": {},
   "outputs": [],
   "source": [
    "%%sql \n",
    "SELECT JSON_VAL(DETAILS,'identity.firstname','s:32') AS FIRSTNAME, \n",
    "       JSON_VAL(DETAILS,'identity.lastname','s:32') AS LASTNAME\n",
    "FROM CUSTOMERS\n",
    "WHERE CUSTNO = 100000"
   ]
  },
  {
   "cell_type": "markdown",
   "metadata": {},
   "source": [
    "The next SQL command returns the customers first name, lastname, address, zipcode, date of birth and phone number from the JSON record."
   ]
  },
  {
   "cell_type": "code",
   "execution_count": null,
   "metadata": {},
   "outputs": [],
   "source": [
    "%%sql\n",
    "SELECT\n",
    "  JSON_VAL(DETAILS,'identity.firstname','s:12') AS FIRSTNAME,\n",
    "  JSON_VAL(DETAILS,'identity.lastname','s:15') AS LASTNAME,\n",
    "  JSON_VAL(DETAILS,'contact.street','s:30') AS STREET,\n",
    "  JSON_VAL(DETAILS,'contact.city','s:20') AS CITY,\n",
    "  JSON_VAL(DETAILS,'contact.state','s:2') AS STATE,\n",
    "  JSON_VAL(DETAILS,'contact.zipcode','s:5') AS ZIPCODE,\n",
    "  JSON_VAL(DETAILS,'identity.birthdate','d') AS BIRTHDATE,\n",
    "  JSON_VAL(DETAILS,'contact.phone','s:12') AS PHONE\n",
    "FROM CUSTOMERS\n",
    "WHERE CUSTNO = 100000"
   ]
  },
  {
   "cell_type": "markdown",
   "metadata": {},
   "source": [
    "The following example shows how you would retrieve all of the purchases that a customer made using the `JSON_TABLE` function."
   ]
  },
  {
   "cell_type": "code",
   "execution_count": null,
   "metadata": {},
   "outputs": [],
   "source": [
    "%%sql \n",
    "with purchases(items) as \n",
    "   (select systools.json2bson(items.value)\n",
    "    from customers, \n",
    "    table( systools.json_table(customers.details,'purchases','s:2048')) as items\n",
    "    where custno = 100000\n",
    "   )\n",
    "select \n",
    "  JSON_VAL(items,'product_id','i'),\n",
    "  JSON_VAL(items,'product','s:32'),\n",
    "  JSON_VAL(items,'quantity','i'),\n",
    "  CAST(JSON_VAL(items,'item_cost','n') AS DEC(7,2)) from purchases"
   ]
  },
  {
   "cell_type": "markdown",
   "metadata": {},
   "source": [
    "### Sales by State\n",
    "This first query will show the total sales per state. In order to determine this, we must take the array of purchases by a customer, calculate the total cost of their orders and sum it up for the state."
   ]
  },
  {
   "cell_type": "code",
   "execution_count": null,
   "metadata": {
    "pixiedust": {
     "displayParams": {
      "aggregation": "SUM",
      "handlerId": "barChart",
      "keyFields": "STATE",
      "legend": "false",
      "mpld3": "false",
      "sortby": "Values ASC",
      "valueFields": "2"
     }
    }
   },
   "outputs": [],
   "source": [
    "%%sql -pb\n",
    "WITH JSONARRAY(PK, ITEM) AS\n",
    "  (\n",
    "    SELECT C.CUSTNO, SYSTOOLS.JSON2BSON(ITEMS.VALUE) FROM CUSTOMERS C, \n",
    "      TABLE( SYSTOOLS.JSON_TABLE(C.DETAILS,'purchases','s:2048')) AS ITEMS\n",
    "  ),\n",
    "SALES(STATE, AMOUNT) AS\n",
    "   ( \n",
    "   SELECT JSON_VAL(c.details,'contact.state','s:2'), \n",
    "       SUM( JSON_VAL(j.item,'quantity','i') * DEC(JSON_VAL(j.item,'item_cost','n'),7,2) )\n",
    "   FROM JSONARRAY j, CUSTOMERS c \n",
    "   WHERE j.pk = c.custno \n",
    "   GROUP BY JSON_VAL(c.details,'contact.state','s:2') \n",
    "   ) \n",
    "SELECT STATE, SUM(AMOUNT) FROM SALES \n",
    "GROUP BY STATE \n",
    "ORDER BY 2 DESC"
   ]
  },
  {
   "cell_type": "markdown",
   "metadata": {},
   "source": [
    "### Orders of a Product\n",
    "This calculation gives us the number of times a product was ordered. This doesn't tell us the quantity since we need to look at the individual purchases to see how many of the product the customer actually ordered. The SQL command will use the -a flag so that the output will be displayed in a TABLE so that you can find it easier to scroll the results."
   ]
  },
  {
   "cell_type": "code",
   "execution_count": null,
   "metadata": {
    "pixiedust": {
     "displayParams": {
      "aggregation": "SUM",
      "handlerId": "tableView",
      "keyFields": "PRODUCT",
      "sortby": "Values ASC",
      "valueFields": "QUANTITY"
     }
    }
   },
   "outputs": [],
   "source": [
    "%%sql\n",
    "WITH JSONARRAY(PK, ITEM) AS\n",
    "  (\n",
    "    SELECT C.CUSTNO, SYSTOOLS.JSON2BSON(ITEMS.VALUE) FROM CUSTOMERS C, \n",
    "      TABLE( SYSTOOLS.JSON_TABLE(C.DETAILS,'purchases','s:2048')) AS ITEMS\n",
    "  ),\n",
    "SALES(product, quantity) AS ( \n",
    "  SELECT JSON_VAL(j.item,'product','s:32'),COUNT(*) \n",
    "    FROM JSONARRAY J \n",
    "  GROUP BY JSON_VAL(j.item,'product','s:32') \n",
    ") \n",
    "SELECT product, quantity from SALES \n",
    "ORDER BY 2 DESC"
   ]
  },
  {
   "cell_type": "markdown",
   "metadata": {},
   "source": [
    "### Quantity of Products Ordered\n",
    "So this SQL will actually tell us the quantity of a product ordered."
   ]
  },
  {
   "cell_type": "code",
   "execution_count": null,
   "metadata": {
    "pixiedust": {
     "displayParams": {
      "aggregation": "SUM",
      "handlerId": "barChart",
      "keyFields": "PRODUCT",
      "sortby": "Values ASC",
      "valueFields": "QUANTITY"
     }
    }
   },
   "outputs": [],
   "source": [
    "%%sql\n",
    "WITH JSONARRAY(PK, ITEM) AS\n",
    "  (\n",
    "    SELECT C.CUSTNO, SYSTOOLS.JSON2BSON(ITEMS.VALUE) FROM CUSTOMERS C, \n",
    "      TABLE( SYSTOOLS.JSON_TABLE(C.DETAILS,'purchases','s:2048')) AS ITEMS\n",
    "  ),\n",
    "SALES(product, quantity) AS ( \n",
    "  SELECT JSON_VAL(j.item,'product','s:32'), JSON_VAL(j.item,'quantity','i')\n",
    "    FROM JSONARRAY J \n",
    ") \n",
    "SELECT product, sum(quantity) from SALES \n",
    "GROUP BY product\n",
    "ORDER BY 2 DESC"
   ]
  },
  {
   "cell_type": "markdown",
   "metadata": {},
   "source": [
    "### Most Popular Product by State\n",
    "Here we need to get the product counts by state, and then pick the maximum quantity found in the answer set. The steps we need to perform in the SQL are:\n",
    "\n",
    "- Get all products purchased\n",
    "- Sum the sales of products by state\n",
    "- Compute the max for each state\n",
    "\n",
    "The next set of SQL statements will get us the results. Note that it is possible to have more than one product being the top seller in a state. Note: This SQL may take a while to execute."
   ]
  },
  {
   "cell_type": "code",
   "execution_count": null,
   "metadata": {
    "pixiedust": {
     "displayParams": {
      "aggregation": "SUM",
      "handlerId": "barChart",
      "keyFields": "PRODUCT",
      "sortby": "Values ASC",
      "valueFields": "QUANTITY"
     }
    }
   },
   "outputs": [],
   "source": [
    "%%sql\n",
    "WITH JSONARRAY(PK, ITEM) AS\n",
    "  (\n",
    "    SELECT C.CUSTNO, SYSTOOLS.JSON2BSON(ITEMS.VALUE) FROM CUSTOMERS C, \n",
    "      TABLE( SYSTOOLS.JSON_TABLE(C.DETAILS,'purchases','s:2048')) AS ITEMS\n",
    "  ),\n",
    "SALES(product, state, quantity) AS ( \n",
    "  SELECT JSON_VAL(j.item,'product','s:32'), \n",
    "         JSON_VAL(c.details,'contact.state','s:2'),\n",
    "         SUM(JSON_VAL(j.item,'quantity','i'))\n",
    "    FROM JSONARRAY J, CUSTOMERS C\n",
    "    WHERE J.PK = C.CUSTNO\n",
    "    GROUP BY JSON_VAL(j.item,'product','s:32'), \n",
    "             JSON_VAL(c.details,'contact.state','s:2')\n",
    "),\n",
    "MAXSALES(state, total) AS (\n",
    "  SELECT STATE, MAX(quantity)\n",
    "  FROM SALES\n",
    "  GROUP BY STATE\n",
    ")\n",
    "SELECT s.state, s.product, m.total \n",
    "  FROM SALES s, MAXSALES m\n",
    "WHERE\n",
    "  s.state = m.state and\n",
    "  s.quantity = m.total\n",
    "ORDER BY s.product desc"
   ]
  },
  {
   "cell_type": "markdown",
   "metadata": {},
   "source": [
    "## Converting JSON into Relational Tables\n",
    "As you can see from the previous examples, it is possible to analytics against the JSON data. However, it requires some sophisticated techniques for manipulating (and converting) the JSON data. One approach is to use the JSON functions and move the data into a traditional relational table for analysis. The following SQL will create a \"flat\" relational table that will allow for further analysis without having to do joins. In addition, we are going to create the table using column organization which will give us the ability to do queries without having to worry about what indexes are needed. "
   ]
  },
  {
   "cell_type": "code",
   "execution_count": null,
   "metadata": {
    "scrolled": true
   },
   "outputs": [],
   "source": [
    "%%sql\n",
    "DROP TABLE TRANSACTIONS;\n",
    "CREATE TABLE TRANSACTIONS\n",
    "  (\n",
    "  TX_DATE DATE,\n",
    "  CITY VARCHAR(32),\n",
    "  STATE CHAR(2),\n",
    "  ZIPCODE INT,\n",
    "  PRODUCT_NAME VARCHAR(32),\n",
    "  PRODUCT_QTY INT,\n",
    "  PRODUCT_COST DEC(7,2),\n",
    "  CCARD CHAR(4)\n",
    "  ) \n",
    "ORGANIZE BY COLUMN;"
   ]
  },
  {
   "cell_type": "markdown",
   "metadata": {},
   "source": [
    "Next we generate the rows we need to populate the transactions table."
   ]
  },
  {
   "cell_type": "code",
   "execution_count": null,
   "metadata": {},
   "outputs": [],
   "source": [
    "%%sql\n",
    "INSERT INTO TRANSACTIONS \n",
    "WITH JSONARRAY(PK, ITEM) AS\n",
    "  (\n",
    "    SELECT C.CUSTNO, SYSTOOLS.JSON2BSON(ITEMS.VALUE) FROM CUSTOMERS C, \n",
    "      TABLE( SYSTOOLS.JSON_TABLE(C.DETAILS,'purchases','s:2048')) AS ITEMS\n",
    "  ),\n",
    "TXS(tx_date, city, state, zipcode, product_name, product_qty, product_cost, ccard) AS \n",
    "  ( \n",
    "  SELECT JSON_VAL(j.item,'tx_date','d'), \n",
    "         JSON_VAL(c.details,'contact.city','s:32'),\n",
    "         JSON_VAL(c.details,'contact.state','s:2'), \n",
    "         JSON_VAL(c.details,'contact.zipcode','s:5'),\n",
    "         JSON_VAL(j.item,'product','s:32'),\n",
    "         JSON_VAL(j.item,'quantity','i'),\n",
    "         DEC(JSON_VAL(j.item,'item_cost','n'),7,2),\n",
    "         JSON_VAL(c.details,'payment.card_type','s:4')\n",
    "  from jsonarray j, customers c\n",
    "     where j.pk = c.custno\n",
    "  )\n",
    "SELECT TX_DATE, CITY, STATE, ZIPCODE, PRODUCT_NAME, PRODUCT_QTY, PRODUCT_COST, CCARD\n",
    "    FROM TXS"
   ]
  },
  {
   "cell_type": "markdown",
   "metadata": {},
   "source": [
    "Next we can check our record count to see how many records we have. "
   ]
  },
  {
   "cell_type": "code",
   "execution_count": null,
   "metadata": {},
   "outputs": [],
   "source": [
    "%sql SELECT COUNT(*) FROM TRANSACTIONS"
   ]
  },
  {
   "cell_type": "markdown",
   "metadata": {},
   "source": [
    "### Plot Routine\n",
    "This code will produce a graph of the results from an SQL statement. This routine allows more flexibility on what is displayed on the chart, including changes the colors, the titles, and the axis names.\n",
    "\n",
    "The format of the Plot is:\n",
    "```\n",
    "plotSQL(sql, \"Title of the plot\", \"X Axis Title\", \"Y Axis Title\", rotation, color palette)\n",
    "```\n",
    "If Rotation is set to True, the x axis labels will be rotated by 30 degress and place the text at a slight angle to make longer text easier to read. The color palette is either m1, m2, m3, or m4."
   ]
  },
  {
   "cell_type": "code",
   "execution_count": null,
   "metadata": {},
   "outputs": [],
   "source": [
    "import matplotlib.pyplot as plt\n",
    "\n",
    "m1 = ('#009926','#00994d','#009973','#009999','#007399','#004d99','#002699','#000099')\n",
    "m2 = (\"#00ff40\",\"#00ff80\",\"#00ffbf\",\"#00ffff\",\"#00bfff\",\"#0080ff\",\"#0040ff\")\n",
    "m3 = (\"#9933ff\",\"#cc33ff\",\"#ff33ff\",\"#ff33cc\",\"#ff3399\",\"#ff3366\",\"#ff3333\")\n",
    "m4 = (\"#ff00bf\",\"#ff0080\",\"#ff0040\",\"#ff0000\",\"#ff0000\",\"#ff4000\",\"#ff8000\",\"#ffbf00\",\"#ffff00\")\n",
    "\n",
    "def plotSQL(sql, title, xaxis, yaxis, rotation, colormap):\n",
    "    if (rotation == True):\n",
    "        rot = 30\n",
    "    else:\n",
    "        rot = 0\n",
    "    df = %sql {sql}\n",
    "    if (df is None):\n",
    "        print(\"SQL call failed\")\n",
    "        return\n",
    "    xvalues = df.columns.values[0]\n",
    "    yvalues = df.columns.values[1]\n",
    "    df.plot(kind='bar',x=xvalues,y=yvalues,color=colormap);\n",
    "    _ = plt.xlabel(\"\", fontsize=12);\n",
    "    _ = plt.ylabel(yaxis, fontsize=12);\n",
    "    _ = plt.suptitle(title, fontsize=20);\n",
    "    _ = plt.xticks(rotation=rot);\n",
    "    _ = plt.plot();"
   ]
  },
  {
   "cell_type": "markdown",
   "metadata": {},
   "source": [
    "### Columnar: Top 10 States by Sales"
   ]
  },
  {
   "cell_type": "code",
   "execution_count": null,
   "metadata": {},
   "outputs": [],
   "source": [
    "sqlin = \\\n",
    "'''\n",
    "WITH \n",
    "SALES(state, amount) AS\n",
    "   ( \n",
    "   SELECT STATE, SUM(PRODUCT_QTY * PRODUCT_COST) \n",
    "   from TRANSACTIONS \n",
    "   GROUP BY STATE\n",
    "   ) \n",
    "SELECT state, sum(amount) from SALES \n",
    "GROUP BY state \n",
    "ORDER BY 2 DESC FETCH FIRST 10 ROWS ONLY\n",
    "WITH UR\n",
    "'''\n",
    "plotSQL(sqlin, \n",
    "    \"Sales per State\", \n",
    "    \"State\",\n",
    "    \"Revenue\",\n",
    "    False,\n",
    "    m1)"
   ]
  },
  {
   "cell_type": "markdown",
   "metadata": {},
   "source": [
    "### Columnar: Top 10 Products Sold"
   ]
  },
  {
   "cell_type": "code",
   "execution_count": null,
   "metadata": {},
   "outputs": [],
   "source": [
    "sqlin = \\\n",
    "'''\n",
    "WITH \n",
    "  SALES(product, quantity) AS ( \n",
    "      SELECT PRODUCT_NAME, PRODUCT_QTY \n",
    "      from TRANSACTIONS\n",
    "      ) \n",
    "SELECT product, sum(quantity) from SALES \n",
    "GROUP BY product\n",
    "ORDER BY 2 DESC\n",
    "FETCH FIRST 10 ROWS ONLY\n",
    "WITH UR\n",
    "'''\n",
    "plotSQL(sqlin, \n",
    "    \"Products Sold\", \n",
    "    \"Product\",\n",
    "    \"Quantity\",\n",
    "    True,\n",
    "    m2)"
   ]
  },
  {
   "cell_type": "markdown",
   "metadata": {},
   "source": [
    "### Weekly Sales with Moving Average"
   ]
  },
  {
   "cell_type": "code",
   "execution_count": null,
   "metadata": {},
   "outputs": [],
   "source": [
    "sqlin = \\\n",
    "\"\"\"\n",
    "WITH TOTALPROD(TX_DATE, TX_TOTAL) AS \n",
    "  (\n",
    "  SELECT WEEK(TX_DATE), SUM(PRODUCT_QTY*PRODUCT_COST) FROM TRANSACTIONS\n",
    "      WHERE YEAR(TX_DATE) = 2017 AND WEEK(TX_DATE) <= 52\n",
    "  GROUP BY WEEK(TX_DATE)\n",
    "  )\n",
    "SELECT TX_DATE, TX_TOTAL AS SALES, \n",
    "     AVG(TX_TOTAL) OVER (\n",
    "       ORDER BY TX_DATE\n",
    "     ROWS BETWEEN 8 PRECEDING AND CURRENT ROW) AS MOVING_AVG\n",
    "  FROM TOTALPROD\n",
    "  ORDER BY TX_DATE\n",
    "\"\"\"\n",
    "df = %sql {sqlin}\n",
    "txdate= df['TX_DATE']\n",
    "sales = df['SALES']\n",
    "avg = df['MOVING_AVG']\n",
    "\n",
    "plt.xlabel(\"Week of Year\", fontsize=12);\n",
    "plt.ylabel(\"Sales\", fontsize=12);\n",
    "plt.suptitle(\"Weekly Sales and Moving Average\", fontsize=20);\n",
    "plt.plot(txdate, sales, 'r');\n",
    "plt.plot(txdate, avg, 'b');\n",
    "plt.show();"
   ]
  },
  {
   "cell_type": "markdown",
   "metadata": {},
   "source": [
    "### Top Products Sales by State"
   ]
  },
  {
   "cell_type": "code",
   "execution_count": null,
   "metadata": {},
   "outputs": [],
   "source": [
    "import seaborn as sns\n",
    "cm = sns.light_palette(\"green\", as_cmap=True)\n",
    "sqlin = \\\n",
    "\"\"\"\n",
    "WITH \n",
    "  SALES(product, state, quantity) AS ( \n",
    "      SELECT PRODUCT_NAME, STATE, SUM(PRODUCT_QTY)\n",
    "      from TRANSACTIONS\n",
    "      GROUP BY PRODUCT_NAME, STATE\n",
    "      ),\n",
    "  MAXSALES(state, total) AS (\n",
    "      SELECT STATE, MAX(quantity)\n",
    "      FROM SALES\n",
    "      GROUP BY STATE\n",
    "  )\n",
    "SELECT s.state, s.product, m.total \n",
    "  FROM SALES s, MAXSALES m\n",
    "WHERE\n",
    "  s.state = m.state and\n",
    "  s.quantity = m.total\n",
    "ORDER BY m.total desc\n",
    "\"\"\"\n",
    "result = %sql {sqlin}\n",
    "result.style.background_gradient(cmap=cm)"
   ]
  },
  {
   "cell_type": "markdown",
   "metadata": {},
   "source": [
    "#### Credits: IBM 2019, George Baklarz [baklarz@ca.ibm.com]"
   ]
  }
 ],
 "metadata": {
  "kernelspec": {
   "display_name": "Python 3",
   "language": "python",
   "name": "python3"
  },
  "language_info": {
   "codemirror_mode": {
    "name": "ipython",
    "version": 3
   },
   "file_extension": ".py",
   "mimetype": "text/x-python",
   "name": "python",
   "nbconvert_exporter": "python",
   "pygments_lexer": "ipython3",
   "version": "3.7.3"
  }
 },
 "nbformat": 4,
 "nbformat_minor": 2
}
