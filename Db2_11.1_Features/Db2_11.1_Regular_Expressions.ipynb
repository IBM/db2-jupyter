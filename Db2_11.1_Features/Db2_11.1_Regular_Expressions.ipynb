{
 "cells": [
  {
   "cell_type": "markdown",
   "metadata": {},
   "source": [
    "<a id='top'></a>"
   ]
  },
  {
   "cell_type": "markdown",
   "metadata": {
    "hideCode": false,
    "hidePrompt": false
   },
   "source": [
    "# Db2 Regular Expressions\n",
    "Updated: 2019-10-03"
   ]
  },
  {
   "cell_type": "markdown",
   "metadata": {
    "hideCode": false,
    "hidePrompt": false
   },
   "source": [
    "Db2 11.1 introduced extended support for regular\n",
    "expressions. Regular expressions allow you to do very complex\n",
    "pattern matching in character strings. Normal SQL LIKE\n",
    "searches are limited to very specific patterns, but Regular\n",
    "expression have a rich syntax that gives you much more\n",
    "flexibility in searching.\n",
    "\n",
    "Set up the connection to the database and Db2 command extensions."
   ]
  },
  {
   "cell_type": "code",
   "execution_count": null,
   "metadata": {
    "hideCode": false,
    "hideOutput": false,
    "hidePrompt": false
   },
   "outputs": [],
   "source": [
    "%run ../db2.ipynb\n",
    "%run ../connection.ipynb"
   ]
  },
  {
   "cell_type": "markdown",
   "metadata": {},
   "source": [
    "# Table of Contents\n",
    "\n",
    "* [Sample Table Setup](#sample)\n",
    "* [Regular Expression Commands](#regular)\n",
    "* [Regular Expression Flags](#flags)\n",
    "* [Regular Expression Search Patterns](#patterns)\n",
    "* [Anchoring Patterns in a Search](#anchor)\n",
    "* [Matching Patterns Across Lines](#multiple)\n",
    "* [Logical OR Operator](#or)\n",
    "* [Combining Patterns](#combine)\n",
    "* [Matching Character Types](#chars)\n",
    "* [Special Patterns](#special)\n",
    "* [Negating Patterns](#negate)\n",
    "* [Capturing Parenthesis](#capture)\n",
    "* [Performance Considerations](#performance)"
   ]
  },
  {
   "cell_type": "markdown",
   "metadata": {},
   "source": [
    "[Back to Top](#top)\n",
    "<a id='sample'></a>"
   ]
  },
  {
   "cell_type": "markdown",
   "metadata": {
    "hideCode": false,
    "hidePrompt": false
   },
   "source": [
    "## Sample Table Setup\n",
    "\n",
    "The following SQL will create a new table in the SAMPLE\n",
    "database (or whatever database you are currently connected\n",
    "to). This table represents all of the stations of the London\n",
    "Underground Central line (existing stations only, not\n",
    "historical ones!). This table will be used for all of the\n",
    "examples within this section."
   ]
  },
  {
   "cell_type": "code",
   "execution_count": null,
   "metadata": {
    "hideCode": false,
    "hidePrompt": false
   },
   "outputs": [],
   "source": [
    "%%sql -q\n",
    "DROP TABLE CENTRAL_LINE;\n",
    "\n",
    "CREATE TABLE CENTRAL_LINE\n",
    "  (\n",
    "  STATION_NO INTEGER GENERATED ALWAYS AS IDENTITY,\n",
    "  STATION VARCHAR(31),\n",
    "  UPPER_STATION VARCHAR(31) GENERATED ALWAYS AS (UCASE(STATION))\n",
    "  )\n",
    ";\n",
    "\n",
    "INSERT INTO CENTRAL_LINE(STATION)\n",
    "  VALUES 'West Ruislip','Ruislip Gardens','South Ruislip','Northolt','Greenford',\n",
    "         'Perivale','Hanger Lane','Ealing Broadway','West Acton','North Acton',\n",
    "         'East Acton','White City','Shepherd''s Bush','Holland Park','Notting Hill Gate',\n",
    "         'Queensway','Lancaster Gate','Marble Arch','Bond Street','Oxford Circus',\n",
    "         'Tottenham Court Road','Holborn','Chancery Lane','St. Paul''s','Bank',\n",
    "         'Liverpool Street','Bethnal Green','Mile End','Stratford','Leyton',\n",
    "         'Leytonstone','Wanstead','Redbridge','Gants Hill','Newbury Park',\n",
    "         'Barkingside','Fairlop','Hainault','Grange Hill','Chigwell',\n",
    "         'Roding Valley','Snaresbrook','South Woodford','Woodford','Buckhurst Hill',\n",
    "         'Loughton','Debden','Theydon Bois','Epping'\n",
    ";"
   ]
  },
  {
   "cell_type": "markdown",
   "metadata": {},
   "source": [
    "[Back to Top](#top)\n",
    "<a id='regular'></a>"
   ]
  },
  {
   "cell_type": "markdown",
   "metadata": {
    "hideCode": false,
    "hidePrompt": false
   },
   "source": [
    "# Regular Expression Commands\n",
    "\n",
    "\n",
    "There are six regular expression functions within DB2\n",
    "including:\n",
    "\n",
    "- **REGEXP_COUNT** - Returns a count of the number of times that a regular expression pattern is matched in a string.\n",
    "- **REGEXP_EXTRACT** - Returns one occurrence of a substring of a string that matches the regular expression pattern.\n",
    "- **REGEXP_INSTR** - Returns the starting or ending position of the matched substring, depending on the value of the return option argument.\n",
    "- **REGEXP_LIKE** - Returns a Boolean value indicating if the regular expression pattern is found in a string. The function can be used only where a predicate is supported.\n",
    "- **REGEXP_MATCH_COUNT** - Returns a count of the number of times that a regular expression pattern is matched in a string.\n",
    "- **REGEXP_REPLACE** - Returns a modified version of the source string where occurrences of the regular expression pattern found in the source string are replaced with the specified replacement string.\n",
    "- **REGEXP_SUBSTR** - Returns one occurrence of a substring of a string that matches the regular expression pattern.\n",
    "\n",
    "Each one of these functions follows a similar calling\n",
    "sequence:\n",
    "<pre> \n",
    " REGEXP_FUNCTION(source, pattern, flags, start_pos, codeunits)\n",
    "</pre>\n",
    "\n",
    "The arguments to the function are:\n",
    "\n",
    "- **Source** - string to be searched\n",
    "- **Pattern** - the regular expression that contains what we are searching for\n",
    "- **Flag** - settings that control how matching is done\n",
    "- **Start_pos** - where to start in the string\n",
    "- **Codeunits** - which type unit of measurement start_pos refers to (for Unicode)\n",
    "\n",
    "The source can be any valid Db2 string including CHAR,\n",
    "VARCHAR, CLOB, etc. Start_pos is the location in the source\n",
    "string that you want to start searching from, and codeunits\n",
    "tells Db2 whether to treat the start_pos as an absolute\n",
    "location (think byte location) or a character location which\n",
    "takes into account the unicode size of the character string.\n",
    "\n",
    "Codeunits can be specified as CODEUNITS16, CODEUNITS32, or\n",
    "OCTETS. CODEUNITS16 specifies that start is expressed in\n",
    "16-bit UTF-16 code units. CODEUNITS32 specifies that start\n",
    "is expressed in 32-bit UTF-32 code units. OCTETS specifies\n",
    "that start is expressed in bytes.\n",
    "\n",
    "Pattern and flag values are complex and so are discussed in\n",
    "the following sections."
   ]
  },
  {
   "cell_type": "markdown",
   "metadata": {},
   "source": [
    "[Back to Top](#top)\n",
    "<a id='flags'></a>"
   ]
  },
  {
   "cell_type": "markdown",
   "metadata": {
    "hideCode": false,
    "hidePrompt": false
   },
   "source": [
    "## Regular Express Flag Values\n",
    " \n",
    "Regular expression functions have a flag specification that\n",
    "can be used to change the behavior of the search. There are\n",
    "six possible flags that can be specified as part of the\n",
    "REGEXP command:\n",
    "\n",
    "|Flag  |Purpose\n",
    "|:----:|:--------------------\n",
    "|**c** | Specifies that matching is case-sensitive (the default value)\n",
    "|**i** | Specifies that matching is case insensitive\n",
    "|**m** | Specifies that the input data can contain more than one line. By default, the '^' in a pattern matches only the start of the input string; the '\\$' in a pattern matches only the end of the input string. If this flag is set, \"^\" and \"\\$\" also matches at the start and end of each line within the input string.\n",
    "|**n** | Specifies that the '.' character in a pattern matches a line terminator in the input string. By default, the '.' character in a pattern does not match a line terminator. A carriage-return and line-feed pair in the input string behaves as a single-line terminator, and matches a single \".\" in a pattern.\n",
    "|**s** | Specifies that the '.' character in a pattern matches a line terminator in the input string. This value is a synonym for the 'n' value.\n",
    "|**x** | Specifies that white space characters in a pattern are ignored, unless escaped."
   ]
  },
  {
   "cell_type": "markdown",
   "metadata": {},
   "source": [
    "[Back to Top](#top)\n",
    "<a id='patterns'></a>"
   ]
  },
  {
   "cell_type": "markdown",
   "metadata": {
    "hideCode": false,
    "hidePrompt": false
   },
   "source": [
    "## Regular Expression Search Patterns\n",
    "\n",
    "Regular expressions use certain characters to represent what\n",
    "is matched in a string. The simplest pattern is a string by\n",
    "itself."
   ]
  },
  {
   "cell_type": "code",
   "execution_count": null,
   "metadata": {
    "hideCode": false,
    "hidePrompt": false
   },
   "outputs": [],
   "source": [
    "%%sql\n",
    "SELECT STATION FROM CENTRAL_LINE\n",
    "  WHERE REGEXP_LIKE(STATION,'Ruislip')"
   ]
  },
  {
   "cell_type": "markdown",
   "metadata": {
    "hideCode": false,
    "hidePrompt": false
   },
   "source": [
    "The pattern 'Ruislip' will look for a match of Ruislip\n",
    "within the STATION column. Note that this pattern will also\n",
    "match 'West Ruislip' or 'Ruislip Gardens' since we placed no\n",
    "restriction on where the pattern can be found in the string.\n",
    "The match will also be exact (case matters). This type of\n",
    "search would be equivalent to using the SQL LIKE statement:"
   ]
  },
  {
   "cell_type": "code",
   "execution_count": null,
   "metadata": {
    "hideCode": false,
    "hidePrompt": false
   },
   "outputs": [],
   "source": [
    "%%sql\n",
    "SELECT STATION FROM CENTRAL_LINE\n",
    "  WHERE STATION LIKE '%Ruislip%'"
   ]
  },
  {
   "cell_type": "markdown",
   "metadata": {
    "hideCode": false,
    "hidePrompt": false
   },
   "source": [
    "If you didn't place the `%` at the beginning of the LIKE\n",
    "string, only the stations that start with Ruislip would be\n",
    "found."
   ]
  },
  {
   "cell_type": "code",
   "execution_count": null,
   "metadata": {
    "hideCode": false,
    "hidePrompt": false
   },
   "outputs": [],
   "source": [
    "%%sql\n",
    "SELECT STATION FROM CENTRAL_LINE\n",
    "  WHERE STATION LIKE 'Ruislip%'"
   ]
  },
  {
   "cell_type": "markdown",
   "metadata": {
    "hideCode": false,
    "hidePrompt": false
   },
   "source": [
    "If you want to match Ruislip with upper or lower case being\n",
    "ignored, you would add the `'i'` flag as part of the\n",
    "REGEXP_LIKE (or any REGEXP function)."
   ]
  },
  {
   "cell_type": "code",
   "execution_count": null,
   "metadata": {
    "hideCode": false,
    "hidePrompt": false
   },
   "outputs": [],
   "source": [
    "%%sql\n",
    "SELECT STATION FROM CENTRAL_LINE\n",
    "  WHERE REGEXP_LIKE(STATION,'RUISLIP','i')"
   ]
  },
  {
   "cell_type": "markdown",
   "metadata": {},
   "source": [
    "[Back to Top](#top)\n",
    "<a id='anchor'></a>"
   ]
  },
  {
   "cell_type": "markdown",
   "metadata": {
    "hideCode": false,
    "hidePrompt": false
   },
   "source": [
    "## Anchoring Patterns in a Search\n",
    " \n",
    "By default a pattern will be matched anywhere in a string.\n",
    "Our previous example showed how Ruislip could be found\n",
    "anywhere in a string. To force a match to start at the\n",
    "beginning of a string, the carat symbol `^` can be used to\n",
    "force the match to occur at the beginning of a string."
   ]
  },
  {
   "cell_type": "code",
   "execution_count": null,
   "metadata": {
    "hideCode": false,
    "hidePrompt": false
   },
   "outputs": [],
   "source": [
    "%%sql\n",
    "  SELECT STATION FROM CENTRAL_LINE\n",
    "    WHERE REGEXP_LIKE(STATION,'^Ruislip')"
   ]
  },
  {
   "cell_type": "markdown",
   "metadata": {
    "hideCode": false,
    "hidePrompt": false
   },
   "source": [
    "To match a pattern at the end of the string, the dollar sign\n",
    "`$` can be used."
   ]
  },
  {
   "cell_type": "code",
   "execution_count": null,
   "metadata": {
    "hideCode": false,
    "hidePrompt": false
   },
   "outputs": [],
   "source": [
    "%%sql\n",
    "  SELECT STATION FROM CENTRAL_LINE\n",
    "    WHERE REGEXP_LIKE(STATION,'Ruislip$')"
   ]
  },
  {
   "cell_type": "markdown",
   "metadata": {
    "hideCode": false,
    "hidePrompt": false
   },
   "source": [
    "To force an exact match with a string you would use both the\n",
    "beginning and end anchors."
   ]
  },
  {
   "cell_type": "code",
   "execution_count": null,
   "metadata": {
    "hideCode": false,
    "hidePrompt": false
   },
   "outputs": [],
   "source": [
    "%%sql \n",
    "  SELECT STATION FROM CENTRAL_LINE\n",
    "    WHERE REGEXP_LIKE(STATION,'^Leyton$')"
   ]
  },
  {
   "cell_type": "markdown",
   "metadata": {
    "hideCode": false,
    "hidePrompt": false
   },
   "source": [
    "Note that if we didn't use the end anchor, we are going to\n",
    "get more than one result."
   ]
  },
  {
   "cell_type": "code",
   "execution_count": null,
   "metadata": {
    "hideCode": false,
    "hidePrompt": false
   },
   "outputs": [],
   "source": [
    "%%sql \n",
    "  SELECT STATION FROM CENTRAL_LINE\n",
    "    WHERE REGEXP_LIKE(STATION,'^Leyton');"
   ]
  },
  {
   "cell_type": "markdown",
   "metadata": {},
   "source": [
    "[Back to Top](#top)\n",
    "<a id='multiple'></a>"
   ]
  },
  {
   "cell_type": "markdown",
   "metadata": {
    "hideCode": false,
    "hidePrompt": false
   },
   "source": [
    "## Matching patterns across multiple lines\n",
    "\n",
    "So far the examples have dealt with strings that do not\n",
    "contain newline characters (or carriage feeds). In some\n",
    "applications, data from an input panel may include multiple\n",
    "lines which may contain hard line feeds. What this means is\n",
    "that there are actually multiple lines in the data, but from\n",
    "a database perspective, there is only one line in the\n",
    "VARCHAR field. You can modify the behavior of the Regular\n",
    "Expression search by instructing it to honor the CRLF\n",
    "characters as line delimiters.\n",
    "\n",
    "The following SQL will insert a single line with multiple\n",
    "CRLF characters in it to simulate a multi-line text string."
   ]
  },
  {
   "cell_type": "code",
   "execution_count": null,
   "metadata": {
    "hideCode": false,
    "hidePrompt": false
   },
   "outputs": [],
   "source": [
    "%%sql -q\n",
    "DROP TABLE LONGLINE;\n",
    "\n",
    "CREATE TABLE LONGLINE (NAME VARCHAR(255));\n",
    "\n",
    "INSERT INTO LONGLINE\n",
    "  VALUES 'George' || CHR(10) || 'Katrina';"
   ]
  },
  {
   "cell_type": "markdown",
   "metadata": {
    "hideCode": false,
    "hidePrompt": false
   },
   "source": [
    "Searching for Katrina at the beginning and end of string\n",
    "doesn't work."
   ]
  },
  {
   "cell_type": "code",
   "execution_count": null,
   "metadata": {
    "hideCode": false,
    "hidePrompt": false
   },
   "outputs": [],
   "source": [
    "%%sql\n",
    "SELECT COUNT(*) FROM LONGLINE\n",
    "  WHERE REGEXP_LIKE(NAME,'^Katrina$')"
   ]
  },
  {
   "cell_type": "markdown",
   "metadata": {
    "hideCode": false,
    "hidePrompt": false
   },
   "source": [
    "We can override the regular expression search by telling it\n",
    "to treat each NL/CRLF as the end of a string within a\n",
    "string."
   ]
  },
  {
   "cell_type": "code",
   "execution_count": null,
   "metadata": {
    "hideCode": false,
    "hidePrompt": false
   },
   "outputs": [],
   "source": [
    "%%sql\n",
    "SELECT COUNT(*) FROM LONGLINE\n",
    "  WHERE REGEXP_LIKE(NAME,'^Katrina$','m')"
   ]
  },
  {
   "cell_type": "markdown",
   "metadata": {},
   "source": [
    "[Back to Top](#top)\n",
    "<a id='or'></a>"
   ]
  },
  {
   "cell_type": "markdown",
   "metadata": {
    "hideCode": false,
    "hidePrompt": false
   },
   "source": [
    "## Logical OR Operator\n",
    " \n",
    "Regular expressions can match more than one pattern. The OR\n",
    "operator `(|)` is used to define alternative patterns that can\n",
    "match in a string. The following example searches for\n",
    "stations that have \"ing\" in their name as well as \"hill\"."
   ]
  },
  {
   "cell_type": "code",
   "execution_count": null,
   "metadata": {
    "hideCode": false,
    "hidePrompt": false
   },
   "outputs": [],
   "source": [
    "%%sql\n",
    "SELECT STATION FROM CENTRAL_LINE\n",
    "  WHERE REGEXP_LIKE(STATION,'way|ing')"
   ]
  },
  {
   "cell_type": "markdown",
   "metadata": {
    "hideCode": false,
    "hidePrompt": false
   },
   "source": [
    "Some things to be aware of when creating the search pattern.\n",
    "Spaces in the patterns themselves are significant. If the\n",
    "previous search pattern had a space in one of the words, it\n",
    "would not find it (unless of course there was a space in the\n",
    "station name)."
   ]
  },
  {
   "cell_type": "code",
   "execution_count": null,
   "metadata": {
    "hideCode": false,
    "hidePrompt": false
   },
   "outputs": [],
   "source": [
    "%%sql\n",
    "SELECT STATION FROM CENTRAL_LINE\n",
    "  WHERE REGEXP_LIKE(STATION,'way| ing') "
   ]
  },
  {
   "cell_type": "markdown",
   "metadata": {
    "hideCode": false,
    "hidePrompt": false
   },
   "source": [
    "Using the `\"x\"` flag will ignore blanks in your pattern, so\n",
    "this would fix issues that we have in the previous example."
   ]
  },
  {
   "cell_type": "code",
   "execution_count": null,
   "metadata": {
    "hideCode": false,
    "hidePrompt": false
   },
   "outputs": [],
   "source": [
    "%%sql\n",
    "SELECT STATION FROM CENTRAL_LINE\n",
    "  WHERE REGEXP_LIKE(STATION,'way| ing','x')"
   ]
  },
  {
   "cell_type": "markdown",
   "metadata": {
    "hideCode": false,
    "hidePrompt": false
   },
   "source": [
    "Brackets can be used to make it clear what the pattern is\n",
    "that you are searching for and avoid the problem of having\n",
    "blanks in the expression. Brackets do have a specific usage\n",
    "in regular expressions, but here we are using it only to\n",
    "separate the two search strings."
   ]
  },
  {
   "cell_type": "code",
   "execution_count": null,
   "metadata": {
    "hideCode": false,
    "hidePrompt": false
   },
   "outputs": [],
   "source": [
    "%%sql\n",
    "SELECT STATION FROM CENTRAL_LINE\n",
    "  WHERE REGEXP_LIKE(STATION,'(way)|(ing)')"
   ]
  },
  {
   "cell_type": "markdown",
   "metadata": {},
   "source": [
    "[Back to Top](#top)\n",
    "<a id='combine'></a>"
   ]
  },
  {
   "cell_type": "markdown",
   "metadata": {
    "hideCode": false,
    "hidePrompt": false
   },
   "source": [
    "## Combining Patterns \n",
    " \n",
    "As we found out in the previous section, there is an OR\n",
    "operator that you can use to select between two patterns.\n",
    "How do you request that multiple patterns be present? First\n",
    "we must understand how matching occurs when we have multiple\n",
    "strings that need to be matched that have an unknown number\n",
    "of characters between them.\n",
    "\n",
    "For instance, how do we create a pattern that looks for\n",
    "\"ing\" followed by \"way\" somewhere in the string? Regular\n",
    "expression recognize the `\".\"` (period) character as matching\n",
    "anything. Following the pattern you can add a modifier that\n",
    "specifies how many times you want the pattern matched:\n",
    "\n",
    "- **\\*** - Match zero or more times\n",
    "- **?** - Match zero or one times\n",
    "- **+** - Match one or more times\n",
    "- **{m}** - Match exactly m times\n",
    "- **{m,}** - Match as least a minimum of m times\n",
    "- **{m,n}** - Match at least a minimum of m times and no more than n times\n",
    "\n",
    "The following regular expression searches for a pattern with\n",
    "\"ing\" followed by any characters and then \"way\".\n"
   ]
  },
  {
   "cell_type": "code",
   "execution_count": null,
   "metadata": {
    "hideCode": false,
    "hidePrompt": false
   },
   "outputs": [],
   "source": [
    "%%sql\n",
    "SELECT STATION FROM CENTRAL_LINE\n",
    "  WHERE REGEXP_LIKE(STATION,'(ing)*.(way)')"
   ]
  },
  {
   "cell_type": "markdown",
   "metadata": {
    "hideCode": false,
    "hidePrompt": false
   },
   "source": [
    "The previous answer gave you two results (Ealing Broadway\n",
    "and Queensway). Why two? The reason is that we used the `*` in\n",
    "the wrong place (a single character in a wrong place can\n",
    "result in very different results!). What we really needed to\n",
    "do was place a `.*` after the (ing) to match \"ing\" and then\n",
    "any characters, before matching \"way\". What our query did\n",
    "above was match 0 or more occurences of \"ing\", followed by\n",
    "any character, and then match \"way\". Here is the correct\n",
    "query."
   ]
  },
  {
   "cell_type": "code",
   "execution_count": null,
   "metadata": {
    "hideCode": false,
    "hidePrompt": false
   },
   "outputs": [],
   "source": [
    "%%sql\n",
    "SELECT STATION FROM CENTRAL_LINE\n",
    "  WHERE REGEXP_LIKE(STATION,'(ing).*(way)')"
   ]
  },
  {
   "cell_type": "markdown",
   "metadata": {
    "hideCode": false,
    "hidePrompt": false
   },
   "source": [
    "Finding at least one occurrence of a pattern requires the\n",
    "use of the `+` operator, or the bracket operators. This\n",
    "example locates at least one occurrence of the \"an\" string\n",
    "in station names."
   ]
  },
  {
   "cell_type": "code",
   "execution_count": null,
   "metadata": {
    "hideCode": false,
    "hidePrompt": false
   },
   "outputs": [],
   "source": [
    "%%sql\n",
    "SELECT STATION FROM CENTRAL_LINE\n",
    "  WHERE REGEXP_LIKE(STATION,'(an)+') "
   ]
  },
  {
   "cell_type": "markdown",
   "metadata": {
    "hideCode": false,
    "hidePrompt": false
   },
   "source": [
    "If we want to find an exact number of occurrences, we need\n",
    "to use the {} notation to tell the regular expression\n",
    "matcher how many we want to find. The syntax of the `{}`\n",
    "match is:\n",
    "\n",
    "- **{m}** - Match exactly m times\n",
    "- **{m,}** - Match as least a minimum of m times\n",
    "- **{m,n}** - Match at least a minimum of m times and no more than n times\n",
    "\n",
    "So the `\"+\"` symbol is equivalent to the following regular\n",
    "expression using the `{}` syntax."
   ]
  },
  {
   "cell_type": "code",
   "execution_count": null,
   "metadata": {
    "hideCode": false,
    "hidePrompt": false
   },
   "outputs": [],
   "source": [
    "%%sql\n",
    "SELECT STATION FROM CENTRAL_LINE\n",
    "  WHERE REGEXP_LIKE(STATION,'(an){1,}')"
   ]
  },
  {
   "cell_type": "markdown",
   "metadata": {
    "hideCode": false,
    "hidePrompt": false
   },
   "source": [
    "If we want to match exactly 2 'an' patterns in a string, we\n",
    "would think that changing the expression to `{2}` would work."
   ]
  },
  {
   "cell_type": "code",
   "execution_count": null,
   "metadata": {
    "hideCode": false,
    "hidePrompt": false
   },
   "outputs": [],
   "source": [
    "%%sql\n",
    "SELECT STATION FROM CENTRAL_LINE\n",
    "  WHERE REGEXP_LIKE(STATION,'(an){2}')"
   ]
  },
  {
   "cell_type": "markdown",
   "metadata": {
    "hideCode": false,
    "hidePrompt": false
   },
   "source": [
    "Sadly, we get no results! This would appear to be the wrong\n",
    "result, but it's because we got lucky with our first search!\n",
    "The best way to figure out what we matched in the original\n",
    "query is to use the `REGEXP_EXTRACT` and `REGEXP_INSTR`\n",
    "functions.\n",
    "\n",
    "- **REGEXP_EXTRACT** - Returns one occurrence of a substring of a string that matches the regular expression pattern.\n",
    "- **REGEXP_INSTR** - Returns the starting or ending position of the matched substring, depending on the value of the return option argument.\n",
    "\n",
    "The following SQL gives us a clue to what was found with the\n",
    "`(an)` pattern."
   ]
  },
  {
   "cell_type": "code",
   "execution_count": null,
   "metadata": {
    "hideCode": false,
    "hidePrompt": false
   },
   "outputs": [],
   "source": [
    "%%sql\n",
    "SELECT STATION,\n",
    "   REGEXP_INSTR(STATION,'(an)') AS LOCATION,\n",
    "   REGEXP_EXTRACT(STATION,'(an)') AS EXTRACT\n",
    "FROM CENTRAL_LINE\n",
    "   WHERE REGEXP_LIKE(STATION,'(an)')"
   ]
  },
  {
   "cell_type": "markdown",
   "metadata": {
    "hideCode": false,
    "hidePrompt": false
   },
   "source": [
    "What you should see in the previous result is the location\n",
    "where the `\"an\"` pattern was found in the string. Note that\n",
    "all we matched was the `\"an\"` pattern, nothing else. So why\n",
    "can't I find two `\"an\"` patterns in the string? The reason is\n",
    "that `(an){2}` means \"an\" followed by another `\"an\"`! We didn't\n",
    "tell the pattern to match anything else! What we need to do\n",
    "is modify the pattern to say that it can match `\"an\"` followed\n",
    "by anything else. The pattern needs to be modifed to `(an).*`\n",
    "where the `\".*\"` means any character following the \"an\".\n",
    "\n",
    "In order to tell the regular expression function to use this\n",
    "entire pattern `(an).\\*` twice, we need to place brackets\n",
    "around it as well. The final pattern is `((an).\\*){2}`."
   ]
  },
  {
   "cell_type": "code",
   "execution_count": null,
   "metadata": {
    "hideCode": false,
    "hidePrompt": false
   },
   "outputs": [],
   "source": [
    "%%sql\n",
    "SELECT STATION FROM CENTRAL_LINE\n",
    "  WHERE REGEXP_LIKE(STATION,'((an).*){2}')"
   ]
  },
  {
   "cell_type": "markdown",
   "metadata": {
    "hideCode": false,
    "hidePrompt": false
   },
   "source": [
    "You should find that two stations match the pattern. The\n",
    "following SQL shows which pattern is matched first in the\n",
    "STATIONS names."
   ]
  },
  {
   "cell_type": "code",
   "execution_count": null,
   "metadata": {
    "hideCode": false,
    "hidePrompt": false
   },
   "outputs": [],
   "source": [
    "%%sql\n",
    "SELECT STATION,\n",
    "   REGEXP_INSTR(STATION,'((an).*){2}') AS LOCATION,\n",
    "   REGEXP_EXTRACT(STATION,'((an).*){2}') AS EXTRACT\n",
    "FROM CENTRAL_LINE\n",
    "   WHERE REGEXP_LIKE(STATION,'((an).*){2}')"
   ]
  },
  {
   "cell_type": "markdown",
   "metadata": {},
   "source": [
    "[Back to Top](#top)\n",
    "<a id='chars'></a>"
   ]
  },
  {
   "cell_type": "markdown",
   "metadata": {
    "hideCode": false,
    "hidePrompt": false
   },
   "source": [
    "## Matching character types \n",
    " \n",
    "Aside from matching entire strings, you can also use regular\n",
    "expression to look for patterns of characters. The simplest\n",
    "matching pattern is the period `(.)` which matches any\n",
    "character. Matching a string of arbitrary length is the\n",
    "pattern `\".*\"`. The `\"+\"` and `\"?\"` characters can also be used to\n",
    "modify how many characters you want matched.\n",
    "\n",
    "What about situations where you want to check for certain\n",
    "patterns or characters in a string? A good example would be\n",
    "a social security number, or credit card number. There are\n",
    "certain patterns that you would find for these objects.\n",
    "Assume we have a social security number in the format\n",
    "xxx-xx-xxxx. It is possible to create a regular expression\n",
    "that would return true if the SSN matched the pattern above\n",
    "(it doesn't tell you if the SSN itself is valid, only that\n",
    "it has the proper format).\n",
    "\n",
    "Regular expressions allow you to create a list of characters\n",
    "that need to be matched in something called a bracket\n",
    "expression. A bracket expression has the format:\n",
    "\n",
    "<pre> \n",
    "[a-z] [A-Z] [0-9] [a-zA-z]\n",
    "</pre>\n",
    "\n",
    "The examples above represent the following search patterns:\n",
    "\n",
    "- **[a-z]** - match any series of lowercase characters between a and z\n",
    "- **[A-Z]** - match any series of uppercase characters between A and Z\n",
    "- **[0-9]** - match any valid digits\n",
    "- **[a-zA-Z]** - match any lower- or uppercase letters\n",
    "\n",
    "You can also enumerate all of the characters you want to\n",
    "match by listing them between the brackets like\n",
    "`[abcdefghikjlmnopqrstuvwxyz]`. The short form `a-z` is easier\n",
    "to read and less prone to typing errors!\n",
    "\n",
    "The following example checks for station names that start\n",
    "with the letter `P-R`."
   ]
  },
  {
   "cell_type": "code",
   "execution_count": null,
   "metadata": {
    "hideCode": false,
    "hidePrompt": false
   },
   "outputs": [],
   "source": [
    "%%sql\n",
    "SELECT STATION FROM CENTRAL_LINE\n",
    "   WHERE REGEXP_LIKE(STATION,'^[P-R]')"
   ]
  },
  {
   "cell_type": "markdown",
   "metadata": {
    "hideCode": false,
    "hidePrompt": false
   },
   "source": [
    "If you wanted to include all stations that have the letter\n",
    "`P-R` or `p-e`, you could add the condition within the brackets."
   ]
  },
  {
   "cell_type": "code",
   "execution_count": null,
   "metadata": {
    "hideCode": false,
    "hidePrompt": false
   },
   "outputs": [],
   "source": [
    "%%sql\n",
    "SELECT STATION FROM CENTRAL_LINE\n",
    "   WHERE REGEXP_LIKE(STATION,'[p-rP-R]')"
   ]
  },
  {
   "cell_type": "markdown",
   "metadata": {
    "hideCode": false,
    "hidePrompt": false
   },
   "source": [
    "Back to our SSN question. Can a regular expression pattern\n",
    "be used to determine whether or not the string is in the\n",
    "correct format? The data will be in the format XXX-XX-XXXX\n",
    "so the regular expression needs to find the three numeric\n",
    "values separated by dashes.\n",
    "\n",
    "The number pattern can be represented with the bracket\n",
    "expression `[0-9]`. To specify the number of characters that\n",
    "need to be found, we use the braces `{}` to specify the exact\n",
    "number required.\n",
    "\n",
    "For the three numbers in the pattern we can use `[0-9]{3}`,\n",
    "`[0-9]{2}`, and `[0-9]{4}`. Adding in the dashes gives us the\n",
    "final pattern. The SQL below checks to see if a SSN is\n",
    "correct."
   ]
  },
  {
   "cell_type": "code",
   "execution_count": null,
   "metadata": {
    "hideCode": false,
    "hidePrompt": false
   },
   "outputs": [],
   "source": [
    "%%sql\n",
    "VALUES\n",
    "  CASE \n",
    "    WHEN REGEXP_LIKE('123-34-1422','[0-9]{3}-[0-9]{2}-[0-9]{4}') THEN 'Valid'\n",
    "    ELSE 'Invalid'\n",
    "  END"
   ]
  },
  {
   "cell_type": "markdown",
   "metadata": {
    "hideCode": false,
    "hidePrompt": false
   },
   "source": [
    "The SSN is valid in the example above. Here are some other\n",
    "examples to show whether or not the regular expression picks\n",
    "up all of the errors."
   ]
  },
  {
   "cell_type": "code",
   "execution_count": null,
   "metadata": {
    "hideCode": false,
    "hidePrompt": false
   },
   "outputs": [],
   "source": [
    "%%sql\n",
    "WITH SSNS(SSN) AS (\n",
    "   VALUES \n",
    "      '123-34-1322',\n",
    "      'ABC-34-9999',\n",
    "      'X123-44-0001',\n",
    "      '123X-Y44-Z0001',\n",
    "      '111-222-111'\n",
    "  )\n",
    "SELECT SSN,\n",
    "  CASE \n",
    "    WHEN REGEXP_LIKE(SSN,'[0-9]{3}-[0-9]{2}-[0-9]{4}') THEN 'Valid'\n",
    "    ELSE 'Invalid'\n",
    "  END\n",
    "FROM SSNS"
   ]
  },
  {
   "cell_type": "markdown",
   "metadata": {
    "hideCode": false,
    "hidePrompt": false
   },
   "source": [
    "If you check closely, one of the strings was marked as\n",
    "valid, although it is not correct `(X123-44-0001)`. The reason\n",
    "this occurred is that the pattern was found after the \"X\"\n",
    "and it was correct. To prevent this from happening, we need\n",
    "to anchor the pattern at the beginning to avoid this\n",
    "situation. A better pattern would be to anchor both ends of\n",
    "the pattern so there is no possibility of other characters\n",
    "being at the beginning or end of the pattern."
   ]
  },
  {
   "cell_type": "code",
   "execution_count": null,
   "metadata": {
    "hideCode": false,
    "hidePrompt": false
   },
   "outputs": [],
   "source": [
    "%%sql\n",
    "WITH SSNS(SSN) AS (\n",
    "   VALUES \n",
    "      '123-34-1322',\n",
    "      'ABC-34-9999',\n",
    "      'X123-44-0001',\n",
    "      '123X-Y44-Z0001',\n",
    "      '111-222-111'\n",
    "  )\n",
    "SELECT SSN,\n",
    "  CASE \n",
    "    WHEN REGEXP_LIKE(SSN,'^[0-9]{3}-[0-9]{2}-[0-9]{4}$') THEN 'Valid'\n",
    "    ELSE 'Invalid'\n",
    "  END\n",
    "FROM SSNS"
   ]
  },
  {
   "cell_type": "markdown",
   "metadata": {},
   "source": [
    "[Back to Top](#top)\n",
    "<a id='special'></a>"
   ]
  },
  {
   "cell_type": "markdown",
   "metadata": {
    "hideCode": false,
    "hidePrompt": false
   },
   "source": [
    "## Special Patterns \n",
    " \n",
    "The previous example used the [0-9] syntax to request that\n",
    "only numbers be found in the pattern. There are some\n",
    "predefined patterns that define these common patterns. The\n",
    "first argument is Posix format (if it exists), the second is\n",
    "the escape character equivalent, and the final one is the\n",
    "raw pattern it represents.\n",
    " \n",
    "|Posix      | Escape   | Pattern         | Meaning\n",
    "|:----------| :--------| :---------------|:------------------------\n",
    "|[:alnum:]  |          | [A-Za-z0-9]     | Alphanumeric characters\n",
    "|\t\t    | \\w       | [A-Za-z0-9\\_]    | Alphanumeric characters plus \"\\_\"\n",
    "|\t\t    | \\W       | [^A-Za-z0-9\\_]   | Non-word characters\n",
    "|[:alpha:]  | \\a       | [A-Za-z]        | Alphabetic characters\n",
    "|[:blank:]  | \\s, \\t   |                 | Space and tab\n",
    "|\t\t    | \\b       |                 | Word boundaries\n",
    "|[:cntrl:]  |          | [\\x00-\\x1F\\x7F] | Control characters\n",
    "|[:digit:]  | \\d       | [0-9]           | Digits\n",
    "|\t\t    | \\D       | [^0-9]          | Non-digits\n",
    "|[:graph:]  |          | [\\x21-\\x7E]     | Visible characters\n",
    "|[:lower:]  | \\l       | [a-z]           | Lowercase letters\n",
    "|[:print:]  | \\p       | [\\x20-\\x7E]     | Visible characters and the space character\n",
    "|[:punct:]  |          | [][!\"#\\$%&'()\\*+,./:;<=>?@\\^\\_`{<code>&#124;</code>}~-] | Punctuation characters\n",
    "|[:space:]  | \\s       | [ \\t\\r\\n\\v\\f]   | Whitespace characters\n",
    "|\t\t    | \\S       | [^ \\t\\r\\n\\v\\f]  | Non-whitespace characters\n",
    "|[:upper:]  | \\u       | [A-Z]           | Uppercase letters\n",
    "|[:xdigit:] | \\x       | [A-Fa-f0-9]     | Hexadecimal digits\n",
    "\n",
    "For instance, the following three statements will produce\n",
    "the same result."
   ]
  },
  {
   "cell_type": "code",
   "execution_count": null,
   "metadata": {
    "hideCode": false,
    "hidePrompt": false
   },
   "outputs": [],
   "source": [
    "%%sql -a\n",
    "WITH SSNS(SSN) AS (\n",
    "   VALUES \n",
    "      '123-34-1322',\n",
    "      'ABC-34-9999',\n",
    "      'X123-44-0001',\n",
    "      '123X-Y44-Z0001',\n",
    "      '111-222-111'\n",
    "  )\n",
    "SELECT 'Original', SSN,\n",
    "  CASE \n",
    "    WHEN REGEXP_LIKE(SSN,'^[0-9]{3}-[0-9]{2}-[0-9]{4}$') THEN 'Valid'\n",
    "    ELSE 'Invalid'\n",
    "  END\n",
    "FROM SSNS\n",
    "UNION ALL\n",
    "SELECT 'Posix', SSN,\n",
    "  CASE \n",
    "    WHEN REGEXP_LIKE(SSN,'^[:digit:]{3}-[:digit:]{2}-[:digit:]{4}$') THEN 'Valid'\n",
    "    ELSE 'Invalid'\n",
    "  END\n",
    "FROM SSNS\n",
    "UNION ALL\n",
    "SELECT 'Escape', SSN,\n",
    "  CASE \n",
    "    WHEN REGEXP_LIKE(SSN,'^\\d{3}-\\d{2}-\\d{4}$') THEN 'Valid'\n",
    "    ELSE 'Invalid'\n",
    "  END\n",
    "FROM SSNS"
   ]
  },
  {
   "cell_type": "markdown",
   "metadata": {},
   "source": [
    "[Back to Top](#top)\n",
    "<a id='negate'></a>"
   ]
  },
  {
   "cell_type": "markdown",
   "metadata": {
    "hideCode": false,
    "hidePrompt": false
   },
   "source": [
    "## Negating Patterns \n",
    " \n",
    "Up to this point in time, the patterns that have been used\n",
    "are looking for a positive match. In some cases you may want\n",
    "to find values that do not match. The easiest way is to\n",
    "negate the actual REGEXP_LIKE expression. The following\n",
    "expression finds all of the stations that start with \"West\"."
   ]
  },
  {
   "cell_type": "code",
   "execution_count": null,
   "metadata": {
    "hideCode": false,
    "hidePrompt": false
   },
   "outputs": [],
   "source": [
    "%%sql\n",
    "SELECT STATION FROM CENTRAL_LINE\n",
    "  WHERE REGEXP_LIKE(STATION,'^West')"
   ]
  },
  {
   "cell_type": "markdown",
   "metadata": {
    "hideCode": false,
    "hidePrompt": false
   },
   "source": [
    "Adding the NOT modifier in front of the REGEXP function\n",
    "gives us the stations that do not begin with West."
   ]
  },
  {
   "cell_type": "code",
   "execution_count": null,
   "metadata": {
    "hideCode": false,
    "hidePrompt": false
   },
   "outputs": [],
   "source": [
    "%%sql\n",
    "SELECT STATION FROM CENTRAL_LINE\n",
    "  WHERE NOT REGEXP_LIKE(STATION,'^West') "
   ]
  },
  {
   "cell_type": "markdown",
   "metadata": {
    "hideCode": false,
    "hidePrompt": false
   },
   "source": [
    "You can also negate some of the searches in a pattern by\n",
    "using the `[^...]` syntax where the `^` tells the regular\n",
    "expression not to match the following characters. The\n",
    "expression `[^0-9]` would mean match any characters which are\n",
    "not numeric.\n",
    "\n",
    "However, regular expressions have something called negative\n",
    "lookarounds which basically mean find the pattern which does\n",
    "not match. You create this pattern by adding the `(?!..)` at\n",
    "the beginning of the string. The same query (finding\n",
    "stations that don't start with West) would be written with\n",
    "this lookaround logic found in the SQL below."
   ]
  },
  {
   "cell_type": "code",
   "execution_count": null,
   "metadata": {
    "hideCode": false,
    "hidePrompt": false
   },
   "outputs": [],
   "source": [
    "%%sql\n",
    "SELECT STATION FROM CENTRAL_LINE\n",
    "  WHERE REGEXP_LIKE(STATION,'^(?!West)')"
   ]
  },
  {
   "cell_type": "markdown",
   "metadata": {},
   "source": [
    "[Back to Top](#top)\n",
    "<a id='capture'></a>"
   ]
  },
  {
   "cell_type": "markdown",
   "metadata": {
    "hideCode": false,
    "hidePrompt": false
   },
   "source": [
    "## Capturing Parenthesis \n",
    " \n",
    "The previous example used something called a negative\n",
    "lookaround with capturing parenthesis. When you place a\n",
    "pattern within a set of brackets `(...)` the string that\n",
    "matches this pattern is \"remembered\". The strings that are\n",
    "matched can be used in subsequent parts of your regular\n",
    "expression. This allows a form of programming within your\n",
    "regular expression!\n",
    "\n",
    "Each set of parentheses that are matched are associated with\n",
    "a number, starting at one and incrementing for each\n",
    "subsequent pattern match. For instance, the following\n",
    "pattern will have three matches:\n",
    "<pre>\n",
    "^([0-9]{3})-([0-9]{3})-([0-9]{3})$\n",
    "</pre>\n",
    "This is similar to the SSN example used earlier on in this\n",
    "section. The difference in this example is that each block\n",
    "of numbers is exactly the same (3 digits). This pattern will\n",
    "match any sequence of numbers in the format 123-456-789."
   ]
  },
  {
   "cell_type": "code",
   "execution_count": null,
   "metadata": {
    "hideCode": false,
    "hidePrompt": false
   },
   "outputs": [],
   "source": [
    "%%sql\n",
    "WITH SSNS(SSN) AS (\n",
    "   VALUES \n",
    "      '123-456-789',\n",
    "      '123-555-123',\n",
    "      '890-533-098',\n",
    "      '123-456-456'\n",
    "  )\n",
    "SELECT SSN,\n",
    "  CASE \n",
    "    WHEN REGEXP_LIKE(SSN,'^([0-9]{3})-([0-9]{3})-([0-9]{3})$') THEN 'Valid'\n",
    "    ELSE 'Invalid'\n",
    "  END\n",
    "FROM SSNS"
   ]
  },
  {
   "cell_type": "markdown",
   "metadata": {
    "hideCode": false,
    "hidePrompt": false
   },
   "source": [
    "All of these numbers fit the pattern and should be valid.\n",
    "When one of the capturing parenthesis matches, it will\n",
    "remember the string that it matched. For instance, in the\n",
    "first example (123-456-789), the first match will find the\n",
    "string '123'. The second match will find '456' and so on. We\n",
    "can refer to these matched strings with the special control\n",
    "characters `\\n` where n represents the capturing parenthesis\n",
    "location. So `\\1` would refer to the '123' that was found. `\\2`\n",
    "would be for '456'.\n",
    "\n",
    "The regular expression will be updated so that the last part\n",
    "of the pattern needs to be numeric (0-9) but can't be same\n",
    "as the first match."
   ]
  },
  {
   "cell_type": "code",
   "execution_count": null,
   "metadata": {
    "hideCode": false,
    "hidePrompt": false
   },
   "outputs": [],
   "source": [
    "%%sql\n",
    "WITH SSNS(SSN) AS (\n",
    "   VALUES \n",
    "      '123-456-789',\n",
    "      '123-555-123',\n",
    "      '890-533-098',\n",
    "      '123-456-456'\n",
    "  )\n",
    "SELECT SSN,\n",
    "  CASE \n",
    "    WHEN REGEXP_LIKE(SSN,'^([0-9]{3})-([0-9]{3})-(?!\\1)([0-9]{3})$') THEN 'Valid'\n",
    "    ELSE 'Invalid'\n",
    "  END\n",
    "FROM SSNS"
   ]
  },
  {
   "cell_type": "markdown",
   "metadata": {
    "hideCode": false,
    "hidePrompt": false
   },
   "source": [
    "In many cases it may be easier to find the patterns that\n",
    "match and then negate the REGEXP statement! The `(?...)`\n",
    "syntax is used for a variety of purposes in regular\n",
    "expressions:\n",
    "\n",
    "| Pattern   | Result \n",
    "|:----------|:------------ \n",
    "| (?: ... ) | Non-capturing parentheses. Groups the included pattern, but does not provide capturing of matching text. More efficient than capturing parentheses.\n",
    "| (?> ... ) | Atomic-match parentheses. First match of the parenthesized subexpression is the only one tried. If it does not lead to an overall pattern match, back up the search for a match to a position before the \"(?>\"\n",
    "| (?# ... ) | Free-format comment (?# comment )\n",
    "| (?= ... ) | Look-ahead assertion. True if the parenthesized pattern matches at the current input position, but does not advance the input position.\n",
    "| (?! ... ) | Negative look-ahead assertion. True if the parenthesized pattern does not match at the current input position. Does not advance the input position.\n",
    "| (?<= ... )| Look-behind assertion. True if the parenthesized pattern matches text that precedes the current input position. The last character of the match is the input character just before the current position. Does not alter the input position. The length of possible strings that is matched by the look-behind pattern must not be unbounded (no * or + operators.)\n",
    "| (?<!... ) | Negative Look-behind assertion. True if the parenthesized pattern does not match text that precedes preceding the current input position. The last character of the match is the input character just before the current position. Does not alter the input position. The length of possible strings that is matched by the look-behind pattern must not be unbounded (no * or + operators.)\n",
    "\n",
    "\n",
    "For efficiency in matching, the best approach is to place\n",
    "strings that you are searching for in non-capturing\n",
    "parentheses `(?:...)` rather than the generic () parenthesis.\n",
    "The following example finds all stations with \"West\" in the\n",
    "name."
   ]
  },
  {
   "cell_type": "code",
   "execution_count": null,
   "metadata": {
    "hideCode": false,
    "hidePrompt": false
   },
   "outputs": [],
   "source": [
    "%%sql \n",
    "SELECT STATION FROM CENTRAL_LINE\n",
    "  WHERE REGEXP_LIKE(STATION,'(West)')"
   ]
  },
  {
   "cell_type": "markdown",
   "metadata": {
    "hideCode": false,
    "hidePrompt": false
   },
   "source": [
    "The following SQL is equivalent, except that the matched\n",
    "pattern is not kept for future use in matching."
   ]
  },
  {
   "cell_type": "code",
   "execution_count": null,
   "metadata": {
    "hideCode": false,
    "hidePrompt": false
   },
   "outputs": [],
   "source": [
    "%%sql\n",
    "SELECT STATION FROM CENTRAL_LINE\n",
    "  WHERE REGEXP_LIKE(STATION,'(?:West)')"
   ]
  },
  {
   "cell_type": "markdown",
   "metadata": {},
   "source": [
    "[Back to Top](#top)\n",
    "<a id='performance'></a>"
   ]
  },
  {
   "cell_type": "markdown",
   "metadata": {
    "hideCode": false,
    "hidePrompt": false
   },
   "source": [
    "## Performance Considerations of Regular Expressions \n",
    " \n",
    "We know that there are better ways to write Regular\n",
    "Expressions (like the use of non-capturing parenthesis. How\n",
    "much of a difference does this make? In order to find out,\n",
    "the following SQL will take the existing table and insert\n",
    "into a temporary table 1000 times (for close to 50000\n",
    "records). \n",
    "\n",
    "This SQL will generate the new table and fill it with the\n",
    "base CENTRAL_LINE data."
   ]
  },
  {
   "cell_type": "code",
   "execution_count": null,
   "metadata": {
    "hideCode": false,
    "hidePrompt": false
   },
   "outputs": [],
   "source": [
    "%%sql -d -q\n",
    "DROP TABLE TEMP_LINE\n",
    "@\n",
    "\n",
    "CREATE TABLE TEMP_LINE AS (SELECT * FROM CENTRAL_LINE) DEFINITION ONLY NOT LOGGED INITIALLY\n",
    "@\n",
    " \n",
    "BEGIN\n",
    "   DECLARE I INTEGER DEFAULT 0;   \n",
    "   WHILE I <= 1000 DO\n",
    "      INSERT INTO TEMP_LINE SELECT * FROM CENTRAL_LINE;\n",
    "      SET I = I + 1;\n",
    "   END WHILE;\n",
    "END\n",
    "@\n",
    "\n",
    "SELECT COUNT(*) FROM TEMP_LINE\n",
    "@"
   ]
  },
  {
   "cell_type": "markdown",
   "metadata": {
    "hideCode": false,
    "hidePrompt": false
   },
   "source": [
    "We will run four queries in the following SQL.\n",
    "\n",
    " - Search for West using the LIKE statement \n",
    " - Search for West using a regular expression with no matching () \n",
    " - Search for West using a regular expression with matching ()\n",
    " - Search for West using a regular expression with non-capturing parenthesis (?:)\n",
    "\n",
    "The queries are run as many times as possible per second to get consistent results. Odds are that there will be variations in the results on your system!"
   ]
  },
  {
   "cell_type": "code",
   "execution_count": null,
   "metadata": {
    "hideCode": false,
    "hideOutput": true,
    "hidePrompt": false
   },
   "outputs": [],
   "source": [
    "results_like         = %sql -t SELECT COUNT(*) FROM TEMP_LINE WHERE STATION LIKE '%West%'\n",
    "results_string       = %sql -t SELECT COUNT(*) FROM TEMP_LINE WHERE REGEXP_LIKE(STATION,'West')\n",
    "results_capturing    = %sql -t SELECT COUNT(*) FROM TEMP_LINE WHERE REGEXP_LIKE(STATION,'(West)')\n",
    "results_noncapturing = %sql -t SELECT COUNT(*) FROM TEMP_LINE WHERE REGEXP_LIKE(STATION,'(?:West)')"
   ]
  },
  {
   "cell_type": "markdown",
   "metadata": {},
   "source": [
    "The results are placed into a temporary table for easier formatting."
   ]
  },
  {
   "cell_type": "code",
   "execution_count": null,
   "metadata": {},
   "outputs": [],
   "source": [
    "%sql -q DROP TABLE RESULTS\n",
    "%sql CREATE TABLE RESULTS(TYPE VARCHAR(16), RESULT DEC(9,2))\n",
    "%sql INSERT INTO RESULTS VALUES ('LIKE', {results_like} ), \\\n",
    "  ('REGX STRING', {results_string} ), \\\n",
    "  ('REGX CAPTURE', {results_capturing} ), \\\n",
    "  ('REGX NONCAPTURE', {results_noncapturing} )\n",
    "%sql SELECT * FROM RESULTS"
   ]
  },
  {
   "cell_type": "markdown",
   "metadata": {},
   "source": [
    "The results are clearer when we plot them all on one graph!"
   ]
  },
  {
   "cell_type": "code",
   "execution_count": null,
   "metadata": {},
   "outputs": [],
   "source": [
    "%sql -pb SELECT * FROM RESULTS"
   ]
  },
  {
   "cell_type": "markdown",
   "metadata": {
    "hideCode": false,
    "hidePrompt": false
   },
   "source": [
    "Every system will have different performance\n",
    "characteristics, but the odds are that the LIKE statement\n",
    "was faster than the regular expression. The performance is\n",
    "probably ranked this way (with tx/sec being the measurement):\n",
    "\n",
    "<pre>\n",
    "LIKE > REGEXP(Non-capturing) > REGEXP(Capturing) > REGEXP(String) \n",
    "</pre>\n",
    "\n",
    "However, your system will probably get different results. So\n",
    "while Regular expressions are very powerful, there is a\n",
    "performance penalty when using them. In addition, you may\n",
    "need to consider the use of indexes from a performance\n",
    "perspective.\n",
    "\n",
    "The following SQL will add an index to the STATION name."
   ]
  },
  {
   "cell_type": "code",
   "execution_count": null,
   "metadata": {
    "hideCode": false,
    "hidePrompt": false
   },
   "outputs": [],
   "source": [
    "%%sql -q\n",
    "DROP INDEX TEMP_STATION_INDEX;\n",
    "CREATE INDEX TEMP_STATION_INDEX ON TEMP_LINE(STATION);"
   ]
  },
  {
   "cell_type": "markdown",
   "metadata": {},
   "source": [
    "We will try the 4 queries again and plot the result."
   ]
  },
  {
   "cell_type": "code",
   "execution_count": null,
   "metadata": {
    "hideCode": false,
    "hidePrompt": false
   },
   "outputs": [],
   "source": [
    "results_like         = %sql -t SELECT COUNT(*) FROM TEMP_LINE WHERE STATION LIKE '%West%'\n",
    "results_string       = %sql -t SELECT COUNT(*) FROM TEMP_LINE WHERE REGEXP_LIKE(STATION,'West')\n",
    "results_capturing    = %sql -t SELECT COUNT(*) FROM TEMP_LINE WHERE REGEXP_LIKE(STATION,'(West)')\n",
    "results_noncapturing = %sql -t SELECT COUNT(*) FROM TEMP_LINE WHERE REGEXP_LIKE(STATION,'(?:West)')\n",
    "%sql -q DROP TABLE RESULTS\n",
    "%sql -q CREATE TABLE RESULTS(TYPE VARCHAR(16), RESULT DEC(9,2))\n",
    "%sql -q INSERT INTO RESULTS VALUES ('LIKE', {results_like} ), \\\n",
    "  ('REGX STRING', {results_string} ), \\\n",
    "  ('REGX CAPTURE', {results_capturing} ), \\\n",
    "  ('REGX NONCAPTURE', {results_noncapturing} )\n",
    "%sql SELECT * FROM RESULTS\n",
    "%sql -pb SELECT * FROM RESULTS"
   ]
  },
  {
   "cell_type": "markdown",
   "metadata": {
    "hideCode": false,
    "hidePrompt": false
   },
   "source": [
    "The index can help speed up processing of the LIKE statement and the regular expression calls. The results may or may not favor LIKE over regular expressions. In summary, if you are going to use regular expressions, you may get a performance advantage by using indexes if possible."
   ]
  },
  {
   "cell_type": "markdown",
   "metadata": {},
   "source": [
    "[Back to Top](#top)"
   ]
  },
  {
   "cell_type": "markdown",
   "metadata": {},
   "source": [
    "#### Credits: IBM 2019, George Baklarz [baklarz@ca.ibm.com]"
   ]
  }
 ],
 "metadata": {
  "hide_code_all_hidden": false,
  "kernelspec": {
   "display_name": "Python 3",
   "language": "python",
   "name": "python3"
  },
  "language_info": {
   "codemirror_mode": {
    "name": "ipython",
    "version": 3
   },
   "file_extension": ".py",
   "mimetype": "text/x-python",
   "name": "python",
   "nbconvert_exporter": "python",
   "pygments_lexer": "ipython3",
   "version": "3.7.3"
  }
 },
 "nbformat": 4,
 "nbformat_minor": 2
}
