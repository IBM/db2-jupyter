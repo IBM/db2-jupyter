{
 "cells": [
  {
   "cell_type": "markdown",
   "metadata": {
    "hideCode": false,
    "hidePrompt": false
   },
   "source": [
    "# Db2 Row and Column Access Control\n",
    "Updated: 2019-10-03"
   ]
  },
  {
   "cell_type": "markdown",
   "metadata": {
    "hideCode": false,
    "hidePrompt": false
   },
   "source": [
    "Row permissions and column masks are two new database concepts introduced in DB2 10 that address the shortcomings of traditional security methods. These new features act as a second layer of security that complements the table privileges security model available in prior releases of DB2.\n",
    "\n",
    "One advantage of row permissions and column masks is that no database user is automatically exempted from them — not even users with the DATAACCESS authority. The ability to manage row permissions and column masks within a database is vested solely in a user with SECADM, thereby ensuring that users with DATAACCESS authority can no longer freely access all data in the database.\n",
    "   \n",
    "Another key advantage is that row permissions and column masks ensure that table data is protected regardless of how the SQL accesses the table, be it through an application, through ad hoc query tools, or through report generation tools.\n",
    "   \n",
    "Finally, and perhaps most significantly, row permissions and column masks require no application changes; RCAC is transparent to existing applications."
   ]
  },
  {
   "cell_type": "code",
   "execution_count": null,
   "metadata": {
    "hideCode": false,
    "hideOutput": false,
    "hidePrompt": false
   },
   "outputs": [],
   "source": [
    "%run ../db2.ipynb\n",
    "%run ../connection.ipynb"
   ]
  },
  {
   "cell_type": "markdown",
   "metadata": {},
   "source": [
    "We populate the database with the EMPLOYEE and DEPARTMENT tables so that we can run the various examples."
   ]
  },
  {
   "cell_type": "code",
   "execution_count": null,
   "metadata": {},
   "outputs": [],
   "source": [
    "%sql -sampledata"
   ]
  },
  {
   "cell_type": "markdown",
   "metadata": {
    "hideCode": false,
    "hidePrompt": false
   },
   "source": [
    "## Health Care Scenario\n",
    "\n",
    "We will use a sample scenario based on the Health-care industry.\n",
    " \n",
    "Data in a hospital needs to be provided to a number of individuals,including other organizations like insurance companies, clearing house etc. Each of these companies have their own employees, and there are government regulations in place dictating who can see what data or parts of patient data.\n",
    "\n",
    "As a result security policies must be in place to ensure the rules are being met.\n",
    "\n",
    "Across the scenario there will be different groups of individuals that access the database and there must be security in place to ensure each group or individual only sees the data they are allowed to see.\n",
    "\n",
    "This SQL will create the base PATIENT table and populate it with information."
   ]
  },
  {
   "cell_type": "code",
   "execution_count": null,
   "metadata": {
    "hideCode": false,
    "hidePrompt": false
   },
   "outputs": [],
   "source": [
    "%%sql -q\n",
    "DROP TABLE PATIENTS;\n",
    "\n",
    "CREATE TABLE PATIENTS\n",
    "  (\n",
    "  SIN      VARCHAR(11),\n",
    "  USERID   VARCHAR(8),\n",
    "  NAME     VARCHAR(8),\n",
    "  ADDRESS  VARCHAR(12),\n",
    "  PHARMACY VARCHAR(12),\n",
    "  ACCT_BALANCE DEC(9,2),\n",
    "  PCP_ID   VARCHAR(8)\n",
    "  );\n",
    "\n",
    "INSERT INTO PATIENTS VALUES\n",
    "  ('123 551 234','MAX','Max','First St.','hypertension',89.7,'LEE'),\n",
    "  ('123 589 812','MIKE','Mike','Long St.','diabetics',8.3,'JAMES'),\n",
    "  ('123 119 856','SAM','Sam','Big St.','aspirin',12.5,'LEE'),\n",
    "  ('123 191 454','DOUG','Doug','Good St.','influenza',7.68,'JAMES'),\n",
    "  ('123 456 789','BOB','Bob','123 Some St.','hypertension',9,'LEE');\n",
    "\n",
    "SELECT * FROM HC.PATIENTS;"
   ]
  },
  {
   "cell_type": "markdown",
   "metadata": {
    "hideCode": false,
    "hidePrompt": false
   },
   "source": [
    "## Setting Permissions for Access\n",
    "The following permissions need to be defined for accessing the PATIENT data:\n",
    "\n",
    "- Patients can only access their own data\n",
    "- Physicians Can only access their own patients' data\n",
    "- Membership officers, Accounting, and Drug researchers can access all data\n",
    "- All other access is denied\n",
    "\n",
    "Normally SQL similar to the following is used to define who can access the data.\n",
    "```\n",
    "verify_role_for_user(SESSION_USER,'PATIENT') = 1\n",
    "   AND patient.userid = SESSION_USER\n",
    "```\n",
    "Changing from one user to another requires a number of `SECADM` features and separate connections, so in order to simplify the demo we will use a `ROLE` table and a `UDF` to simulate this capability."
   ]
  },
  {
   "cell_type": "markdown",
   "metadata": {},
   "source": [
    "## Create ROLE table\n",
    "The ROLE table will simulate what ROLES does natively in DB2. The table contains two \n",
    "columns:\n",
    "\n",
    "- USERID - the name or ID of the user\n",
    "- ROLE   - what their ROLE is \n",
    "\n",
    "Users can have more than one ROLE in this table."
   ]
  },
  {
   "cell_type": "code",
   "execution_count": null,
   "metadata": {},
   "outputs": [],
   "source": [
    "%%sql\n",
    "DROP TABLE ROLES;\n",
    "CREATE TABLE ROLES\n",
    "  (\n",
    "  USERID VARCHAR(8),\n",
    "  ROLE   VARCHAR(10)\n",
    "  );"
   ]
  },
  {
   "cell_type": "markdown",
   "metadata": {},
   "source": [
    "We also need to create a `SESSION_USER` global variable that can be used to identify the \"current\" user. Normally you would just use the `SESSION_USER` variable in the rules, but since we don't want to use SECADM we need to fake the userid."
   ]
  },
  {
   "cell_type": "code",
   "execution_count": null,
   "metadata": {},
   "outputs": [],
   "source": [
    "%sql CREATE OR REPLACE VARIABLE MIMIC_SESSION_USER VARCHAR(8);"
   ]
  },
  {
   "cell_type": "markdown",
   "metadata": {},
   "source": [
    "The `MIMIC_VERIFY_ROLE_FOR_USER` function will mimic what the `VERIFY_ROLE_FOR_USER`\n",
    "function does by returning a value of 1 if the user has that particular ROLE. Note that the function needs to be `SECURED` in order to work."
   ]
  },
  {
   "cell_type": "code",
   "execution_count": null,
   "metadata": {},
   "outputs": [],
   "source": [
    "%%sql -d\n",
    "CREATE OR REPLACE FUNCTION \n",
    "  MIMIC_VERIFY_ROLE_FOR_USER(UID VARCHAR(8), IN_ROLE VARCHAR(10))\n",
    "    SECURED NO EXTERNAL ACTION DETERMINISTIC\n",
    "    RETURNS INT\n",
    "    BEGIN ATOMIC\n",
    "      RETURN\n",
    "       SELECT COUNT(*) FROM ROLES H\n",
    "         WHERE H.USERID = UID AND H.ROLE = IN_ROLE;\n",
    "    END@"
   ]
  },
  {
   "cell_type": "markdown",
   "metadata": {},
   "source": [
    "Create some ROLES for people in the Healthcare scenario."
   ]
  },
  {
   "cell_type": "code",
   "execution_count": null,
   "metadata": {},
   "outputs": [],
   "source": [
    "%%sql\n",
    "INSERT INTO ROLES\n",
    "  VALUES\n",
    "    ('LEE','PCP'),('JAMES','PCP'),\n",
    "    ('MAX','PATIENT'),('MIKE','PATIENT'),('SAM','PATIENT'),\n",
    "    ('DOUG','PATIENT'),('BOB','PATIENT'),\n",
    "    ('JOHN','ACCOUNTING'),\n",
    "    ('TOM','MEMBERSHIP'),\n",
    "    ('JANE','RESEARCH'),\n",
    "    ('FRED','DBA');"
   ]
  },
  {
   "cell_type": "markdown",
   "metadata": {},
   "source": [
    "Now we can test to see if a user has a particular role. This first test checks to see the Dr. Lee is a PCP (Primary Care Provider)."
   ]
  },
  {
   "cell_type": "code",
   "execution_count": null,
   "metadata": {},
   "outputs": [],
   "source": [
    "%%sql\n",
    "SET MIMIC_SESSION_USER = 'LEE';\n",
    "\n",
    "VALUES\n",
    "   MIMIC_VERIFY_ROLE_FOR_USER(MIMIC_SESSION_USER,'PCP');"
   ]
  },
  {
   "cell_type": "markdown",
   "metadata": {},
   "source": [
    "At this point in time we can set up some rules on what the various groups can see."
   ]
  },
  {
   "cell_type": "code",
   "execution_count": null,
   "metadata": {},
   "outputs": [],
   "source": [
    "%%sql\n",
    "CREATE OR REPLACE PERMISSION ROW_ACCESS ON PATIENTS\n",
    "  FOR ROWS WHERE\n",
    "  (\n",
    "     MIMIC_VERIFY_ROLE_FOR_USER(MIMIC_SESSION_USER,'PATIENT') = 1 AND\n",
    "     MIMIC_SESSION_USER = USERID\n",
    "  )\n",
    "  OR\n",
    "  (   \n",
    "     MIMIC_VERIFY_ROLE_FOR_USER(MIMIC_SESSION_USER,'PCP') = 1 AND\n",
    "     MIMIC_SESSION_USER = PCP_ID\n",
    "  )\n",
    "  OR\n",
    "  (\n",
    "     MIMIC_VERIFY_ROLE_FOR_USER(MIMIC_SESSION_USER,'MEMBERSHIP') = 1 OR\n",
    "     MIMIC_VERIFY_ROLE_FOR_USER(MIMIC_SESSION_USER,'ACCOUNTING') = 1 OR\n",
    "     MIMIC_VERIFY_ROLE_FOR_USER(MIMIC_SESSION_USER,'RESEARCH') = 1\n",
    "  )\n",
    "  ENFORCED FOR ALL ACCESS\n",
    "  ENABLE;"
   ]
  },
  {
   "cell_type": "markdown",
   "metadata": {},
   "source": [
    "The rules now need to be activated in order for them to be enforced."
   ]
  },
  {
   "cell_type": "code",
   "execution_count": null,
   "metadata": {},
   "outputs": [],
   "source": [
    "%sql ALTER TABLE PATIENTS ACTIVATE ROW ACCESS CONTROL;"
   ]
  },
  {
   "cell_type": "markdown",
   "metadata": {},
   "source": [
    "## Updating a Patient Record\n",
    "Dr. Lee needs to update the medication that his patient Sam is taking.\n",
    "\n",
    "First we examine the original record in the table."
   ]
  },
  {
   "cell_type": "code",
   "execution_count": null,
   "metadata": {},
   "outputs": [],
   "source": [
    "%%sql \n",
    "SET MIMIC_SESSION_USER = 'LEE';\n",
    "\n",
    "SELECT * FROM PATIENTS WHERE NAME = 'Sam';"
   ]
  },
  {
   "cell_type": "markdown",
   "metadata": {},
   "source": [
    "Dr. Lee decides to give Sam some codeine for his pain. The update is successful and we can see the results."
   ]
  },
  {
   "cell_type": "code",
   "execution_count": null,
   "metadata": {},
   "outputs": [],
   "source": [
    "%%sql\n",
    "UPDATE PATIENTS SET PHARMACY = 'Codeine' WHERE NAME = 'Sam';\n",
    "\n",
    "SELECT * FROM PATIENTS WHERE NAME = 'Sam'"
   ]
  },
  {
   "cell_type": "markdown",
   "metadata": {},
   "source": [
    "## Update Failure\n",
    "\n",
    "If a doctor is not assigned to a patient, they will not be able to update their\n",
    "record. The rule is that if you can't read (select) the record then you can't\n",
    "update it.\n"
   ]
  },
  {
   "cell_type": "code",
   "execution_count": null,
   "metadata": {},
   "outputs": [],
   "source": [
    "%%sql\n",
    "SET MIMIC_SESSION_USER = 'LEE';\n",
    "\n",
    "UPDATE PATIENTS SET PHARMACY = 'Codeine' WHERE NAME = 'Doug';"
   ]
  },
  {
   "cell_type": "markdown",
   "metadata": {},
   "source": [
    "The UPDATE completes, but no records are modified. To see all of the records, we need to change our userid to someone who can see all records (John in accounting). Note there is no way around this restriction - you must have the proper clearance to see the records."
   ]
  },
  {
   "cell_type": "code",
   "execution_count": null,
   "metadata": {},
   "outputs": [],
   "source": [
    "%%sql\n",
    "SET MIMIC_SESSION_USER = 'JOHN';\n",
    "\n",
    "SELECT * FROM PATIENTS WHERE NAME = 'Doug'"
   ]
  },
  {
   "cell_type": "markdown",
   "metadata": {},
   "source": [
    "## Selecting Rows from a Table\n",
    "\n",
    "The rule with Row and Column access control is that if you can read (select) the data then you can potentially update it. Here is a select statement issued by Dr. Lee and you can see that only patients assigned to him are displayed."
   ]
  },
  {
   "cell_type": "code",
   "execution_count": null,
   "metadata": {},
   "outputs": [],
   "source": [
    "%%sql\n",
    "SET MIMIC_SESSION_USER = 'LEE';\n",
    "\n",
    "SELECT * FROM PATIENTS;"
   ]
  },
  {
   "cell_type": "markdown",
   "metadata": {},
   "source": [
    "Changing the current user to Dr. James will change the results that are displayed."
   ]
  },
  {
   "cell_type": "code",
   "execution_count": null,
   "metadata": {},
   "outputs": [],
   "source": [
    "%%sql\n",
    "SET MIMIC_SESSION_USER = 'JAMES';\n",
    "\n",
    "SELECT * FROM PATIENTS;"
   ]
  },
  {
   "cell_type": "markdown",
   "metadata": {},
   "source": [
    "Changing the current user to one of the accounting, research, or fund raising users will result in all records being displayed."
   ]
  },
  {
   "cell_type": "code",
   "execution_count": null,
   "metadata": {},
   "outputs": [],
   "source": [
    "%%sql\n",
    "SET MIMIC_SESSION_USER = 'JOHN';\n",
    "\n",
    "SELECT * FROM PATIENTS;"
   ]
  },
  {
   "cell_type": "markdown",
   "metadata": {},
   "source": [
    "Patients are able to see only their row."
   ]
  },
  {
   "cell_type": "code",
   "execution_count": null,
   "metadata": {},
   "outputs": [],
   "source": [
    "%%sql\n",
    "SET MIMIC_SESSION_USER = 'BOB';\n",
    "\n",
    "SELECT * FROM PATIENTS;"
   ]
  },
  {
   "cell_type": "markdown",
   "metadata": {},
   "source": [
    "A DBA (Fred) who is not part of any of these groups will not be able to see any of the records, even though they may performance maintenance on the table itself."
   ]
  },
  {
   "cell_type": "code",
   "execution_count": null,
   "metadata": {},
   "outputs": [],
   "source": [
    "%%sql\n",
    "SET MIMIC_SESSION_USER = 'FRED';\n",
    "\n",
    "SELECT * FROM PATIENTS;"
   ]
  },
  {
   "cell_type": "markdown",
   "metadata": {},
   "source": [
    "## Column Masks\n",
    "Column access control is implemented in the form of a mask, or lack thereof, on the data.\n",
    "\n",
    "Using our Health-care scenario as the base, we will implement column access control/rules in two forms:\n",
    "\n",
    "- We MASK the account balance column. Only the ACCOUNTING team can see the account balance in the table and all others see a balance of zero.\n",
    "\n",
    "- We MASK the SIN column (Social Insurance Number column). Only the PATIENT themselves can see the full Social Insurance number and all others see only the last three digits of the number.\n",
    "\n",
    "This first MASK is on account balance and sets it to zero for everyone except for those people in accounting."
   ]
  },
  {
   "cell_type": "code",
   "execution_count": null,
   "metadata": {},
   "outputs": [],
   "source": [
    "%%sql\n",
    "CREATE OR REPLACE MASK ACCT_BALANCE_MASK ON PATIENTS FOR\n",
    "  COLUMN ACCT_BALANCE RETURN\n",
    "     CASE\n",
    "        WHEN MIMIC_VERIFY_ROLE_FOR_USER(MIMIC_SESSION_USER,'ACCOUNTING') = 1\n",
    "           THEN ACCT_BALANCE\n",
    "        ELSE 0.00\n",
    "     END\n",
    "  ENABLE;"
   ]
  },
  {
   "cell_type": "markdown",
   "metadata": {},
   "source": [
    "The second mask will return the entire SIN number for the PATIENT, but only the last three digits of the SIN for all others."
   ]
  },
  {
   "cell_type": "code",
   "execution_count": null,
   "metadata": {},
   "outputs": [],
   "source": [
    "%%sql\n",
    "CREATE OR REPLACE MASK SIN_MASK ON PATIENTS FOR\n",
    "  COLUMN SIN RETURN\n",
    "     CASE\n",
    "        WHEN MIMIC_VERIFY_ROLE_FOR_USER(MIMIC_SESSION_USER,'PATIENT') = 1\n",
    "          THEN SIN\n",
    "        ELSE\n",
    "         'XXX XXX ' || SUBSTR(SIN,9,3)\n",
    "     END\n",
    "  ENABLE;"
   ]
  },
  {
   "cell_type": "markdown",
   "metadata": {},
   "source": [
    "In order for the MASKS to be effective, they need to be enabled for the table."
   ]
  },
  {
   "cell_type": "code",
   "execution_count": null,
   "metadata": {},
   "outputs": [],
   "source": [
    "%sql ALTER TABLE PATIENTS ACTIVATE COLUMN ACCESS CONTROL;"
   ]
  },
  {
   "cell_type": "markdown",
   "metadata": {},
   "source": [
    "When someone from accounting now views the records, they will only see the last three digits of the SIN field but they will see all of the accounting data."
   ]
  },
  {
   "cell_type": "code",
   "execution_count": null,
   "metadata": {},
   "outputs": [],
   "source": [
    "%%sql\n",
    "SET MIMIC_SESSION_USER = 'JOHN';\n",
    "\n",
    "SELECT * FROM PATIENTS;"
   ]
  },
  {
   "cell_type": "markdown",
   "metadata": {},
   "source": [
    "When a researcher looks at the data, they will also only see the last three digits of the SIN field, but they will get a zero balance in the accounting field."
   ]
  },
  {
   "cell_type": "code",
   "execution_count": null,
   "metadata": {},
   "outputs": [],
   "source": [
    "%%sql\n",
    "SET MIMIC_SESSION_USER = 'JANE';\n",
    "\n",
    "SELECT * FROM PATIENTS;"
   ]
  },
  {
   "cell_type": "markdown",
   "metadata": {},
   "source": [
    "Dr. Lee will only see his patients (ROW CONTROL) and will see the last three digits of the SIN field and zero for the account balance (COLUMN MASK)."
   ]
  },
  {
   "cell_type": "code",
   "execution_count": null,
   "metadata": {},
   "outputs": [],
   "source": [
    "%%sql\n",
    "SET MIMIC_SESSION_USER = 'LEE';\n",
    "\n",
    "SELECT * FROM PATIENTS;"
   ]
  },
  {
   "cell_type": "markdown",
   "metadata": {},
   "source": [
    "Finally, the patients will be able to see their own SIN field, but the account balance will show as zero (presumably so they don't get sick over the amount!)."
   ]
  },
  {
   "cell_type": "code",
   "execution_count": null,
   "metadata": {},
   "outputs": [],
   "source": [
    "%%sql\n",
    "SET MIMIC_SESSION_USER = 'BOB';\n",
    "\n",
    "SELECT * FROM PATIENTS;"
   ]
  },
  {
   "cell_type": "markdown",
   "metadata": {},
   "source": [
    "## Catalog Views\n",
    "The information about the ROW and COLUMN permissions can be found in the `SYSCAT.CONTROLS` table. One line is found in this table for each column permission and one for the row permission on a table."
   ]
  },
  {
   "cell_type": "code",
   "execution_count": null,
   "metadata": {},
   "outputs": [],
   "source": [
    "%sql -a SELECT * FROM SYSCAT.CONTROLS;"
   ]
  },
  {
   "cell_type": "markdown",
   "metadata": {
    "collapsed": true
   },
   "source": [
    "#### Credits: IBM 2019, George Baklarz [baklarz@ca.ibm.com]"
   ]
  }
 ],
 "metadata": {
  "hide_code_all_hidden": false,
  "kernelspec": {
   "display_name": "Python 3",
   "language": "python",
   "name": "python3"
  },
  "language_info": {
   "codemirror_mode": {
    "name": "ipython",
    "version": 3
   },
   "file_extension": ".py",
   "mimetype": "text/x-python",
   "name": "python",
   "nbconvert_exporter": "python",
   "pygments_lexer": "ipython3",
   "version": "3.6.8"
  }
 },
 "nbformat": 4,
 "nbformat_minor": 2
}
