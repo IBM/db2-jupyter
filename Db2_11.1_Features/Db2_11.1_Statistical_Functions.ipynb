{
 "cells": [
  {
   "cell_type": "markdown",
   "metadata": {},
   "source": [
    "<a id='top'></a>"
   ]
  },
  {
   "cell_type": "markdown",
   "metadata": {
    "hideCode": false,
    "hidePrompt": false
   },
   "source": [
    "# Db2 Statistical Functions\n",
    "Updated: 2019-10-03"
   ]
  },
  {
   "cell_type": "markdown",
   "metadata": {
    "hideCode": false,
    "hidePrompt": false
   },
   "source": [
    "Db2 already has a variety of Statistical functions built in. In Db2 11.1, a number of new\n",
    "functions have been added including:\n",
    "    \n",
    "   - [*COVARIANCE_SAMP*](#covariance) - The COVARIANCE_SAMP function returns the sample covariance of a set of number pairs\n",
    "   - [*STDDEV_SAMP*](#stddev) - The STDDEV_SAMP column function returns the sample standard deviation (division by [n-1]) of a set of numbers.\n",
    "   - [*VARIANCE_SAMP*](#variance) or VAR_SAMP - The VARIANCE_SAMP column function returns the sample variance (division by [n-1]) of a set of numbers.\n",
    "   - [*CUME_DIST*](#cume) - The CUME_DIST column function returns the cumulative distribution of a row that is hypothetically inserted into a group of rows\n",
    "   - [*PERCENT_RANK*](#rank) - The PERCENT_RANK column function returns the relative percentile rank of a row that is hypothetically inserted into a group of rows.\n",
    "   - [*PERCENTILE_DISC*](#disc), [*PERCENTILE_CONT*](#cont) - Returns the value that corresponds to the specified percentile given a sort specification by using discrete (DISC) or continuous (CONT) distribution\n",
    "   - [*MEDIAN*](#median) - The MEDIAN column function returns the median value in a set of values\n",
    "   - [*WIDTH_BUCKET*](#width) - The WIDTH_BUCKET function is used to create equal-width histograms"
   ]
  },
  {
   "cell_type": "code",
   "execution_count": null,
   "metadata": {},
   "outputs": [],
   "source": [
    "%run ../db2.ipynb\n",
    "%run ../connection.ipynb"
   ]
  },
  {
   "cell_type": "markdown",
   "metadata": {},
   "source": [
    "## Sampling Functions\n",
    "The traditional VARIANCE, COVARIANCE, and STDDEV functions have been available in Db2 for a long time. When computing these values, the formulae assume that the entire population has been counted (N). The traditional formula for standard deviation is:"
   ]
  },
  {
   "cell_type": "markdown",
   "metadata": {},
   "source": [
    "$$\\sigma=\\sqrt{\\frac{1}{N}\\sum_{i=1}^N(x_{i}-\\mu)^{2}}$$"
   ]
  },
  {
   "cell_type": "markdown",
   "metadata": {},
   "source": [
    "N refers to the size of the population and in many cases, we only have a sample, not the entire population of values. \n",
    "In this case, the formula needs to be adjusted to account for the sampling."
   ]
  },
  {
   "cell_type": "markdown",
   "metadata": {},
   "source": [
    "$$s=\\sqrt{\\frac{1}{N-1}\\sum_{i=1}^N(x_{i}-\\bar{x})^{2}}$$"
   ]
  },
  {
   "cell_type": "markdown",
   "metadata": {
    "hideCode": false,
    "hidePrompt": false
   },
   "source": [
    "Set up the connection to the database."
   ]
  },
  {
   "cell_type": "code",
   "execution_count": null,
   "metadata": {},
   "outputs": [],
   "source": [
    "%run ../db2.ipynb\n",
    "%run ../connection.ipynb"
   ]
  },
  {
   "cell_type": "markdown",
   "metadata": {},
   "source": [
    "### Connect to the SAMPLE database"
   ]
  },
  {
   "cell_type": "code",
   "execution_count": null,
   "metadata": {},
   "outputs": [],
   "source": [
    "%sql CONNECT TO SAMPLE"
   ]
  },
  {
   "cell_type": "markdown",
   "metadata": {},
   "source": [
    "We populate the database with the EMPLOYEE and DEPARTMENT tables so that we can run the various examples."
   ]
  },
  {
   "cell_type": "code",
   "execution_count": null,
   "metadata": {},
   "outputs": [],
   "source": [
    "%sql -sampledata"
   ]
  },
  {
   "cell_type": "markdown",
   "metadata": {},
   "source": [
    "<a id=\"covariance\"></a>"
   ]
  },
  {
   "cell_type": "markdown",
   "metadata": {
    "hideCode": false,
    "hidePrompt": false
   },
   "source": [
    "## COVARIANCE_SAMP\n",
    "\n",
    "The COVARIANCE_SAMP function returns the sample covariance of a set of number pairs. "
   ]
  },
  {
   "cell_type": "code",
   "execution_count": null,
   "metadata": {
    "hideCode": false,
    "hidePrompt": false
   },
   "outputs": [],
   "source": [
    "%%sql\n",
    "SELECT COVARIANCE_SAMP(SALARY, BONUS) \n",
    "  FROM EMPLOYEE \n",
    "WHERE WORKDEPT = 'A00'"
   ]
  },
  {
   "cell_type": "markdown",
   "metadata": {},
   "source": [
    "<a id=\"stddev\"></a>"
   ]
  },
  {
   "cell_type": "markdown",
   "metadata": {
    "hideCode": false,
    "hidePrompt": false
   },
   "source": [
    "## STDDEV_SAMP\n",
    "\n",
    "The STDDEV_SAMP column function returns the sample standard deviation (division by [n-1]) of a set of numbers."
   ]
  },
  {
   "cell_type": "code",
   "execution_count": null,
   "metadata": {
    "hideCode": false,
    "hidePrompt": false
   },
   "outputs": [],
   "source": [
    "%%sql\n",
    "SELECT STDDEV_SAMP(SALARY) \n",
    "  FROM EMPLOYEE \n",
    "WHERE WORKDEPT = 'A00'"
   ]
  },
  {
   "cell_type": "markdown",
   "metadata": {},
   "source": [
    "<a id=\"variance\"></a>"
   ]
  },
  {
   "cell_type": "markdown",
   "metadata": {
    "hideCode": false,
    "hidePrompt": false
   },
   "source": [
    "## VARIANCE_SAMP\n",
    "The VARIANCE_SAMP column function returns the sample variance (division by [n-1]) of a set of numbers."
   ]
  },
  {
   "cell_type": "code",
   "execution_count": null,
   "metadata": {
    "hideCode": false,
    "hidePrompt": false
   },
   "outputs": [],
   "source": [
    "%%sql\n",
    "SELECT VARIANCE_SAMP(SALARY) \n",
    "  FROM EMPLOYEE \n",
    "WHERE WORKDEPT = 'A00'"
   ]
  },
  {
   "cell_type": "markdown",
   "metadata": {},
   "source": [
    "<a id=\"median\"></a>"
   ]
  },
  {
   "cell_type": "markdown",
   "metadata": {
    "hideCode": false,
    "hidePrompt": false
   },
   "source": [
    "## MEDIAN\n",
    "\n",
    "The MEDIAN column function returns the median value in a set of values."
   ]
  },
  {
   "cell_type": "code",
   "execution_count": null,
   "metadata": {
    "hideCode": false,
    "hidePrompt": false
   },
   "outputs": [],
   "source": [
    "%%sql\n",
    "SELECT MEDIAN(SALARY) AS MEDIAN, AVG(SALARY) AS AVERAGE \n",
    "  FROM EMPLOYEE \n",
    "WHERE WORKDEPT = 'E21'"
   ]
  },
  {
   "cell_type": "markdown",
   "metadata": {},
   "source": [
    "<a id=\"cume\"></a>"
   ]
  },
  {
   "cell_type": "markdown",
   "metadata": {
    "hideCode": false,
    "hidePrompt": false
   },
   "source": [
    "## CUME_DIST\n",
    "\n",
    "The CUME_DIST column function returns the cumulative distribution of a row that is hypothetically inserted into \n",
    "a group of rows."
   ]
  },
  {
   "cell_type": "code",
   "execution_count": null,
   "metadata": {
    "hideCode": false,
    "hidePrompt": false
   },
   "outputs": [],
   "source": [
    "%%sql\n",
    "SELECT CUME_DIST(47000) WITHIN GROUP (ORDER BY SALARY) \n",
    "  FROM EMPLOYEE \n",
    "WHERE WORKDEPT = 'A00'"
   ]
  },
  {
   "cell_type": "markdown",
   "metadata": {},
   "source": [
    "<a id=\"rank\"></a>"
   ]
  },
  {
   "cell_type": "markdown",
   "metadata": {
    "collapsed": true,
    "hideCode": false,
    "hidePrompt": false
   },
   "source": [
    "## PERCENT_RANK\n",
    "\n",
    "The PERCENT_RANK column function returns the relative percentile rank of a\n",
    "row that is hypothetically inserted into a group of rows."
   ]
  },
  {
   "cell_type": "code",
   "execution_count": null,
   "metadata": {
    "hideCode": false,
    "hidePrompt": false
   },
   "outputs": [],
   "source": [
    "%%sql\n",
    "SELECT PERCENT_RANK(47000) WITHIN GROUP (ORDER BY SALARY) \n",
    "  FROM EMPLOYEE \n",
    "WHERE WORKDEPT = 'A00'"
   ]
  },
  {
   "cell_type": "markdown",
   "metadata": {},
   "source": [
    "<a id=\"disc\"></a>"
   ]
  },
  {
   "cell_type": "markdown",
   "metadata": {
    "collapsed": true,
    "hideCode": false,
    "hidePrompt": false
   },
   "source": [
    "## PERCENTILE_DISC\n",
    "\n",
    "The PERCENTILE_DISC/CONT returns the value that corresponds to the specified percentile \n",
    "given a sort specification by using discrete (DISC) or continuous (CONT) distribution."
   ]
  },
  {
   "cell_type": "code",
   "execution_count": null,
   "metadata": {
    "hideCode": false,
    "hidePrompt": false
   },
   "outputs": [],
   "source": [
    "%%sql\n",
    "SELECT PERCENTILE_DISC(0.75) WITHIN GROUP (ORDER BY SALARY) \n",
    "  FROM EMPLOYEE \n",
    "WHERE WORKDEPT = 'E21'"
   ]
  },
  {
   "cell_type": "markdown",
   "metadata": {},
   "source": [
    "<a id=\"cont\"></a>"
   ]
  },
  {
   "cell_type": "markdown",
   "metadata": {
    "collapsed": true,
    "hideCode": false,
    "hidePrompt": false
   },
   "source": [
    "## PERCENTILE_CONT\n",
    "\n",
    "This is a function that gives you a continuous percentile calculation."
   ]
  },
  {
   "cell_type": "code",
   "execution_count": null,
   "metadata": {
    "hideCode": false,
    "hidePrompt": false
   },
   "outputs": [],
   "source": [
    "%%sql\n",
    "SELECT PERCENTILE_CONT(0.75) WITHIN GROUP (ORDER BY SALARY) \n",
    "  FROM EMPLOYEE \n",
    "WHERE WORKDEPT = 'E21'"
   ]
  },
  {
   "cell_type": "markdown",
   "metadata": {},
   "source": [
    "<a id=\"width\"></a>"
   ]
  },
  {
   "cell_type": "markdown",
   "metadata": {
    "collapsed": true,
    "hideCode": false,
    "hidePrompt": false
   },
   "source": [
    "## WIDTH BUCKET and Histogram Example\n",
    "\n",
    "The WIDTH_BUCKET function is used to create equal-width histograms. Using the EMPLOYEE table, \n",
    "This SQL will assign a bucket to each employee's salary using a range of 35000 to 100000 divided into 13 buckets."
   ]
  },
  {
   "cell_type": "code",
   "execution_count": null,
   "metadata": {
    "hideCode": false,
    "hidePrompt": false
   },
   "outputs": [],
   "source": [
    "%%sql\n",
    "SELECT EMPNO, SALARY, WIDTH_BUCKET(SALARY, 35000, 100000, 13) \n",
    "  FROM EMPLOYEE \n",
    "ORDER BY EMPNO"
   ]
  },
  {
   "cell_type": "markdown",
   "metadata": {
    "hideCode": false,
    "hidePrompt": false
   },
   "source": [
    "We can plot this information by adding some more details to the bucket output."
   ]
  },
  {
   "cell_type": "code",
   "execution_count": null,
   "metadata": {
    "hideCode": false,
    "hidePrompt": false
   },
   "outputs": [],
   "source": [
    "%%sql -a\n",
    "WITH BUCKETS(EMPNO, SALARY, BNO) AS \n",
    "  ( \n",
    "  SELECT EMPNO, SALARY, \n",
    "    WIDTH_BUCKET(SALARY, 35000, 100000, 9) AS BUCKET \n",
    "  FROM EMPLOYEE ORDER BY EMPNO \n",
    "  ) \n",
    "SELECT BNO, COUNT(*) AS COUNT FROM BUCKETS \n",
    "GROUP BY BNO \n",
    "ORDER BY BNO ASC "
   ]
  },
  {
   "cell_type": "markdown",
   "metadata": {
    "hideCode": false,
    "hidePrompt": false
   },
   "source": [
    "And here is a plot of the data to make sense of the histogram."
   ]
  },
  {
   "cell_type": "code",
   "execution_count": null,
   "metadata": {
    "hideCode": false,
    "hidePrompt": false
   },
   "outputs": [],
   "source": [
    "%%sql -pb\n",
    "WITH BUCKETS(EMPNO, SALARY, BNO) AS \n",
    "  ( \n",
    "  SELECT EMPNO, SALARY, \n",
    "    WIDTH_BUCKET(SALARY, 35000, 100000, 9) AS BUCKET \n",
    "  FROM EMPLOYEE ORDER BY EMPNO \n",
    "  ) \n",
    "SELECT BNO, COUNT(*) AS COUNT FROM BUCKETS \n",
    "GROUP BY BNO \n",
    "ORDER BY BNO ASC "
   ]
  },
  {
   "cell_type": "markdown",
   "metadata": {},
   "source": [
    "[Back to Top](#top)"
   ]
  },
  {
   "cell_type": "markdown",
   "metadata": {},
   "source": [
    "#### Credits: IBM 2019, George Baklarz [baklarz@ca.ibm.com]"
   ]
  }
 ],
 "metadata": {
  "hide_code_all_hidden": false,
  "kernelspec": {
   "display_name": "Python 3",
   "language": "python",
   "name": "python3"
  },
  "language_info": {
   "codemirror_mode": {
    "name": "ipython",
    "version": 3
   },
   "file_extension": ".py",
   "mimetype": "text/x-python",
   "name": "python",
   "nbconvert_exporter": "python",
   "pygments_lexer": "ipython3",
   "version": "3.7.3"
  }
 },
 "nbformat": 4,
 "nbformat_minor": 2
}
