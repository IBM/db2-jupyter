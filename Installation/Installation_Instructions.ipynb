{
 "cells": [
  {
   "cell_type": "markdown",
   "metadata": {},
   "source": [
    "# Installation Requirements\n",
    "\n",
    "There are three steps that you need to take in order to use Db2 Magic commands:\n",
    "* Install Jupyter Notebook\n",
    "* Install the Db2 Python drivers\n",
    "* Copy the Db2 Magic commands into your notebook directory\n",
    "\n",
    "## Jupyter Notebook\n",
    "You need to have Jupyter notebook installed on your system, which also needs Python to be installed on your system. If you already have Python available, odds are that you have Jupyter installed as well. The next set of commands will install Python on your platform and then install the Jupyter components. Note that Db2 magic commands will work on JupyterHub and JupyterLab, but some of the display functions (**grid**) are not supported in the JupyterLab environment. \n",
    "\n",
    "### Anaconda or Miniconda\n",
    "Anaconda is an Open Data Science Platform that is powered by Python http://www.continuum.io. The platform keeps track of packages and their dependencies for development with Jupyter notebooks and Python. This makes it very easy to install extensions for Python without having to manually install everything.\n",
    "\n",
    "Download the Anaconda or Miniconda package applicable to your platform. Miniconda creates the minimal system required for using Python and Jupyter, while Anaconda installs all major packages. There are two versions of Python - V2 or V3. While it doesn't matter which one you use for most notebooks, you may want to use V3 if you are writing Python code since that is the release that is being enhanced. \n",
    "\n",
    "After installing Anaconda, you should issue the following commands from a command line shell that will update and install components required by Db2 notebooks. In the Windows environment, the Anaconda installer will create a shortcut to a command line. Make sure you run it as an Administrative user. Similarly, if you are using Linux, you will need to use `sudo` in order to run these commands.\n",
    "```\n",
    "conda update conda      - This will update the Anaconda distribution so you have the latest code\n",
    "conda install -y  qgrid - Add components needed for displaying result sets \n",
    "easy_install ibm-db     - Install the Db2 Python drivers\n",
    "```\n",
    "\n",
    "At this point your installation should have Jupyter available on your system. To start the notebook server you need to issue the following command:\n",
    "```\n",
    "jupyter notebook (opens browser)\n",
    "jupyter notebook --no-browser (runs as a service)\n",
    "```\n",
    "The first command will open up a browser window that displays your notebooks. You can click on one of these notebooks to see the contents. If no notebooks are available, you will need to move the files in the Github jupyter directory to a local folder on your system that the program can access.\n",
    "\n",
    "### Db2 Extensions\n",
    "\n",
    "If you have an existing Jupyter Notebook environment, you can add Db2 support to it by installing the `ibm-db` package. This package adds appropriate database commands to Python so that it can access Db2 data. The `ibm-db` package is not available as part of the Anaconda/Miniconda package so you need to use the `easy_install` command to install it.\n",
    "\n",
    "You may need administrator privileges (`sudo` or Windows Administrative User) to run this command.\n",
    "```\n",
    "easy_install ibm-db\n",
    "```\n",
    "\n",
    "Once you have installed the software you will need place the `db2.ipynb` notebook in the same directory where you want to issue Db2 commands. One line in your notebook should contain:\n",
    "```\n",
    "%run db2.ipynb\n",
    "```\n",
    "\n",
    "This will load the appropriate Db2 libraries and make the `%sql` and `%%sql` magic commands available to your notebook."
   ]
  },
  {
   "cell_type": "markdown",
   "metadata": {},
   "source": [
    "#### Credits: IBM 2019, George Baklarz [baklarz@ca.ibm.com]"
   ]
  }
 ],
 "metadata": {
  "kernelspec": {
   "display_name": "Python 3",
   "language": "python",
   "name": "python3"
  },
  "language_info": {
   "codemirror_mode": {
    "name": "ipython",
    "version": 3
   },
   "file_extension": ".py",
   "mimetype": "text/x-python",
   "name": "python",
   "nbconvert_exporter": "python",
   "pygments_lexer": "ipython3",
   "version": "3.7.3"
  }
 },
 "nbformat": 4,
 "nbformat_minor": 2
}
