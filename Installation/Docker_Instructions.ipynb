{
 "cells": [
  {
   "cell_type": "markdown",
   "metadata": {},
   "source": [
    "# Creating a Docker Container for Db2 and Jupyter Notebooks\n",
    "You can create a Docker image that will contain Jupyter Notebooks, the Db2 drivers, and all of the examples found in this Github repository.\n",
    "\n",
    "Assuming that you have Docker running on Windows, Mac, or Linux, the following commands will create a Docker image for you.\n",
    "\n",
    "  * Download the `db2jupyter.docker` file (found in this directory) and place it into an **_empty_** directory of your choice\n",
    "  \n",
    "  \n",
    "  * Open up a command window that is able to issue Docker commands (either use Kitematic CLI command line, or a terminal window on Mac or Linux)\n",
    "  \n",
    "  \n",
    "  * Navigate to the directory that the `db2jupyter.docker` file is located (i.e. cd or chdir)\n",
    "  \n",
    "  \n",
    "  * Issue the following command to create a Docker image:\n",
    "```Python\n",
    "docker build -t db2jupyter -f db2jupyter.docker .    <- Note the period at the end\n",
    "```\n",
    "\n",
    "\n",
    "  * Once the build is complete (there will be some warning messages with the `ibm-db` creation) you can now run the docker container with the following command.\n",
    "```Python\n",
    "docker run --name db2jupyter -d -p 8888:8888 db2jupyter \n",
    "```\n",
    "\n",
    "\n",
    "  * If  port 8888 is already in use on your system you will have to give it a different port number. For instance, the following command will map the host port 9999 to port 8888 inside the Docker container.\n",
    "```Python\n",
    "docker run --name db2jupyter -d -p 9999:8888 db2jupyter \n",
    "```\n",
    "\n",
    "\n",
    "  * Use your favorite browser to navigate to `localhost:8888` and all of the Db2 notebooks will be listed and available for use."
   ]
  },
  {
   "cell_type": "markdown",
   "metadata": {},
   "source": [
    "#### Credits: IBM 2019, George Baklarz [baklarz@ca.ibm.com]"
   ]
  }
 ],
 "metadata": {
  "kernelspec": {
   "display_name": "Python 3",
   "language": "python",
   "name": "python3"
  },
  "language_info": {
   "codemirror_mode": {
    "name": "ipython",
    "version": 3
   },
   "file_extension": ".py",
   "mimetype": "text/x-python",
   "name": "python",
   "nbconvert_exporter": "python",
   "pygments_lexer": "ipython3",
   "version": "3.7.3"
  }
 },
 "nbformat": 4,
 "nbformat_minor": 2
}
