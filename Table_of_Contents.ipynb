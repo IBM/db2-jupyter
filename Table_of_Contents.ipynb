{
 "cells": [
  {
   "cell_type": "markdown",
   "metadata": {},
   "source": [
    "![](dte-header.jpg)"
   ]
  },
  {
   "cell_type": "markdown",
   "metadata": {},
   "source": [
    "# Table of Contents\n",
    "Welcome to the Db2 Jupyter Notebook project. This project contains a number of folders that will let you explore the various functions and features of Db2 through the use of Jupyter notebooks. The Table of Contents below will link you to the various labs and software that are available within this project. Hopefully you find the material useful and we appreciate any feedback you may have on the tutorials or the software."
   ]
  },
  {
   "cell_type": "markdown",
   "metadata": {},
   "source": [
    "* [An Introduction to Jupyter Notebook and Python](#jupyter) \n",
    "\n",
    "* [Setting up a database connection](#connect)\n",
    "\n",
    "* [Using Db2 Magic commands](#magic)\n",
    "\n",
    "* [Db2 11.1 Features](#v11.1)\n",
    "\n",
    "* [Db2 11.5 Features and JSON Support](#v11.5)\n",
    "\n",
    "* [Installation Instructions](#install)"
   ]
  },
  {
   "cell_type": "markdown",
   "metadata": {},
   "source": [
    "<a id='jupyter'></a>"
   ]
  },
  {
   "cell_type": "markdown",
   "metadata": {},
   "source": [
    "## Introduction to Jupyter Notebook and Python\n",
    "\n",
    "If you are not familiar with the use of Jupyter notebooks or Python, the following notebooks will guide you through their usage.\n",
    "\n",
    "* [An Introduction to Jupyter Notebooks](./Db2_Jupyter_Tutorials/An_Introduction_to_Jupyter_Notebooks.ipynb)\n",
    "* [A Brief Introduction to Python](./Db2_Jupyter_Tutorials/An_Introduction_to_Python.ipynb)\n",
    "* [Db2 Python API Library and Examples](https://github.com/IBM/db2-python)"
   ]
  },
  {
   "cell_type": "markdown",
   "metadata": {},
   "source": [
    "<a id='connect'></a>"
   ]
  },
  {
   "cell_type": "markdown",
   "metadata": {},
   "source": [
    "## Connection Document\n",
    "\n",
    "All of the tutorials that are in this project require that you connect to Db2 before running any of the SQL examples. There is a connection document found in this project (`connection.ipynb`) that contains a single SQL statement:\n",
    "```sql\n",
    "%sql CONNECT TO SAMPLE USER DB2INST1 USING db2inst1\n",
    "```\n",
    "\n",
    "This is the default userid and password to connect to the `SAMPLE` Db2 database. If you have a different userid or require access to a different database, modify this one statement and execute it so that you do not to re-connect in any of the subsequent notebooks. \n",
    "\n",
    "* [Db2 Connection Document](connection.ipynb)"
   ]
  },
  {
   "cell_type": "markdown",
   "metadata": {},
   "source": [
    "<a id='install'></a>"
   ]
  },
  {
   "cell_type": "markdown",
   "metadata": {},
   "source": [
    "## Installation and Customization\n",
    "\n",
    "If you need to install Jupyter Notebook on your system, or want to create a Docker container that has Jupyter Notebook installed in it, review the following documents. The Docker container does not include Db2 in it, so you will still need access to a Db2 system. Instructions for creating a Db2 docker image are found on the Docker site (see the link below).\n",
    "\n",
    "* [Installing Jupyter Notebook and Db2 Extensions](./Installation/Installation_Instructions.ipynb)\n",
    "* [Using Docker to run Jupyter Notebook and Db2](./Installation/Docker_Instructions.ipynb)\n",
    "* [Installing Db2 in a Docker container](https://hub.docker.com/r/ibmcom/db2)"
   ]
  },
  {
   "cell_type": "markdown",
   "metadata": {},
   "source": [
    "<a id='magic'></a>"
   ]
  },
  {
   "cell_type": "markdown",
   "metadata": {},
   "source": [
    "## Db2 Magic Commands\n",
    "\n",
    "Db2 Magic commands allow you to access Db2 within a Jupyter notebook without having to use the underlying Python database drivers. These notebooks take you through the basics of using the Db2 magic commands as well as more complex SQL examples.\n",
    "\n",
    "* [An Introduction to Db2 Magic Commands](./Db2_Jupyter_Tutorials/Db2_Jupyter_Extensions_Tutorial.ipynb)\n",
    "* [Calling Stored Procedures in Db2](./Db2_Jupyter_Tutorials/Db2_Calling_Stored_Procedures.ipynb)\n",
    "* [Using Prepared Statements in your SQL](./Db2_Jupyter_Tutorials/Db2_Using_Prepared_Statements.ipynb)\n",
    "* [Writing Db2 Macros to Simplify your SQL](./Db2_Jupyter_Tutorials/Db2_Jupyter_Macros.ipynb)"
   ]
  },
  {
   "cell_type": "markdown",
   "metadata": {},
   "source": [
    "<a id='v11.1'></a>"
   ]
  },
  {
   "cell_type": "markdown",
   "metadata": {},
   "source": [
    "## Db2 Version 11.1 Features\n",
    "\n",
    "These set of notebooks cover some of the new SQL functionality that was delivered in Db2 11.1. Note that two of the notebooks cover the JSON functions that were added to Db2 in 10.5 and officially published in 11.1. These functions are used to support the MongoDB compatibility features in Db2 but are not part of the SQL standard. If you want to use the official JSON functions you should examine the notebooks in the Db2 11.5 section.\n",
    "\n",
    "* [Oracle, Open Source and Netezza SQL Compatibility Features](./Db2_11.1_Features/Db2_11.1_Compatibility_Features.ipynb)\n",
    "* [Regular Expressions](./Db2_11.1_Features/Db2_11.1_Regular_Expressions.ipynb)\n",
    "* [Row and Column Access Control](./Db2_11.1_Features/Db2_11.1_Row_and_Column_Access_Control.ipynb)\n",
    "* [Updated Statistical Functions](./Db2_11.1_Features/Db2_11.1_Statistical_Functions.ipynb)\n",
    "* [Time and Date Functions](./Db2_11.1_Features/Db2_11.1_Time_and_Date_Functions.ipynb)\n",
    "* [JSON Features (SYSTOOLS)](./Db2_11.1_Features/Db2_11.1_JSON_Features_SYSTOOLS.ipynb)\n",
    "* [Advanced Db2 JSON Techniques (SYSTOOLS)](./Db2_11.1_Features/Db2_11.1_Advanced_Db2_JSON_Techniques_SYSTOOLS.ipynb)\n",
    "* [Db2 Version 11 Highlights - **eBook**](./Db2_11.1_Features/Db2V11-ebook.pdf)"
   ]
  },
  {
   "cell_type": "markdown",
   "metadata": {},
   "source": [
    "<a id='v11.5'></a>"
   ]
  },
  {
   "cell_type": "markdown",
   "metadata": {},
   "source": [
    "## Db2 Version 11.5 Features\n",
    "\n",
    "These set of notebooks cover some of the new SQL functionality that was delivered in Db2 11.5. This set of notebooks include extensive information on the new ISO JSON functions. These functions were delivered late in the 11.1 release (FP4) but are being published here because of their importance.\n",
    "\n",
    "* [Oracle, Open Source and Netezza SQL Enhancements](./Db2_11.5_Features/Db2_11.5_SQL_Enhancements.ipynb)\n",
    "* [An Introduction to External Tables](./Db2_11.5_Features/Db2_11.5_External_Tables.ipynb)\n",
    "\n",
    "These notebooks on Db2 JSON are intended to be run in sequence. If you want a very quick overview of the functions, refer to Part 3 for a quick sample of what these JSON functions do.\n",
    "\n",
    "* [Part 1 - An Introduction to JSON](./Db2_11.5_Features/Db2_11.5_JSON_01_An_Introduction_to_JSON.ipynb)\n",
    "* [Part 2 - JSON Path Expressions](./Db2_11.5_Features/Db2_11.5_JSON_02_JSON_Path_Expressions.ipynb)\n",
    "* [Part 3 - Db2 ISO JSON Functions](./Db2_11.5_Features/Db2_11.5_JSON_03_Db2_ISO_JSON_Functions.ipynb)\n",
    "* [Part 4 - JSON Storage](./Db2_11.5_Features/Db2_11.5_JSON_04_JSON_Storage.ipynb)\n",
    "* [Part 5 - Inserting JSON Data](./Db2_11.5_Features/Db2_11.5_JSON_05_Inserting_JSON_Data.ipynb)\n",
    "* [Part 6 - JSON_EXISTS](./Db2_11.5_Features/Db2_11.5_JSON_06_JSON_EXISTS.ipynb)\n",
    "* [Part 7 - JSON_VALUE and JSON_QUERY](./Db2_11.5_Features/Db2_11.5_JSON_07_JSON_VALUE_and_JSON_QUERY.ipynb)\n",
    "* [Part 8 - JSON_TABLE](./Db2_11.5_Features/Db2_11.5_JSON_08_JSON_TABLE.ipynb)\n",
    "* [Part 9 - Publishing JSON Data](./Db2_11.5_Features/Db2_11.5_JSON_09_Publishing_JSON_Data.ipynb)\n",
    "* [Part 10 - Performance Optimization](./Db2_11.5_Features/Db2_11.5_JSON_010_Performance_Optimization.ipynb)\n",
    "* [Part 11 - Updating Documents](./Db2_11.5_Features/Db2_11.5_JSON_011_Updating_Documents.ipynb)\n",
    "* [Part 12 - Unnesting Arrays](./Db2_11.5_Features/Db2_11.5_JSON_012_Unnesting_Arrays.ipynb)\n",
    "* [Db2 Version 11 JSON Highlights **eBook**](./Db2_11.5_Features/Db2V11-JSON-ebook.pdf)"
   ]
  },
  {
   "cell_type": "markdown",
   "metadata": {},
   "source": [
    "## Db2 Columnar Technology\n",
    "This set of Jupyter notebooks demonstrate the performance advantages of using the DB2 BLU technology to run queries. The queries in these notebooks were generated by Cognos. The reports are divided into Small, Medium, Large and Dashboard reports with the classification based on the processing complexity and the amount of data returned. \n",
    "\n",
    "Each query is run against a row-organized and then a column-organized table. The results are returned and the performance of the queries are compared in the notebook.\n",
    "\n",
    "* [Small Reports](./Db2_BLU_Demonstration/CQW_Small_Reports.ipynb)\n",
    "* [Medium Report](./Db2_BLU_Demonstration/CQW_Medium_Reports.ipynb)\n",
    "* [Long Reports](./Db2_BLU_Demonstration/CQW_Large_Reports.ipynb)\n",
    "* [Dashboard Reports](./Db2_BLU_Demonstration/CQW_Dashboard_Reports.ipynb)"
   ]
  },
  {
   "cell_type": "markdown",
   "metadata": {},
   "source": [
    "## Digital Technical Engagement\n",
    "For more demos and technical content, visit our DTE site at [ibm.com/demos](https://ibm.com/demos)."
   ]
  },
  {
   "cell_type": "markdown",
   "metadata": {},
   "source": [
    "#### Questions and Comments: George Baklarz [baklarz@ca.ibm.com]"
   ]
  }
 ],
 "metadata": {
  "kernelspec": {
   "display_name": "Python 3",
   "language": "python",
   "name": "python3"
  },
  "language_info": {
   "codemirror_mode": {
    "name": "ipython",
    "version": 3
   },
   "file_extension": ".py",
   "mimetype": "text/x-python",
   "name": "python",
   "nbconvert_exporter": "python",
   "pygments_lexer": "ipython3",
   "version": "3.7.4"
  }
 },
 "nbformat": 4,
 "nbformat_minor": 2
}
